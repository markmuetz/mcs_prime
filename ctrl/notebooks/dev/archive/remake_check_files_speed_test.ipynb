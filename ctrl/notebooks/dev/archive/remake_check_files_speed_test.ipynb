{
 "cells": [
  {
   "cell_type": "code",
   "execution_count": 1,
   "id": "e7291de6-adff-48dd-bd9f-118ad88620a6",
   "metadata": {},
   "outputs": [],
   "source": [
    "from remake import load_remake"
   ]
  },
  {
   "cell_type": "code",
   "execution_count": 2,
   "id": "0e5af6f6-b818-42d6-b656-9cb0980eaffc",
   "metadata": {},
   "outputs": [],
   "source": [
    "era5_hists = load_remake('../../remakefiles/era5_histograms.py')"
   ]
  },
  {
   "cell_type": "code",
   "execution_count": 16,
   "id": "3d7e4715-9377-4584-9447-567460ef2fd2",
   "metadata": {},
   "outputs": [],
   "source": [
    "inputs = []\n",
    "for t in era5_hists.tasks:\n",
    "    for p in [v for k, v in t.inputs.items()]:\n",
    "        inputs.append(p)\n",
    "\n",
    "inputs = sorted(set(inputs))"
   ]
  },
  {
   "cell_type": "code",
   "execution_count": 17,
   "id": "2b150fde-8727-4b2e-a659-751f19bb9e75",
   "metadata": {},
   "outputs": [
    {
     "data": {
      "text/plain": [
       "71387"
      ]
     },
     "execution_count": 17,
     "metadata": {},
     "output_type": "execute_result"
    }
   ],
   "source": [
    "len(inputs)"
   ]
  },
  {
   "cell_type": "code",
   "execution_count": 18,
   "id": "f238f3e4-f04b-4bf7-9337-92ab06d465df",
   "metadata": {},
   "outputs": [
    {
     "name": "stdout",
     "output_type": "stream",
     "text": [
      "23 s ± 1.23 s per loop (mean ± std. dev. of 7 runs, 1 loop each)\n"
     ]
    }
   ],
   "source": [
    "%%timeit\n",
    "existence = [(p, p.exists()) for p in inputs]\n",
    "all([e for p, e in existence])"
   ]
  },
  {
   "cell_type": "code",
   "execution_count": null,
   "id": "a1a41881-8836-4fe8-8721-f48ec2b9bb69",
   "metadata": {},
   "outputs": [],
   "source": []
  }
 ],
 "metadata": {
  "kernelspec": {
   "display_name": "mcs_prime_env",
   "language": "python",
   "name": "mcs_prime_env"
  },
  "language_info": {
   "codemirror_mode": {
    "name": "ipython",
    "version": 3
   },
   "file_extension": ".py",
   "mimetype": "text/x-python",
   "name": "python",
   "nbconvert_exporter": "python",
   "pygments_lexer": "ipython3",
   "version": "3.10.4"
  }
 },
 "nbformat": 4,
 "nbformat_minor": 5
}
