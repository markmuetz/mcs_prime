{
 "cells": [
  {
   "cell_type": "code",
   "execution_count": 4,
   "id": "6fcd4980-4b81-4f2b-87f0-c7c0b0f15eaf",
   "metadata": {},
   "outputs": [
    {
     "name": "stdout",
     "output_type": "stream",
     "text": [
      "2022-11-03 16:01:44,819 INFO Welcome to the CDS\n",
      "2022-11-03 16:01:44,819 INFO Sending request to https://cds.climate.copernicus.eu/api/v2/resources/reanalysis-era5-complete\n",
      "2022-11-03 16:01:44,954 INFO Request is queued\n",
      "2022-11-03 16:01:46,004 INFO Request is running\n",
      "2022-11-03 16:01:58,409 INFO Request is completed\n",
      "2022-11-03 16:01:58,409 INFO Downloading https://download-0003-clone.copernicus-climate.eu/cache-compute-0003/cache/data9/adaptor.mars.external-1667491305.2816358-7697-1-f22b62c5-8299-45f0-9ba1-4a8cfb094ba1.grib to tq_ml.grib (34.4M)\n",
      "2022-11-03 16:02:02,212 INFO Download rate 9M/s                                 \n",
      "2022-11-03 16:02:02,314 INFO Welcome to the CDS\n",
      "2022-11-03 16:02:02,314 INFO Sending request to https://cds.climate.copernicus.eu/api/v2/resources/reanalysis-era5-complete\n",
      "2022-11-03 16:02:02,370 INFO Request is queued\n",
      "2022-11-03 16:02:03,423 INFO Request is running\n",
      "2022-11-03 16:02:07,284 INFO Request is completed\n",
      "2022-11-03 16:02:07,284 INFO Downloading https://download-0020.copernicus-climate.eu/cache-compute-0020/cache/data9/adaptor.mars.external-1667491322.666712-8620-10-7ff12905-a80d-427c-b3d2-18cdc2fbc849.grib to zlnsp_ml.grib (257.1K)\n",
      "2022-11-03 16:02:07,649 INFO Download rate 704.7K/s                             \n"
     ]
    }
   ],
   "source": [
    "!python get_data_geopotential_on_ml.py"
   ]
  },
  {
   "cell_type": "code",
   "execution_count": null,
   "id": "92b97e09-cc6b-4711-9136-8f09bba51225",
   "metadata": {},
   "outputs": [],
   "source": []
  }
 ],
 "metadata": {
  "kernelspec": {
   "display_name": "mcs_prime_env",
   "language": "python",
   "name": "mcs_prime_env"
  },
  "language_info": {
   "codemirror_mode": {
    "name": "ipython",
    "version": 3
   },
   "file_extension": ".py",
   "mimetype": "text/x-python",
   "name": "python",
   "nbconvert_exporter": "python",
   "pygments_lexer": "ipython3",
   "version": "3.10.4"
  }
 },
 "nbformat": 4,
 "nbformat_minor": 5
}
