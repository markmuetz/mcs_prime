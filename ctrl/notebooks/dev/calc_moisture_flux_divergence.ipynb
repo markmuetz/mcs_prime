{
 "cells": [
  {
   "cell_type": "markdown",
   "id": "94531d52-37f4-4a13-953b-8bbc89b27ade",
   "metadata": {},
   "source": [
    "# Moisture flux divergence\n",
    "\n",
    "The idea is to calculate horizontal moisture flux divergence, $\\nabla . \\vec{\\mathrm{mf}}$. This can be used to calculate a moisture flux into a volume by integrating over the volume. I would be able to use this to e.g. calculate moisture flux into an MCS, or an MCS core.\n",
    "\n",
    "$\\vec{\\mathrm{mf}} = \\rho~q~\\vec{v}$       (kg m-3 kg kg-1 m s-1 == kg m-2 s-1)\n",
    "\n",
    "$\\iint_{\\mathrm{MCS}}{\\nabla . \\vec{\\mathrm{mf}} ~dA~dz} == \\oint_{\\mathrm{MCS~boundary}}{\\vec{\\mathrm{mf}}.\\vec{n}} ~dS ~dz$      (kg s-1)\n",
    "\n",
    "The details get thorny quite quickly, and I still have some unresolved issues with this calc ($dz$).\n",
    "* \\[How to get $\\rho$? It does not seem to be available in the standard ERA5 output - perhaps calc. from geopotential height?\\] Fixed: use $p = \\rho R_d T_v$. I was overthinking it and it is quite straitforward.\n",
    "* How to get $dz$ taking into account orography?\n",
    "* My assumptions only hold on a Cartesian grid, can I use them on a lat/lon grid?\n",
    "* I need to be very careful with ERA5 data: lat decreases with increasing index, ditto z.\n",
    "* Make sure I am calculating dx/dy on correct grid.\n",
    "* Check working on Arakawa c-grid calcs to make sure indices all correct.\n",
    "* Check area/volume weighting.\n",
    "\n",
    "## Work timeline\n",
    "\n",
    "* 24-26/10/22: Initial work.\n",
    "* 9/11/22: Fix rho calc.\n",
    "* 10/11/22: Flux at the centre then interpolate.\n",
    "* 10-29/11/22: Sanity checks - scale analysis of total flux in vs max flux, time taken to raise q by 1 g kg-1, rectangular region.\n",
    "* 10-29/11/22: Within MCS profiles.\n",
    "* 10-29/11/22: Start work on general tool for doing flux calcs."
   ]
  },
  {
   "cell_type": "code",
   "execution_count": 1,
   "id": "744f205c-90c6-4ca4-a154-ebf79426e152",
   "metadata": {},
   "outputs": [],
   "source": [
    "import datetime as dt\n",
    "\n",
    "import cartopy.crs as ccrs\n",
    "import matplotlib.pyplot as plt\n",
    "import numpy as np\n",
    "import pandas as pd\n",
    "from scipy import ndimage\n",
    "import xarray as xr\n",
    "\n",
    "from remake import load_remake\n",
    "\n",
    "from mcs_prime import PATHS\n",
    "%matplotlib inline"
   ]
  },
  {
   "cell_type": "code",
   "execution_count": 2,
   "id": "27453868-0cac-463c-aed0-56894812df1c",
   "metadata": {},
   "outputs": [
    {
     "data": {
      "text/html": [
       "<div>\n",
       "<style scoped>\n",
       "    .dataframe tbody tr th:only-of-type {\n",
       "        vertical-align: middle;\n",
       "    }\n",
       "\n",
       "    .dataframe tbody tr th {\n",
       "        vertical-align: top;\n",
       "    }\n",
       "\n",
       "    .dataframe thead th {\n",
       "        text-align: right;\n",
       "    }\n",
       "</style>\n",
       "<table border=\"1\" class=\"dataframe\">\n",
       "  <thead>\n",
       "    <tr style=\"text-align: right;\">\n",
       "      <th></th>\n",
       "      <th>n</th>\n",
       "      <th>a [Pa]</th>\n",
       "      <th>b</th>\n",
       "      <th>ph [hPa]</th>\n",
       "      <th>pf [hPa]</th>\n",
       "      <th>Geopotential Altitude [m]</th>\n",
       "      <th>Geometric Altitude [m]</th>\n",
       "      <th>Temperature [K]</th>\n",
       "      <th>Density [kg/m^3]</th>\n",
       "    </tr>\n",
       "  </thead>\n",
       "  <tbody>\n",
       "    <tr>\n",
       "      <th>0</th>\n",
       "      <td>0</td>\n",
       "      <td>0.000000</td>\n",
       "      <td>0.000000</td>\n",
       "      <td>0.0000</td>\n",
       "      <td>-</td>\n",
       "      <td>-</td>\n",
       "      <td>-</td>\n",
       "      <td>-</td>\n",
       "      <td>-</td>\n",
       "    </tr>\n",
       "    <tr>\n",
       "      <th>1</th>\n",
       "      <td>1</td>\n",
       "      <td>2.000365</td>\n",
       "      <td>0.000000</td>\n",
       "      <td>0.0200</td>\n",
       "      <td>0.0100</td>\n",
       "      <td>79301.79</td>\n",
       "      <td>80301.65</td>\n",
       "      <td>198.05</td>\n",
       "      <td>0.000018</td>\n",
       "    </tr>\n",
       "    <tr>\n",
       "      <th>2</th>\n",
       "      <td>2</td>\n",
       "      <td>3.102241</td>\n",
       "      <td>0.000000</td>\n",
       "      <td>0.0310</td>\n",
       "      <td>0.0255</td>\n",
       "      <td>73721.58</td>\n",
       "      <td>74584.91</td>\n",
       "      <td>209.21</td>\n",
       "      <td>0.000042</td>\n",
       "    </tr>\n",
       "    <tr>\n",
       "      <th>3</th>\n",
       "      <td>3</td>\n",
       "      <td>4.666084</td>\n",
       "      <td>0.000000</td>\n",
       "      <td>0.0467</td>\n",
       "      <td>0.0388</td>\n",
       "      <td>71115.75</td>\n",
       "      <td>71918.79</td>\n",
       "      <td>214.42</td>\n",
       "      <td>0.000063</td>\n",
       "    </tr>\n",
       "    <tr>\n",
       "      <th>4</th>\n",
       "      <td>4</td>\n",
       "      <td>6.827977</td>\n",
       "      <td>0.000000</td>\n",
       "      <td>0.0683</td>\n",
       "      <td>0.0575</td>\n",
       "      <td>68618.43</td>\n",
       "      <td>69365.77</td>\n",
       "      <td>221.32</td>\n",
       "      <td>0.000090</td>\n",
       "    </tr>\n",
       "    <tr>\n",
       "      <th>...</th>\n",
       "      <td>...</td>\n",
       "      <td>...</td>\n",
       "      <td>...</td>\n",
       "      <td>...</td>\n",
       "      <td>...</td>\n",
       "      <td>...</td>\n",
       "      <td>...</td>\n",
       "      <td>...</td>\n",
       "      <td>...</td>\n",
       "    </tr>\n",
       "    <tr>\n",
       "      <th>133</th>\n",
       "      <td>133</td>\n",
       "      <td>62.781250</td>\n",
       "      <td>0.988500</td>\n",
       "      <td>1002.2250</td>\n",
       "      <td>1000.5165</td>\n",
       "      <td>106.54</td>\n",
       "      <td>106.54</td>\n",
       "      <td>287.46</td>\n",
       "      <td>1.212498</td>\n",
       "    </tr>\n",
       "    <tr>\n",
       "      <th>134</th>\n",
       "      <td>134</td>\n",
       "      <td>22.835938</td>\n",
       "      <td>0.991984</td>\n",
       "      <td>1005.3562</td>\n",
       "      <td>1003.7906</td>\n",
       "      <td>79.04</td>\n",
       "      <td>79.04</td>\n",
       "      <td>287.64</td>\n",
       "      <td>1.215710</td>\n",
       "    </tr>\n",
       "    <tr>\n",
       "      <th>135</th>\n",
       "      <td>135</td>\n",
       "      <td>3.757813</td>\n",
       "      <td>0.995003</td>\n",
       "      <td>1008.2239</td>\n",
       "      <td>1006.7900</td>\n",
       "      <td>53.92</td>\n",
       "      <td>53.92</td>\n",
       "      <td>287.80</td>\n",
       "      <td>1.218650</td>\n",
       "    </tr>\n",
       "    <tr>\n",
       "      <th>136</th>\n",
       "      <td>136</td>\n",
       "      <td>0.000000</td>\n",
       "      <td>0.997630</td>\n",
       "      <td>1010.8487</td>\n",
       "      <td>1009.5363</td>\n",
       "      <td>30.96</td>\n",
       "      <td>30.96</td>\n",
       "      <td>287.95</td>\n",
       "      <td>1.221341</td>\n",
       "    </tr>\n",
       "    <tr>\n",
       "      <th>137</th>\n",
       "      <td>137</td>\n",
       "      <td>0.000000</td>\n",
       "      <td>1.000000</td>\n",
       "      <td>1013.2500</td>\n",
       "      <td>1012.0494</td>\n",
       "      <td>10.00</td>\n",
       "      <td>10.00</td>\n",
       "      <td>288.09</td>\n",
       "      <td>1.223803</td>\n",
       "    </tr>\n",
       "  </tbody>\n",
       "</table>\n",
       "<p>138 rows × 9 columns</p>\n",
       "</div>"
      ],
      "text/plain": [
       "       n     a [Pa]         b   ph [hPa]   pf [hPa] Geopotential Altitude [m]  \\\n",
       "0      0   0.000000  0.000000     0.0000          -                         -   \n",
       "1      1   2.000365  0.000000     0.0200     0.0100                  79301.79   \n",
       "2      2   3.102241  0.000000     0.0310     0.0255                  73721.58   \n",
       "3      3   4.666084  0.000000     0.0467     0.0388                  71115.75   \n",
       "4      4   6.827977  0.000000     0.0683     0.0575                  68618.43   \n",
       "..   ...        ...       ...        ...        ...                       ...   \n",
       "133  133  62.781250  0.988500  1002.2250  1000.5165                    106.54   \n",
       "134  134  22.835938  0.991984  1005.3562  1003.7906                     79.04   \n",
       "135  135   3.757813  0.995003  1008.2239  1006.7900                     53.92   \n",
       "136  136   0.000000  0.997630  1010.8487  1009.5363                     30.96   \n",
       "137  137   0.000000  1.000000  1013.2500  1012.0494                     10.00   \n",
       "\n",
       "    Geometric Altitude [m] Temperature [K] Density [kg/m^3]  \n",
       "0                        -               -                -  \n",
       "1                 80301.65          198.05         0.000018  \n",
       "2                 74584.91          209.21         0.000042  \n",
       "3                 71918.79          214.42         0.000063  \n",
       "4                 69365.77          221.32         0.000090  \n",
       "..                     ...             ...              ...  \n",
       "133                 106.54          287.46         1.212498  \n",
       "134                  79.04          287.64         1.215710  \n",
       "135                  53.92          287.80         1.218650  \n",
       "136                  30.96          287.95         1.221341  \n",
       "137                  10.00          288.09         1.223803  \n",
       "\n",
       "[138 rows x 9 columns]"
      ]
     },
     "execution_count": 2,
     "metadata": {},
     "output_type": "execute_result"
    }
   ],
   "source": [
    "# Load ERA5 model level data.\n",
    "e5levels = pd.read_csv('/gws/nopw/j04/mcs_prime/mmuetz/data/ERA5/ERA5_L137_model_levels_table.csv')\n",
    "e5levels"
   ]
  },
  {
   "cell_type": "code",
   "execution_count": 3,
   "id": "f171c2ab-b55b-487f-9e43-3c3b16c6bebb",
   "metadata": {},
   "outputs": [
    {
     "data": {
      "text/plain": [
       "array([1.800000e-05, 4.200000e-05, 6.300000e-05, 9.000000e-05,\n",
       "       1.270000e-04, 1.730000e-04, 2.330000e-04, 3.080000e-04,\n",
       "       4.000000e-04, 5.120000e-04, 6.460000e-04, 8.060000e-04,\n",
       "       1.007000e-03, 1.251000e-03, 1.546000e-03, 1.913000e-03,\n",
       "       2.343000e-03, 2.843000e-03, 3.421000e-03, 4.084000e-03,\n",
       "       4.838000e-03, 5.693000e-03, 6.655000e-03, 7.731000e-03,\n",
       "       8.931000e-03, 1.026100e-02, 1.172900e-02, 1.333700e-02,\n",
       "       1.501200e-02, 1.682900e-02, 1.879300e-02, 2.091000e-02,\n",
       "       2.318600e-02, 2.562400e-02, 2.823200e-02, 3.101300e-02,\n",
       "       3.397200e-02, 3.711500e-02, 4.044500e-02, 4.396700e-02,\n",
       "       4.768500e-02, 5.160400e-02, 5.572700e-02, 6.005900e-02,\n",
       "       6.460200e-02, 6.935900e-02, 7.433000e-02, 7.951600e-02,\n",
       "       8.491600e-02, 9.045800e-02, 9.611000e-02, 1.019680e-01,\n",
       "       1.080450e-01, 1.143550e-01, 1.209170e-01, 1.277510e-01,\n",
       "       1.348770e-01, 1.423210e-01, 1.501060e-01, 1.582480e-01,\n",
       "       1.667600e-01, 1.756550e-01, 1.849460e-01, 1.946460e-01,\n",
       "       2.047700e-01, 2.153310e-01, 2.263450e-01, 2.378250e-01,\n",
       "       2.497860e-01, 2.622440e-01, 2.752150e-01, 2.887130e-01,\n",
       "       3.027550e-01, 3.173570e-01, 3.325360e-01, 3.483080e-01,\n",
       "       3.645450e-01, 3.782530e-01, 3.923580e-01, 4.068680e-01,\n",
       "       4.217900e-01, 4.371300e-01, 4.528970e-01, 4.690970e-01,\n",
       "       4.857370e-01, 5.028250e-01, 5.203670e-01, 5.383700e-01,\n",
       "       5.568420e-01, 5.757900e-01, 5.952190e-01, 6.151380e-01,\n",
       "       6.355530e-01, 6.564710e-01, 6.778990e-01, 6.998150e-01,\n",
       "       7.221390e-01, 7.447350e-01, 7.674720e-01, 7.902420e-01,\n",
       "       8.129370e-01, 8.354530e-01, 8.576860e-01, 8.795410e-01,\n",
       "       9.009290e-01, 9.217680e-01, 9.419880e-01, 9.615270e-01,\n",
       "       9.803340e-01, 9.983680e-01, 1.015598e+00, 1.032005e+00,\n",
       "       1.047576e+00, 1.062310e+00, 1.076209e+00, 1.089286e+00,\n",
       "       1.101558e+00, 1.113047e+00, 1.123777e+00, 1.133779e+00,\n",
       "       1.143084e+00, 1.151724e+00, 1.159733e+00, 1.167147e+00,\n",
       "       1.173999e+00, 1.180323e+00, 1.186154e+00, 1.191523e+00,\n",
       "       1.196462e+00, 1.201001e+00, 1.205168e+00, 1.208992e+00,\n",
       "       1.212498e+00, 1.215710e+00, 1.218650e+00, 1.221341e+00,\n",
       "       1.223803e+00])"
      ]
     },
     "execution_count": 3,
     "metadata": {},
     "output_type": "execute_result"
    }
   ],
   "source": [
    "# Standard density from e5 model level data.\n",
    "rho_standard = e5levels['Density [kg/m^3]'].values[1:].astype(float)\n",
    "rho_standard"
   ]
  },
  {
   "cell_type": "code",
   "execution_count": 4,
   "id": "d416f4a1-885b-4a0c-9633-9d1ab5908528",
   "metadata": {},
   "outputs": [],
   "source": [
    "from era5_calc import ERA5Calc\n",
    "e5calc = ERA5Calc('/gws/nopw/j04/mcs_prime/mmuetz/data/ERA5/ERA5_L137_model_levels_table.csv')"
   ]
  },
  {
   "cell_type": "code",
   "execution_count": null,
   "id": "9b4f03e7-8dc7-4c69-b0fe-8a4b7effe3d5",
   "metadata": {},
   "outputs": [],
   "source": []
  },
  {
   "cell_type": "code",
   "execution_count": 5,
   "id": "fd25ca71-3cf2-4672-b3ab-e4ee03e1c2da",
   "metadata": {},
   "outputs": [
    {
     "data": {
      "text/plain": [
       "array([5716.74, 2666.12, 2553.02, 2459.24, 2369.1 , 2283.04, 2200.93,\n",
       "       2122.68, 2048.1 , 1977.06, 1909.41, 1836.85, 1745.42, 1656.96,\n",
       "       1557.29, 1461.14, 1373.62, 1293.73, 1220.64, 1153.62, 1091.99,\n",
       "       1035.23,  982.83,  934.37,  889.47,  847.78,  808.7 ,  775.61,\n",
       "        746.25,  718.62,  692.59,  668.03,  644.83,  622.91,  602.17,\n",
       "        582.52,  563.89,  546.22,  529.43,  513.48,  498.31,  483.86,\n",
       "        470.1 ,  456.93,  444.2 ,  431.85,  419.87,  408.24,  396.78,\n",
       "        386.79,  377.48,  369.27,  362.09,  355.9 ,  350.58,  346.15,\n",
       "        342.54,  339.53,  336.72,  333.95,  331.18,  328.46,  325.74,\n",
       "        323.06,  320.39,  317.75,  315.12,  312.53,  309.95,  307.4 ,\n",
       "        304.86,  302.34,  299.86,  297.38,  294.93,  292.24,  291.47,\n",
       "        291.58,  291.66,  291.72,  291.77,  291.79,  291.8 ,  291.79,\n",
       "        291.75,  291.69,  291.63,  291.53,  291.42,  291.29,  291.14,\n",
       "        290.98,  290.79,  290.59,  290.  ,  288.32,  284.96,  280.1 ,\n",
       "        274.19,  267.32,  259.59,  251.13,  242.02,  232.42,  222.42,\n",
       "        212.14,  201.7 ,  191.19,  180.71,  170.33,  160.13,  150.19,\n",
       "        140.53,  131.21,  122.26,  113.71,  105.58,   97.86,   90.57,\n",
       "         83.7 ,   77.26,   71.22,   65.59,   60.34,   55.45,   50.92,\n",
       "         46.72,   42.83,   39.25,   35.93,   32.89,   30.08,   27.5 ,\n",
       "         25.12,   22.96,   20.96,   10.  ])"
      ]
     },
     "execution_count": 5,
     "metadata": {},
     "output_type": "execute_result"
    }
   ],
   "source": [
    "# Not sure this is the right way of calculating this.\n",
    "altitude = e5levels['Geometric Altitude [m]'].values[1:].astype(float)  # in m.\n",
    "dz = np.concatenate([altitude[:-1] - altitude[1:], altitude[-1:]])\n",
    "dz"
   ]
  },
  {
   "cell_type": "code",
   "execution_count": 6,
   "id": "3bc5cee1-8202-4500-b847-fdd562f69ee2",
   "metadata": {},
   "outputs": [],
   "source": [
    "# Load some ERA5 u, v, q data.\n",
    "year = 2020\n",
    "month = 1\n",
    "day = 11\n",
    "e5datadir = PATHS['era5dir'] / f'data/oper/an_ml/{year}/{month:02d}/{day:02d}'"
   ]
  },
  {
   "cell_type": "code",
   "execution_count": 7,
   "id": "6676d2c4-a0aa-4966-92fa-5ce9b00b17ba",
   "metadata": {},
   "outputs": [],
   "source": [
    "h = 6\n",
    "\n",
    "e5time = dt.datetime(year, month, day, h, 0)\n",
    "e5paths = [e5datadir / (f'ecmwf-era5_oper_an_ml_{t.year}{t.month:02d}{t.day:02d}'\n",
    "                         f'{t.hour:02d}00.{var}.nc')\n",
    "            for var in ['u', 'v', 't', 'q', 'lnsp']\n",
    "            for t in [e5time, e5time + dt.timedelta(hours=1)]]"
   ]
  },
  {
   "cell_type": "code",
   "execution_count": 8,
   "id": "d68f10b9-c5ec-4470-9e51-58dd13cce3fe",
   "metadata": {},
   "outputs": [],
   "source": [
    "e5 = (xr.open_mfdataset(e5paths).sel(latitude=slice(60, -60))\n",
    "      .mean(dim='time').load())"
   ]
  },
  {
   "cell_type": "code",
   "execution_count": 9,
   "id": "b481c1fb-1e99-42d2-b5a3-8275483b5f65",
   "metadata": {},
   "outputs": [],
   "source": [
    "u, v = e5.u.values, e5.v.values\n",
    "q = e5.q.values\n",
    "T = e5.t.values\n",
    "lnsp = e5.lnsp.values"
   ]
  },
  {
   "cell_type": "code",
   "execution_count": 10,
   "id": "5b742960-4d91-487d-9270-05b93ce34772",
   "metadata": {},
   "outputs": [],
   "source": [
    "p = e5calc.calc_pressure(lnsp)\n",
    "Tv = e5calc.calc_Tv(T, q)\n",
    "rho = e5calc.calc_rho(p, Tv)"
   ]
  },
  {
   "cell_type": "code",
   "execution_count": 11,
   "id": "f0c132ef-1540-4cd0-8f27-c916fbe00dad",
   "metadata": {},
   "outputs": [
    {
     "data": {
      "text/plain": [
       "(137, 481, 1440)"
      ]
     },
     "execution_count": 11,
     "metadata": {},
     "output_type": "execute_result"
    }
   ],
   "source": [
    "q.shape"
   ]
  },
  {
   "cell_type": "code",
   "execution_count": 12,
   "id": "87176572-cbf7-43c8-b56a-8d2d03c79c94",
   "metadata": {},
   "outputs": [
    {
     "data": {
      "text/plain": [
       "array([1, 2, 3, 4, 5, 6, 7, 8, 9, 0])"
      ]
     },
     "execution_count": 12,
     "metadata": {},
     "output_type": "execute_result"
    }
   ],
   "source": [
    "# Check which way roll works!\n",
    "np.roll(np.arange(10), -1)"
   ]
  },
  {
   "cell_type": "code",
   "execution_count": 13,
   "id": "0ae7093a-1aa1-4847-86a3-645180b35bef",
   "metadata": {},
   "outputs": [],
   "source": [
    "def calc_mf_u(rho, q, u):\n",
    "    \"\"\"Calculates the x-component of density-weighted moisture flux on a c-grid\"\"\"\n",
    "    def calc_mid(var):\n",
    "        return (var + np.roll(var, -1, axis=2)) / 2\n",
    "    # return calc_mid(rho) * calc_mid(q) * calc_mid(u)\n",
    "    return calc_mid(rho * q * u)\n",
    "\n",
    "def calc_mf_v(rho, q, v):\n",
    "    \"\"\"Calculates the y-component of density-weighted moisture flux on a c-grid\"\"\"\n",
    "    def calc_mid(var):\n",
    "        s1 = (slice(None), slice(None, -1), slice(None))\n",
    "        s2 = (slice(None), slice(1, None), slice(None))\n",
    "        return (var[s1] + var[s2]) / 2\n",
    "    return calc_mid(rho * q * v)\n"
   ]
  },
  {
   "cell_type": "code",
   "execution_count": 14,
   "id": "2bd34746-1b57-4273-882c-732e47692163",
   "metadata": {},
   "outputs": [],
   "source": [
    "def calc_div_mf(rho, q, u, v, dx, dy):\n",
    "    \"\"\"Calculates the divergence of the moisture flux\n",
    "\n",
    "    Switches back to original grid, but loses latitudinal extremes.\n",
    "    Keeps longitudinal extremes due to biperiodic domain.\n",
    "    \"\"\"\n",
    "    mf_u = calc_mf_u(rho, q, u)\n",
    "    mf_v = calc_mf_v(rho, q, v)\n",
    "    dqu_dx = (mf_u - np.roll(mf_u, 1, axis=2)) / dx[None, :, None]\n",
    "    # Note, these indices are not the wrong way round!\n",
    "    # latitude decreases with increasing index, hence I want the opposite\n",
    "    # to what you would expect.\n",
    "    dqv_dy = (mf_v[:, :-1, :] - mf_v[:, 1:, :] ) / dy\n",
    "    print(mf_u.shape)\n",
    "    print(mf_v.shape)\n",
    "    \n",
    "    return dqu_dx[:, 1:-1] + dqv_dy"
   ]
  },
  {
   "cell_type": "code",
   "execution_count": 15,
   "id": "9b79625f-3eca-4306-a87b-ae36a46a65ad",
   "metadata": {},
   "outputs": [
    {
     "name": "stdout",
     "output_type": "stream",
     "text": [
      "0.25 0.25\n",
      "13899.366 27798.734 13899.366 27798.731661139685\n"
     ]
    }
   ],
   "source": [
    "# Calc dx/dy.\n",
    "dx_deg = e5.longitude.values[1] - e5.longitude.values[0]\n",
    "dy_deg = e5.latitude.values[0] - e5.latitude.values[1]  # N.B. want positive so swap indices.\n",
    "Re = 6371e3  # Radius of Earth in m.\n",
    "\n",
    "dy = dy_deg / 360 * 2 * np.pi * Re  # km\n",
    "dx = np.cos(e5.latitude.values * np.pi / 180) * dx_deg / 360 * 2 * np.pi * Re  # km\n",
    "\n",
    "lats_mids = (e5.latitude.values[:-1] + e5.latitude.values[1:]) / 2\n",
    "dx_mids = np.cos(e5.latitude.values * np.pi / 180) * dx_deg / 360 * 2 * np.pi * Re  # km\n",
    "\n",
    "print(dx_deg, dy_deg)\n",
    "print(dx[0], dx.max(), dx[-1], dy)"
   ]
  },
  {
   "cell_type": "code",
   "execution_count": 16,
   "id": "07fc3d69-fa60-445a-8d8b-fa13c74561a6",
   "metadata": {},
   "outputs": [
    {
     "name": "stdout",
     "output_type": "stream",
     "text": [
      "(137, 481, 1440)\n",
      "(137, 480, 1440)\n"
     ]
    }
   ],
   "source": [
    "div_mf = calc_div_mf(rho, q, u, v, dx, dy)"
   ]
  },
  {
   "cell_type": "code",
   "execution_count": 17,
   "id": "f5f1911c-b541-4c65-937e-982ae5ff52ce",
   "metadata": {},
   "outputs": [
    {
     "data": {
      "text/plain": [
       "(137, 479, 1440)"
      ]
     },
     "execution_count": 17,
     "metadata": {},
     "output_type": "execute_result"
    }
   ],
   "source": [
    "div_mf.shape"
   ]
  },
  {
   "cell_type": "code",
   "execution_count": 18,
   "id": "0710d7a5-4531-4614-8a77-92bedf8be5fc",
   "metadata": {},
   "outputs": [
    {
     "data": {
      "text/plain": [
       "-3.470494637775524e-16"
      ]
     },
     "execution_count": 18,
     "metadata": {},
     "output_type": "execute_result"
    }
   ],
   "source": [
    "div_mf[0, 0, 0]"
   ]
  },
  {
   "cell_type": "code",
   "execution_count": 19,
   "id": "340f81a1-169a-4ceb-924e-392778aeca2a",
   "metadata": {},
   "outputs": [],
   "source": [
    "mf_u = calc_mf_u(rho, q, u)"
   ]
  },
  {
   "cell_type": "code",
   "execution_count": 20,
   "id": "4be99dca-7458-4fb5-ad6f-8fecf5d8c423",
   "metadata": {},
   "outputs": [],
   "source": [
    "mf_v = calc_mf_v(rho, q, v)"
   ]
  },
  {
   "cell_type": "code",
   "execution_count": 21,
   "id": "06675336-001d-4be9-b372-9fd91fdf580d",
   "metadata": {},
   "outputs": [
    {
     "data": {
      "text/plain": [
       "True"
      ]
     },
     "execution_count": 21,
     "metadata": {},
     "output_type": "execute_result"
    }
   ],
   "source": [
    "# Check a hand-calc gives the same values as the fancy calc.\n",
    "# Note, use dx[1] for to match mf_u[0, 1, X], and remember to reverse the order of the v calc.\n",
    "np.isclose((mf_u[0, 1, 0] - mf_u[0, 1, -1]) / dx[1] + (mf_v[0, 0, 0] - mf_v[0, 1, 0]) / dy, div_mf[0, 0, 0])"
   ]
  },
  {
   "cell_type": "code",
   "execution_count": 22,
   "id": "e13233f1-1379-4689-99aa-d89622fc0ebd",
   "metadata": {},
   "outputs": [
    {
     "data": {
      "text/plain": [
       "True"
      ]
     },
     "execution_count": 22,
     "metadata": {},
     "output_type": "execute_result"
    }
   ],
   "source": [
    "np.isclose((mf_u[5, 6, 2] - mf_u[5, 6, 1]) / dx[6] + (mf_v[5, 5, 2] - mf_v[5, 6, 2]) / dy, div_mf[5, 5, 2])"
   ]
  },
  {
   "cell_type": "code",
   "execution_count": 23,
   "id": "4e79d8ba-4c26-4e25-8b5e-bc04eb378833",
   "metadata": {},
   "outputs": [],
   "source": [
    "# Load a mask to try masking out MCSs.\n",
    "mcs_mask_time = e5time + dt.timedelta(minutes=30)\n",
    "e5h = load_remake('../../remakefiles/era5_histograms.py')\n",
    "# e5h\n",
    "t = e5h.GenERA5Masks.tasks.filter(year=year, month=month, day=day)[0]\n",
    "e5mask = xr.open_dataset(t.outputs['e5mask'])\n",
    "cns = np.unique(e5mask.MCS_cloudnumber.values[6])[1:]"
   ]
  },
  {
   "cell_type": "code",
   "execution_count": 24,
   "id": "a75e2df8-578b-49c5-9b9f-007e36ebdd18",
   "metadata": {},
   "outputs": [
    {
     "data": {
      "text/plain": [
       "(481, 1440)"
      ]
     },
     "execution_count": 24,
     "metadata": {},
     "output_type": "execute_result"
    }
   ],
   "source": [
    "e5mask.MCS_cloudnumber.values[6].shape"
   ]
  },
  {
   "cell_type": "code",
   "execution_count": 25,
   "id": "8e6dc7c0-bd84-40a7-aa5d-670d5d970af8",
   "metadata": {},
   "outputs": [
    {
     "data": {
      "text/plain": [
       "(137, 479, 1440)"
      ]
     },
     "execution_count": 25,
     "metadata": {},
     "output_type": "execute_result"
    }
   ],
   "source": [
    "div_mf.shape"
   ]
  },
  {
   "cell_type": "code",
   "execution_count": 26,
   "id": "094f6952-cc36-457e-b01c-2446b5307bc9",
   "metadata": {},
   "outputs": [],
   "source": [
    "# Calculate areas of cells.\n",
    "dx_rad = dx_deg * np.pi / 180\n",
    "dy_rad = dy_deg * np.pi / 180\n",
    "lats_rad = (e5.latitude.values * np.pi / 180)[::-1]\n",
    "Acell = dx_rad * Re**2 * (np.sin(lats_rad + dy_rad / 2) - np.sin(lats_rad - dy_rad / 2))"
   ]
  },
  {
   "cell_type": "code",
   "execution_count": 27,
   "id": "a4252c97-3f17-427a-9f34-4249ff5453f7",
   "metadata": {},
   "outputs": [],
   "source": [
    "# Calc. an area weighted and volume weighted div moisture flux.\n",
    "Aweighted_div_mf = div_mf * Acell[None, 1:-1, None]\n",
    "Vweighted_div_mf = div_mf * Acell[None, 1:-1, None] * dz[:, None, None]\n",
    "\n",
    "vert_idx = np.ones(div_mf.shape[0]).astype(bool)"
   ]
  },
  {
   "cell_type": "code",
   "execution_count": 28,
   "id": "4c41c394-1a6c-442a-a9cd-5b50eda04083",
   "metadata": {},
   "outputs": [],
   "source": [
    "# Use 111 as model level at approx 800 hPa.\n",
    "ml = 111"
   ]
  },
  {
   "cell_type": "code",
   "execution_count": 29,
   "id": "19065c6f-b03f-478c-b6eb-7c10ae210d72",
   "metadata": {},
   "outputs": [
    {
     "name": "stdout",
     "output_type": "stream",
     "text": [
      "11.6 s ± 163 ms per loop (mean ± std. dev. of 7 runs, 1 loop each)\n"
     ]
    }
   ],
   "source": [
    "# %%timeit\n",
    "# 4.86 s ± 96.6 ms per loop (mean ± std. dev. of 7 runs, 1 loop each)\n",
    "# This is the full (horizontal) calc.\n",
    "vals1 = []\n",
    "for cn in cns:\n",
    "    # Use array broadcasting to multiply ones (where the current cloudnumber (cn) is true) by \n",
    "    # area weighted divergence of moisture flux.\n",
    "    vals1.append((Vweighted_div_mf[ml:] * (e5mask.MCS_cloudnumber.values[6] == cn)[None, 1:-1, :]).sum())\n",
    "vals1 = np.array(vals1)"
   ]
  },
  {
   "cell_type": "code",
   "execution_count": 33,
   "id": "4c13aa46-8551-4de0-94b8-d295547f2ee8",
   "metadata": {},
   "outputs": [],
   "source": [
    "# %%timeit\n",
    "# 1.17 s ± 188 ms per loop (mean ± std. dev. of 7 runs, 1 loop each)\n",
    "# Faster than above, which I was a bit surprised by, due to having to do do the same sorts of calcs\n",
    "# and also a cast.\n",
    "vals2 = []\n",
    "for cn in cns:\n",
    "    # Use array broadcasting to create mask (where the current cloudnumber (cn) is true) to select vals from \n",
    "    # area weighted divergence of moisture flux.\n",
    "    m = (vert_idx[ml:, None, None] * (e5mask.MCS_cloudnumber.values[6] == cn)[None, 1:-1, :])\n",
    "    vals2.append(Vweighted_div_mf[ml:][m].sum())\n",
    "vals2 = np.array(vals2)"
   ]
  },
  {
   "cell_type": "code",
   "execution_count": 34,
   "id": "569cb797-b9b6-4a29-8590-c1acad15a897",
   "metadata": {},
   "outputs": [
    {
     "data": {
      "text/plain": [
       "-687338044.2410609"
      ]
     },
     "execution_count": 34,
     "metadata": {},
     "output_type": "execute_result"
    },
    {
     "data": {
      "image/png": "[encoded data removed]",
      "text/plain": [
       "<Figure size 432x288 with 1 Axes>"
      ]
     },
     "metadata": {
      "needs_background": "light"
     },
     "output_type": "display_data"
    }
   ],
   "source": [
    "# Make sure `timeit` commented out above or vals not stored.\n",
    "plt.hist(vals2, bins=50)\n",
    "vals2.min()"
   ]
  },
  {
   "cell_type": "markdown",
   "id": "24ce7ba7-b5b9-4e17-89b0-8ad2f0657132",
   "metadata": {},
   "source": [
    "Not sure why all these values are negative! I would have thought there should be substantial moisture flux into the lower levels of an MCS.\n",
    "\n",
    "EDIT: there is! This is the sum of the divergence, after all. All values of mass gain by the region are therefore positive."
   ]
  },
  {
   "cell_type": "code",
   "execution_count": 35,
   "id": "9d1655f3-30db-4601-9f15-6a2713043d47",
   "metadata": {},
   "outputs": [
    {
     "ename": "NameError",
     "evalue": "name 'vals1' is not defined",
     "output_type": "error",
     "traceback": [
      "\u001b[0;31m---------------------------------------------------------------------------\u001b[0m",
      "\u001b[0;31mNameError\u001b[0m                                 Traceback (most recent call last)",
      "Input \u001b[0;32mIn [35]\u001b[0m, in \u001b[0;36m<cell line: 1>\u001b[0;34m()\u001b[0m\n\u001b[0;32m----> 1\u001b[0m \u001b[38;5;28mprint\u001b[39m(\u001b[43mvals1\u001b[49m[:\u001b[38;5;241m3\u001b[39m], vals2[:\u001b[38;5;241m3\u001b[39m], np\u001b[38;5;241m.\u001b[39misclose(np\u001b[38;5;241m.\u001b[39marray(vals1), np\u001b[38;5;241m.\u001b[39marray(vals2))\u001b[38;5;241m.\u001b[39mall())\n\u001b[1;32m      2\u001b[0m \u001b[38;5;28mprint\u001b[39m(np\u001b[38;5;241m.\u001b[39mabs(np\u001b[38;5;241m.\u001b[39marray(vals1) \u001b[38;5;241m-\u001b[39m np\u001b[38;5;241m.\u001b[39marray(vals2))\u001b[38;5;241m.\u001b[39mmax())\n\u001b[1;32m      3\u001b[0m \u001b[38;5;28mprint\u001b[39m(vals2\u001b[38;5;241m.\u001b[39mmin())\n",
      "\u001b[0;31mNameError\u001b[0m: name 'vals1' is not defined"
     ]
    }
   ],
   "source": [
    "print(vals1[:3], vals2[:3], np.isclose(np.array(vals1), np.array(vals2)).all())\n",
    "print(np.abs(np.array(vals1) - np.array(vals2)).max())\n",
    "print(vals2.min())"
   ]
  },
  {
   "cell_type": "markdown",
   "id": "c1a7d9c6-32dc-46c7-ad90-04d7fe38ad99",
   "metadata": {},
   "source": [
    "## Sanity check\n",
    "\n",
    "Done for a calc which had a bug in it - used u instead of v.\n",
    "\n",
    "Max value of moisture flux into a region is 687,296,548 kg s-1 (7 x 10$^8$ kg s-1). Is this reasonable? Lets pull out some standard values of $\\rho$, $q$ and $u$ and find out.\n",
    "\n",
    "Specifically, I take a tropical grid cell (max area), and calc the area of its wall. Then calc the moisture flux (kg s-1) into that cell under the max. u winds and mean (and later max) q, rho. This is unrealistic because the assumption is that there is no flow out of the cell.\n",
    "\n",
    "TODO: how long to wait before it raises the moisture by 1 g/kg."
   ]
  },
  {
   "cell_type": "code",
   "execution_count": 36,
   "id": "e3052034-4670-4a29-96ee-3679b9b7a72d",
   "metadata": {},
   "outputs": [
    {
     "name": "stdout",
     "output_type": "stream",
     "text": [
      "1.1263736449935224\n",
      "0.008355112\n",
      "31.813047\n"
     ]
    }
   ],
   "source": [
    "print(rho[ml:].mean())\n",
    "print(q[ml:].mean())\n",
    "print(u[ml:].max(axis=(1, 2)).mean())"
   ]
  },
  {
   "cell_type": "code",
   "execution_count": 37,
   "id": "98f80f03-8dbf-4e47-8438-3a4692f948c8",
   "metadata": {},
   "outputs": [
    {
     "name": "stdout",
     "output_type": "stream",
     "text": [
      "27798.734\n"
     ]
    }
   ],
   "source": [
    "print(dx.max())"
   ]
  },
  {
   "cell_type": "code",
   "execution_count": 38,
   "id": "18de4411-f553-48fb-917a-6888452d2ab0",
   "metadata": {},
   "outputs": [
    {
     "data": {
      "text/plain": [
       "1750.63"
      ]
     },
     "execution_count": 38,
     "metadata": {},
     "output_type": "execute_result"
    }
   ],
   "source": [
    "dz[ml:].sum()"
   ]
  },
  {
   "cell_type": "code",
   "execution_count": 39,
   "id": "7ae81a27-6727-4510-8ac3-1ca9143df1f2",
   "metadata": {},
   "outputs": [],
   "source": [
    "wall_area_tropical_cell = dx.max() * dz[ml:].sum()  # m2"
   ]
  },
  {
   "cell_type": "code",
   "execution_count": 40,
   "id": "3cc7d7b7-910e-48ff-8d53-755f34254755",
   "metadata": {},
   "outputs": [],
   "source": [
    "high_mf = rho[ml:].mean() * q[ml:].mean() * u[ml:].max(axis=(1, 2)).mean()  # kg m-2 s-1"
   ]
  },
  {
   "cell_type": "code",
   "execution_count": 41,
   "id": "5b93ec72-ddcd-42fa-bfc5-8da3a4a42024",
   "metadata": {},
   "outputs": [],
   "source": [
    "water_gain_rate = wall_area_tropical_cell * high_mf  # kg s-1"
   ]
  },
  {
   "cell_type": "code",
   "execution_count": 42,
   "id": "a411dbb6-4628-48fd-9833-39de07d3b034",
   "metadata": {},
   "outputs": [
    {
     "data": {
      "text/plain": [
       "14569995.230097642"
      ]
     },
     "execution_count": 42,
     "metadata": {},
     "output_type": "execute_result"
    }
   ],
   "source": [
    "water_gain_rate"
   ]
  },
  {
   "cell_type": "code",
   "execution_count": 43,
   "id": "ec85049b-4636-4b78-a0c9-3502167d6dad",
   "metadata": {},
   "outputs": [
    {
     "data": {
      "text/plain": [
       "14569995.230097642"
      ]
     },
     "execution_count": 43,
     "metadata": {},
     "output_type": "execute_result"
    }
   ],
   "source": [
    "water_gain_rate"
   ]
  },
  {
   "cell_type": "markdown",
   "id": "c49baadf-1d0f-4e2d-8e78-5312d92ba17c",
   "metadata": {},
   "source": [
    "So, for one tropical grid cell, with standard values of density and specific humidity, and the highest values of horizontal winds, you can get:\n",
    "\n",
    "14,569,995 kg s-1\n",
    "\n",
    "Means that approx. 40 cells with this much flux in would be needed. Not entirely unreasonable but quite high."
   ]
  },
  {
   "cell_type": "code",
   "execution_count": 44,
   "id": "7873448c-1fb4-4165-8edf-0e7831eed307",
   "metadata": {},
   "outputs": [],
   "source": [
    "super_high_mf = rho[ml:].max(axis=(1, 2)).mean() * q[ml:].max(axis=(1, 2)).mean() * u[ml:].max(axis=(1, 2)).mean()  # kg m-2 s-1"
   ]
  },
  {
   "cell_type": "code",
   "execution_count": 45,
   "id": "b929a7fb-d5a8-41d3-babf-92e4e257ed58",
   "metadata": {},
   "outputs": [
    {
     "data": {
      "text/plain": [
       "42429964.12487476"
      ]
     },
     "execution_count": 45,
     "metadata": {},
     "output_type": "execute_result"
    }
   ],
   "source": [
    "super_high_water_gain_rate = wall_area_tropical_cell * super_high_mf  # kg s-1\n",
    "super_high_water_gain_rate"
   ]
  },
  {
   "cell_type": "markdown",
   "id": "1b563abe-29a8-4add-823a-61a55417933d",
   "metadata": {},
   "source": [
    "So, for one tropical grid cell, with highest values of density, specific humidity, and horizontal winds, you can get:\n",
    "\n",
    "42,429,964 kg s-1\n",
    "\n",
    "Means that approx. 15 cells with this much flux in would be needed. Orders of magnitude seem plausible, and this is a very high upper bound on what you might expect."
   ]
  },
  {
   "cell_type": "code",
   "execution_count": 46,
   "id": "cdf10895-5427-4fd2-8b73-caecd17ead84",
   "metadata": {},
   "outputs": [
    {
     "data": {
      "text/plain": [
       "0"
      ]
     },
     "execution_count": 46,
     "metadata": {},
     "output_type": "execute_result"
    }
   ],
   "source": [
    "np.argmin(vals2)  # max. val comes from idx 8."
   ]
  },
  {
   "cell_type": "code",
   "execution_count": 49,
   "id": "58880b49-ad64-4197-b07c-989e3649397a",
   "metadata": {},
   "outputs": [
    {
     "data": {
      "text/plain": [
       "1"
      ]
     },
     "execution_count": 49,
     "metadata": {},
     "output_type": "execute_result"
    }
   ],
   "source": [
    "cns[0]  # ... which is cn 1."
   ]
  },
  {
   "cell_type": "code",
   "execution_count": 51,
   "id": "3c6042d9-c13d-4869-a0f2-058a2d467bac",
   "metadata": {},
   "outputs": [
    {
     "data": {
      "text/plain": [
       "2915"
      ]
     },
     "execution_count": 51,
     "metadata": {},
     "output_type": "execute_result"
    }
   ],
   "source": [
    "(e5mask.MCS_cloudnumber.values[6] == cns[0]).sum()  # cn1 comprises 2915 grid cells (wow!)"
   ]
  },
  {
   "cell_type": "code",
   "execution_count": 53,
   "id": "05a8b2d7-8992-4890-86cb-b202167dd4f3",
   "metadata": {},
   "outputs": [
    {
     "data": {
      "text/plain": [
       "<matplotlib.image.AxesImage at 0x7f7742d5b820>"
      ]
     },
     "execution_count": 53,
     "metadata": {},
     "output_type": "execute_result"
    },
    {
     "data": {
      "image/png": "[encoded data removed]",
      "text/plain": [
       "<Figure size 432x288 with 1 Axes>"
      ]
     },
     "metadata": {
      "needs_background": "light"
     },
     "output_type": "display_data"
    },
    {
     "data": {
      "image/png": "[encoded data removed]",
      "text/plain": [
       "<Figure size 432x288 with 1 Axes>"
      ]
     },
     "metadata": {
      "needs_background": "light"
     },
     "output_type": "display_data"
    },
    {
     "data": {
      "image/png": "[encoded data removed]",
      "text/plain": [
       "<Figure size 432x288 with 1 Axes>"
      ]
     },
     "metadata": {
      "needs_background": "light"
     },
     "output_type": "display_data"
    }
   ],
   "source": [
    "plt.imshow(e5mask.MCS_cloudnumber.values[6] == cns[0])\n",
    "# plt.xlim((550, 650))\n",
    "# plt.ylim((250, 350))\n",
    "\n",
    "plt.figure()\n",
    "plt.imshow(mf_u[ml:].mean(axis=0))\n",
    "#plt.xlim((550, 650))\n",
    "#plt.ylim((250, 350))\n",
    "\n",
    "plt.figure()\n",
    "plt.imshow(mf_v[ml:].mean(axis=0))\n",
    "#plt.xlim((550, 650))\n",
    "#plt.ylim((250, 350))\n"
   ]
  },
  {
   "cell_type": "code",
   "execution_count": 54,
   "id": "d89436e0-5874-4bae-993a-376779e78e14",
   "metadata": {},
   "outputs": [
    {
     "data": {
      "text/plain": [
       "<cartopy.mpl.feature_artist.FeatureArtist at 0x7f7742dcc730>"
      ]
     },
     "execution_count": 54,
     "metadata": {},
     "output_type": "execute_result"
    },
    {
     "data": {
      "image/png": "[encoded data removed]",
      "text/plain": [
       "<Figure size 432x288 with 1 Axes>"
      ]
     },
     "metadata": {
      "needs_background": "light"
     },
     "output_type": "display_data"
    }
   ],
   "source": [
    "fig, ax = plt.subplots(subplot_kw={'projection': ccrs.PlateCarree()})\n",
    "ax.contour(e5mask.longitude, e5mask.latitude, e5mask.MCS_cloudnumber.values[6] == cns[0], levels=[0.5])\n",
    "ax.coastlines()"
   ]
  },
  {
   "cell_type": "code",
   "execution_count": 55,
   "id": "815f49fe-fc2c-46e3-aa69-264804156795",
   "metadata": {},
   "outputs": [
    {
     "data": {
      "text/plain": [
       "(24, 481, 1440)"
      ]
     },
     "execution_count": 55,
     "metadata": {},
     "output_type": "execute_result"
    }
   ],
   "source": [
    "e5mask.MCS_cloudnumber.shape"
   ]
  },
  {
   "cell_type": "code",
   "execution_count": 60,
   "id": "dd3b78f3-8681-4f43-8006-eb31fa7060e8",
   "metadata": {},
   "outputs": [
    {
     "data": {
      "text/plain": [
       "1686296545728.0"
      ]
     },
     "execution_count": 60,
     "metadata": {},
     "output_type": "execute_result"
    }
   ],
   "source": [
    "# Area of large MCS in m2:\n",
    "area_mcs = (Acell[:, None] * np.ones((1440, )))[e5mask.MCS_cloudnumber.values[6] == cns[0]].sum()\n",
    "area_mcs"
   ]
  },
  {
   "cell_type": "code",
   "execution_count": 61,
   "id": "7d72f4d3-d8cb-4cd5-a1de-ff3683b25a1b",
   "metadata": {},
   "outputs": [
    {
     "data": {
      "text/plain": [
       "0.0004076021183713725"
      ]
     },
     "execution_count": 61,
     "metadata": {},
     "output_type": "execute_result"
    }
   ],
   "source": [
    "# Increase in column water vapour\n",
    "dTCWV_dt = np.abs(vals2.min()) / area_mcs  # kg m-2 s-1\n",
    "dTCWV_dt"
   ]
  },
  {
   "cell_type": "code",
   "execution_count": 62,
   "id": "fc503e89-b03c-4dbf-8c31-0e45181d9b0c",
   "metadata": {},
   "outputs": [
    {
     "data": {
      "text/plain": [
       "4.0760211837137253e-08"
      ]
     },
     "execution_count": 62,
     "metadata": {},
     "output_type": "execute_result"
    }
   ],
   "source": [
    "# Approx. 1 g m-2 s-1. Say this is distributed over the lowest 10 km == 10,000 m:\n",
    "rho_avg = 1  # kg m-3\n",
    "# [s-1]   [kg m-2 s-1]    [m]     [kg m-3]\n",
    "dq_dt  =  dTCWV_dt     / (10000 * rho_avg)\n",
    "dq_dt  # [kg kg-1 s-1]"
   ]
  },
  {
   "cell_type": "code",
   "execution_count": 64,
   "id": "8d706021-48e3-41cd-aaf4-9c2763686f3c",
   "metadata": {},
   "outputs": [
    {
     "data": {
      "text/plain": [
       "6.814924782228197"
      ]
     },
     "execution_count": 64,
     "metadata": {},
     "output_type": "execute_result"
    }
   ],
   "source": [
    "delta_q = 1e-3  # 1 g kg-1\n",
    "delta_t = delta_q / dq_dt\n",
    "delta_t / 3600  # 7 hours."
   ]
  },
  {
   "cell_type": "markdown",
   "id": "56931f05-30f7-4ab6-8057-3f2857e3f23c",
   "metadata": {},
   "source": [
    "So it would take ~7 h to increase the tropospheric moisture by 1 g kg-1. This seems reasonable."
   ]
  },
  {
   "cell_type": "markdown",
   "id": "e5e96e9e-e5e1-4561-b9ea-b4ba83d1f512",
   "metadata": {},
   "source": [
    "# Sanity checks on simple rectangular area"
   ]
  },
  {
   "cell_type": "code",
   "execution_count": 65,
   "id": "96b3285c-1e23-4434-9fa7-034a498dc8ef",
   "metadata": {},
   "outputs": [],
   "source": [
    "dummy_mask = np.zeros_like(e5mask.MCS_cloudnumber.values[6]).astype(bool)"
   ]
  },
  {
   "cell_type": "code",
   "execution_count": 66,
   "id": "95fd0ae8-afb4-4af9-b7d8-38fe800f1790",
   "metadata": {},
   "outputs": [
    {
     "data": {
      "text/plain": [
       "(481, 1440)"
      ]
     },
     "execution_count": 66,
     "metadata": {},
     "output_type": "execute_result"
    }
   ],
   "source": [
    "dummy_mask.shape"
   ]
  },
  {
   "cell_type": "code",
   "execution_count": 67,
   "id": "00358235-e7f9-4fc5-b9e3-daee2fbf3692",
   "metadata": {},
   "outputs": [],
   "source": [
    "dummy_mask[230:250, 700:740] = True"
   ]
  },
  {
   "cell_type": "code",
   "execution_count": 68,
   "id": "21ba97de-da32-41eb-addc-ed3333dffe2f",
   "metadata": {},
   "outputs": [
    {
     "data": {
      "text/plain": [
       "<matplotlib.image.AxesImage at 0x7f7742cf4040>"
      ]
     },
     "execution_count": 68,
     "metadata": {},
     "output_type": "execute_result"
    },
    {
     "data": {
      "image/png": "[encoded data removed]",
      "text/plain": [
       "<Figure size 432x288 with 1 Axes>"
      ]
     },
     "metadata": {
      "needs_background": "light"
     },
     "output_type": "display_data"
    }
   ],
   "source": [
    "plt.imshow(dummy_mask)"
   ]
  },
  {
   "cell_type": "code",
   "execution_count": 69,
   "id": "59992cdd-282e-4f1e-92b2-1104645b3c10",
   "metadata": {},
   "outputs": [
    {
     "data": {
      "text/plain": [
       "56237400.702710986"
      ]
     },
     "execution_count": 69,
     "metadata": {},
     "output_type": "execute_result"
    }
   ],
   "source": [
    "# Use array broadcasting to create mask (where the current cloudnumber (cn) is true) to select vals from \n",
    "# area weighted divergence of moisture flux.\n",
    "m = (vert_idx[ml:, None, None] * dummy_mask[None, 1:-1, :]).astype(bool)\n",
    "mf_out_of_dummy_area = Vweighted_div_mf[ml:][m].sum()\n",
    "mf_out_of_dummy_area"
   ]
  },
  {
   "cell_type": "code",
   "execution_count": 70,
   "id": "693c14f6-2805-47b4-bc3a-46d2a8b91bb6",
   "metadata": {},
   "outputs": [
    {
     "data": {
      "text/plain": [
       "64417198.78795329"
      ]
     },
     "execution_count": 70,
     "metadata": {},
     "output_type": "execute_result"
    }
   ],
   "source": [
    "mf_u_on_grid = rho * q * u\n",
    "mf_v_on_grid = rho * q * v\n",
    "w1 = mf_u_on_grid[ml:, 230:250, 700].mean()\n",
    "w2 = mf_u_on_grid[ml:, 230:250, 740].mean()\n",
    "w3 = mf_v_on_grid[ml:, 230, 700:740].mean()\n",
    "w4 = mf_v_on_grid[ml:, 250, 700:740].mean()\n",
    "\n",
    "mf_approx = - w1 * dy * 20 * dz[ml:].sum() + w2 * dy * 20 * dz[ml:].sum() + w3 * dx[230] * 40 * dz[ml:].sum() - w4 * dx[250] * 40 * dz[ml:].sum()\n",
    "mf_approx"
   ]
  },
  {
   "cell_type": "code",
   "execution_count": 71,
   "id": "408c5294-3e99-4d84-8e38-03a73bf6ce21",
   "metadata": {},
   "outputs": [],
   "source": [
    "mf1 = mf_u_on_grid[ml:, 230:250, 700]\n",
    "mf2 = mf_u_on_grid[ml:, 230:250, 740]\n",
    "mf3 = mf_v_on_grid[ml:, 230, 700:740]\n",
    "mf4 = mf_v_on_grid[ml:, 250, 700:740]"
   ]
  },
  {
   "cell_type": "code",
   "execution_count": 72,
   "id": "b5c2af86-2dfd-45cc-b3de-1f5bb77536fc",
   "metadata": {},
   "outputs": [
    {
     "data": {
      "text/plain": [
       "(26, 20)"
      ]
     },
     "execution_count": 72,
     "metadata": {},
     "output_type": "execute_result"
    }
   ],
   "source": [
    "mf1.shape"
   ]
  },
  {
   "cell_type": "code",
   "execution_count": 73,
   "id": "39f2948e-0272-4200-9445-cef6537042e8",
   "metadata": {},
   "outputs": [
    {
     "data": {
      "text/plain": [
       "(26,)"
      ]
     },
     "execution_count": 73,
     "metadata": {},
     "output_type": "execute_result"
    }
   ],
   "source": [
    "dz[ml:].shape"
   ]
  },
  {
   "cell_type": "code",
   "execution_count": 74,
   "id": "da97b3b9-9d09-40a1-802c-1e5a33dd5775",
   "metadata": {},
   "outputs": [],
   "source": [
    "mf_approx2 = (\n",
    "    -(mf1 * (dy * np.ones(20))[None, :] * dz[ml:][:, None]).sum()\n",
    "    +(mf2 * (dy * np.ones(20))[None, :] * dz[ml:][:, None]).sum()\n",
    "    +(mf3 * (dx[230] * np.ones(40))[None, :] * dz[ml:][:, None]).sum()\n",
    "    -(mf4 * (dx[250] * np.ones(40))[None, :] * dz[ml:][:, None]).sum()\n",
    ")"
   ]
  },
  {
   "cell_type": "code",
   "execution_count": 75,
   "id": "4c441477-30c0-4a81-be4d-22cadb39f0b3",
   "metadata": {},
   "outputs": [
    {
     "data": {
      "text/plain": [
       "53946984.02445263"
      ]
     },
     "execution_count": 75,
     "metadata": {},
     "output_type": "execute_result"
    }
   ],
   "source": [
    "mf_approx2"
   ]
  },
  {
   "cell_type": "code",
   "execution_count": 79,
   "id": "b9448900-17a8-4771-84ff-b634381f1769",
   "metadata": {},
   "outputs": [
    {
     "name": "stdout",
     "output_type": "stream",
     "text": [
      "% error: 4.1\n"
     ]
    }
   ],
   "source": [
    "print(f'% error: {(mf_out_of_dummy_area - mf_approx2) / mf_out_of_dummy_area * 100:.1f}')"
   ]
  },
  {
   "cell_type": "markdown",
   "id": "51c4e409-91b1-47b3-bdf8-e003519ca5e2",
   "metadata": {},
   "source": [
    "# Calculate some within MCS profiles"
   ]
  },
  {
   "cell_type": "code",
   "execution_count": 80,
   "id": "65378149-4795-4e59-90a6-663e23a49fc0",
   "metadata": {},
   "outputs": [],
   "source": [
    "q_mcs = q[:, 1:-1][(vert_idx[:, None, None] * dummy_mask[None, 1:-1, :]).astype(bool)].reshape(137, -1)"
   ]
  },
  {
   "cell_type": "code",
   "execution_count": 81,
   "id": "af253a8a-d7da-489c-b13e-7a6a932390c2",
   "metadata": {},
   "outputs": [
    {
     "data": {
      "text/plain": [
       "array([2.0818970e-06, 3.0167516e-06, 3.5438582e-06, 4.0605664e-06,\n",
       "       4.0605664e-06, 4.0605664e-06, 4.0605664e-06, 4.0605664e-06,\n",
       "       4.0605664e-06, 4.0605664e-06, 4.0605664e-06, 4.0605664e-06,\n",
       "       4.0605664e-06, 3.9553911e-06, 3.7169084e-06, 3.3853541e-06,\n",
       "       3.3727847e-06, 3.3147326e-06, 3.0286610e-06, 3.0286610e-06,\n",
       "       3.0286610e-06, 3.0286610e-06, 3.0286610e-06, 3.0286610e-06,\n",
       "       3.0282279e-06, 2.7095025e-06, 2.6850030e-06, 2.6850030e-06,\n",
       "       2.6850030e-06, 2.6850030e-06, 2.6850030e-06, 2.6850030e-06,\n",
       "       2.6850030e-06, 2.6850030e-06, 2.6850030e-06, 2.6850030e-06,\n",
       "       2.6850030e-06, 2.6850030e-06, 2.6850030e-06, 2.6850030e-06,\n",
       "       2.6884115e-06, 2.8180307e-06, 2.9799551e-06, 3.0241138e-06,\n",
       "       3.0286610e-06, 3.0286610e-06, 3.0286610e-06, 3.0286610e-06,\n",
       "       3.0286610e-06, 3.0025130e-06, 2.7319277e-06, 2.6850030e-06,\n",
       "       2.4106807e-06, 2.1833671e-06, 1.7679710e-06, 1.3065163e-06,\n",
       "       9.4666729e-07, 8.6475802e-07, 8.3292309e-07, 9.8523969e-07,\n",
       "       1.3239792e-06, 1.9021215e-06, 2.8062000e-06, 4.1431408e-06,\n",
       "       5.9980048e-06, 8.5359979e-06, 1.2125617e-05, 1.6982271e-05,\n",
       "       2.3324741e-05, 3.1933421e-05, 4.2893902e-05, 5.6408659e-05,\n",
       "       7.3465439e-05, 9.5768235e-05, 1.2357465e-04, 1.5332848e-04,\n",
       "       1.8323118e-04, 2.1022823e-04, 2.3550112e-04, 2.6140499e-04,\n",
       "       2.7768250e-04, 2.9738760e-04, 3.2677074e-04, 3.7784793e-04,\n",
       "       4.5214116e-04, 5.3277350e-04, 6.0843740e-04, 7.0511439e-04,\n",
       "       8.9356885e-04, 1.1944340e-03, 1.5244299e-03, 1.7492516e-03,\n",
       "       2.0108544e-03, 2.2825471e-03, 2.5399639e-03, 3.0825008e-03,\n",
       "       3.7558335e-03, 4.2985464e-03, 4.7018589e-03, 5.1299306e-03,\n",
       "       5.5991518e-03, 6.0246792e-03, 6.5167602e-03, 7.2599691e-03,\n",
       "       7.8959772e-03, 8.1715239e-03, 8.2604373e-03, 8.2941819e-03,\n",
       "       8.2340585e-03, 8.1469426e-03, 8.2954774e-03, 8.7038008e-03,\n",
       "       9.2486218e-03, 9.8785842e-03, 1.0569385e-02, 1.1268478e-02,\n",
       "       1.2104977e-02, 1.2950160e-02, 1.3617355e-02, 1.4654722e-02,\n",
       "       1.5702762e-02, 1.6274188e-02, 1.6575875e-02, 1.6746201e-02,\n",
       "       1.6857358e-02, 1.6932383e-02, 1.6986679e-02, 1.7036388e-02,\n",
       "       1.7083757e-02, 1.7128671e-02, 1.7162742e-02, 1.7185416e-02,\n",
       "       1.7211273e-02, 1.7245166e-02, 1.7293742e-02, 1.7375810e-02,\n",
       "       1.7577801e-02], dtype=float32)"
      ]
     },
     "execution_count": 81,
     "metadata": {},
     "output_type": "execute_result"
    }
   ],
   "source": [
    "q_mcs.mean(axis=1)"
   ]
  },
  {
   "cell_type": "code",
   "execution_count": 82,
   "id": "03c492c2-af03-4255-872f-f3dea2a694e7",
   "metadata": {},
   "outputs": [
    {
     "data": {
      "text/plain": [
       "(0.0, 12000.0)"
      ]
     },
     "execution_count": 82,
     "metadata": {},
     "output_type": "execute_result"
    },
    {
     "data": {
      "image/png": "[encoded data removed]",
      "text/plain": [
       "<Figure size 432x288 with 1 Axes>"
      ]
     },
     "metadata": {
      "needs_background": "light"
     },
     "output_type": "display_data"
    }
   ],
   "source": [
    "plt.plot(q_mcs.mean(axis=1) * 1e3, altitude)\n",
    "plt.xlim((0, 20))\n",
    "plt.ylim((0, 12000))"
   ]
  },
  {
   "cell_type": "code",
   "execution_count": 84,
   "id": "8a4dec19-b460-4170-92d6-44e15e81774d",
   "metadata": {},
   "outputs": [],
   "source": [
    "rho_mcs = rho[:, 1:-1][(vert_idx[:, None, None] * dummy_mask[None, 1:-1, :]).astype(bool)].reshape(137, -1)"
   ]
  },
  {
   "cell_type": "code",
   "execution_count": 85,
   "id": "6a74f1b8-c095-422f-91fd-487c350838f2",
   "metadata": {},
   "outputs": [
    {
     "data": {
      "text/plain": [
       "(137, 800)"
      ]
     },
     "execution_count": 85,
     "metadata": {},
     "output_type": "execute_result"
    }
   ],
   "source": [
    "rho_mcs.shape"
   ]
  },
  {
   "cell_type": "code",
   "execution_count": 86,
   "id": "4f48518f-5285-4ce1-acf5-14c3c53bc57c",
   "metadata": {},
   "outputs": [
    {
     "data": {
      "text/plain": [
       "(0.0, 12000.0)"
      ]
     },
     "execution_count": 86,
     "metadata": {},
     "output_type": "execute_result"
    },
    {
     "data": {
      "image/png": "[encoded data removed]",
      "text/plain": [
       "<Figure size 432x288 with 1 Axes>"
      ]
     },
     "metadata": {
      "needs_background": "light"
     },
     "output_type": "display_data"
    }
   ],
   "source": [
    "plt.plot(rho_mcs.mean(axis=1), altitude)\n",
    "# plt.xlim((0, 20))\n",
    "plt.ylim((0, 12000))"
   ]
  },
  {
   "cell_type": "code",
   "execution_count": 87,
   "id": "fc56cff6-47d7-46c9-8a88-a0aa923997f8",
   "metadata": {},
   "outputs": [
    {
     "data": {
      "text/plain": [
       "1.1934438547698818"
      ]
     },
     "execution_count": 87,
     "metadata": {},
     "output_type": "execute_result"
    }
   ],
   "source": [
    "rho[-1].mean()"
   ]
  },
  {
   "cell_type": "code",
   "execution_count": null,
   "id": "650df8b6-0546-4a5e-b4a5-c3364756f987",
   "metadata": {},
   "outputs": [],
   "source": []
  },
  {
   "cell_type": "markdown",
   "id": "10203ecf-c488-477d-a59e-0d4c38673f0e",
   "metadata": {},
   "source": [
    "# Develop code for calculating the arbitrary fluxes into a region.\n",
    "\n",
    "This is how I would like to do things eventually, so that it could be used by other people for data other than ERA5. However, writing fully general code is quite tricky in this case and would need to be well tested."
   ]
  },
  {
   "cell_type": "code",
   "execution_count": 88,
   "id": "d2b3f981-9430-4424-aa41-60c82bfd4bcc",
   "metadata": {},
   "outputs": [],
   "source": [
    "class CGrid:\n",
    "    @staticmethod\n",
    "    def cell_centre_to_boundary_periodic(field, axis):\n",
    "        return (np.roll(field, -1, axis=axis) + field) / 2\n",
    "\n",
    "    @staticmethod\n",
    "    def cell_centre_to_boundary_nonperiodic(field, axis):\n",
    "        s1 = [slice(None)] * field.ndim\n",
    "        s2 = [slice(None)] * field.ndim\n",
    "        s1[axis] = slice(None, -1)\n",
    "        s2[axis] = slice(1, None)\n",
    "        return (field[tuple(s1)] + field[tuple(s2)]) / 2\n",
    "\n",
    "    def __init__(self, field, gridtype, xaxis=2, yaxis=1, periodic_x=False, periodic_y=False, requires_regrid=True):\n",
    "        assert xaxis != yaxis, 'xaxis and yaxis must be different'\n",
    "        assert (xaxis < field.ndim and yaxis < field.ndim), 'xaxis and yaxis must be less than field.ndim'\n",
    "        assert gridtype in ['centre', 'x', 'y'], f'Invalid gridtype {gridtype}'\n",
    "        \n",
    "        self._raw_field = field\n",
    "        self.gridtype = gridtype\n",
    "        self.xaxis = xaxis\n",
    "        self.yaxis = yaxis\n",
    "        self.periodic_x = periodic_x\n",
    "        self.periodic_y = periodic_y\n",
    "        if requires_regrid:\n",
    "            if self.gridtype == 'x':\n",
    "                if periodic_x:\n",
    "                    shift_grid = CGrid.cell_centre_to_boundary_periodic\n",
    "                else:\n",
    "                    shift_grid = CGrid.cell_centre_to_boundary_nonperiodic                \n",
    "                self.field = shift_grid(field, xaxis)\n",
    "            elif self.gridtype == 'y':\n",
    "                if periodic_y:\n",
    "                    shift_grid = CGrid.cell_centre_to_boundary_periodic\n",
    "                else:\n",
    "                    shift_grid = CGrid.cell_centre_to_boundary_nonperiodic                \n",
    "                self.field = shift_grid(field, yaxis)\n",
    "        else:\n",
    "            self.field = field\n",
    "    \n",
    "\n",
    "class FluxCalculator:\n",
    "    @staticmethod\n",
    "    def _deriv_periodic(field, axis, dx):\n",
    "        return (field - np.roll(field, 1, axis=axis)) / dx\n",
    "    \n",
    "    @staticmethod\n",
    "    def _deriv_nonperiodic(field, axis, dx):          \n",
    "        s1 = [slice(None)] * field.ndim\n",
    "        s2 = [slice(None)] * field.ndim\n",
    "        s1[axis] = slice(None, -1)\n",
    "        s2[axis] = slice(1, None)\n",
    "        return (field[tuple(s2)] - field[tuple(s1)]) / dx\n",
    "\n",
    "    @staticmethod\n",
    "    def _convert_dx(dx):\n",
    "        if isinstance(dx, np.ndarray) and dx.ndim == 1:\n",
    "            broadcast_slice = [None] * field.ndim\n",
    "            broadcast_slice[axis] = slice(None)\n",
    "            dx = dx[tuple(broadcast_slice)]\n",
    "        return dx\n",
    "\n",
    "    def __init__(self, features, feature_indices, flux_x, flux_y, dx, dy):\n",
    "        assert flux_x.gridtype == 'x'\n",
    "        assert flux_y.gridtype == 'y'\n",
    "        assert flux_x.xaxis == flux_y.xaxis\n",
    "        assert flux_x.yaxis == flux_y.yaxis\n",
    "        \n",
    "        self.feature_mask = features > 0\n",
    "        self.features = features\n",
    "        self.feature_indices = feature_indices\n",
    "        self.xaxis = flux_x.xaxis\n",
    "        self.yaxis = flux_x.yaxis        \n",
    "        self.flux_x = flux_x\n",
    "        self.flux_y = flux_y\n",
    "        self.dx = FluxCalculator._convert_dx(dx)\n",
    "        self.dy = FluxCalculator._convert_dx(dy)\n",
    "\n",
    "    def calc_div(self):\n",
    "        if self.flux_x.period_x:\n",
    "            dflux_dx = self._deriv_periodic(self.flux_x.field, self.flux_x.xaxis)\n",
    "        else:\n",
    "            dflux_dx = self._deriv_nonperiodic(self.flux_x.field, self.flux_x.xaxis)\n",
    "        if self.flux_y.period_y:\n",
    "            dflux_dy = self._deriv_periodic(self.flux_y.field, self.flux_y.yaxis)\n",
    "        else:\n",
    "            dflux_dy = self._deriv_nonperiodic(self.flux_y.field, self.flux_y.yaxis)\n",
    "\n",
    "        if self.flux_x.period_x == self.flux_x.period_y:\n",
    "            return dflux_dx + dflux_dy        \n",
    "        elif self.flux_x.period_x and not self.flux_x.period_y:\n",
    "            xslice = [slice(None)] * self.flux_x.field.ndim\n",
    "            xslice[self.flux_x.yaxis] = slice(1, -1)\n",
    "            return dflux_dx[tuple(xslice)] + dflux_dy        \n",
    "        elif not self.flux_x.period_x and self.flux_x.period_y:\n",
    "            yslice = [slice(None)] * self.flux_x.field.ndim\n",
    "            yslice[self.flux_x.yaxis] = slice(1, -1)\n",
    "            return dflux_dx + dflux_dy[tuple(yslice)]        \n",
    "\n",
    "    def calc_boundary(self):\n",
    "        return (\n",
    "            1 * (self.feature_mask & ~np.roll(self.feature_mask, -1, axis=0)) + \n",
    "            2 * (self.feature_mask & ~np.roll(self.feature_mask, -1, axis=1)) + \n",
    "            4 * (self.feature_mask & ~np.roll(self.feature_mask, 1, axis=0)) + \n",
    "            8 * (self.feature_mask & ~np.roll(self.feature_mask, 1, axis=1))\n",
    "        ).astype('int8')\n",
    "        \n",
    "    def integrate_div(self):\n",
    "        div_flux = self.calc_div()\n",
    "        Acell = dx_rad * Re**2 * (np.sin(lats_rad + dy_rad / 2) - np.sin(lats_rad - dy_rad / 2))\n",
    "        # dz = ??\n",
    "        return np.array([div_flux[self.feature_label == i].sum() * Acell[None, 1:-1, None] * dz[:, None, None]\n",
    "                         for i in self.feature_indices])\n",
    "    \n",
    "    def integrate_boundaries(self):\n",
    "        bmask = self.calc_boundary()\n",
    "        \n",
    "        flux_outx = ((bmask & 2).astype(bool) * self.flux_x.field - (bmask & 8).astype(bool) * np.roll(self.flux_x.field, 1, axis=1)) * self.dy_mids\n",
    "        flux_outy = ((bmask & 1).astype(bool) * self.flux_y.field * self.dx_mids[None, :-1, None] - \n",
    "                     (bmask & 4).astype(bool) * np.roll(self.flux_y.field, 1, axis=0) * self.dx_mids[:, 1:, None])\n",
    "        flux_out = flux_outx + flux_outy\n",
    "        return np.array([flux_out[self.feature_label == i].sum() for i in self.feature_indices])"
   ]
  },
  {
   "cell_type": "code",
   "execution_count": 89,
   "id": "c5338e47-b81d-48fc-ace4-f006b45aa322",
   "metadata": {},
   "outputs": [],
   "source": [
    "mf_x = CGrid(rho * q * u, 'x', periodic_x=True)"
   ]
  },
  {
   "cell_type": "code",
   "execution_count": 90,
   "id": "dd377df8-e8c0-43a8-99b3-686018d414f8",
   "metadata": {},
   "outputs": [
    {
     "data": {
      "text/plain": [
       "True"
      ]
     },
     "execution_count": 90,
     "metadata": {},
     "output_type": "execute_result"
    }
   ],
   "source": [
    "(mf_u == mf_x.field).all()"
   ]
  },
  {
   "cell_type": "code",
   "execution_count": 91,
   "id": "c77a6263-b97c-4068-8e7c-48e12882ffda",
   "metadata": {},
   "outputs": [],
   "source": [
    "mf_y = CGrid(rho * q * v, 'y', periodic_x=True)"
   ]
  },
  {
   "cell_type": "code",
   "execution_count": 92,
   "id": "2eca9d1b-f8d3-4324-ba2d-0a184f12e7ac",
   "metadata": {},
   "outputs": [
    {
     "data": {
      "text/plain": [
       "True"
      ]
     },
     "execution_count": 92,
     "metadata": {},
     "output_type": "execute_result"
    }
   ],
   "source": [
    "(mf_v == mf_y.field).all()"
   ]
  },
  {
   "cell_type": "code",
   "execution_count": 93,
   "id": "8a80e6d7-3212-4b51-9332-40d736081065",
   "metadata": {},
   "outputs": [
    {
     "data": {
      "text/plain": [
       "array([ 60., -60.], dtype=float32)"
      ]
     },
     "execution_count": 93,
     "metadata": {},
     "output_type": "execute_result"
    }
   ],
   "source": [
    "e5.latitude.values[[0, -1]]"
   ]
  },
  {
   "cell_type": "code",
   "execution_count": null,
   "id": "9d71ca92-a5bc-44e5-90f6-6041de4fc7ad",
   "metadata": {},
   "outputs": [],
   "source": []
  }
 ],
 "metadata": {
  "kernelspec": {
   "display_name": "mcs_prime_env",
   "language": "python",
   "name": "mcs_prime_env"
  },
  "language_info": {
   "codemirror_mode": {
    "name": "ipython",
    "version": 3
   },
   "file_extension": ".py",
   "mimetype": "text/x-python",
   "name": "python",
   "nbconvert_exporter": "python",
   "pygments_lexer": "ipython3",
   "version": "3.10.4"
  }
 },
 "nbformat": 4,
 "nbformat_minor": 5
}
