{
 "cells": [
  {
   "cell_type": "code",
   "execution_count": 2,
   "id": "8123cb6e-259b-4e3b-86d4-2ce59eff174f",
   "metadata": {},
   "outputs": [],
   "source": [
    "import pandas as pd\n",
    "\n",
    "from remake import load_remake"
   ]
  },
  {
   "cell_type": "code",
   "execution_count": 3,
   "id": "3b3f628f-76ea-4605-8715-e81e99cb828b",
   "metadata": {},
   "outputs": [
    {
     "name": "stdout",
     "output_type": "stream",
     "text": [
      "\u001b[94m=> check_model_level_to_pressure <=\u001b[0m\n"
     ]
    }
   ],
   "source": [
    "rmk = load_remake('../../remakefiles/check_model_level_to_pressure.py').finalize()"
   ]
  },
  {
   "cell_type": "code",
   "execution_count": 4,
   "id": "b5d42e76-d7fe-4431-9e04-73be2bc7b356",
   "metadata": {},
   "outputs": [],
   "source": [
    "output = [t.outputs['output'] for t in rmk.CheckModelLevelToPressure.tasks]"
   ]
  },
  {
   "cell_type": "code",
   "execution_count": 5,
   "id": "eec0f2e1-fc28-4fdd-95e4-7f0664836815",
   "metadata": {},
   "outputs": [],
   "source": [
    "output = [o for o in output if o.exists()]"
   ]
  },
  {
   "cell_type": "code",
   "execution_count": 6,
   "id": "75549e27-23d3-41f9-a8e6-4a9189ec67bb",
   "metadata": {},
   "outputs": [
    {
     "data": {
      "text/plain": [
       "[PosixPath('/gws/nopw/j04/mcs_prime/mmuetz/data/mcs_prime_output/check_model_level_to_pressure/check_model_level_to_pressure_20200101.hdf'),\n",
       " PosixPath('/gws/nopw/j04/mcs_prime/mmuetz/data/mcs_prime_output/check_model_level_to_pressure/check_model_level_to_pressure_20200201.hdf'),\n",
       " PosixPath('/gws/nopw/j04/mcs_prime/mmuetz/data/mcs_prime_output/check_model_level_to_pressure/check_model_level_to_pressure_20200301.hdf'),\n",
       " PosixPath('/gws/nopw/j04/mcs_prime/mmuetz/data/mcs_prime_output/check_model_level_to_pressure/check_model_level_to_pressure_20200401.hdf'),\n",
       " PosixPath('/gws/nopw/j04/mcs_prime/mmuetz/data/mcs_prime_output/check_model_level_to_pressure/check_model_level_to_pressure_20200501.hdf'),\n",
       " PosixPath('/gws/nopw/j04/mcs_prime/mmuetz/data/mcs_prime_output/check_model_level_to_pressure/check_model_level_to_pressure_20200601.hdf'),\n",
       " PosixPath('/gws/nopw/j04/mcs_prime/mmuetz/data/mcs_prime_output/check_model_level_to_pressure/check_model_level_to_pressure_20200701.hdf'),\n",
       " PosixPath('/gws/nopw/j04/mcs_prime/mmuetz/data/mcs_prime_output/check_model_level_to_pressure/check_model_level_to_pressure_20200801.hdf'),\n",
       " PosixPath('/gws/nopw/j04/mcs_prime/mmuetz/data/mcs_prime_output/check_model_level_to_pressure/check_model_level_to_pressure_20200901.hdf'),\n",
       " PosixPath('/gws/nopw/j04/mcs_prime/mmuetz/data/mcs_prime_output/check_model_level_to_pressure/check_model_level_to_pressure_20201001.hdf'),\n",
       " PosixPath('/gws/nopw/j04/mcs_prime/mmuetz/data/mcs_prime_output/check_model_level_to_pressure/check_model_level_to_pressure_20201101.hdf'),\n",
       " PosixPath('/gws/nopw/j04/mcs_prime/mmuetz/data/mcs_prime_output/check_model_level_to_pressure/check_model_level_to_pressure_20201201.hdf')]"
      ]
     },
     "execution_count": 6,
     "metadata": {},
     "output_type": "execute_result"
    }
   ],
   "source": [
    "output"
   ]
  },
  {
   "cell_type": "code",
   "execution_count": 7,
   "id": "34d73b5b-46f8-43b7-9ad9-bfabe64e2919",
   "metadata": {},
   "outputs": [],
   "source": [
    "df = pd.concat([pd.read_hdf(p) for p in output])"
   ]
  },
  {
   "cell_type": "code",
   "execution_count": 8,
   "id": "79206b4b-386a-4484-9623-96789b270765",
   "metadata": {},
   "outputs": [
    {
     "data": {
      "text/html": [
       "<div>\n",
       "<style scoped>\n",
       "    .dataframe tbody tr th:only-of-type {\n",
       "        vertical-align: middle;\n",
       "    }\n",
       "\n",
       "    .dataframe tbody tr th {\n",
       "        vertical-align: top;\n",
       "    }\n",
       "\n",
       "    .dataframe thead th {\n",
       "        text-align: right;\n",
       "    }\n",
       "</style>\n",
       "<table border=\"1\" class=\"dataframe\">\n",
       "  <thead>\n",
       "    <tr style=\"text-align: right;\">\n",
       "      <th></th>\n",
       "      <th>time</th>\n",
       "      <th>reg</th>\n",
       "      <th>level</th>\n",
       "      <th>p1</th>\n",
       "      <th>p10</th>\n",
       "      <th>p25</th>\n",
       "      <th>p50</th>\n",
       "      <th>p75</th>\n",
       "      <th>p90</th>\n",
       "      <th>p99</th>\n",
       "    </tr>\n",
       "  </thead>\n",
       "  <tbody>\n",
       "    <tr>\n",
       "      <th>0</th>\n",
       "      <td>2020-01-01 00:00:00</td>\n",
       "      <td>all</td>\n",
       "      <td>136</td>\n",
       "      <td>733.053670</td>\n",
       "      <td>943.161800</td>\n",
       "      <td>989.269070</td>\n",
       "      <td>1007.375799</td>\n",
       "      <td>1012.403072</td>\n",
       "      <td>1017.197378</td>\n",
       "      <td>1027.145451</td>\n",
       "    </tr>\n",
       "    <tr>\n",
       "      <th>1</th>\n",
       "      <td>2020-01-01 00:00:00</td>\n",
       "      <td>sea</td>\n",
       "      <td>136</td>\n",
       "      <td>975.346870</td>\n",
       "      <td>996.011953</td>\n",
       "      <td>1006.145893</td>\n",
       "      <td>1009.362516</td>\n",
       "      <td>1014.084434</td>\n",
       "      <td>1018.944980</td>\n",
       "      <td>1027.623286</td>\n",
       "    </tr>\n",
       "    <tr>\n",
       "      <th>2</th>\n",
       "      <td>2020-01-01 00:00:00</td>\n",
       "      <td>land</td>\n",
       "      <td>136</td>\n",
       "      <td>564.687034</td>\n",
       "      <td>842.149566</td>\n",
       "      <td>909.761067</td>\n",
       "      <td>961.697568</td>\n",
       "      <td>986.400535</td>\n",
       "      <td>1001.219342</td>\n",
       "      <td>1019.728528</td>\n",
       "    </tr>\n",
       "    <tr>\n",
       "      <th>3</th>\n",
       "      <td>2020-01-01 00:00:00</td>\n",
       "      <td>all</td>\n",
       "      <td>111</td>\n",
       "      <td>605.112104</td>\n",
       "      <td>756.148730</td>\n",
       "      <td>789.293029</td>\n",
       "      <td>802.309085</td>\n",
       "      <td>805.922950</td>\n",
       "      <td>809.369346</td>\n",
       "      <td>816.520537</td>\n",
       "    </tr>\n",
       "    <tr>\n",
       "      <th>4</th>\n",
       "      <td>2020-01-01 00:00:00</td>\n",
       "      <td>sea</td>\n",
       "      <td>111</td>\n",
       "      <td>779.285029</td>\n",
       "      <td>794.140163</td>\n",
       "      <td>801.424965</td>\n",
       "      <td>803.737241</td>\n",
       "      <td>807.131600</td>\n",
       "      <td>810.625613</td>\n",
       "      <td>816.864029</td>\n",
       "    </tr>\n",
       "    <tr>\n",
       "      <th>...</th>\n",
       "      <td>...</td>\n",
       "      <td>...</td>\n",
       "      <td>...</td>\n",
       "      <td>...</td>\n",
       "      <td>...</td>\n",
       "      <td>...</td>\n",
       "      <td>...</td>\n",
       "      <td>...</td>\n",
       "      <td>...</td>\n",
       "      <td>...</td>\n",
       "    </tr>\n",
       "    <tr>\n",
       "      <th>283</th>\n",
       "      <td>2020-12-01 23:00:00</td>\n",
       "      <td>sea</td>\n",
       "      <td>100</td>\n",
       "      <td>573.267835</td>\n",
       "      <td>582.477120</td>\n",
       "      <td>587.859700</td>\n",
       "      <td>589.488647</td>\n",
       "      <td>591.445122</td>\n",
       "      <td>593.644472</td>\n",
       "      <td>599.698833</td>\n",
       "    </tr>\n",
       "    <tr>\n",
       "      <th>284</th>\n",
       "      <td>2020-12-01 23:00:00</td>\n",
       "      <td>land</td>\n",
       "      <td>100</td>\n",
       "      <td>401.688298</td>\n",
       "      <td>520.649113</td>\n",
       "      <td>548.762418</td>\n",
       "      <td>570.478569</td>\n",
       "      <td>582.132999</td>\n",
       "      <td>589.212620</td>\n",
       "      <td>599.018092</td>\n",
       "    </tr>\n",
       "    <tr>\n",
       "      <th>285</th>\n",
       "      <td>2020-12-01 23:00:00</td>\n",
       "      <td>all</td>\n",
       "      <td>90</td>\n",
       "      <td>345.635000</td>\n",
       "      <td>386.439778</td>\n",
       "      <td>395.010297</td>\n",
       "      <td>398.308126</td>\n",
       "      <td>399.424191</td>\n",
       "      <td>400.467148</td>\n",
       "      <td>403.331843</td>\n",
       "    </tr>\n",
       "    <tr>\n",
       "      <th>286</th>\n",
       "      <td>2020-12-01 23:00:00</td>\n",
       "      <td>sea</td>\n",
       "      <td>90</td>\n",
       "      <td>391.332683</td>\n",
       "      <td>395.551637</td>\n",
       "      <td>398.017503</td>\n",
       "      <td>398.763755</td>\n",
       "      <td>399.660055</td>\n",
       "      <td>400.667621</td>\n",
       "      <td>403.441243</td>\n",
       "    </tr>\n",
       "    <tr>\n",
       "      <th>287</th>\n",
       "      <td>2020-12-01 23:00:00</td>\n",
       "      <td>land</td>\n",
       "      <td>90</td>\n",
       "      <td>312.728719</td>\n",
       "      <td>367.227010</td>\n",
       "      <td>380.106269</td>\n",
       "      <td>390.054865</td>\n",
       "      <td>395.393989</td>\n",
       "      <td>398.637302</td>\n",
       "      <td>403.129382</td>\n",
       "    </tr>\n",
       "  </tbody>\n",
       "</table>\n",
       "<p>3456 rows × 10 columns</p>\n",
       "</div>"
      ],
      "text/plain": [
       "                   time   reg  level          p1         p10          p25  \\\n",
       "0   2020-01-01 00:00:00   all    136  733.053670  943.161800   989.269070   \n",
       "1   2020-01-01 00:00:00   sea    136  975.346870  996.011953  1006.145893   \n",
       "2   2020-01-01 00:00:00  land    136  564.687034  842.149566   909.761067   \n",
       "3   2020-01-01 00:00:00   all    111  605.112104  756.148730   789.293029   \n",
       "4   2020-01-01 00:00:00   sea    111  779.285029  794.140163   801.424965   \n",
       "..                  ...   ...    ...         ...         ...          ...   \n",
       "283 2020-12-01 23:00:00   sea    100  573.267835  582.477120   587.859700   \n",
       "284 2020-12-01 23:00:00  land    100  401.688298  520.649113   548.762418   \n",
       "285 2020-12-01 23:00:00   all     90  345.635000  386.439778   395.010297   \n",
       "286 2020-12-01 23:00:00   sea     90  391.332683  395.551637   398.017503   \n",
       "287 2020-12-01 23:00:00  land     90  312.728719  367.227010   380.106269   \n",
       "\n",
       "             p50          p75          p90          p99  \n",
       "0    1007.375799  1012.403072  1017.197378  1027.145451  \n",
       "1    1009.362516  1014.084434  1018.944980  1027.623286  \n",
       "2     961.697568   986.400535  1001.219342  1019.728528  \n",
       "3     802.309085   805.922950   809.369346   816.520537  \n",
       "4     803.737241   807.131600   810.625613   816.864029  \n",
       "..           ...          ...          ...          ...  \n",
       "283   589.488647   591.445122   593.644472   599.698833  \n",
       "284   570.478569   582.132999   589.212620   599.018092  \n",
       "285   398.308126   399.424191   400.467148   403.331843  \n",
       "286   398.763755   399.660055   400.667621   403.441243  \n",
       "287   390.054865   395.393989   398.637302   403.129382  \n",
       "\n",
       "[3456 rows x 10 columns]"
      ]
     },
     "execution_count": 8,
     "metadata": {},
     "output_type": "execute_result"
    }
   ],
   "source": [
    "df"
   ]
  },
  {
   "cell_type": "code",
   "execution_count": null,
   "id": "3adf913a-0819-417f-84ce-1c1246d3bac3",
   "metadata": {},
   "outputs": [],
   "source": []
  },
  {
   "cell_type": "code",
   "execution_count": 9,
   "id": "e98859ba-5e52-4751-ad82-29183d0da6d6",
   "metadata": {},
   "outputs": [
    {
     "name": "stdout",
     "output_type": "stream",
     "text": [
      "136\n",
      "1009.5383861885647\n",
      "0.6072700353803685\n",
      "111\n",
      "803.8636650835427\n",
      "0.43653721324454425\n",
      "100\n",
      "589.6805659554606\n",
      "0.25889645076447826\n",
      "90\n",
      "398.851677556205\n",
      "0.1186055597640569\n"
     ]
    }
   ],
   "source": [
    "for level in [136, 111, 100, 90]:\n",
    "    print(level)\n",
    "    print(df[(df.reg == 'sea') & (df.level == level)].p50.mean())\n",
    "    print(df[(df.reg == 'sea') & (df.level == level)].p50.std())"
   ]
  },
  {
   "cell_type": "code",
   "execution_count": 10,
   "id": "a0641650-1409-48ec-951e-ab91e59cc95a",
   "metadata": {},
   "outputs": [
    {
     "name": "stdout",
     "output_type": "stream",
     "text": [
      "136\n",
      "p10     994.674776\n",
      "p50    1009.538386\n",
      "p90    1019.749115\n",
      "dtype: float64\n",
      "p10    2.483232\n",
      "p50    0.607270\n",
      "p90    0.940226\n",
      "dtype: float64\n",
      "111\n",
      "p10    793.178931\n",
      "p50    803.863665\n",
      "p90    811.203667\n",
      "dtype: float64\n",
      "p10    1.785076\n",
      "p50    0.436537\n",
      "p90    0.675883\n",
      "dtype: float64\n",
      "100\n",
      "p10    583.343787\n",
      "p50    589.680566\n",
      "p90    594.033690\n",
      "dtype: float64\n",
      "p10    1.058672\n",
      "p50    0.258896\n",
      "p90    0.400845\n",
      "dtype: float64\n",
      "90\n",
      "p10    395.948674\n",
      "p50    398.851678\n",
      "p90    400.845929\n",
      "dtype: float64\n",
      "p10    0.484999\n",
      "p50    0.118606\n",
      "p90    0.183635\n",
      "dtype: float64\n"
     ]
    }
   ],
   "source": [
    "for level in [136, 111, 100, 90]:\n",
    "    print(level)\n",
    "    print(df[(df.reg == 'sea') & (df.level == level)][['p10', 'p50', 'p90']].mean())\n",
    "    print(df[(df.reg == 'sea') & (df.level == level)][['p10', 'p50', 'p90']].std())\n"
   ]
  },
  {
   "cell_type": "code",
   "execution_count": 11,
   "id": "ef3dbd02-fd07-4126-81ce-aba0ff8af241",
   "metadata": {},
   "outputs": [
    {
     "name": "stdout",
     "output_type": "stream",
     "text": [
      "136\n",
      "961.7588997912798\n",
      "1.2265601221020228\n",
      "111\n",
      "769.5172909386989\n",
      "0.8817150631249725\n",
      "100\n",
      "569.3108148942888\n",
      "0.5229173905519058\n",
      "90\n",
      "389.5198936722206\n",
      "0.23955874881107775\n"
     ]
    }
   ],
   "source": [
    "for level in [136, 111, 100, 90]:\n",
    "    print(level)\n",
    "    print(df[(df.reg == 'land') & (df.level == level)].p50.mean())\n",
    "    print(df[(df.reg == 'land') & (df.level == level)].p50.std())"
   ]
  },
  {
   "cell_type": "code",
   "execution_count": null,
   "id": "2c713584-3232-4252-bdf2-529a73f13b44",
   "metadata": {},
   "outputs": [],
   "source": []
  },
  {
   "cell_type": "code",
   "execution_count": 12,
   "id": "a92dbaf7-c45b-4370-b499-067bd83d8636",
   "metadata": {},
   "outputs": [
    {
     "name": "stdout",
     "output_type": "stream",
     "text": [
      "136\n",
      "p10     843.841789\n",
      "p50     961.758900\n",
      "p90    1001.027378\n",
      "dtype: float64\n",
      "p10    2.000493\n",
      "p50    1.226560\n",
      "p90    2.543626\n",
      "dtype: float64\n",
      "111\n",
      "p10    684.752353\n",
      "p50    769.517291\n",
      "p90    797.745511\n",
      "dtype: float64\n",
      "p10    1.438058\n",
      "p50    0.881715\n",
      "p90    1.828490\n",
      "dtype: float64\n",
      "100\n",
      "p10    519.039404\n",
      "p50    569.310815\n",
      "p90    586.052082\n",
      "dtype: float64\n",
      "p10    0.852867\n",
      "p50    0.522917\n",
      "p90    1.084420\n",
      "dtype: float64\n",
      "90\n",
      "p10    366.489571\n",
      "p50    389.519894\n",
      "p90    397.189398\n",
      "dtype: float64\n",
      "p10    0.390715\n",
      "p50    0.239559\n",
      "p90    0.496794\n",
      "dtype: float64\n"
     ]
    }
   ],
   "source": [
    "for level in [136, 111, 100, 90]:\n",
    "    print(level)\n",
    "    print(df[(df.reg == 'land') & (df.level == level)][['p10', 'p50', 'p90']].mean())\n",
    "    print(df[(df.reg == 'land') & (df.level == level)][['p10', 'p50', 'p90']].std())\n"
   ]
  },
  {
   "cell_type": "code",
   "execution_count": 13,
   "id": "ab77e8e7-9961-4f50-b98f-fa1c15f82b1d",
   "metadata": {},
   "outputs": [
    {
     "ename": "Exception",
     "evalue": "Stop Here",
     "output_type": "error",
     "traceback": [
      "\u001b[0;31m---------------------------------------------------------------------------\u001b[0m",
      "\u001b[0;31mException\u001b[0m                                 Traceback (most recent call last)",
      "Input \u001b[0;32mIn [13]\u001b[0m, in \u001b[0;36m<cell line: 1>\u001b[0;34m()\u001b[0m\n\u001b[0;32m----> 1\u001b[0m \u001b[38;5;28;01mraise\u001b[39;00m \u001b[38;5;167;01mException\u001b[39;00m(\u001b[38;5;124m'\u001b[39m\u001b[38;5;124mStop Here\u001b[39m\u001b[38;5;124m'\u001b[39m)\n",
      "\u001b[0;31mException\u001b[0m: Stop Here"
     ]
    }
   ],
   "source": [
    "raise Exception('Stop Here')"
   ]
  },
  {
   "cell_type": "code",
   "execution_count": null,
   "id": "c21002a5-ebb4-4263-8ae7-f93c17ee1943",
   "metadata": {},
   "outputs": [],
   "source": [
    "from pathlib import Path\n",
    "\n",
    "# These are all available as standard in Python 3 + Jaspy kernel.\n",
    "import cartopy.crs as ccrs\n",
    "import matplotlib.pyplot as plt\n",
    "import numpy as np\n",
    "import pandas as pd\n",
    "import xarray as xr\n",
    "from xgcm import Grid\n",
    "\n",
    "from mcs_prime import mcs_prime_config_util as cu\n",
    "from mcs_prime.era5_calc import ERA5Calc"
   ]
  },
  {
   "cell_type": "code",
   "execution_count": null,
   "id": "7cc90672-9022-4382-952c-db4de74fef1b",
   "metadata": {},
   "outputs": [],
   "source": [
    "model_levels = cu.PATH_ERA5_MODEL_LEVELS\n",
    "e5calc = ERA5Calc(model_levels)"
   ]
  },
  {
   "cell_type": "code",
   "execution_count": null,
   "id": "824cae06-d2d5-4827-99fa-7346cff38e0a",
   "metadata": {},
   "outputs": [],
   "source": [
    "lnsp_path = cu.era5_ml_fmtp('lnsp', 2020, 1, 1, 1)\n",
    "lnsp = xr.open_dataarray(lnsp_path).isel(time=0).sel(latitude=slice(60, -60))\n",
    "lnsp"
   ]
  },
  {
   "cell_type": "code",
   "execution_count": null,
   "id": "81269112-05d8-4c1e-90d9-85a82df2c70e",
   "metadata": {},
   "outputs": [],
   "source": [
    "u_path = cu.era5_ml_fmtp('u', 2020, 1, 1, 1)\n",
    "v_path = cu.era5_ml_fmtp('v', 2020, 1, 1, 1)\n",
    "uv = xr.open_mfdataset([u_path, v_path]).isel(time=0).sel(latitude=slice(60, -60))"
   ]
  },
  {
   "cell_type": "code",
   "execution_count": null,
   "id": "a597027f-ec9d-4d3f-a209-0ac6e21bcaf8",
   "metadata": {},
   "outputs": [],
   "source": [
    "p = e5calc.calc_pressure(lnsp.values)"
   ]
  },
  {
   "cell_type": "code",
   "execution_count": null,
   "id": "a183045d",
   "metadata": {},
   "outputs": [],
   "source": [
    "sp = np.exp(e5lnsp).values[0] / 100  # pressure in hPa.\n",
    "a = df_ecmwf['a [Pa]'].values / 100  # a now in hPa.\n",
    "b = df_ecmwf.b.values"
   ]
  },
  {
   "cell_type": "code",
   "execution_count": null,
   "id": "edaf5946-b96d-4303-b150-a5b2eec0cbfb",
   "metadata": {},
   "outputs": [],
   "source": [
    "# ML -> pressure mapping used for shear\n",
    "# 136: surf\n",
    "# 111: 804 hPa\n",
    "# 100: 590 hPa\n",
    "# 90: 399 hPa"
   ]
  },
  {
   "cell_type": "code",
   "execution_count": null,
   "id": "d6537fa2",
   "metadata": {},
   "outputs": [],
   "source": [
    "# Broadcasting to correctly calc 3D pressure field.\n",
    "p_half = a[:, None, None] + b[:, None, None] * sp[None, :, :]\n",
    "p_ml = (p_half[:-1] + p_half[1:]) / 2"
   ]
  },
  {
   "cell_type": "code",
   "execution_count": null,
   "id": "e6cf28c6",
   "metadata": {},
   "outputs": [],
   "source": [
    "da_p = xr.DataArray(\n",
    "    p_ml,\n",
    "    dims=['level', 'latitude', 'longitude'],\n",
    "    coords=dict(\n",
    "        level=e5u.level,\n",
    "        latitude=e5lnsp.latitude,\n",
    "        longitude=e5lnsp.longitude,\n",
    "    ),\n",
    "    attrs=dict(\n",
    "        units='hPa',\n",
    "        standard='air_pressure',\n",
    "    )\n",
    ")"
   ]
  },
  {
   "cell_type": "code",
   "execution_count": null,
   "id": "33c6645b-03ce-4fdd-983c-8968863ba3cd",
   "metadata": {},
   "outputs": [],
   "source": [
    "# Create a pressure xarray.DataArray\n",
    "da_p = xr.DataArray(\n",
    "    p / 100, # convert from Pa to hPa\n",
    "    dims=['level', 'latitude', 'longitude'],\n",
    "    coords=dict(\n",
    "        level=uv.level,\n",
    "        latitude=uv.latitude,\n",
    "        longitude=uv.longitude,\n",
    "    ),\n",
    "    attrs=dict(\n",
    "        units='hPa',\n",
    "        standard='air_pressure',\n",
    "    )\n",
    ")"
   ]
  },
  {
   "cell_type": "code",
   "execution_count": null,
   "id": "e7424ea2",
   "metadata": {},
   "outputs": [],
   "source": [
    "# This is amazingly easy AND amazingly powerful.\n",
    "# Interpolate u onto 4x pressure levels.\n",
    "ds_p = da_p.to_dataset(name='pressure')\n",
    "grid = Grid(ds_p, coords=dict(pressure={'center': 'level'}), periodic=False)\n",
    "u_plev = grid.transform(\n",
    "    e5u,\n",
    "    'pressure',\n",
    "    np.array([1000, 900, 800, 700]),\n",
    "    target_data=ds_p.pressure,\n",
    "    method='linear'\n",
    ")\n",
    "\n",
    "u_plev = u_plev.transpose('time', 'pressure', 'latitude', 'longitude')"
   ]
  },
  {
   "cell_type": "code",
   "execution_count": null,
   "id": "958b1326-c75c-427c-b8b6-c305d9c9a042",
   "metadata": {},
   "outputs": [],
   "source": [
    "da_p.sel(level=[136, 111, 100, 90]).mean(dim=['latitude', 'longitude'])"
   ]
  },
  {
   "cell_type": "code",
   "execution_count": null,
   "id": "bfd6f6cc-86be-421e-a7a3-1f19ca198ccb",
   "metadata": {},
   "outputs": [],
   "source": [
    "da_p.sel(level=[136, 112, 101, 91]).mean(dim=['latitude', 'longitude'])"
   ]
  },
  {
   "cell_type": "code",
   "execution_count": null,
   "id": "bf03037c-b4dd-4b74-91e7-694ce953eafa",
   "metadata": {},
   "outputs": [],
   "source": [
    "print(da_p.sel(level=[136, 112, 101, 91]).max(dim=['latitude', 'longitude']).values)\n",
    "print(da_p.sel(level=[136, 112, 101, 91]).min(dim=['latitude', 'longitude']).values)"
   ]
  },
  {
   "cell_type": "code",
   "execution_count": null,
   "id": "3b707a78-ac0e-4bb6-8a43-fad34ed88e7a",
   "metadata": {},
   "outputs": [],
   "source": []
  },
  {
   "cell_type": "code",
   "execution_count": null,
   "id": "6eac984a",
   "metadata": {},
   "outputs": [],
   "source": [
    "plt.figure()\n",
    "plt.plot(p_ml.mean(axis=(1, 2)), range(1, 138))\n",
    "plt.ylim((137, 0))\n",
    "plt.xlabel('Pressure (hPa)')\n",
    "plt.ylabel('model level')\n",
    "plt.title('ERA5 mean pressure for 2019/6/1 (60S-60N)');"
   ]
  },
  {
   "cell_type": "code",
   "execution_count": null,
   "id": "96ac9410",
   "metadata": {},
   "outputs": [],
   "source": [
    "for pressure in [900, 800]:\n",
    "    idx = np.abs(p_ml.mean(axis=(1, 2)) - pressure).argmin()\n",
    "    print(idx, da_p.isel(level=idx).mean().values.item())\n",
    "    fig, (ax0, ax1) = plt.subplots(2, 1, subplot_kw={'projection': ccrs.PlateCarree()})\n",
    "    fig.set_size_inches(20, 6)\n",
    "    e5u.isel(level=idx).plot(ax=ax0)\n",
    "    u_plev.sel(pressure=pressure).plot(ax=ax1)\n",
    "    ax0.coastlines()\n",
    "    ax1.coastlines()"
   ]
  },
  {
   "cell_type": "code",
   "execution_count": null,
   "id": "a25dcb37-6810-40a1-a4c4-7ea87ff50fc6",
   "metadata": {},
   "outputs": [],
   "source": [
    "for level in [136, 111, 100, 90]:\n",
    "    p_at_level = da_p.sel(level=level)\n",
    "    print(p_at_level.values.mean(), p_at_level.values.max(), p_at_level.values.min(), np.percentile(p_at_level.values, [25, 50, 75]))\n",
    "    plt.figure()\n",
    "    p_at_level.plot()\n"
   ]
  },
  {
   "cell_type": "code",
   "execution_count": null,
   "id": "a63cc3e7-b066-4a60-b881-4bb17fbdb4c6",
   "metadata": {},
   "outputs": [],
   "source": [
    "levels = np.array([1000, 800, 600, 400])\n",
    "\n",
    "ds_p = da_p.to_dataset(name='pressure')\n",
    "grid = Grid(ds_p, coords=dict(pressure={'center': 'level'}), periodic=False)\n",
    "u_plev = grid.transform(\n",
    "    uv.u,\n",
    "    'pressure',\n",
    "    levels,\n",
    "    target_data=ds_p.pressure,\n",
    "    method='linear'\n",
    ")\n",
    "v_plev = grid.transform(\n",
    "    uv.v,\n",
    "    'pressure',\n",
    "    levels,\n",
    "    target_data=ds_p.pressure,\n",
    "    method='linear'\n",
    ")\n",
    "# Set to natural coord order.\n",
    "u_plev = u_plev.transpose('pressure', 'latitude', 'longitude')\n",
    "v_plev = v_plev.transpose('pressure', 'latitude', 'longitude')"
   ]
  },
  {
   "cell_type": "code",
   "execution_count": null,
   "id": "e3c3ae9d-909c-4e07-89f6-e44b8dfb0cda",
   "metadata": {},
   "outputs": [],
   "source": [
    "u_plev"
   ]
  },
  {
   "cell_type": "code",
   "execution_count": null,
   "id": "edacba88-fb78-4278-8700-395fc945402d",
   "metadata": {},
   "outputs": [],
   "source": [
    "uv_plev = xr.combine_by_coords([u_plev, v_plev])"
   ]
  },
  {
   "cell_type": "code",
   "execution_count": null,
   "id": "1c8daf2d-8825-4582-a6fd-b832ac6042aa",
   "metadata": {},
   "outputs": [],
   "source": [
    "uv_plev"
   ]
  },
  {
   "cell_type": "code",
   "execution_count": null,
   "id": "15948878-59c8-451a-a777-536064a4b828",
   "metadata": {},
   "outputs": [],
   "source": [
    "np.isnan(uv_plev.u.values).sum(axis=(1, 2))"
   ]
  },
  {
   "cell_type": "code",
   "execution_count": null,
   "id": "9528ae3e-a5cb-4101-81c1-6eae9c24b9c9",
   "metadata": {},
   "outputs": [],
   "source": [
    "uv_plev.u.shape"
   ]
  },
  {
   "cell_type": "code",
   "execution_count": null,
   "id": "b05783aa-f5f4-4683-b127-71a8c8222c56",
   "metadata": {},
   "outputs": [],
   "source": [
    "481 * 1440"
   ]
  },
  {
   "cell_type": "code",
   "execution_count": null,
   "id": "01f14a6b-ca58-4348-9edf-bca5c3c856d3",
   "metadata": {},
   "outputs": [],
   "source": [
    "lsm = xr.open_dataarray(cu.PATH_ERA5_LAND_SEA_MASK).isel(time=0).sel(latitude=slice(60, -60))"
   ]
  },
  {
   "cell_type": "code",
   "execution_count": null,
   "id": "47ea5cd7-5a29-46e9-95c6-022ad758d556",
   "metadata": {},
   "outputs": [],
   "source": [
    "lsm.plot()"
   ]
  },
  {
   "cell_type": "code",
   "execution_count": null,
   "id": "6db139e4-26c3-4886-87b6-9a41cb668088",
   "metadata": {},
   "outputs": [],
   "source": [
    "p111 = da_p.sel(level=111).values[lsm.values == 0]"
   ]
  },
  {
   "cell_type": "code",
   "execution_count": null,
   "id": "0b3c17ca-1091-46dd-b109-e0b193322452",
   "metadata": {},
   "outputs": [],
   "source": [
    "np.percentile(p111, [1, 10, 25, 50, 75, 90, 99])"
   ]
  },
  {
   "cell_type": "code",
   "execution_count": null,
   "id": "2b43c0db-6e57-45d9-9a72-dc3217eecad2",
   "metadata": {},
   "outputs": [],
   "source": [
    "print('sea')\n",
    "print(' ml      1     10     25     50     75     90     99')\n",
    "for level in [136, 111, 100, 90]:\n",
    "    plev = da_p.sel(level=level).values[lsm.values == 0]\n",
    "    print(f'{str(level):>3}', ' '.join(f'{s:>6}' for s in [f'{v:.1f}' for v in np.percentile(plev, [1, 10, 25, 50, 75, 90, 99])]))"
   ]
  },
  {
   "cell_type": "code",
   "execution_count": null,
   "id": "1a352fe9-4440-4673-9e6c-df8a8f7173a4",
   "metadata": {},
   "outputs": [],
   "source": [
    "print('land')\n",
    "print(' ml      1     10     25     50     75     90     99')\n",
    "for level in [136, 111, 100, 90]:\n",
    "    plev = da_p.sel(level=level).values[lsm.values == 1]\n",
    "    print(f'{str(level):>3}', ' '.join(f'{s:>6}' for s in [f'{v:.1f}' for v in np.percentile(plev, [1, 10, 25, 50, 75, 90, 99])]))"
   ]
  },
  {
   "cell_type": "code",
   "execution_count": null,
   "id": "dd7d9476-959c-4349-947b-6a10e1a28dbd",
   "metadata": {},
   "outputs": [],
   "source": [
    "(600 - 569) / 600 * 100"
   ]
  },
  {
   "cell_type": "code",
   "execution_count": null,
   "id": "fa4b33ef-2187-4abf-b02d-667bfa88153a",
   "metadata": {},
   "outputs": [],
   "source": [
    "lsm.sel(latitude=slice(40, -40), longitude=slice(0, 60)).plot()"
   ]
  },
  {
   "cell_type": "code",
   "execution_count": null,
   "id": "346a508d-7fa1-42a8-af84-0667fff2590f",
   "metadata": {},
   "outputs": [],
   "source": [
    "lsm_r = lsm.roll(shifts=dict(longitude=720))"
   ]
  },
  {
   "cell_type": "code",
   "execution_count": null,
   "id": "0ce804aa-d48d-4231-9888-dc5280f927e5",
   "metadata": {},
   "outputs": [],
   "source": [
    "lsm.longitude.values, lsm_r.longitude.values"
   ]
  },
  {
   "cell_type": "code",
   "execution_count": null,
   "id": "b91f3a4f-3435-4da1-8eb5-f67983b9ea52",
   "metadata": {},
   "outputs": [],
   "source": [
    "lsm_r = lsm.copy()\n",
    "lsm_r.coords['longitude'] = (lsm_r.coords['longitude'] + 180) % 360 - 180\n",
    "lsm_r = lsm_r.sortby(lsm_r.longitude)\n",
    "\n",
    "p_r = da_p.copy()\n",
    "p_r.coords['longitude'] = (p_r.coords['longitude'] + 180) % 360 - 180\n",
    "p_r = p_r.sortby(p_r.longitude)\n"
   ]
  },
  {
   "cell_type": "code",
   "execution_count": null,
   "id": "d38f176b-a2e9-405c-b709-7ca5a706ee2b",
   "metadata": {},
   "outputs": [],
   "source": [
    "lsm_r.plot()"
   ]
  },
  {
   "cell_type": "code",
   "execution_count": null,
   "id": "524e2f7d-6865-4dd3-aa9d-892b4d584def",
   "metadata": {},
   "outputs": [],
   "source": [
    "sel_kwargs = dict(latitude=slice(40, -40), longitude=slice(-20, 52))\n",
    "lsm_r.sel(**sel_kwargs).plot()"
   ]
  },
  {
   "cell_type": "code",
   "execution_count": null,
   "id": "ca4d0412-3fcb-494c-84a7-2a0b1c580954",
   "metadata": {},
   "outputs": [],
   "source": [
    "print('Africa land')\n",
    "print(' ml      1     10     25     50     75     90     99')\n",
    "for level in [136, 111, 100, 90]:\n",
    "    pafr = p_r.sel(level=level, **sel_kwargs)\n",
    "    plev = pafr.values[lsm_r.sel(**sel_kwargs).values == 1]\n",
    "    print(f'{str(level):>3}', ' '.join(f'{s:>6}' for s in [f'{v:.1f}' for v in np.percentile(plev, [1, 10, 25, 50, 75, 90, 99])]))"
   ]
  },
  {
   "cell_type": "code",
   "execution_count": null,
   "id": "a3115d6e-470a-43d3-9249-bb6664fb1bcd",
   "metadata": {},
   "outputs": [],
   "source": [
    "def check_day(date):\n",
    "    data = []\n",
    "    for h in range(24):\n",
    "        lnsp_path = cu.era5_ml_fmtp('lnsp', date.year, date.month, date.day, h)\n",
    "        lnsp = xr.open_dataarray(lnsp_path).isel(time=0).sel(latitude=slice(60, -60))\n",
    "        p = e5calc.calc_pressure(lnsp.values)\n",
    "        da_p = xr.DataArray(\n",
    "            p / 100, # convert from Pa to hPa\n",
    "            dims=['level', 'latitude', 'longitude'],\n",
    "            coords=dict(\n",
    "                level=uv.level,\n",
    "                latitude=uv.latitude,\n",
    "                longitude=uv.longitude,\n",
    "            ),\n",
    "            attrs=dict(\n",
    "                units='hPa',\n",
    "                standard='air_pressure',\n",
    "            )\n",
    "        )\n",
    "        print(date, h)\n",
    "        for level in [136, 111, 100, 90]:\n",
    "            plev = da_p.sel(level=level)\n",
    "            sea_per = np.percentile(plev.values[lsm.values == 0], [1, 10, 25, 50, 75, 90, 99])\n",
    "            land_per = np.percentile(plev.values[lsm.values == 1], [1, 10, 25, 50, 75, 90, 99])\n",
    "            data.append([date + pd.Timedelta(hours=h), 'sea', level] + sea_per.tolist())\n",
    "\n",
    "    return data"
   ]
  },
  {
   "cell_type": "code",
   "execution_count": null,
   "id": "7f04a59b-631e-443c-8d8e-b694de2afd17",
   "metadata": {},
   "outputs": [],
   "source": [
    "import pandas as pd"
   ]
  },
  {
   "cell_type": "code",
   "execution_count": null,
   "id": "5f5415ea-fd6e-4f4c-8e20-f805cab2ad50",
   "metadata": {},
   "outputs": [],
   "source": [
    "days = [pd.Timestamp(2020, m, 1) for m in range(1, 13)]"
   ]
  },
  {
   "cell_type": "code",
   "execution_count": null,
   "id": "ee7fbcfd-a9af-482c-bcbb-b5bd5f70627e",
   "metadata": {},
   "outputs": [],
   "source": [
    "data = []\n",
    "for d in days:\n",
    "    data.extend(check_day(d))\n",
    "df = pd.DataFrame(data)"
   ]
  },
  {
   "cell_type": "code",
   "execution_count": null,
   "id": "c1c58a43-8214-473e-9ab4-a966624749e8",
   "metadata": {},
   "outputs": [],
   "source": [
    "data = _"
   ]
  },
  {
   "cell_type": "code",
   "execution_count": null,
   "id": "fca7b226-33b8-4921-9313-549d373c929c",
   "metadata": {},
   "outputs": [],
   "source": [
    "data"
   ]
  },
  {
   "cell_type": "code",
   "execution_count": null,
   "id": "6ae82111-6cd6-4352-b169-81cbc66eaf34",
   "metadata": {},
   "outputs": [],
   "source": [
    "df = pd.DataFrame(data, columns=['time', 'reg', 'level', 'p1', 'p10', 'p25', 'p50', 'p75', 'p90', 'p99']) "
   ]
  },
  {
   "cell_type": "code",
   "execution_count": null,
   "id": "52d4a1cc-6978-4c87-8121-805aac5c5cb0",
   "metadata": {},
   "outputs": [],
   "source": [
    "df[df.level == 111].p50"
   ]
  },
  {
   "cell_type": "code",
   "execution_count": null,
   "id": "f3fd235e-4203-4ed9-b948-a27f5826a7bc",
   "metadata": {},
   "outputs": [],
   "source": []
  }
 ],
 "metadata": {
  "kernelspec": {
   "display_name": "mcs_prime_env",
   "language": "python",
   "name": "mcs_prime_env"
  },
  "language_info": {
   "codemirror_mode": {
    "name": "ipython",
    "version": 3
   },
   "file_extension": ".py",
   "mimetype": "text/x-python",
   "name": "python",
   "nbconvert_exporter": "python",
   "pygments_lexer": "ipython3",
   "version": "3.10.4"
  }
 },
 "nbformat": 4,
 "nbformat_minor": 5
}
