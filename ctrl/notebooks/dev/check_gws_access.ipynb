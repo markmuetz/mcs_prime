{
 "cells": [
  {
   "cell_type": "code",
   "execution_count": 3,
   "id": "b914a557-f86a-44a2-b1f6-375d9448bd43",
   "metadata": {},
   "outputs": [],
   "source": [
    "import os\n",
    "os.chdir('/gws/nopw/j04/mcs_prime')"
   ]
  },
  {
   "cell_type": "code",
   "execution_count": null,
   "id": "6de24991-d174-4cab-ad1a-cd0189bb11ce",
   "metadata": {},
   "outputs": [],
   "source": []
  }
 ],
 "metadata": {
  "kernelspec": {
   "display_name": "Python 3 + Jaspy",
   "language": "python",
   "name": "jaspy"
  },
  "language_info": {
   "codemirror_mode": {
    "name": "ipython",
    "version": 3
   },
   "file_extension": ".py",
   "mimetype": "text/x-python",
   "name": "python",
   "nbconvert_exporter": "python",
   "pygments_lexer": "ipython3",
   "version": "3.8.12"
  }
 },
 "nbformat": 4,
 "nbformat_minor": 5
}
