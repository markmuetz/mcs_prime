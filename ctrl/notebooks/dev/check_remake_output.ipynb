{
 "cells": [
  {
   "cell_type": "code",
   "execution_count": 7,
   "id": "5dfe7f00-6e7e-4441-82e4-8ea681fdfd61",
   "metadata": {},
   "outputs": [],
   "source": [
    "from collections import defaultdict\n",
    "import pathlib as Path\n",
    "\n",
    "import numpy as np\n",
    "from tabulate import tabulate\n",
    "\n",
    "from remake import load_remake"
   ]
  },
  {
   "cell_type": "code",
   "execution_count": 2,
   "id": "9a04d105-7ea2-41b1-a6b9-5f81edb1fb3d",
   "metadata": {},
   "outputs": [
    {
     "name": "stdout",
     "output_type": "stream",
     "text": [
      "loading pixel inputs cache\n",
      "\n",
      "TODOS\n",
      "* Make sure filenames are consistent\n",
      "* Make sure variables names are sensible/consistent\n",
      "* Docstrings for all fns, classes\n",
      "* Validate all data\n",
      "* Consistent attrs for all created .nc files\n",
      "* Units on data vars etc.\n",
      "\n",
      "loading pixel inputs cache\n",
      "\n",
      "TODOS\n",
      "* Make sure filenames are consistent\n",
      "* Make sure variables names are sensible/consistent\n",
      "* Docstrings for all fns, classes\n",
      "* Validate all data\n",
      "* Consistent attrs for all created .nc files\n",
      "* Units on data vars etc.\n",
      "\n"
     ]
    }
   ],
   "source": [
    "e5p = load_remake('../../remakefiles/era5_process.py')\n",
    "e5h = load_remake('../../remakefiles/era5_histograms.py')\n",
    "mle = load_remake('../../remakefiles/mcs_local_envs.py')\n",
    "plt = load_remake('../../remakefiles/plotting.py')\n",
    "remakes = [e5p, e5h, mle, plt]"
   ]
  },
  {
   "cell_type": "code",
   "execution_count": 52,
   "id": "0bc95fd0-337d-411f-9d2a-a96749def613",
   "metadata": {},
   "outputs": [],
   "source": [
    "def get_name_templates(paths):\n",
    "    path_lengths = defaultdict(list)\n",
    "    for path in paths:\n",
    "        path_lengths[len(str(path))].append(str(path))\n",
    "\n",
    "    for plen, paths_subset in path_lengths.items():\n",
    "        #print(plen, paths_subset[0])\n",
    "        pchars_tpl = list(paths_subset[0])\n",
    "        for path in paths_subset[1:]:\n",
    "            pchars = list(path)\n",
    "            for i in range(len(pchars_tpl)):\n",
    "                c1 = pchars_tpl[i]\n",
    "                c2 = pchars[i]\n",
    "                if c1 != c2:\n",
    "                    pchars_tpl[i] = '?'\n",
    "        print(len(paths_subset), ''.join(pchars_tpl))\n",
    "                    \n",
    "    #return path_lengths\n",
    "        "
   ]
  },
  {
   "cell_type": "code",
   "execution_count": 53,
   "id": "242eb189-4302-4528-862f-5d4ed74ca48b",
   "metadata": {},
   "outputs": [
    {
     "name": "stdout",
     "output_type": "stream",
     "text": [
      "1 /gws/nopw/j04/mcs_prime/mmuetz/data/mcs_prime_output/era5_processed/2018/era5_mean_field_2018_01.nc\n"
     ]
    }
   ],
   "source": [
    "get_name_templates(e5p.rules[6].tasks[0].outputs.values())"
   ]
  },
  {
   "cell_type": "code",
   "execution_count": 46,
   "id": "00b04a75-22e5-455d-b2fc-856ae5d7510a",
   "metadata": {},
   "outputs": [],
   "source": [
    "def print_remake_output(rmk):\n",
    "    for rule in rmk.rules:\n",
    "        print(f'{rmk.name:<20} {rule.__name__:<20}')\n",
    "        output_paths = []\n",
    "        for task in rule.tasks:\n",
    "            output_paths.extend(list(task.outputs.values()))\n",
    "        get_name_templates(output_paths)\n",
    "        print()"
   ]
  },
  {
   "cell_type": "code",
   "execution_count": 54,
   "id": "f7f1d141-3a85-423a-8817-45642bac8056",
   "metadata": {},
   "outputs": [
    {
     "name": "stdout",
     "output_type": "stream",
     "text": [
      "era5_process         GenRegridder        \n",
      "1 /gws/nopw/j04/mcs_prime/mmuetz/data/mcs_prime_output/pixel_to_era5_regridder/bilinear_1200x3600_481x1440_peri.nc\n",
      "\n",
      "era5_process         CalcERA5Shear       \n",
      "10248 /gws/nopw/j04/mcs_prime/mmuetz/data/mcs_prime_output/era5_processed/201?/??/??/ecmwf-era5_oper_an_ml_201???????00.proc_shear.nc\n",
      "\n",
      "era5_process         CalcERA5VIMoistureFluxDiv\n",
      "10248 /gws/nopw/j04/mcs_prime/mmuetz/data/mcs_prime_output/era5_processed/201?/??/??/ecmwf-era5_oper_an_ml_201???????00.proc_vimfd.nc\n",
      "\n",
      "era5_process         CalcERA5LayerMeans  \n",
      "10248 /gws/nopw/j04/mcs_prime/mmuetz/data/mcs_prime_output/era5_processed/201?/??/??/ecmwf-era5_oper_an_ml_201???????00.proc_layer_means.nc\n",
      "\n",
      "era5_process         CalcERA5Delta       \n",
      "10248 /gws/nopw/j04/mcs_prime/mmuetz/data/mcs_prime_output/era5_processed/201?/??/??/ecmwf-era5_oper_an_ml_201???????00.proc_delta.nc\n",
      "\n",
      "era5_process         GenPixelDataOnERA5Grid\n",
      "8760 /gws/nopw/j04/mcs_prime/mmuetz/data/mcs_prime_output/mcs_track_pixel_on_era5_grid/2018/??/??/mcstrack_on_era5_grid_2018??????30.nc\n",
      "\n",
      "era5_process         CalcERA5MeanField   \n",
      "12 /gws/nopw/j04/mcs_prime/mmuetz/data/mcs_prime_output/era5_processed/2018/era5_mean_field_2018_??.nc\n",
      "\n"
     ]
    }
   ],
   "source": [
    "print_remake_output(e5p)"
   ]
  },
  {
   "cell_type": "code",
   "execution_count": 55,
   "id": "68ade6b0-d604-40aa-8e42-295e21787527",
   "metadata": {},
   "outputs": [
    {
     "name": "stdout",
     "output_type": "stream",
     "text": [
      "era5_histograms      ConditionalERA5HistHourly\n",
      "12 /gws/nopw/j04/mcs_prime/mmuetz/data/mcs_prime_output/conditional_era5_histograms/2018/coretb_hourly_hist_2018_??.nc\n",
      "12 /gws/nopw/j04/mcs_prime/mmuetz/data/mcs_prime_output/conditional_era5_histograms/2018/coreprecip_hourly_hist_2018_??.nc\n",
      "\n",
      "era5_histograms      ConditionalERA5HistGridpoint\n",
      "12 /gws/nopw/j04/mcs_prime/mmuetz/data/mcs_prime_output/conditional_era5_histograms/2018/gridpoint_hist_2018_??.nc\n",
      "\n",
      "era5_histograms      ConditionalERA5HistMeanfield\n",
      "12 /gws/nopw/j04/mcs_prime/mmuetz/data/mcs_prime_output/conditional_era5_histograms/2018/meanfield_hist_2018_??.nc\n",
      "\n",
      "era5_histograms      CombineConditionalERA5HistGridpoint\n",
      "1 /gws/nopw/j04/mcs_prime/mmuetz/data/mcs_prime_output/conditional_era5_histograms/2018/gridpoint_hist_2018.nc\n",
      "\n"
     ]
    }
   ],
   "source": [
    "print_remake_output(e5h)"
   ]
  },
  {
   "cell_type": "code",
   "execution_count": 56,
   "id": "3796d4ef-652f-4f69-9d93-5fd065f696cf",
   "metadata": {},
   "outputs": [
    {
     "name": "stdout",
     "output_type": "stream",
     "text": [
      "mcs_local_envs       GenLatLonDistance   \n",
      "1 /gws/nopw/j04/mcs_prime/mmuetz/data/mcs_prime_output/mcs_local_envs/lat_lon_distances.nc\n",
      "\n",
      "mcs_local_envs       CheckLatLonDistance \n",
      "1 /gws/nopw/j04/mcs_prime/mmuetz/data/mcs_prime_figs/mcs_local_envs/check_figs/lat_lon_distances_0_0_200.png\n",
      "1 /gws/nopw/j04/mcs_prime/mmuetz/data/mcs_prime_figs/mcs_local_envs/check_figs/lat_lon_distances_10_20_500.png\n",
      "2 /gws/nopw/j04/mcs_prime/mmuetz/data/mcs_prime_figs/mcs_local_envs/check_figs/lat_lon_distances_?????????00.png\n",
      "\n",
      "mcs_local_envs       McsLocalEnv         \n",
      "365 /gws/nopw/j04/mcs_prime/mmuetz/data/mcs_prime_output/mcs_local_envs/2018/??/mcs_local_env_init_2018_??_??.nc\n",
      "365 /gws/nopw/j04/mcs_prime/mmuetz/data/mcs_prime_output/mcs_local_envs/2018/??/mcs_local_env_lifetime_2018_??_??.nc\n",
      "\n",
      "mcs_local_envs       LifecycleMcsLocalEnvHist\n",
      "12 /gws/nopw/j04/mcs_prime/mmuetz/data/mcs_prime_output/mcs_local_envs/2018/??/lifecycle_mcs_local_env_2018_??.nc\n",
      "\n",
      "mcs_local_envs       CombineMonthlyMcsLocalEnv\n",
      "12 /gws/nopw/j04/mcs_prime/mmuetz/data/mcs_prime_output/mcs_local_envs/2018/monthly_mcs_local_env_init_2018_??.nc\n",
      "12 /gws/nopw/j04/mcs_prime/mmuetz/data/mcs_prime_output/mcs_local_envs/2018/monthly_mcs_local_env_lifetime_2018_??.nc\n",
      "\n"
     ]
    }
   ],
   "source": [
    "print_remake_output(mle)"
   ]
  },
  {
   "cell_type": "code",
   "execution_count": 57,
   "id": "4a5aca60-104d-471b-a0b7-81da8bc2aa14",
   "metadata": {},
   "outputs": [
    {
     "name": "stdout",
     "output_type": "stream",
     "text": [
      "plotting             PlotCombineConditionalERA5Hist\n",
      "2 /gws/nopw/j04/mcs_prime/mmuetz/data/mcs_prime_figs/conditional_era5_histograms/yearly_hist_????_2018_tb.png\n",
      "4 /gws/nopw/j04/mcs_prime/mmuetz/data/mcs_prime_figs/conditional_era5_histograms/yearly_hist_shear_?_2018_tb.png\n",
      "1 /gws/nopw/j04/mcs_prime/mmuetz/data/mcs_prime_figs/conditional_era5_histograms/yearly_hist_vertically_integrated_moisture_flux_div_2018_tb.png\n",
      "2 /gws/nopw/j04/mcs_prime/mmuetz/data/mcs_prime_figs/conditional_era5_histograms/yearly_hist_RH???_2018_tb.png\n",
      "5 /gws/nopw/j04/mcs_prime/mmuetz/data/mcs_prime_figs/conditional_era5_histograms/yearly_hist_?he??_?_???????????.png\n",
      "2 /gws/nopw/j04/mcs_prime/mmuetz/data/mcs_prime_figs/conditional_era5_histograms/yearly_hist_delta_3h_????_2018_tb.png\n",
      "2 /gws/nopw/j04/mcs_prime/mmuetz/data/mcs_prime_figs/conditional_era5_histograms/yearly_hist_????_2018_precip.png\n",
      "1 /gws/nopw/j04/mcs_prime/mmuetz/data/mcs_prime_figs/conditional_era5_histograms/yearly_hist_vertically_integrated_moisture_flux_div_2018_precip.png\n",
      "2 /gws/nopw/j04/mcs_prime/mmuetz/data/mcs_prime_figs/conditional_era5_histograms/yearly_hist_RH???_2018_precip.png\n",
      "1 /gws/nopw/j04/mcs_prime/mmuetz/data/mcs_prime_figs/conditional_era5_histograms/yearly_hist_theta_e_mid_2018_precip.png\n",
      "2 /gws/nopw/j04/mcs_prime/mmuetz/data/mcs_prime_figs/conditional_era5_histograms/yearly_hist_delta_3h_????_2018_precip.png\n",
      "\n",
      "plotting             PlotCombineVarConditionalERA5Hist\n",
      "1 /gws/nopw/j04/mcs_prime/mmuetz/data/mcs_prime_figs/conditional_era5_histograms/combined_yearly_hist_cape-tcwv-vertically_integrated_moisture_flux_div_2018_tb.png\n",
      "3 /gws/nopw/j04/mcs_prime/mmuetz/data/mcs_prime_figs/conditional_era5_histograms/combined_yearly_hist_??????????????????e????_2018_tb.png\n",
      "\n",
      "plotting             PlotCombineConvectionConditionalERA5Hist\n",
      "2 /gws/nopw/j04/mcs_prime/mmuetz/data/mcs_prime_figs/conditional_era5_histograms/convection_yearly_hist_????_2018_tb.png\n",
      "4 /gws/nopw/j04/mcs_prime/mmuetz/data/mcs_prime_figs/conditional_era5_histograms/convection_yearly_hist_shear_?_2018_tb.png\n",
      "1 /gws/nopw/j04/mcs_prime/mmuetz/data/mcs_prime_figs/conditional_era5_histograms/convection_yearly_hist_vertically_integrated_moisture_flux_div_2018_tb.png\n",
      "2 /gws/nopw/j04/mcs_prime/mmuetz/data/mcs_prime_figs/conditional_era5_histograms/convection_yearly_hist_RH???_2018_tb.png\n",
      "5 /gws/nopw/j04/mcs_prime/mmuetz/data/mcs_prime_figs/conditional_era5_histograms/convection_yearly_hist_?he??_?_???????????.png\n",
      "2 /gws/nopw/j04/mcs_prime/mmuetz/data/mcs_prime_figs/conditional_era5_histograms/convection_yearly_hist_delta_3h_????_2018_tb.png\n",
      "2 /gws/nopw/j04/mcs_prime/mmuetz/data/mcs_prime_figs/conditional_era5_histograms/convection_yearly_hist_????_2018_precip.png\n",
      "1 /gws/nopw/j04/mcs_prime/mmuetz/data/mcs_prime_figs/conditional_era5_histograms/convection_yearly_hist_vertically_integrated_moisture_flux_div_2018_precip.png\n",
      "2 /gws/nopw/j04/mcs_prime/mmuetz/data/mcs_prime_figs/conditional_era5_histograms/convection_yearly_hist_RH???_2018_precip.png\n",
      "1 /gws/nopw/j04/mcs_prime/mmuetz/data/mcs_prime_figs/conditional_era5_histograms/convection_yearly_hist_theta_e_mid_2018_precip.png\n",
      "2 /gws/nopw/j04/mcs_prime/mmuetz/data/mcs_prime_figs/conditional_era5_histograms/convection_yearly_hist_delta_3h_????_2018_precip.png\n",
      "\n",
      "plotting             PlotGridpointConditionalERA5Hist\n",
      "2 /gws/nopw/j04/mcs_prime/mmuetz/data/mcs_prime_figs/conditional_era5_histograms/gridpoint_conv_yearly_hist_????_2018.png\n",
      "4 /gws/nopw/j04/mcs_prime/mmuetz/data/mcs_prime_figs/conditional_era5_histograms/gridpoint_conv_??????????????????????????_2018.png\n",
      "6 /gws/nopw/j04/mcs_prime/mmuetz/data/mcs_prime_figs/conditional_era5_histograms/gridpoint_conv_??????????????????????s??????_2018.png\n",
      "4 /gws/nopw/j04/mcs_prime/mmuetz/data/mcs_prime_figs/conditional_era5_histograms/gridpoint_conv_????????????????????_????_2018.png\n",
      "4 /gws/nopw/j04/mcs_prime/mmuetz/data/mcs_prime_figs/conditional_era5_histograms/gridpoint_conv_yearly_hist_shear_?_2018.png\n",
      "5 /gws/nopw/j04/mcs_prime/mmuetz/data/mcs_prime_figs/conditional_era5_histograms/gridpoint_conv_???????????????????????????e????_2018.png\n",
      "4 /gws/nopw/j04/mcs_prime/mmuetz/data/mcs_prime_figs/conditional_era5_histograms/gridpoint_conv_lat_band_yearly_hist_shear_?_2018.png\n",
      "1 /gws/nopw/j04/mcs_prime/mmuetz/data/mcs_prime_figs/conditional_era5_histograms/gridpoint_conv_yearly_hist_vertically_integrated_moisture_flux_div_2018.png\n",
      "1 /gws/nopw/j04/mcs_prime/mmuetz/data/mcs_prime_figs/conditional_era5_histograms/gridpoint_conv_prob_dist_yearly_hist_vertically_integrated_moisture_flux_div_2018.png\n",
      "1 /gws/nopw/j04/mcs_prime/mmuetz/data/mcs_prime_figs/conditional_era5_histograms/gridpoint_conv_2d_prob_dist_yearly_hist_vertically_integrated_moisture_flux_div_2018.png\n",
      "1 /gws/nopw/j04/mcs_prime/mmuetz/data/mcs_prime_figs/conditional_era5_histograms/gridpoint_conv_lat_band_yearly_hist_vertically_integrated_moisture_flux_div_2018.png\n",
      "2 /gws/nopw/j04/mcs_prime/mmuetz/data/mcs_prime_figs/conditional_era5_histograms/gridpoint_conv_yearly_hist_RH???_2018.png\n",
      "2 /gws/nopw/j04/mcs_prime/mmuetz/data/mcs_prime_figs/conditional_era5_histograms/gridpoint_conv_prob_dist_yearly_hist_RH???_2018.png\n",
      "2 /gws/nopw/j04/mcs_prime/mmuetz/data/mcs_prime_figs/conditional_era5_histograms/gridpoint_conv_2d_prob_dist_yearly_hist_RH???_2018.png\n",
      "1 /gws/nopw/j04/mcs_prime/mmuetz/data/mcs_prime_figs/conditional_era5_histograms/gridpoint_conv_yearly_hist_theta_e_mid_2018.png\n",
      "1 /gws/nopw/j04/mcs_prime/mmuetz/data/mcs_prime_figs/conditional_era5_histograms/gridpoint_conv_prob_dist_yearly_hist_theta_e_mid_2018.png\n",
      "1 /gws/nopw/j04/mcs_prime/mmuetz/data/mcs_prime_figs/conditional_era5_histograms/gridpoint_conv_2d_prob_dist_yearly_hist_theta_e_mid_2018.png\n",
      "2 /gws/nopw/j04/mcs_prime/mmuetz/data/mcs_prime_figs/conditional_era5_histograms/gridpoint_conv_prob_dist_yearly_hist_delta_3h_????_2018.png\n",
      "2 /gws/nopw/j04/mcs_prime/mmuetz/data/mcs_prime_figs/conditional_era5_histograms/gridpoint_conv_2d_prob_dist_yearly_hist_delta_3h_????_2018.png\n",
      "2 /gws/nopw/j04/mcs_prime/mmuetz/data/mcs_prime_figs/conditional_era5_histograms/gridpoint_conv_lat_band_yearly_hist_delta_3h_????_2018.png\n",
      "\n",
      "plotting             PlotGridpointGlobal \n",
      "2 /gws/nopw/j04/mcs_prime/mmuetz/data/mcs_prime_figs/conditional_era5_histograms/gridpoint_global_yearly_hist_????_2018.png\n",
      "4 /gws/nopw/j04/mcs_prime/mmuetz/data/mcs_prime_figs/conditional_era5_histograms/gridpoint_global_yearly_hist_shear_?_2018.png\n",
      "1 /gws/nopw/j04/mcs_prime/mmuetz/data/mcs_prime_figs/conditional_era5_histograms/gridpoint_global_yearly_hist_vertically_integrated_moisture_flux_div_2018.png\n",
      "2 /gws/nopw/j04/mcs_prime/mmuetz/data/mcs_prime_figs/conditional_era5_histograms/gridpoint_global_yearly_hist_RH???_2018.png\n",
      "1 /gws/nopw/j04/mcs_prime/mmuetz/data/mcs_prime_figs/conditional_era5_histograms/gridpoint_global_yearly_hist_theta_e_mid_2018.png\n",
      "2 /gws/nopw/j04/mcs_prime/mmuetz/data/mcs_prime_figs/conditional_era5_histograms/gridpoint_global_yearly_hist_delta_3h_????_2018.png\n",
      "\n",
      "plotting             PlotMcsLocalEnv     \n",
      "8 /gws/nopw/j04/mcs_prime/mmuetz/data/mcs_prime_figs/mcs_local_envs/mcs_local_env_r??????m??????_????_init_2018.png\n",
      "10 /gws/nopw/j04/mcs_prime/mmuetz/data/mcs_prime_figs/mcs_local_envs/mcs_local_env_r?????????????????????????_2018.png\n",
      "26 /gws/nopw/j04/mcs_prime/mmuetz/data/mcs_prime_figs/mcs_local_envs/mcs_local_env_r??????????????????????????_2018.png\n",
      "2 /gws/nopw/j04/mcs_prime/mmuetz/data/mcs_prime_figs/mcs_local_envs/mcs_local_env_r1km_monthly_????_init_2018.png\n",
      "14 /gws/nopw/j04/mcs_prime/mmuetz/data/mcs_prime_figs/mcs_local_envs/mcs_local_env_r???????????????????_init_2018.png\n",
      "27 /gws/nopw/j04/mcs_prime/mmuetz/data/mcs_prime_figs/mcs_local_envs/mcs_local_env_r????????????????????????????_2018.png\n",
      "12 /gws/nopw/j04/mcs_prime/mmuetz/data/mcs_prime_figs/mcs_local_envs/mcs_local_env_r?00??????????????????????????_2018.png\n",
      "14 /gws/nopw/j04/mcs_prime/mmuetz/data/mcs_prime_figs/mcs_local_envs/mcs_local_env_r???????????????????????????_2018.png\n",
      "4 /gws/nopw/j04/mcs_prime/mmuetz/data/mcs_prime_figs/mcs_local_envs/mcs_local_env_r??????m??????_vertically_integrated_moisture_flux_div_init_2018.png\n",
      "4 /gws/nopw/j04/mcs_prime/mmuetz/data/mcs_prime_figs/mcs_local_envs/mcs_local_env_r????m??????????????????????????????????????????????_?i??????_2018.png\n",
      "1 /gws/nopw/j04/mcs_prime/mmuetz/data/mcs_prime_figs/mcs_local_envs/mcs_local_env_r1000km_time_mean_vertically_integrated_moisture_flux_div_init_2018.png\n",
      "1 /gws/nopw/j04/mcs_prime/mmuetz/data/mcs_prime_figs/mcs_local_envs/mcs_local_env_r1km_monthly_vertically_integrated_moisture_flux_div_init_2018.png\n",
      "1 /gws/nopw/j04/mcs_prime/mmuetz/data/mcs_prime_figs/mcs_local_envs/mcs_local_env_r1000km_monthly_vertically_integrated_moisture_flux_div_init_2018.png\n",
      "2 /gws/nopw/j04/mcs_prime/mmuetz/data/mcs_prime_figs/mcs_local_envs/mcs_local_env_r1km_monthly_RH???_init_2018.png\n",
      "30 /gws/nopw/j04/mcs_prime/mmuetz/data/mcs_prime_figs/mcs_local_envs/mcs_local_env_r??????????????????????????????_2018.png\n",
      "24 /gws/nopw/j04/mcs_prime/mmuetz/data/mcs_prime_figs/mcs_local_envs/mcs_local_env_r????????????????????????????????_2018.png\n",
      "7 /gws/nopw/j04/mcs_prime/mmuetz/data/mcs_prime_figs/mcs_local_envs/mcs_local_env_r1000km_??????????????????????????_2018.png\n",
      "7 /gws/nopw/j04/mcs_prime/mmuetz/data/mcs_prime_figs/mcs_local_envs/mcs_local_env_r1000km_???????????????_?i??????_2018.png\n",
      "12 /gws/nopw/j04/mcs_prime/mmuetz/data/mcs_prime_figs/mcs_local_envs/mcs_local_env_r??????????????????????????????????_2018.png\n",
      "3 /gws/nopw/j04/mcs_prime/mmuetz/data/mcs_prime_figs/mcs_local_envs/mcs_local_env_r1000km_???????????????_????????????_2018.png\n",
      "4 /gws/nopw/j04/mcs_prime/mmuetz/data/mcs_prime_figs/mcs_local_envs/mcs_local_env_r??????m??????_vertically_integrated_moisture_flux_div_lifetime_2018.png\n",
      "3 /gws/nopw/j04/mcs_prime/mmuetz/data/mcs_prime_figs/mcs_local_envs/mcs_local_env_r?00km_time_mean_vertically_integrated_moisture_flux_div_lifetime_2018.png\n",
      "1 /gws/nopw/j04/mcs_prime/mmuetz/data/mcs_prime_figs/mcs_local_envs/mcs_local_env_r1000km_time_mean_vertically_integrated_moisture_flux_div_lifetime_2018.png\n",
      "1 /gws/nopw/j04/mcs_prime/mmuetz/data/mcs_prime_figs/mcs_local_envs/mcs_local_env_r1000km_monthly_vertically_integrated_moisture_flux_div_lifetime_2018.png\n",
      "11 /gws/nopw/j04/mcs_prime/mmuetz/data/mcs_prime_figs/mcs_local_envs/mcs_local_env_r???????????????????????????_lifetime_2018.png\n",
      "3 /gws/nopw/j04/mcs_prime/mmuetz/data/mcs_prime_figs/mcs_local_envs/mcs_local_env_r1000km_?????????????????????_lifetime_2018.png\n",
      "6 /gws/nopw/j04/mcs_prime/mmuetz/data/mcs_prime_figs/mcs_local_envs/mcs_local_env_r?00km_time_mean_delta_3h_????_lifetime_2018.png\n",
      "2 /gws/nopw/j04/mcs_prime/mmuetz/data/mcs_prime_figs/mcs_local_envs/mcs_local_env_r1000km_time_mean_delta_3h_????_lifetime_2018.png\n",
      "\n",
      "plotting             PlotCombinedMcsLocalEnv\n",
      "1 /gws/nopw/j04/mcs_prime/mmuetz/data/mcs_prime_figs/mcs_local_envs/combined_mcs_local_env_r500km_cape-tcwv-shear_0-vertically_integrated_moisture_flux_div_init_2018.png\n",
      "\n",
      "plotting             PlotMcsLocalEnvPrecursorMeanValue\n",
      "6 /gws/nopw/j04/mcs_prime/mmuetz/data/mcs_prime_figs/mcs_local_envs/mcs_local_env_precursor_mean_????_2018_??.png\n",
      "12 /gws/nopw/j04/mcs_prime/mmuetz/data/mcs_prime_figs/mcs_local_envs/mcs_local_env_precursor_mean_shear_?_2018_??.png\n",
      "3 /gws/nopw/j04/mcs_prime/mmuetz/data/mcs_prime_figs/mcs_local_envs/mcs_local_env_precursor_mean_vertically_integrated_moisture_flux_div_2018_??.png\n",
      "8 /gws/nopw/j04/mcs_prime/mmuetz/data/mcs_prime_figs/mcs_local_envs/mcs_local_env_precursor_mean_?????????????.png\n",
      "3 /gws/nopw/j04/mcs_prime/mmuetz/data/mcs_prime_figs/mcs_local_envs/mcs_local_env_precursor_mean_theta_e_mid_2018_??.png\n",
      "6 /gws/nopw/j04/mcs_prime/mmuetz/data/mcs_prime_figs/mcs_local_envs/mcs_local_env_precursor_mean_delta_3h_????_2018_??.png\n",
      "4 /gws/nopw/j04/mcs_prime/mmuetz/data/mcs_prime_figs/mcs_local_envs/mcs_local_env_precursor_mean_shear_?_2018_424.png\n",
      "1 /gws/nopw/j04/mcs_prime/mmuetz/data/mcs_prime_figs/mcs_local_envs/mcs_local_env_precursor_mean_vertically_integrated_moisture_flux_div_2018_424.png\n",
      "2 /gws/nopw/j04/mcs_prime/mmuetz/data/mcs_prime_figs/mcs_local_envs/mcs_local_env_precursor_mean_RH???_2018_424.png\n",
      "1 /gws/nopw/j04/mcs_prime/mmuetz/data/mcs_prime_figs/mcs_local_envs/mcs_local_env_precursor_mean_theta_e_mid_2018_424.png\n",
      "2 /gws/nopw/j04/mcs_prime/mmuetz/data/mcs_prime_figs/mcs_local_envs/mcs_local_env_precursor_mean_delta_3h_????_2018_424.png\n",
      "\n",
      "plotting             PlotCombinedMcsLocalEnvPrecursorMeanValue\n",
      "1 /gws/nopw/j04/mcs_prime/mmuetz/data/mcs_prime_figs/mcs_local_envs/mcs_local_env_precursor_mean_cape-tcwv-shear_0-vertically_integrated_moisture_flux_div_2018.png\n",
      "\n"
     ]
    }
   ],
   "source": [
    "print_remake_output(plt)"
   ]
  },
  {
   "cell_type": "code",
   "execution_count": null,
   "id": "0fb48060-2d35-4eaa-8653-9be146079950",
   "metadata": {},
   "outputs": [],
   "source": []
  }
 ],
 "metadata": {
  "kernelspec": {
   "display_name": "mcs_prime_env",
   "language": "python",
   "name": "mcs_prime_env"
  },
  "language_info": {
   "codemirror_mode": {
    "name": "ipython",
    "version": 3
   },
   "file_extension": ".py",
   "mimetype": "text/x-python",
   "name": "python",
   "nbconvert_exporter": "python",
   "pygments_lexer": "ipython3",
   "version": "3.10.4"
  }
 },
 "nbformat": 4,
 "nbformat_minor": 5
}
