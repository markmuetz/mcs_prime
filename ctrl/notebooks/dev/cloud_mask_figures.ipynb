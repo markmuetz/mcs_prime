{
 "cells": [
  {
   "cell_type": "code",
   "execution_count": 1,
   "id": "ba414615-2401-4d71-b809-5756b4fc8153",
   "metadata": {},
   "outputs": [],
   "source": [
    "from remake.util import load_module"
   ]
  },
  {
   "cell_type": "code",
   "execution_count": 3,
   "id": "377c2ad6-f99d-49b0-a9e8-504c471a85e9",
   "metadata": {},
   "outputs": [],
   "source": [
    "import datetime as dt\n",
    "from itertools import product\n",
    "from pathlib import Path\n",
    "\n",
    "import cartopy.crs as ccrs\n",
    "from cartopy.util import add_cyclic_point\n",
    "import dask\n",
    "import matplotlib.pyplot as plt\n",
    "from matplotlib.colors import LogNorm\n",
    "import numpy as np\n",
    "import pandas as pd\n",
    "import xarray as xr\n",
    "\n",
    "from mcs_prime import McsTracks\n",
    "from mcs_prime.mcs_prime_config import PATHS\n",
    "from mcs_prime import plotting as mplt\n",
    "\n",
    "from remake import load_remake"
   ]
  },
  {
   "cell_type": "code",
   "execution_count": 4,
   "id": "a314b506-535d-4020-bf9f-04f551e5b4aa",
   "metadata": {},
   "outputs": [],
   "source": [
    "era5_hists = load_remake('../../remakefiles/era5_histograms.py')"
   ]
  },
  {
   "cell_type": "code",
   "execution_count": 2,
   "id": "be0b29c1-4214-4a64-97b7-739e4e35be11",
   "metadata": {},
   "outputs": [],
   "source": [
    "e5h_m = load_module('../../remakefiles/era5_histograms.py')"
   ]
  },
  {
   "cell_type": "code",
   "execution_count": 6,
   "id": "8af1caa9-2251-44aa-a9f0-60f055e6812a",
   "metadata": {},
   "outputs": [],
   "source": [
    "t = era5_hists.ConditionalERA5HistHourly.tasks[0]"
   ]
  },
  {
   "cell_type": "code",
   "execution_count": 10,
   "id": "1c728483-57d3-4de7-bcfd-c9f88cde46e1",
   "metadata": {},
   "outputs": [
    {
     "data": {
      "text/plain": [
       "<function era5_histograms.gen_region_masks(logger, e5pixel, tracks)>"
      ]
     },
     "execution_count": 10,
     "metadata": {},
     "output_type": "execute_result"
    }
   ],
   "source": [
    "grm = t.depends_on[-1]\n",
    "grm"
   ]
  },
  {
   "cell_type": "code",
   "execution_count": 12,
   "id": "97613d55-54c9-4d05-8df7-aa28d879384c",
   "metadata": {},
   "outputs": [],
   "source": [
    "clmd = t.depends_on[0]"
   ]
  },
  {
   "cell_type": "code",
   "execution_count": 13,
   "id": "fa127b5f-4764-417b-accf-4645961363c3",
   "metadata": {},
   "outputs": [
    {
     "data": {
      "text/plain": [
       "[<function era5_histograms.conditional_load_mcs_data(logger, year, month, inputs)>,\n",
       " <function era5_histograms.conditional_load_data(logger, year, month, inputs)>,\n",
       " <function era5_histograms.load_lsmask(path)>,\n",
       " <function era5_histograms.build_hourly_output_dataset(e5pixel)>,\n",
       " <function era5_histograms.gen_region_masks(logger, e5pixel, tracks)>]"
      ]
     },
     "execution_count": 13,
     "metadata": {},
     "output_type": "execute_result"
    }
   ],
   "source": [
    "clmd = t.depends_on"
   ]
  },
  {
   "cell_type": "code",
   "execution_count": null,
   "id": "cab2db7b-fc6a-40b7-abb7-2b8da87906a9",
   "metadata": {},
   "outputs": [],
   "source": []
  }
 ],
 "metadata": {
  "kernelspec": {
   "display_name": "mcs_prime_env",
   "language": "python",
   "name": "mcs_prime_env"
  },
  "language_info": {
   "codemirror_mode": {
    "name": "ipython",
    "version": 3
   },
   "file_extension": ".py",
   "mimetype": "text/x-python",
   "name": "python",
   "nbconvert_exporter": "python",
   "pygments_lexer": "ipython3",
   "version": "3.10.4"
  }
 },
 "nbformat": 4,
 "nbformat_minor": 5
}
