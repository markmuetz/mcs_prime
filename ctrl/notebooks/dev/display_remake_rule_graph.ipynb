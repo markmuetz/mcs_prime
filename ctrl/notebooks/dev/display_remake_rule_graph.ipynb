{
 "cells": [
  {
   "cell_type": "code",
   "execution_count": 1,
   "id": "eb6b6ebe-5e91-43c7-bfcf-22d63b9c8288",
   "metadata": {},
   "outputs": [],
   "source": [
    "from remake import load_remake\n",
    "from remake.experimental.display_remake_rule_graph import display_remake_rule_graph"
   ]
  },
  {
   "cell_type": "code",
   "execution_count": 2,
   "id": "3d8a117a-cd65-482a-a31a-f21301d33747",
   "metadata": {
    "scrolled": true
   },
   "outputs": [
    {
     "name": "stdout",
     "output_type": "stream",
     "text": [
      "\n",
      "TODOS\n",
      "* Make sure filenames are consistent\n",
      "* Make sure variables names are sensible/consistent\n",
      "* Docstrings for all fns, classes\n",
      "* Validate all data\n",
      "* Consistent attrs for all created .nc files\n",
      "* Units on data vars etc.\n",
      "\n",
      "loading pixel inputs cache\n",
      "\n",
      "TODOS\n",
      "* Make sure filenames are consistent\n",
      "* Make sure variables names are sensible/consistent\n",
      "* Docstrings for all fns, classes\n",
      "* Validate all data\n",
      "* Consistent attrs for all created .nc files\n",
      "* Units on data vars etc.\n",
      "\n",
      "loading pixel inputs cache\n",
      "\n",
      "TODOS\n",
      "* Make sure filenames are consistent\n",
      "* Make sure variables names are sensible/consistent\n",
      "* Docstrings for all fns, classes\n",
      "* Validate all data\n",
      "* Consistent attrs for all created .nc files\n",
      "* Units on data vars etc.\n",
      "\n"
     ]
    }
   ],
   "source": [
    "e5p = load_remake('../../remakefiles/era5_process.py')\n",
    "e5h = load_remake('../../remakefiles/era5_histograms.py')\n",
    "mle = load_remake('../../remakefiles/mcs_local_envs.py')\n",
    "plt = load_remake('../../remakefiles/plotting.py')\n",
    "remakes = [e5p, e5h, mle, plt]"
   ]
  },
  {
   "cell_type": "code",
   "execution_count": 3,
   "id": "e4e2dac9-3a7c-4a05-ae33-1de333c0072e",
   "metadata": {},
   "outputs": [
    {
     "name": "stdout",
     "output_type": "stream",
     "text": [
      "Local cdn resources have problems on chrome/safari when used in jupyter-notebook. \n"
     ]
    },
    {
     "data": {
      "text/html": [
       "\n",
       "        <iframe\n",
       "            width=\"100%\"\n",
       "            height=\"600px\"\n",
       "            src=\"ex.html\"\n",
       "            frameborder=\"0\"\n",
       "            allowfullscreen\n",
       "            \n",
       "        ></iframe>\n",
       "        "
      ],
      "text/plain": [
       "<IPython.lib.display.IFrame at 0x7f2e5d6cfac0>"
      ]
     },
     "execution_count": 3,
     "metadata": {},
     "output_type": "execute_result"
    }
   ],
   "source": [
    "display_remake_rule_graph(remakes)"
   ]
  },
  {
   "cell_type": "code",
   "execution_count": 4,
   "id": "e891e420-9bb8-43a1-b3bb-df17f71262d3",
   "metadata": {},
   "outputs": [
    {
     "ename": "RuntimeError",
     "evalue": "No active exception to reraise",
     "output_type": "error",
     "traceback": [
      "\u001b[0;31m---------------------------------------------------------------------------\u001b[0m",
      "\u001b[0;31mRuntimeError\u001b[0m                              Traceback (most recent call last)",
      "Input \u001b[0;32mIn [4]\u001b[0m, in \u001b[0;36m<cell line: 1>\u001b[0;34m()\u001b[0m\n\u001b[0;32m----> 1\u001b[0m \u001b[38;5;28;01mraise\u001b[39;00m\n",
      "\u001b[0;31mRuntimeError\u001b[0m: No active exception to reraise"
     ]
    }
   ],
   "source": [
    "raise"
   ]
  },
  {
   "cell_type": "markdown",
   "id": "8ca94662-5188-4cb7-a3f7-952761dbc9b8",
   "metadata": {},
   "source": [
    "All learning has gone into function remake.experimental.display_remake_rule_graph."
   ]
  },
  {
   "cell_type": "code",
   "execution_count": null,
   "id": "456aded0-aafa-4d90-8a49-b26a129ea65b",
   "metadata": {},
   "outputs": [],
   "source": [
    "def display_rule_dependency_graph(remakes):\n",
    "    input_paths = defaultdict(set)\n",
    "    output_paths = {}\n",
    "    for remake in remakes:\n",
    "        for rule in remake.rules:\n",
    "            for task in rule.tasks:\n",
    "                for p in task.inputs.values():\n",
    "                    input_paths[p].add((remake, task.__class__))\n",
    "                for p in task.outputs.values():\n",
    "                    output_paths[p] = (remake, task.__class__)\n",
    "    g = nx.DiGraph()\n",
    "    all_edges = set()\n",
    "    \n",
    "    for op, (remake1, rule1) in output_paths.items():\n",
    "        if op in input_paths:\n",
    "            rules = input_paths[op]\n",
    "            for (remake2, rule2) in rules:\n",
    "                if (rule1.__name__, rule2.__name__) not in all_edges:\n",
    "                    all_edges.add((rule1.__name__, rule2.__name__))\n",
    "                    g.add_node(rule1.__name__, group=remake1.name)\n",
    "                    g.add_node(rule2.__name__, group=remake2.name)\n",
    "                    g.add_edge(rule1.__name__, rule2.__name__)\n",
    "    net = Network(\n",
    "        directed=True,\n",
    "        notebook=True,\n",
    "        select_menu=True, # Show part 1 in the plot (optional)\n",
    "        filter_menu=True, # Show part 2 in the plot (optional)\n",
    "    )\n",
    "    net.show_buttons() # Show part 3 in the plot (optional)\n",
    "    net.from_nx(g) # Create directly from nx graph\n",
    "    return net.show('ex.html')"
   ]
  },
  {
   "cell_type": "code",
   "execution_count": null,
   "id": "5bab4d0c-c891-4fcf-a22d-6d2384a7b0b2",
   "metadata": {},
   "outputs": [],
   "source": [
    "display_rule_dependency_graph(remakes)"
   ]
  },
  {
   "cell_type": "code",
   "execution_count": null,
   "id": "3692961b-c669-4c04-b2dc-009aec325ff6",
   "metadata": {},
   "outputs": [],
   "source": []
  },
  {
   "cell_type": "code",
   "execution_count": null,
   "id": "6f56e172-88f1-4130-9f7a-257eed3728f5",
   "metadata": {},
   "outputs": [],
   "source": []
  },
  {
   "cell_type": "code",
   "execution_count": null,
   "id": "e7f70c7b-0d12-4bae-9bcf-3f486cb2712a",
   "metadata": {},
   "outputs": [],
   "source": [
    "def check_rel(r1, r2):\n",
    "    r1_outputs = set()\n",
    "    for t in r1.tasks:\n",
    "        r1_outputs.update(t.outputs.values())\n",
    "    r2_inputs = set()\n",
    "    for t in r2.tasks:\n",
    "        r2_inputs.update(t.inputs.values())\n",
    "\n",
    "    print(r1.__name__, r2.__name__, bool(r1_outputs & r2_inputs))\n",
    "    \n",
    "check_rel(e5p.GenRegridder, e5p.GenPixelDataOnERA5Grid)\n",
    "check_rel(e5p.CalcERA5Delta, e5p.GenPixelDataOnERA5Grid)\n",
    "check_rel(e5p.CalcERA5Delta, e5h.ConditionalERA5HistHourly)\n",
    "check_rel(e5p.CalcERA5Delta, e5h.ConditionalERA5HistHourlyMCSLifecycle)\n"
   ]
  },
  {
   "cell_type": "code",
   "execution_count": null,
   "id": "f3916a37-6fcc-40d0-b53e-767a6aa1629f",
   "metadata": {},
   "outputs": [],
   "source": [
    "input_paths = defaultdict(set)\n",
    "output_paths = {}\n",
    "for remake in remakes:\n",
    "    for rule in remake.rules:\n",
    "        for task in rule.tasks:\n",
    "            for p in task.inputs.values():\n",
    "                input_paths[p].add(task.__class__)\n",
    "            for p in task.outputs.values():\n",
    "                output_paths[p] = task.__class__\n"
   ]
  },
  {
   "cell_type": "code",
   "execution_count": null,
   "id": "cbe25927-e3fa-4665-ab06-f468c895f4ae",
   "metadata": {},
   "outputs": [],
   "source": [
    "def check_rel2(r1, r2):\n",
    "    r1_outputs = {p:r for p, r in output_paths.items() if r == r1}\n",
    "    r2_inputs = {p:r for p, r in input_paths.items() if r == r2}\n",
    "    print(r1.__name__, r2.__name__, bool(set(r1_outputs.keys()) & set(r2_inputs.keys())))\n",
    "    \n",
    "check_rel2(e5p.GenRegridder, e5p.GenPixelDataOnERA5Grid)\n",
    "check_rel2(e5p.CalcERA5Delta, e5p.GenPixelDataOnERA5Grid)\n",
    "check_rel2(e5p.CalcERA5Delta, e5h.ConditionalERA5HistHourly)\n",
    "check_rel2(e5p.CalcERA5Delta, e5h.ConditionalERA5HistHourlyMCSLifecycle)"
   ]
  },
  {
   "cell_type": "code",
   "execution_count": null,
   "id": "3c8f8e66-e1ed-4938-a8db-82e5bb62ed9b",
   "metadata": {},
   "outputs": [],
   "source": [
    "# {p:r for p, r in output_paths.items() if r == e5p.CalcERA5Delta}\n",
    "# {p:r for p, r in input_paths.items() if r == e5h.ConditionalERA5HistHourlyMCSLifecycle}\n",
    "# e5h.ConditionalERA5HistHourlyMCSLifecycle.tasks[0].inputs.values()"
   ]
  },
  {
   "cell_type": "code",
   "execution_count": null,
   "id": "282e7fcc-d0b8-4e43-a69a-d784e8dabb84",
   "metadata": {},
   "outputs": [],
   "source": [
    "set(output_paths.values())"
   ]
  },
  {
   "cell_type": "code",
   "execution_count": null,
   "id": "1b4b2b3c-a9b3-4302-957e-55152f6203cd",
   "metadata": {},
   "outputs": [],
   "source": [
    "g = nx.DiGraph()\n",
    "all_edges = set()\n",
    "\n",
    "for op, rule1 in output_paths.items():\n",
    "    if op in input_paths:\n",
    "        rules = input_paths[op]\n",
    "        for rule2 in rules:\n",
    "            if (rule1.__name__, rule2.__name__) not in all_edges:\n",
    "                all_edges.add((rule1.__name__, rule2.__name__))\n",
    "                g.add_edge(rule1.__name__, rule2.__name__)"
   ]
  },
  {
   "cell_type": "code",
   "execution_count": null,
   "id": "0d30e540-d89e-4b00-8f4e-f038080743af",
   "metadata": {},
   "outputs": [],
   "source": [
    "all_edges"
   ]
  },
  {
   "cell_type": "code",
   "execution_count": null,
   "id": "9aeebd22-0a7d-4e70-91ef-72a83007c734",
   "metadata": {},
   "outputs": [],
   "source": [
    "net = Network(\n",
    "    directed=True,\n",
    "    notebook=True,\n",
    "    select_menu=True, # Show part 1 in the plot (optional)\n",
    "    filter_menu=True, # Show part 2 in the plot (optional)\n",
    ")\n",
    "net.show_buttons() # Show part 3 in the plot (optional)\n",
    "net.from_nx(g) # Create directly from nx graph\n",
    "net.show('ex.html')"
   ]
  },
  {
   "cell_type": "code",
   "execution_count": null,
   "id": "62902b0c-9391-4f70-a8ca-14657c837fc7",
   "metadata": {},
   "outputs": [],
   "source": []
  }
 ],
 "metadata": {
  "kernelspec": {
   "display_name": "mcs_prime_env",
   "language": "python",
   "name": "mcs_prime_env"
  },
  "language_info": {
   "codemirror_mode": {
    "name": "ipython",
    "version": 3
   },
   "file_extension": ".py",
   "mimetype": "text/x-python",
   "name": "python",
   "nbconvert_exporter": "python",
   "pygments_lexer": "ipython3",
   "version": "3.10.4"
  }
 },
 "nbformat": 4,
 "nbformat_minor": 5
}
