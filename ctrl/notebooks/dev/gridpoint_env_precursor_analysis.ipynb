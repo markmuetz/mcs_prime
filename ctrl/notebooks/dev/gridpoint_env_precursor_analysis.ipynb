{
 "cells": [
  {
   "cell_type": "markdown",
   "id": "ac4bd711-c425-41bc-a60f-94bf351be657",
   "metadata": {},
   "source": [
    "# Gridpoint env precursor analysis\n",
    "\n",
    "\n",
    "* So far using CAPE/TCWV\n",
    "* 1d/2d histograms\n",
    "* Filter on fractional growth rate values.\n",
    "* My initial impressions are that neither CAPE nor TCWV are strongly correlated with MCS area, or growth rates.\n",
    "* TODO: Try subsetting tracks to e.g. tropics?\n",
    "\n",
    "\n",
    "* 19/8/22: Initial work. Basic match up of tracks data and era5 tracks linked data."
   ]
  },
  {
   "cell_type": "code",
   "execution_count": 1,
   "id": "f98e91c5-553e-4113-bfd1-f9a98b0a15a0",
   "metadata": {},
   "outputs": [
    {
     "name": "stderr",
     "output_type": "stream",
     "text": [
      "/home/users/mmuetz/miniconda3/envs/mcs_prime_env/lib/python3.10/site-packages/pyproj/__init__.py:89: UserWarning: pyproj unable to set database path.\n",
      "  _pyproj_global_context_initialize()\n"
     ]
    }
   ],
   "source": [
    "from pathlib import Path\n",
    "\n",
    "import matplotlib.pyplot as plt\n",
    "from matplotlib.colors import LogNorm\n",
    "import numpy as np\n",
    "import pandas as pd\n",
    "import xarray as xr\n",
    "\n",
    "from mcs_prime import McsTracks\n",
    "from mcs_prime.mcs_prime_config import PATHS"
   ]
  },
  {
   "cell_type": "code",
   "execution_count": null,
   "id": "ebf9e2e0-6abd-4342-ac98-11c11849debe",
   "metadata": {},
   "outputs": [],
   "source": [
    "tracks = McsTracks.open(PATHS['statsdir'] / 'mcs_tracks_final_extc_20190101.0000_20200101.0000.nc', \n",
    "                        PATHS['pixeldir'])\n",
    "ntracks = len(tracks.dstracks.tracks)"
   ]
  },
  {
   "cell_type": "code",
   "execution_count": null,
   "id": "a7ffc243-09e0-426b-8499-2c66b4dc6b59",
   "metadata": {},
   "outputs": [],
   "source": [
    "# Produced by remakefiles/track_era5_env_precursor.py\n",
    "track_era5 = xr.open_dataset(PATHS['datadir'] / 'mcs_prime_output/track_era5_env_precursor/2019' / 'daily_track_era5_data_2019.nc')"
   ]
  },
  {
   "cell_type": "code",
   "execution_count": null,
   "id": "b1f14f82-f176-4a9e-9015-743c9e6c4b66",
   "metadata": {},
   "outputs": [],
   "source": [
    "mask = ~np.isnan(track_era5.cape)\n",
    "m2 = ~np.isnan(track_era5.tcwv)\n",
    "(mask == m2).all()"
   ]
  },
  {
   "cell_type": "code",
   "execution_count": null,
   "id": "87ba41a6-c371-425a-b157-b20dfde651e2",
   "metadata": {},
   "outputs": [],
   "source": [
    "plt.hist(track_era5.cape.values[mask], bins=np.linspace(0, 4000, 200));"
   ]
  },
  {
   "cell_type": "markdown",
   "id": "d67cd241-e999-49ae-afd3-ccb91d2d2b87",
   "metadata": {},
   "source": [
    "Large spike at CAPE=0"
   ]
  },
  {
   "cell_type": "code",
   "execution_count": null,
   "id": "91c306fe-cccb-4861-a083-c5c020b30733",
   "metadata": {},
   "outputs": [],
   "source": [
    "plt.hist(track_era5.tcwv.values[mask], bins=np.linspace(0, 100, 200));"
   ]
  },
  {
   "cell_type": "code",
   "execution_count": null,
   "id": "6800cbb2-7672-44de-9201-d44cb12995b9",
   "metadata": {},
   "outputs": [],
   "source": [
    "plt.hist2d(tracks.dstracks.area.values[mask], track_era5.cape.values[mask], bins=(np.linspace(0, 1e5, 100), np.linspace(0, 2000, 100)));"
   ]
  },
  {
   "cell_type": "code",
   "execution_count": null,
   "id": "7bc2635e-3c15-4f34-824a-e2f6a919eff5",
   "metadata": {},
   "outputs": [],
   "source": [
    "plt.hist2d(tracks.dstracks.area.values[mask], track_era5.tcwv.values[mask], bins=(np.linspace(0, 1e5, 100), np.linspace(50, 80, 100)));"
   ]
  },
  {
   "cell_type": "code",
   "execution_count": null,
   "id": "245433e5-cd8f-4b60-98c0-87330be09257",
   "metadata": {},
   "outputs": [],
   "source": [
    "dt = 1\n",
    "fractional_area_growth = tracks.dstracks.area.values.copy()\n",
    "fractional_area_growth[:, 1:] = (1 / tracks.dstracks.area[:, 1:].values) * ((tracks.dstracks.area[:, 1:].values - tracks.dstracks.area[:, :-1].values) / dt)"
   ]
  },
  {
   "cell_type": "code",
   "execution_count": null,
   "id": "8cd95e03-c5bc-4878-8561-7eec3da81945",
   "metadata": {},
   "outputs": [],
   "source": [
    "area_mask = mask.copy()\n",
    "area_mask[:, 0] = False"
   ]
  },
  {
   "cell_type": "code",
   "execution_count": null,
   "id": "73b3679f-9247-48ab-abd5-2dc0bffdfd7a",
   "metadata": {},
   "outputs": [],
   "source": [
    "plt.hist2d(fractional_area_growth[area_mask], track_era5.cape.values[area_mask], bins=(np.linspace(-1, 1, 100), np.linspace(0, 1000, 100)));"
   ]
  },
  {
   "cell_type": "code",
   "execution_count": null,
   "id": "ef841dec-2498-4235-977b-c7ac2c50a521",
   "metadata": {},
   "outputs": [],
   "source": [
    "plt.hist2d(fractional_area_growth[area_mask], track_era5.tcwv.values[area_mask], bins=(np.linspace(-1, 1, 100), 100), norm=LogNorm());"
   ]
  },
  {
   "cell_type": "code",
   "execution_count": null,
   "id": "be32d203-6e4d-4513-af5f-94f56eb78f6a",
   "metadata": {},
   "outputs": [],
   "source": [
    "plt.hist2d(fractional_area_growth[area_mask], track_era5.cape.values[area_mask], bins=(np.linspace(-1, 1, 100), np.linspace(100, 2000, 100)), norm=LogNorm());"
   ]
  },
  {
   "cell_type": "code",
   "execution_count": null,
   "id": "b79394cd-31c4-45fe-b791-2220cc287ca2",
   "metadata": {},
   "outputs": [],
   "source": [
    "early_mask = area_mask.copy()\n",
    "early_mask[:, 4:] = False"
   ]
  },
  {
   "cell_type": "code",
   "execution_count": null,
   "id": "b4886685-7251-4708-b11a-4e8d6daacbbb",
   "metadata": {},
   "outputs": [],
   "source": [
    "plt.hist2d(fractional_area_growth[early_mask], track_era5.tcwv.values[early_mask], bins=(np.linspace(-1, 1, 100), 100), norm=LogNorm());"
   ]
  },
  {
   "cell_type": "code",
   "execution_count": null,
   "id": "b4380c25-b4de-404f-8bc1-024c4dc3983c",
   "metadata": {},
   "outputs": [],
   "source": [
    "plt.hist2d(fractional_area_growth[early_mask], track_era5.cape.values[early_mask], bins=(np.linspace(-1, 1, 100), np.linspace(100, 2000, 100)), norm=LogNorm());"
   ]
  },
  {
   "cell_type": "code",
   "execution_count": null,
   "id": "e7f222cb-6d6f-4d2b-9fef-c151be31987d",
   "metadata": {},
   "outputs": [],
   "source": [
    "plt.hist2d(fractional_area_growth[early_mask], track_era5.cape.values[early_mask], bins=(np.linspace(-1, 1, 100), np.linspace(100, 2000, 100)));"
   ]
  },
  {
   "cell_type": "code",
   "execution_count": null,
   "id": "5660ae26-8387-4792-8342-668b72ae0465",
   "metadata": {},
   "outputs": [],
   "source": [
    "thresh = 0.1  # roughly equal numbers in each.\n",
    "growth_mask = fractional_area_growth > thresh\n",
    "decay_mask = fractional_area_growth < -thresh\n",
    "stable_mask = (fractional_area_growth >= -thresh) & (fractional_area_growth <= thresh)\n",
    "print(growth_mask.sum())\n",
    "print(stable_mask.sum())\n",
    "print(decay_mask.sum())"
   ]
  },
  {
   "cell_type": "code",
   "execution_count": null,
   "id": "e2cd57ca-1fa0-4981-8684-f5c149d02e75",
   "metadata": {},
   "outputs": [],
   "source": [
    "plt.figure(figsize=(10, 8))\n",
    "for l, m, c in [('growth', growth_mask, 'b'), ('stable', stable_mask, 'r'), ('decay', decay_mask, 'g')]:\n",
    "    data = track_era5.cape.values[m & mask]\n",
    "    mean = data[data > 100].mean()\n",
    "    p = plt.hist(data, bins=np.linspace(100, 3000, 200), histtype='step', density=True, label=l, color=c);\n",
    "    plt.axvline(x=mean, color=c)\n",
    "    print(mean)\n",
    "plt.legend()\n"
   ]
  },
  {
   "cell_type": "code",
   "execution_count": null,
   "id": "482c9f3e-c2e8-4988-b33a-0154c7f08f7b",
   "metadata": {},
   "outputs": [],
   "source": [
    "plt.figure(figsize=(10, 8))\n",
    "for l, m, c in [('growth', growth_mask, 'b'), ('stable', stable_mask, 'r'), ('decay', decay_mask, 'g')]:\n",
    "    data = track_era5.tcwv.values[m & mask]\n",
    "    mean = data.mean()\n",
    "    p = plt.hist(data, bins=np.linspace(0, 80, 200), histtype='step', density=True, label=l, color=c);\n",
    "    plt.axvline(x=mean, color=c)\n",
    "    print(mean)\n",
    "plt.legend()\n"
   ]
  }
 ],
 "metadata": {
  "kernelspec": {
   "display_name": "mcs_prime_env",
   "language": "python",
   "name": "mcs_prime_env"
  },
  "language_info": {
   "codemirror_mode": {
    "name": "ipython",
    "version": 3
   },
   "file_extension": ".py",
   "mimetype": "text/x-python",
   "name": "python",
   "nbconvert_exporter": "python",
   "pygments_lexer": "ipython3",
   "version": "3.10.4"
  }
 },
 "nbformat": 4,
 "nbformat_minor": 5
}
