{
 "cells": [
  {
   "cell_type": "code",
   "execution_count": 1,
   "id": "f300e208-bc8d-4c80-98e5-9cacedfe3bac",
   "metadata": {},
   "outputs": [],
   "source": [
    "import numpy as np"
   ]
  },
  {
   "cell_type": "code",
   "execution_count": 2,
   "id": "34d949af-67fb-4428-8aca-6c2b622848c9",
   "metadata": {},
   "outputs": [],
   "source": [
    "dx = 1 * np.pi / 180\n",
    "dy = 1 * np.pi / 180"
   ]
  },
  {
   "cell_type": "code",
   "execution_count": 3,
   "id": "541deada-9ea9-4c2a-b8cb-86b5b6ffb57d",
   "metadata": {},
   "outputs": [],
   "source": [
    "def A(R, dx, dy, j):\n",
    "    return dx * R**2 * (np.cos(j * dy) - np.cos((j + 1) * dy))"
   ]
  },
  {
   "cell_type": "code",
   "execution_count": 4,
   "id": "9963076b-fdf2-4794-8461-2b24a7df3cb3",
   "metadata": {},
   "outputs": [],
   "source": [
    "R = 6371"
   ]
  },
  {
   "cell_type": "code",
   "execution_count": 5,
   "id": "ddf2f835-8134-41d0-be1f-8ef749369cd5",
   "metadata": {},
   "outputs": [
    {
     "data": {
      "text/plain": [
       "107.89623558970831"
      ]
     },
     "execution_count": 5,
     "metadata": {},
     "output_type": "execute_result"
    }
   ],
   "source": [
    "A(R, dx, dy, 0)"
   ]
  },
  {
   "cell_type": "code",
   "execution_count": 6,
   "id": "a0ba4f4f-3915-4783-b1a8-bbb75d59ce77",
   "metadata": {},
   "outputs": [
    {
     "data": {
      "text/plain": [
       "107.89897455418736"
      ]
     },
     "execution_count": 6,
     "metadata": {},
     "output_type": "execute_result"
    }
   ],
   "source": [
    "dx**3 * R**2 / 2"
   ]
  },
  {
   "cell_type": "code",
   "execution_count": 7,
   "id": "9d7bd55c-17a4-44a8-9fc1-fc0669224950",
   "metadata": {},
   "outputs": [
    {
     "data": {
      "text/plain": [
       "12364.311711488797"
      ]
     },
     "execution_count": 7,
     "metadata": {},
     "output_type": "execute_result"
    }
   ],
   "source": [
    "(dx * R)**2"
   ]
  },
  {
   "cell_type": "code",
   "execution_count": 8,
   "id": "99632f86-868c-46f6-bc46-af365b3afaeb",
   "metadata": {},
   "outputs": [
    {
     "data": {
      "text/plain": [
       "12363.683990261137"
      ]
     },
     "execution_count": 8,
     "metadata": {},
     "output_type": "execute_result"
    }
   ],
   "source": [
    "A(R, dx, dy, 90)"
   ]
  },
  {
   "cell_type": "code",
   "execution_count": 9,
   "id": "6ebfd2a8-edc1-4dff-88f8-248c6285db7d",
   "metadata": {},
   "outputs": [
    {
     "data": {
      "text/plain": [
       "510064471.9097883"
      ]
     },
     "execution_count": 9,
     "metadata": {},
     "output_type": "execute_result"
    }
   ],
   "source": [
    "Atotal = 0\n",
    "for j in range(180):\n",
    "    Atotal += A(R, dx, dy, j) * 360\n",
    "Atotal"
   ]
  },
  {
   "cell_type": "code",
   "execution_count": 10,
   "id": "d75ca6c6-4914-4af0-9425-d1307611f08c",
   "metadata": {},
   "outputs": [
    {
     "data": {
      "text/plain": [
       "510064471.90978825"
      ]
     },
     "execution_count": 10,
     "metadata": {},
     "output_type": "execute_result"
    }
   ],
   "source": [
    "4 * np.pi * R**2"
   ]
  },
  {
   "cell_type": "code",
   "execution_count": 11,
   "id": "558d4159-48da-4788-adaf-4fcde32bc17c",
   "metadata": {},
   "outputs": [],
   "source": [
    "dx = 0.25 * np.pi / 180\n",
    "dy = 0.25 * np.pi / 180"
   ]
  },
  {
   "cell_type": "code",
   "execution_count": 12,
   "id": "5f71a4de-0402-4ea5-98a5-406cede7fdf2",
   "metadata": {},
   "outputs": [
    {
     "data": {
      "text/plain": [
       "1.685918802613084"
      ]
     },
     "execution_count": 12,
     "metadata": {},
     "output_type": "execute_result"
    }
   ],
   "source": [
    "A(R, dx, dy, 0)"
   ]
  },
  {
   "cell_type": "code",
   "execution_count": 13,
   "id": "a669f17e-628a-43c7-b244-85534a3550c0",
   "metadata": {},
   "outputs": [
    {
     "data": {
      "text/plain": [
       "1.6859214774091775"
      ]
     },
     "execution_count": 13,
     "metadata": {},
     "output_type": "execute_result"
    }
   ],
   "source": [
    "dx**3 * R**2 / 2"
   ]
  },
  {
   "cell_type": "code",
   "execution_count": 14,
   "id": "1f609f7b-b36e-49c4-bb57-49de1c6ddff4",
   "metadata": {},
   "outputs": [
    {
     "data": {
      "text/plain": [
       "772.7670298969829"
      ]
     },
     "execution_count": 14,
     "metadata": {},
     "output_type": "execute_result"
    }
   ],
   "source": [
    "A(R, dx, dy, 360)"
   ]
  },
  {
   "cell_type": "code",
   "execution_count": 15,
   "id": "ada8c830-c545-4953-b178-20313036d324",
   "metadata": {},
   "outputs": [
    {
     "data": {
      "text/plain": [
       "772.7694819680498"
      ]
     },
     "execution_count": 15,
     "metadata": {},
     "output_type": "execute_result"
    }
   ],
   "source": [
    "(dx * R)**2"
   ]
  },
  {
   "cell_type": "code",
   "execution_count": 16,
   "id": "429bab56-2456-49ed-a71c-cd8e40066152",
   "metadata": {},
   "outputs": [
    {
     "data": {
      "text/plain": [
       "510064471.9097883"
      ]
     },
     "execution_count": 16,
     "metadata": {},
     "output_type": "execute_result"
    }
   ],
   "source": [
    "Atotal = 0\n",
    "for j in range(180 * 4):\n",
    "    Atotal += A(R, dx, dy, j) * 360 * 4\n",
    "Atotal"
   ]
  },
  {
   "cell_type": "code",
   "execution_count": 17,
   "id": "4f845e60-5de5-4707-8f0f-0130b94b9bc6",
   "metadata": {},
   "outputs": [
    {
     "data": {
      "text/plain": [
       "1.685918802613084"
      ]
     },
     "execution_count": 17,
     "metadata": {},
     "output_type": "execute_result"
    }
   ],
   "source": [
    "A(R, dx, dy, 719)"
   ]
  },
  {
   "cell_type": "code",
   "execution_count": 18,
   "id": "7568357c-233d-4c87-a845-f8da8f283668",
   "metadata": {},
   "outputs": [
    {
     "data": {
      "text/plain": [
       "387.8435634602941"
      ]
     },
     "execution_count": 18,
     "metadata": {},
     "output_type": "execute_result"
    }
   ],
   "source": [
    "A(R, dx, dy, 120)"
   ]
  },
  {
   "cell_type": "code",
   "execution_count": 19,
   "id": "5016277a-751b-4c8e-90d7-b0d0fe5124f5",
   "metadata": {},
   "outputs": [
    {
     "data": {
      "text/plain": [
       "387.8435634602941"
      ]
     },
     "execution_count": 19,
     "metadata": {},
     "output_type": "execute_result"
    }
   ],
   "source": [
    "dx * R**2 * (np.cos(120 * dy) - np.cos((120 + 1) * dy))"
   ]
  },
  {
   "cell_type": "code",
   "execution_count": 20,
   "id": "267e4070-757d-4053-8c3d-3a02704e22f8",
   "metadata": {},
   "outputs": [
    {
     "data": {
      "text/plain": [
       "0.5235987755982988"
      ]
     },
     "execution_count": 20,
     "metadata": {},
     "output_type": "execute_result"
    }
   ],
   "source": [
    "120 * dy"
   ]
  },
  {
   "cell_type": "code",
   "execution_count": null,
   "id": "803069bb-0037-44ca-afe8-98af70f6c7a0",
   "metadata": {},
   "outputs": [],
   "source": []
  }
 ],
 "metadata": {
  "kernelspec": {
   "display_name": "mcs_prime_env",
   "language": "python",
   "name": "mcs_prime_env"
  },
  "language_info": {
   "codemirror_mode": {
    "name": "ipython",
    "version": 3
   },
   "file_extension": ".py",
   "mimetype": "text/x-python",
   "name": "python",
   "nbconvert_exporter": "python",
   "pygments_lexer": "ipython3",
   "version": "3.10.4"
  }
 },
 "nbformat": 4,
 "nbformat_minor": 5
}
