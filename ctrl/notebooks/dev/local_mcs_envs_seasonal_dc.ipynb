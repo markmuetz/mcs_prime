{
 "cells": [
  {
   "cell_type": "code",
   "execution_count": 7,
   "id": "8853e9ec-b5f3-4b40-ad09-f7e0e19c1dba",
   "metadata": {},
   "outputs": [],
   "source": [
    "import pandas as pd\n",
    "\n",
    "from mcs_prime import McsTracks, McsTrack, PATHS"
   ]
  },
  {
   "cell_type": "code",
   "execution_count": 3,
   "id": "f816e74f-32e3-4e70-975b-036cdcee6665",
   "metadata": {},
   "outputs": [],
   "source": [
    "tracks = McsTracks.open(PATHS['statsdir'] / 'mcs_tracks_final_extc_20190101.0000_20200101.0000.nc', \n",
    "                        PATHS['pixeldir'])"
   ]
  },
  {
   "cell_type": "code",
   "execution_count": 4,
   "id": "d8c6c70d-5a82-4ee8-8a4e-ffa510f6c852",
   "metadata": {},
   "outputs": [
    {
     "data": {
      "text/html": [
       "<div><svg style=\"position: absolute; width: 0; height: 0; overflow: hidden\">\n",
       "<defs>\n",
       "<symbol id=\"icon-database\" viewBox=\"0 0 32 32\">\n",
       "<path d=\"M16 0c-8.837 0-16 2.239-16 5v4c0 2.761 7.163 5 16 5s16-2.239 16-5v-4c0-2.761-7.163-5-16-5z\"></path>\n",
       "<path d=\"M16 17c-8.837 0-16-2.239-16-5v6c0 2.761 7.163 5 16 5s16-2.239 16-5v-6c0 2.761-7.163 5-16 5z\"></path>\n",
       "<path d=\"M16 26c-8.837 0-16-2.239-16-5v6c0 2.761 7.163 5 16 5s16-2.239 16-5v-6c0 2.761-7.163 5-16 5z\"></path>\n",
       "</symbol>\n",
       "<symbol id=\"icon-file-text2\" viewBox=\"0 0 32 32\">\n",
       "<path d=\"M28.681 7.159c-0.694-0.947-1.662-2.053-2.724-3.116s-2.169-2.030-3.116-2.724c-1.612-1.182-2.393-1.319-2.841-1.319h-15.5c-1.378 0-2.5 1.121-2.5 2.5v27c0 1.378 1.122 2.5 2.5 2.5h23c1.378 0 2.5-1.122 2.5-2.5v-19.5c0-0.448-0.137-1.23-1.319-2.841zM24.543 5.457c0.959 0.959 1.712 1.825 2.268 2.543h-4.811v-4.811c0.718 0.556 1.584 1.309 2.543 2.268zM28 29.5c0 0.271-0.229 0.5-0.5 0.5h-23c-0.271 0-0.5-0.229-0.5-0.5v-27c0-0.271 0.229-0.5 0.5-0.5 0 0 15.499-0 15.5 0v7c0 0.552 0.448 1 1 1h7v19.5z\"></path>\n",
       "<path d=\"M23 26h-14c-0.552 0-1-0.448-1-1s0.448-1 1-1h14c0.552 0 1 0.448 1 1s-0.448 1-1 1z\"></path>\n",
       "<path d=\"M23 22h-14c-0.552 0-1-0.448-1-1s0.448-1 1-1h14c0.552 0 1 0.448 1 1s-0.448 1-1 1z\"></path>\n",
       "<path d=\"M23 18h-14c-0.552 0-1-0.448-1-1s0.448-1 1-1h14c0.552 0 1 0.448 1 1s-0.448 1-1 1z\"></path>\n",
       "</symbol>\n",
       "</defs>\n",
       "</svg>\n",
       "<style>/* CSS stylesheet for displaying xarray objects in jupyterlab.\n",
       " *\n",
       " */\n",
       "\n",
       ":root {\n",
       "  --xr-font-color0: var(--jp-content-font-color0, rgba(0, 0, 0, 1));\n",
       "  --xr-font-color2: var(--jp-content-font-color2, rgba(0, 0, 0, 0.54));\n",
       "  --xr-font-color3: var(--jp-content-font-color3, rgba(0, 0, 0, 0.38));\n",
       "  --xr-border-color: var(--jp-border-color2, #e0e0e0);\n",
       "  --xr-disabled-color: var(--jp-layout-color3, #bdbdbd);\n",
       "  --xr-background-color: var(--jp-layout-color0, white);\n",
       "  --xr-background-color-row-even: var(--jp-layout-color1, white);\n",
       "  --xr-background-color-row-odd: var(--jp-layout-color2, #eeeeee);\n",
       "}\n",
       "\n",
       "html[theme=dark],\n",
       "body.vscode-dark {\n",
       "  --xr-font-color0: rgba(255, 255, 255, 1);\n",
       "  --xr-font-color2: rgba(255, 255, 255, 0.54);\n",
       "  --xr-font-color3: rgba(255, 255, 255, 0.38);\n",
       "  --xr-border-color: #1F1F1F;\n",
       "  --xr-disabled-color: #515151;\n",
       "  --xr-background-color: #111111;\n",
       "  --xr-background-color-row-even: #111111;\n",
       "  --xr-background-color-row-odd: #313131;\n",
       "}\n",
       "\n",
       ".xr-wrap {\n",
       "  display: block !important;\n",
       "  min-width: 300px;\n",
       "  max-width: 700px;\n",
       "}\n",
       "\n",
       ".xr-text-repr-fallback {\n",
       "  /* fallback to plain text repr when CSS is not injected (untrusted notebook) */\n",
       "  display: none;\n",
       "}\n",
       "\n",
       ".xr-header {\n",
       "  padding-top: 6px;\n",
       "  padding-bottom: 6px;\n",
       "  margin-bottom: 4px;\n",
       "  border-bottom: solid 1px var(--xr-border-color);\n",
       "}\n",
       "\n",
       ".xr-header > div,\n",
       ".xr-header > ul {\n",
       "  display: inline;\n",
       "  margin-top: 0;\n",
       "  margin-bottom: 0;\n",
       "}\n",
       "\n",
       ".xr-obj-type,\n",
       ".xr-array-name {\n",
       "  margin-left: 2px;\n",
       "  margin-right: 10px;\n",
       "}\n",
       "\n",
       ".xr-obj-type {\n",
       "  color: var(--xr-font-color2);\n",
       "}\n",
       "\n",
       ".xr-sections {\n",
       "  padding-left: 0 !important;\n",
       "  display: grid;\n",
       "  grid-template-columns: 150px auto auto 1fr 20px 20px;\n",
       "}\n",
       "\n",
       ".xr-section-item {\n",
       "  display: contents;\n",
       "}\n",
       "\n",
       ".xr-section-item input {\n",
       "  display: none;\n",
       "}\n",
       "\n",
       ".xr-section-item input + label {\n",
       "  color: var(--xr-disabled-color);\n",
       "}\n",
       "\n",
       ".xr-section-item input:enabled + label {\n",
       "  cursor: pointer;\n",
       "  color: var(--xr-font-color2);\n",
       "}\n",
       "\n",
       ".xr-section-item input:enabled + label:hover {\n",
       "  color: var(--xr-font-color0);\n",
       "}\n",
       "\n",
       ".xr-section-summary {\n",
       "  grid-column: 1;\n",
       "  color: var(--xr-font-color2);\n",
       "  font-weight: 500;\n",
       "}\n",
       "\n",
       ".xr-section-summary > span {\n",
       "  display: inline-block;\n",
       "  padding-left: 0.5em;\n",
       "}\n",
       "\n",
       ".xr-section-summary-in:disabled + label {\n",
       "  color: var(--xr-font-color2);\n",
       "}\n",
       "\n",
       ".xr-section-summary-in + label:before {\n",
       "  display: inline-block;\n",
       "  content: '►';\n",
       "  font-size: 11px;\n",
       "  width: 15px;\n",
       "  text-align: center;\n",
       "}\n",
       "\n",
       ".xr-section-summary-in:disabled + label:before {\n",
       "  color: var(--xr-disabled-color);\n",
       "}\n",
       "\n",
       ".xr-section-summary-in:checked + label:before {\n",
       "  content: '▼';\n",
       "}\n",
       "\n",
       ".xr-section-summary-in:checked + label > span {\n",
       "  display: none;\n",
       "}\n",
       "\n",
       ".xr-section-summary,\n",
       ".xr-section-inline-details {\n",
       "  padding-top: 4px;\n",
       "  padding-bottom: 4px;\n",
       "}\n",
       "\n",
       ".xr-section-inline-details {\n",
       "  grid-column: 2 / -1;\n",
       "}\n",
       "\n",
       ".xr-section-details {\n",
       "  display: none;\n",
       "  grid-column: 1 / -1;\n",
       "  margin-bottom: 5px;\n",
       "}\n",
       "\n",
       ".xr-section-summary-in:checked ~ .xr-section-details {\n",
       "  display: contents;\n",
       "}\n",
       "\n",
       ".xr-array-wrap {\n",
       "  grid-column: 1 / -1;\n",
       "  display: grid;\n",
       "  grid-template-columns: 20px auto;\n",
       "}\n",
       "\n",
       ".xr-array-wrap > label {\n",
       "  grid-column: 1;\n",
       "  vertical-align: top;\n",
       "}\n",
       "\n",
       ".xr-preview {\n",
       "  color: var(--xr-font-color3);\n",
       "}\n",
       "\n",
       ".xr-array-preview,\n",
       ".xr-array-data {\n",
       "  padding: 0 5px !important;\n",
       "  grid-column: 2;\n",
       "}\n",
       "\n",
       ".xr-array-data,\n",
       ".xr-array-in:checked ~ .xr-array-preview {\n",
       "  display: none;\n",
       "}\n",
       "\n",
       ".xr-array-in:checked ~ .xr-array-data,\n",
       ".xr-array-preview {\n",
       "  display: inline-block;\n",
       "}\n",
       "\n",
       ".xr-dim-list {\n",
       "  display: inline-block !important;\n",
       "  list-style: none;\n",
       "  padding: 0 !important;\n",
       "  margin: 0;\n",
       "}\n",
       "\n",
       ".xr-dim-list li {\n",
       "  display: inline-block;\n",
       "  padding: 0;\n",
       "  margin: 0;\n",
       "}\n",
       "\n",
       ".xr-dim-list:before {\n",
       "  content: '(';\n",
       "}\n",
       "\n",
       ".xr-dim-list:after {\n",
       "  content: ')';\n",
       "}\n",
       "\n",
       ".xr-dim-list li:not(:last-child):after {\n",
       "  content: ',';\n",
       "  padding-right: 5px;\n",
       "}\n",
       "\n",
       ".xr-has-index {\n",
       "  font-weight: bold;\n",
       "}\n",
       "\n",
       ".xr-var-list,\n",
       ".xr-var-item {\n",
       "  display: contents;\n",
       "}\n",
       "\n",
       ".xr-var-item > div,\n",
       ".xr-var-item label,\n",
       ".xr-var-item > .xr-var-name span {\n",
       "  background-color: var(--xr-background-color-row-even);\n",
       "  margin-bottom: 0;\n",
       "}\n",
       "\n",
       ".xr-var-item > .xr-var-name:hover span {\n",
       "  padding-right: 5px;\n",
       "}\n",
       "\n",
       ".xr-var-list > li:nth-child(odd) > div,\n",
       ".xr-var-list > li:nth-child(odd) > label,\n",
       ".xr-var-list > li:nth-child(odd) > .xr-var-name span {\n",
       "  background-color: var(--xr-background-color-row-odd);\n",
       "}\n",
       "\n",
       ".xr-var-name {\n",
       "  grid-column: 1;\n",
       "}\n",
       "\n",
       ".xr-var-dims {\n",
       "  grid-column: 2;\n",
       "}\n",
       "\n",
       ".xr-var-dtype {\n",
       "  grid-column: 3;\n",
       "  text-align: right;\n",
       "  color: var(--xr-font-color2);\n",
       "}\n",
       "\n",
       ".xr-var-preview {\n",
       "  grid-column: 4;\n",
       "}\n",
       "\n",
       ".xr-var-name,\n",
       ".xr-var-dims,\n",
       ".xr-var-dtype,\n",
       ".xr-preview,\n",
       ".xr-attrs dt {\n",
       "  white-space: nowrap;\n",
       "  overflow: hidden;\n",
       "  text-overflow: ellipsis;\n",
       "  padding-right: 10px;\n",
       "}\n",
       "\n",
       ".xr-var-name:hover,\n",
       ".xr-var-dims:hover,\n",
       ".xr-var-dtype:hover,\n",
       ".xr-attrs dt:hover {\n",
       "  overflow: visible;\n",
       "  width: auto;\n",
       "  z-index: 1;\n",
       "}\n",
       "\n",
       ".xr-var-attrs,\n",
       ".xr-var-data {\n",
       "  display: none;\n",
       "  background-color: var(--xr-background-color) !important;\n",
       "  padding-bottom: 5px !important;\n",
       "}\n",
       "\n",
       ".xr-var-attrs-in:checked ~ .xr-var-attrs,\n",
       ".xr-var-data-in:checked ~ .xr-var-data {\n",
       "  display: block;\n",
       "}\n",
       "\n",
       ".xr-var-data > table {\n",
       "  float: right;\n",
       "}\n",
       "\n",
       ".xr-var-name span,\n",
       ".xr-var-data,\n",
       ".xr-attrs {\n",
       "  padding-left: 25px !important;\n",
       "}\n",
       "\n",
       ".xr-attrs,\n",
       ".xr-var-attrs,\n",
       ".xr-var-data {\n",
       "  grid-column: 1 / -1;\n",
       "}\n",
       "\n",
       "dl.xr-attrs {\n",
       "  padding: 0;\n",
       "  margin: 0;\n",
       "  display: grid;\n",
       "  grid-template-columns: 125px auto;\n",
       "}\n",
       "\n",
       ".xr-attrs dt,\n",
       ".xr-attrs dd {\n",
       "  padding: 0;\n",
       "  margin: 0;\n",
       "  float: left;\n",
       "  padding-right: 10px;\n",
       "  width: auto;\n",
       "}\n",
       "\n",
       ".xr-attrs dt {\n",
       "  font-weight: normal;\n",
       "  grid-column: 1;\n",
       "}\n",
       "\n",
       ".xr-attrs dt:hover span {\n",
       "  display: inline-block;\n",
       "  background: var(--xr-background-color);\n",
       "  padding-right: 10px;\n",
       "}\n",
       "\n",
       ".xr-attrs dd {\n",
       "  grid-column: 2;\n",
       "  white-space: pre-wrap;\n",
       "  word-break: break-all;\n",
       "}\n",
       "\n",
       ".xr-icon-database,\n",
       ".xr-icon-file-text2 {\n",
       "  display: inline-block;\n",
       "  vertical-align: middle;\n",
       "  width: 1em;\n",
       "  height: 1.5em !important;\n",
       "  stroke-width: 0;\n",
       "  stroke: currentColor;\n",
       "  fill: currentColor;\n",
       "}\n",
       "</style><pre class='xr-text-repr-fallback'>&lt;xarray.Dataset&gt;\n",
       "Dimensions:                  (tracks: 32843, times: 400, mergers: 50, nmaxpf: 3)\n",
       "Coordinates:\n",
       "  * tracks                   (tracks) int64 0 1 2 3 ... 32839 32840 32841 32842\n",
       "  * times                    (times) int64 0 1 2 3 4 5 ... 395 396 397 398 399\n",
       "  * mergers                  (mergers) int64 0 1 2 3 4 5 6 ... 44 45 46 47 48 49\n",
       "  * nmaxpf                   (nmaxpf) int64 0 1 2\n",
       "Data variables: (12/55)\n",
       "    track_duration           (tracks) int32 37 28 17 40 12 16 ... 7 7 6 7 6 5\n",
       "    start_status             (tracks) float64 13.0 13.0 13.0 ... 1.0 32.0 44.0\n",
       "    end_status               (tracks) float64 37.0 34.0 0.0 3.0 ... 3.0 0.0 3.0\n",
       "    start_basetime           (tracks) datetime64[ns] 2019-01-01T00:30:00 ... ...\n",
       "    end_basetime             (tracks) datetime64[ns] 2019-01-02T12:30:00 ... ...\n",
       "    start_split_cloudnumber  (tracks) float64 nan nan nan nan ... nan 60.0 17.0\n",
       "    ...                       ...\n",
       "    pf_mcsstatus             (tracks, times) float64 ...\n",
       "    movement_distance        (tracks, times) float32 ...\n",
       "    movement_speed           (tracks, times) float32 ...\n",
       "    movement_theta           (tracks, times) float32 ...\n",
       "    movement_distance_x      (tracks, times) float32 ...\n",
       "    movement_distance_y      (tracks, times) float32 ...\n",
       "Attributes: (12/23)\n",
       "    Title:                       Statistics of each MCS track\n",
       "    Institution:                 Pacific Northwest National Laboratory\n",
       "    Contact:                     Zhe Feng, zhe.feng@pnnl.gov\n",
       "    Created_on:                  Mon Feb 28 05:50:54 2022\n",
       "    startdate:                   20190101.0000\n",
       "    enddate:                     20200101.0000\n",
       "    ...                          ...\n",
       "    PF_PF_min_majoraxis_thresh:  20\n",
       "    coefs_pf_area:               [2874.05    89.825]\n",
       "    coefs_pf_rr:                 [3.01657   0.0144461]\n",
       "    coefs_pf_skew:               [0.194462  0.0100072]\n",
       "    coefs_pf_heavyratio:         [3.419024 0.438709]\n",
       "    max_speed_thresh:            50</pre><div class='xr-wrap' style='display:none'><div class='xr-header'><div class='xr-obj-type'>xarray.Dataset</div></div><ul class='xr-sections'><li class='xr-section-item'><input id='section-6e296aa8-0cc4-42f0-a235-efede297ac97' class='xr-section-summary-in' type='checkbox' disabled ><label for='section-6e296aa8-0cc4-42f0-a235-efede297ac97' class='xr-section-summary'  title='Expand/collapse section'>Dimensions:</label><div class='xr-section-inline-details'><ul class='xr-dim-list'><li><span class='xr-has-index'>tracks</span>: 32843</li><li><span class='xr-has-index'>times</span>: 400</li><li><span class='xr-has-index'>mergers</span>: 50</li><li><span class='xr-has-index'>nmaxpf</span>: 3</li></ul></div><div class='xr-section-details'></div></li><li class='xr-section-item'><input id='section-e3d0b28a-c050-44e5-8488-ccfdabdd7197' class='xr-section-summary-in' type='checkbox'  checked><label for='section-e3d0b28a-c050-44e5-8488-ccfdabdd7197' class='xr-section-summary' >Coordinates: <span>(4)</span></label><div class='xr-section-inline-details'></div><div class='xr-section-details'><ul class='xr-var-list'><li class='xr-var-item'><div class='xr-var-name'><span class='xr-has-index'>tracks</span></div><div class='xr-var-dims'>(tracks)</div><div class='xr-var-dtype'>int64</div><div class='xr-var-preview xr-preview'>0 1 2 3 ... 32839 32840 32841 32842</div><input id='attrs-5a721374-e360-42a8-85c9-a61cea2d9176' class='xr-var-attrs-in' type='checkbox' disabled><label for='attrs-5a721374-e360-42a8-85c9-a61cea2d9176' title='Show/Hide attributes'><svg class='icon xr-icon-file-text2'><use xlink:href='#icon-file-text2'></use></svg></label><input id='data-a62202b9-0f6a-4da0-aae7-0f71146f4bb7' class='xr-var-data-in' type='checkbox'><label for='data-a62202b9-0f6a-4da0-aae7-0f71146f4bb7' title='Show/Hide data repr'><svg class='icon xr-icon-database'><use xlink:href='#icon-database'></use></svg></label><div class='xr-var-attrs'><dl class='xr-attrs'></dl></div><div class='xr-var-data'><pre>array([    0,     1,     2, ..., 32840, 32841, 32842])</pre></div></li><li class='xr-var-item'><div class='xr-var-name'><span class='xr-has-index'>times</span></div><div class='xr-var-dims'>(times)</div><div class='xr-var-dtype'>int64</div><div class='xr-var-preview xr-preview'>0 1 2 3 4 5 ... 395 396 397 398 399</div><input id='attrs-49f0270d-ce0c-42f3-b608-4a36543687ec' class='xr-var-attrs-in' type='checkbox' disabled><label for='attrs-49f0270d-ce0c-42f3-b608-4a36543687ec' title='Show/Hide attributes'><svg class='icon xr-icon-file-text2'><use xlink:href='#icon-file-text2'></use></svg></label><input id='data-6ca1a785-257d-42c4-a37a-1962989b0a08' class='xr-var-data-in' type='checkbox'><label for='data-6ca1a785-257d-42c4-a37a-1962989b0a08' title='Show/Hide data repr'><svg class='icon xr-icon-database'><use xlink:href='#icon-database'></use></svg></label><div class='xr-var-attrs'><dl class='xr-attrs'></dl></div><div class='xr-var-data'><pre>array([  0,   1,   2, ..., 397, 398, 399])</pre></div></li><li class='xr-var-item'><div class='xr-var-name'><span class='xr-has-index'>mergers</span></div><div class='xr-var-dims'>(mergers)</div><div class='xr-var-dtype'>int64</div><div class='xr-var-preview xr-preview'>0 1 2 3 4 5 6 ... 44 45 46 47 48 49</div><input id='attrs-c245a361-6e22-41ea-bd36-d01584e3ddf6' class='xr-var-attrs-in' type='checkbox' disabled><label for='attrs-c245a361-6e22-41ea-bd36-d01584e3ddf6' title='Show/Hide attributes'><svg class='icon xr-icon-file-text2'><use xlink:href='#icon-file-text2'></use></svg></label><input id='data-2c3d3663-3748-46b8-8ea5-7f00e5ca27fc' class='xr-var-data-in' type='checkbox'><label for='data-2c3d3663-3748-46b8-8ea5-7f00e5ca27fc' title='Show/Hide data repr'><svg class='icon xr-icon-database'><use xlink:href='#icon-database'></use></svg></label><div class='xr-var-attrs'><dl class='xr-attrs'></dl></div><div class='xr-var-data'><pre>array([ 0,  1,  2,  3,  4,  5,  6,  7,  8,  9, 10, 11, 12, 13, 14, 15, 16, 17,\n",
       "       18, 19, 20, 21, 22, 23, 24, 25, 26, 27, 28, 29, 30, 31, 32, 33, 34, 35,\n",
       "       36, 37, 38, 39, 40, 41, 42, 43, 44, 45, 46, 47, 48, 49])</pre></div></li><li class='xr-var-item'><div class='xr-var-name'><span class='xr-has-index'>nmaxpf</span></div><div class='xr-var-dims'>(nmaxpf)</div><div class='xr-var-dtype'>int64</div><div class='xr-var-preview xr-preview'>0 1 2</div><input id='attrs-95ba70e7-b718-4ff3-b510-47423f926994' class='xr-var-attrs-in' type='checkbox' disabled><label for='attrs-95ba70e7-b718-4ff3-b510-47423f926994' title='Show/Hide attributes'><svg class='icon xr-icon-file-text2'><use xlink:href='#icon-file-text2'></use></svg></label><input id='data-fc1ca6a7-cd3c-455a-ae2a-ad22f0f61c3b' class='xr-var-data-in' type='checkbox'><label for='data-fc1ca6a7-cd3c-455a-ae2a-ad22f0f61c3b' title='Show/Hide data repr'><svg class='icon xr-icon-database'><use xlink:href='#icon-database'></use></svg></label><div class='xr-var-attrs'><dl class='xr-attrs'></dl></div><div class='xr-var-data'><pre>array([0, 1, 2])</pre></div></li></ul></div></li><li class='xr-section-item'><input id='section-7ba3899e-e052-4824-9a4b-c085b1ec855d' class='xr-section-summary-in' type='checkbox'  ><label for='section-7ba3899e-e052-4824-9a4b-c085b1ec855d' class='xr-section-summary' >Data variables: <span>(55)</span></label><div class='xr-section-inline-details'></div><div class='xr-section-details'><ul class='xr-var-list'><li class='xr-var-item'><div class='xr-var-name'><span>track_duration</span></div><div class='xr-var-dims'>(tracks)</div><div class='xr-var-dtype'>int32</div><div class='xr-var-preview xr-preview'>...</div><input id='attrs-c5d540f2-fde9-45ad-b518-3abf97df036c' class='xr-var-attrs-in' type='checkbox' ><label for='attrs-c5d540f2-fde9-45ad-b518-3abf97df036c' title='Show/Hide attributes'><svg class='icon xr-icon-file-text2'><use xlink:href='#icon-file-text2'></use></svg></label><input id='data-0fc9fe53-4772-462d-8394-4cca727138b8' class='xr-var-data-in' type='checkbox'><label for='data-0fc9fe53-4772-462d-8394-4cca727138b8' title='Show/Hide data repr'><svg class='icon xr-icon-database'><use xlink:href='#icon-database'></use></svg></label><div class='xr-var-attrs'><dl class='xr-attrs'><dt><span>long_name :</span></dt><dd>Duration of each track</dd><dt><span>units :</span></dt><dd>unitless</dd><dt><span>comments :</span></dt><dd>Multiply by time_resolution_hour to convert to physical units</dd></dl></div><div class='xr-var-data'><pre>array([37, 28, 17, ...,  7,  6,  5], dtype=int32)</pre></div></li><li class='xr-var-item'><div class='xr-var-name'><span>start_status</span></div><div class='xr-var-dims'>(tracks)</div><div class='xr-var-dtype'>float64</div><div class='xr-var-preview xr-preview'>...</div><input id='attrs-d892d6dc-6c15-4a8e-ac64-ad33a4e11d00' class='xr-var-attrs-in' type='checkbox' ><label for='attrs-d892d6dc-6c15-4a8e-ac64-ad33a4e11d00' title='Show/Hide attributes'><svg class='icon xr-icon-file-text2'><use xlink:href='#icon-file-text2'></use></svg></label><input id='data-3ccdbb22-41d0-49b2-89e6-73e5576f5656' class='xr-var-data-in' type='checkbox'><label for='data-3ccdbb22-41d0-49b2-89e6-73e5576f5656' title='Show/Hide data repr'><svg class='icon xr-icon-database'><use xlink:href='#icon-database'></use></svg></label><div class='xr-var-attrs'><dl class='xr-attrs'><dt><span>long_name :</span></dt><dd>Flag indicating how the track starts</dd><dt><span>units :</span></dt><dd>unitless</dd><dt><span>comments :</span></dt><dd>Refer to track_status attributes on flag value meaning</dd></dl></div><div class='xr-var-data'><pre>array([13., 13., 13., ...,  1., 32., 44.])</pre></div></li><li class='xr-var-item'><div class='xr-var-name'><span>end_status</span></div><div class='xr-var-dims'>(tracks)</div><div class='xr-var-dtype'>float64</div><div class='xr-var-preview xr-preview'>...</div><input id='attrs-130a741d-82c0-4d8b-baa4-c323152db468' class='xr-var-attrs-in' type='checkbox' ><label for='attrs-130a741d-82c0-4d8b-baa4-c323152db468' title='Show/Hide attributes'><svg class='icon xr-icon-file-text2'><use xlink:href='#icon-file-text2'></use></svg></label><input id='data-9aa11af7-8539-4f16-b152-ce4eaa264b99' class='xr-var-data-in' type='checkbox'><label for='data-9aa11af7-8539-4f16-b152-ce4eaa264b99' title='Show/Hide data repr'><svg class='icon xr-icon-database'><use xlink:href='#icon-database'></use></svg></label><div class='xr-var-attrs'><dl class='xr-attrs'><dt><span>long_name :</span></dt><dd>Flag indicating how the track ends</dd><dt><span>units :</span></dt><dd>unitless</dd><dt><span>comments :</span></dt><dd>Refer to track_status attributes on flag value meaning</dd></dl></div><div class='xr-var-data'><pre>array([37., 34.,  0., ...,  3.,  0.,  3.])</pre></div></li><li class='xr-var-item'><div class='xr-var-name'><span>start_basetime</span></div><div class='xr-var-dims'>(tracks)</div><div class='xr-var-dtype'>datetime64[ns]</div><div class='xr-var-preview xr-preview'>2019-01-01T00:30:00 ... 2019-12-...</div><input id='attrs-2cb7c459-de03-4d1c-8771-52bcb587f30c' class='xr-var-attrs-in' type='checkbox' ><label for='attrs-2cb7c459-de03-4d1c-8771-52bcb587f30c' title='Show/Hide attributes'><svg class='icon xr-icon-file-text2'><use xlink:href='#icon-file-text2'></use></svg></label><input id='data-66964465-1bf5-4af2-bda2-d66c26fe25b3' class='xr-var-data-in' type='checkbox'><label for='data-66964465-1bf5-4af2-bda2-d66c26fe25b3' title='Show/Hide data repr'><svg class='icon xr-icon-database'><use xlink:href='#icon-database'></use></svg></label><div class='xr-var-attrs'><dl class='xr-attrs'><dt><span>long_name :</span></dt><dd>Start Epoch time of each track</dd></dl></div><div class='xr-var-data'><pre>array([&#x27;2019-01-01T00:30:00.000000000&#x27;, &#x27;2019-01-01T00:30:00.000000000&#x27;,\n",
       "       &#x27;2019-01-01T00:30:00.000000000&#x27;, ...,\n",
       "       &#x27;2019-12-31T16:30:00.000000000&#x27;, &#x27;2019-12-31T17:30:00.000000000&#x27;,\n",
       "       &#x27;2019-12-31T18:30:00.000000000&#x27;], dtype=&#x27;datetime64[ns]&#x27;)</pre></div></li><li class='xr-var-item'><div class='xr-var-name'><span>end_basetime</span></div><div class='xr-var-dims'>(tracks)</div><div class='xr-var-dtype'>datetime64[ns]</div><div class='xr-var-preview xr-preview'>2019-01-02T12:30:00 ... 2019-12-...</div><input id='attrs-9ad59005-6d87-480e-aada-9d29c8e3ae0d' class='xr-var-attrs-in' type='checkbox' ><label for='attrs-9ad59005-6d87-480e-aada-9d29c8e3ae0d' title='Show/Hide attributes'><svg class='icon xr-icon-file-text2'><use xlink:href='#icon-file-text2'></use></svg></label><input id='data-bbfb3152-845e-4637-ab17-5c4867f94f95' class='xr-var-data-in' type='checkbox'><label for='data-bbfb3152-845e-4637-ab17-5c4867f94f95' title='Show/Hide data repr'><svg class='icon xr-icon-database'><use xlink:href='#icon-database'></use></svg></label><div class='xr-var-attrs'><dl class='xr-attrs'><dt><span>long_name :</span></dt><dd>End Epoch time of each track</dd></dl></div><div class='xr-var-data'><pre>array([&#x27;2019-01-02T12:30:00.000000000&#x27;, &#x27;2019-01-02T03:30:00.000000000&#x27;,\n",
       "       &#x27;2019-01-01T16:30:00.000000000&#x27;, ...,\n",
       "       &#x27;2019-12-31T22:30:00.000000000&#x27;, &#x27;2019-12-31T22:30:00.000000000&#x27;,\n",
       "       &#x27;2019-12-31T22:30:00.000000000&#x27;], dtype=&#x27;datetime64[ns]&#x27;)</pre></div></li><li class='xr-var-item'><div class='xr-var-name'><span>start_split_cloudnumber</span></div><div class='xr-var-dims'>(tracks)</div><div class='xr-var-dtype'>float64</div><div class='xr-var-preview xr-preview'>...</div><input id='attrs-f85eeeab-2ebe-4201-844a-0740ba391aab' class='xr-var-attrs-in' type='checkbox' ><label for='attrs-f85eeeab-2ebe-4201-844a-0740ba391aab' title='Show/Hide attributes'><svg class='icon xr-icon-file-text2'><use xlink:href='#icon-file-text2'></use></svg></label><input id='data-101846fb-399a-40a8-b06a-a712dbc3e875' class='xr-var-data-in' type='checkbox'><label for='data-101846fb-399a-40a8-b06a-a712dbc3e875' title='Show/Hide data repr'><svg class='icon xr-icon-database'><use xlink:href='#icon-database'></use></svg></label><div class='xr-var-attrs'><dl class='xr-attrs'><dt><span>long_name :</span></dt><dd>Cloud number where this track splits from</dd><dt><span>units :</span></dt><dd>unitless</dd></dl></div><div class='xr-var-data'><pre>array([nan, nan, nan, ..., nan, 60., 17.])</pre></div></li><li class='xr-var-item'><div class='xr-var-name'><span>end_merge_cloudnumber</span></div><div class='xr-var-dims'>(tracks)</div><div class='xr-var-dtype'>float64</div><div class='xr-var-preview xr-preview'>...</div><input id='attrs-4078a07c-1d41-4686-b869-4be7b8b0c579' class='xr-var-attrs-in' type='checkbox' ><label for='attrs-4078a07c-1d41-4686-b869-4be7b8b0c579' title='Show/Hide attributes'><svg class='icon xr-icon-file-text2'><use xlink:href='#icon-file-text2'></use></svg></label><input id='data-0dd7745c-a81a-439f-9b38-a0f7e6cf6bba' class='xr-var-data-in' type='checkbox'><label for='data-0dd7745c-a81a-439f-9b38-a0f7e6cf6bba' title='Show/Hide data repr'><svg class='icon xr-icon-database'><use xlink:href='#icon-database'></use></svg></label><div class='xr-var-attrs'><dl class='xr-attrs'><dt><span>long_name :</span></dt><dd>Cloud number where this track merges with</dd><dt><span>units :</span></dt><dd>unitless</dd></dl></div><div class='xr-var-data'><pre>array([ 4.,  6., nan, ..., nan, nan, nan])</pre></div></li><li class='xr-var-item'><div class='xr-var-name'><span>base_time</span></div><div class='xr-var-dims'>(tracks, times)</div><div class='xr-var-dtype'>datetime64[ns]</div><div class='xr-var-preview xr-preview'>2019-01-01T00:30:00 ... NaT</div><input id='attrs-9ece4ab1-9a16-4998-995e-0427c548bcd3' class='xr-var-attrs-in' type='checkbox' ><label for='attrs-9ece4ab1-9a16-4998-995e-0427c548bcd3' title='Show/Hide attributes'><svg class='icon xr-icon-file-text2'><use xlink:href='#icon-file-text2'></use></svg></label><input id='data-8239e885-c8a7-4e03-87c9-fb080e5e6b49' class='xr-var-data-in' type='checkbox'><label for='data-8239e885-c8a7-4e03-87c9-fb080e5e6b49' title='Show/Hide data repr'><svg class='icon xr-icon-database'><use xlink:href='#icon-database'></use></svg></label><div class='xr-var-attrs'><dl class='xr-attrs'><dt><span>long_name :</span></dt><dd>Epoch time of a feature</dd></dl></div><div class='xr-var-data'><pre>array([[&#x27;2019-01-01T00:30:00.000000000&#x27;, &#x27;2019-01-01T01:30:00.000000000&#x27;,\n",
       "        &#x27;2019-01-01T02:30:00.000000000&#x27;, ...,\n",
       "                                  &#x27;NaT&#x27;,                           &#x27;NaT&#x27;,\n",
       "                                  &#x27;NaT&#x27;],\n",
       "       [&#x27;2019-01-01T00:30:00.000000000&#x27;, &#x27;2019-01-01T01:30:00.000000000&#x27;,\n",
       "        &#x27;2019-01-01T02:30:00.000000000&#x27;, ...,\n",
       "                                  &#x27;NaT&#x27;,                           &#x27;NaT&#x27;,\n",
       "                                  &#x27;NaT&#x27;],\n",
       "       [&#x27;2019-01-01T00:30:00.000000000&#x27;, &#x27;2019-01-01T01:30:00.000000000&#x27;,\n",
       "        &#x27;2019-01-01T02:30:00.000000000&#x27;, ...,\n",
       "                                  &#x27;NaT&#x27;,                           &#x27;NaT&#x27;,\n",
       "                                  &#x27;NaT&#x27;],\n",
       "       ...,\n",
       "       [&#x27;2019-12-31T16:30:00.000000000&#x27;, &#x27;2019-12-31T17:30:00.000000000&#x27;,\n",
       "        &#x27;2019-12-31T18:30:00.000000000&#x27;, ...,\n",
       "                                  &#x27;NaT&#x27;,                           &#x27;NaT&#x27;,\n",
       "                                  &#x27;NaT&#x27;],\n",
       "       [&#x27;2019-12-31T17:30:00.000000000&#x27;, &#x27;2019-12-31T18:30:00.000000000&#x27;,\n",
       "        &#x27;2019-12-31T19:30:00.000000000&#x27;, ...,\n",
       "                                  &#x27;NaT&#x27;,                           &#x27;NaT&#x27;,\n",
       "                                  &#x27;NaT&#x27;],\n",
       "       [&#x27;2019-12-31T18:30:00.000000000&#x27;, &#x27;2019-12-31T19:30:00.000000000&#x27;,\n",
       "        &#x27;2019-12-31T20:30:00.000000000&#x27;, ...,\n",
       "                                  &#x27;NaT&#x27;,                           &#x27;NaT&#x27;,\n",
       "                                  &#x27;NaT&#x27;]], dtype=&#x27;datetime64[ns]&#x27;)</pre></div></li><li class='xr-var-item'><div class='xr-var-name'><span>meanlat</span></div><div class='xr-var-dims'>(tracks, times)</div><div class='xr-var-dtype'>float32</div><div class='xr-var-preview xr-preview'>...</div><input id='attrs-b352ddc4-95bd-490f-88a0-8e8490668b37' class='xr-var-attrs-in' type='checkbox' ><label for='attrs-b352ddc4-95bd-490f-88a0-8e8490668b37' title='Show/Hide attributes'><svg class='icon xr-icon-file-text2'><use xlink:href='#icon-file-text2'></use></svg></label><input id='data-718a150f-9aa0-4a57-a2b4-04c80cdafce3' class='xr-var-data-in' type='checkbox'><label for='data-718a150f-9aa0-4a57-a2b4-04c80cdafce3' title='Show/Hide data repr'><svg class='icon xr-icon-database'><use xlink:href='#icon-database'></use></svg></label><div class='xr-var-attrs'><dl class='xr-attrs'><dt><span>long_name :</span></dt><dd>Mean latitude of a feature</dd><dt><span>units :</span></dt><dd>degrees_north</dd></dl></div><div class='xr-var-data'><pre>[13137200 values with dtype=float32]</pre></div></li><li class='xr-var-item'><div class='xr-var-name'><span>meanlon</span></div><div class='xr-var-dims'>(tracks, times)</div><div class='xr-var-dtype'>float32</div><div class='xr-var-preview xr-preview'>...</div><input id='attrs-e9f8817b-9f47-412c-8e66-92568f3d8243' class='xr-var-attrs-in' type='checkbox' ><label for='attrs-e9f8817b-9f47-412c-8e66-92568f3d8243' title='Show/Hide attributes'><svg class='icon xr-icon-file-text2'><use xlink:href='#icon-file-text2'></use></svg></label><input id='data-3f37fbbe-fc17-4074-9e85-7620a055bce3' class='xr-var-data-in' type='checkbox'><label for='data-3f37fbbe-fc17-4074-9e85-7620a055bce3' title='Show/Hide data repr'><svg class='icon xr-icon-database'><use xlink:href='#icon-database'></use></svg></label><div class='xr-var-attrs'><dl class='xr-attrs'><dt><span>long_name :</span></dt><dd>Mean longitude of a feature</dd><dt><span>units :</span></dt><dd>degrees_east</dd></dl></div><div class='xr-var-data'><pre>[13137200 values with dtype=float32]</pre></div></li><li class='xr-var-item'><div class='xr-var-name'><span>area</span></div><div class='xr-var-dims'>(tracks, times)</div><div class='xr-var-dtype'>float32</div><div class='xr-var-preview xr-preview'>...</div><input id='attrs-e30fe894-8f57-4472-8610-60b44e954fce' class='xr-var-attrs-in' type='checkbox' ><label for='attrs-e30fe894-8f57-4472-8610-60b44e954fce' title='Show/Hide attributes'><svg class='icon xr-icon-file-text2'><use xlink:href='#icon-file-text2'></use></svg></label><input id='data-bc9855af-6121-4dd9-84d7-8d52a6919ce2' class='xr-var-data-in' type='checkbox'><label for='data-bc9855af-6121-4dd9-84d7-8d52a6919ce2' title='Show/Hide data repr'><svg class='icon xr-icon-database'><use xlink:href='#icon-database'></use></svg></label><div class='xr-var-attrs'><dl class='xr-attrs'><dt><span>long_name :</span></dt><dd>Area of a feature</dd><dt><span>units :</span></dt><dd>km^2</dd></dl></div><div class='xr-var-data'><pre>[13137200 values with dtype=float32]</pre></div></li><li class='xr-var-item'><div class='xr-var-name'><span>cloudnumber</span></div><div class='xr-var-dims'>(tracks, times)</div><div class='xr-var-dtype'>float64</div><div class='xr-var-preview xr-preview'>...</div><input id='attrs-921fea8a-cb6d-4977-8dfd-b944fef4a346' class='xr-var-attrs-in' type='checkbox' ><label for='attrs-921fea8a-cb6d-4977-8dfd-b944fef4a346' title='Show/Hide attributes'><svg class='icon xr-icon-file-text2'><use xlink:href='#icon-file-text2'></use></svg></label><input id='data-9f648c62-69a9-4105-8bc8-4372ded631a1' class='xr-var-data-in' type='checkbox'><label for='data-9f648c62-69a9-4105-8bc8-4372ded631a1' title='Show/Hide data repr'><svg class='icon xr-icon-database'><use xlink:href='#icon-database'></use></svg></label><div class='xr-var-attrs'><dl class='xr-attrs'><dt><span>long_name :</span></dt><dd>Corresponding cloud number in cloudid file</dd><dt><span>units :</span></dt><dd>unitless</dd></dl></div><div class='xr-var-data'><pre>[13137200 values with dtype=float64]</pre></div></li><li class='xr-var-item'><div class='xr-var-name'><span>track_status</span></div><div class='xr-var-dims'>(tracks, times)</div><div class='xr-var-dtype'>float64</div><div class='xr-var-preview xr-preview'>...</div><input id='attrs-1e8fb96c-fc4e-4321-a3ad-8b69521ae116' class='xr-var-attrs-in' type='checkbox' ><label for='attrs-1e8fb96c-fc4e-4321-a3ad-8b69521ae116' title='Show/Hide attributes'><svg class='icon xr-icon-file-text2'><use xlink:href='#icon-file-text2'></use></svg></label><input id='data-5ee12268-0165-4c57-a0c9-18d6d73ff0c5' class='xr-var-data-in' type='checkbox'><label for='data-5ee12268-0165-4c57-a0c9-18d6d73ff0c5' title='Show/Hide data repr'><svg class='icon xr-icon-database'><use xlink:href='#icon-database'></use></svg></label><div class='xr-var-attrs'><dl class='xr-attrs'><dt><span>long_name :</span></dt><dd>Flag indicating the status of a track</dd><dt><span>units :</span></dt><dd>unitless</dd><dt><span>comments :</span></dt><dd>0: Track stops;  1: Simple track continuation;  2: This is the bigger cloud in simple merger;  3: This is the bigger cloud from a simple split that stops at this time;  4: This is the bigger cloud from a split and this cloud continues to the next time;  5: This is the bigger cloud from a split that subsequently is the big cloud in a merger;  13: This cloud splits at the next time step;  15: This cloud is the bigger cloud in a merge that then splits at the next time step;  16: This is the bigger cloud in a split that then splits at the next time step;  18: Merge-split at same time (big merge, splitter, and big split);  21: This is the smaller cloud in a simple merger;  24: This is the bigger cloud of a split that is then the small cloud in a merger;  31: This is the smaller cloud in a simple split that stops;  32: This is a small split that continues onto the next time step;  33: This is a small split that then is the bigger cloud in a merger;  34: This is the small cloud in a merger that then splits at the next time step;  37: Merge-split at same time (small merge, splitter, big split);  44: This is the smaller cloud in a split that is smaller cloud in a merger at the next time step;  46: Merge-split at same time (big merge, splitter, small split);  52: This is the smaller cloud in a split that is smaller cloud in a merger at the next time step;  65: Merge-split at same time (smaller merge, splitter, small split)</dd></dl></div><div class='xr-var-data'><pre>[13137200 values with dtype=float64]</pre></div></li><li class='xr-var-item'><div class='xr-var-name'><span>track_interruptions</span></div><div class='xr-var-dims'>(tracks, times)</div><div class='xr-var-dtype'>float64</div><div class='xr-var-preview xr-preview'>...</div><input id='attrs-77a18e60-e6be-4526-b205-28046cafe447' class='xr-var-attrs-in' type='checkbox' ><label for='attrs-77a18e60-e6be-4526-b205-28046cafe447' title='Show/Hide attributes'><svg class='icon xr-icon-file-text2'><use xlink:href='#icon-file-text2'></use></svg></label><input id='data-cc5abad1-7fda-47b7-8a39-5ed8625492b2' class='xr-var-data-in' type='checkbox'><label for='data-cc5abad1-7fda-47b7-8a39-5ed8625492b2' title='Show/Hide data repr'><svg class='icon xr-icon-database'><use xlink:href='#icon-database'></use></svg></label><div class='xr-var-attrs'><dl class='xr-attrs'><dt><span>long_name :</span></dt><dd>0 = full track available, good data. 1 = track starts at first file, track cut short by data availability. 2 = track ends at last file, track cut short by data availability</dd><dt><span>units :</span></dt><dd>unitless</dd></dl></div><div class='xr-var-data'><pre>[13137200 values with dtype=float64]</pre></div></li><li class='xr-var-item'><div class='xr-var-name'><span>core_area</span></div><div class='xr-var-dims'>(tracks, times)</div><div class='xr-var-dtype'>float32</div><div class='xr-var-preview xr-preview'>...</div><input id='attrs-0f9683d3-4ca1-45f9-9aed-39de220f34fd' class='xr-var-attrs-in' type='checkbox' ><label for='attrs-0f9683d3-4ca1-45f9-9aed-39de220f34fd' title='Show/Hide attributes'><svg class='icon xr-icon-file-text2'><use xlink:href='#icon-file-text2'></use></svg></label><input id='data-ccae8cf0-76eb-4f88-bf00-3f1e2da9931d' class='xr-var-data-in' type='checkbox'><label for='data-ccae8cf0-76eb-4f88-bf00-3f1e2da9931d' title='Show/Hide data repr'><svg class='icon xr-icon-database'><use xlink:href='#icon-database'></use></svg></label><div class='xr-var-attrs'><dl class='xr-attrs'><dt><span>long_name :</span></dt><dd>Area of cold core</dd><dt><span>units :</span></dt><dd>km^2</dd></dl></div><div class='xr-var-data'><pre>[13137200 values with dtype=float32]</pre></div></li><li class='xr-var-item'><div class='xr-var-name'><span>cold_area</span></div><div class='xr-var-dims'>(tracks, times)</div><div class='xr-var-dtype'>float32</div><div class='xr-var-preview xr-preview'>...</div><input id='attrs-38e8ce20-8afa-4b4e-850d-15f51631d974' class='xr-var-attrs-in' type='checkbox' ><label for='attrs-38e8ce20-8afa-4b4e-850d-15f51631d974' title='Show/Hide attributes'><svg class='icon xr-icon-file-text2'><use xlink:href='#icon-file-text2'></use></svg></label><input id='data-2089ed5a-502e-445e-8077-a8589c242abe' class='xr-var-data-in' type='checkbox'><label for='data-2089ed5a-502e-445e-8077-a8589c242abe' title='Show/Hide data repr'><svg class='icon xr-icon-database'><use xlink:href='#icon-database'></use></svg></label><div class='xr-var-attrs'><dl class='xr-attrs'><dt><span>long_name :</span></dt><dd>Area of cold anvil</dd><dt><span>units :</span></dt><dd>km^2</dd></dl></div><div class='xr-var-data'><pre>[13137200 values with dtype=float32]</pre></div></li><li class='xr-var-item'><div class='xr-var-name'><span>corecold_mintb</span></div><div class='xr-var-dims'>(tracks, times)</div><div class='xr-var-dtype'>float32</div><div class='xr-var-preview xr-preview'>...</div><input id='attrs-a0a30042-c68c-41df-b48e-7a351299c0f4' class='xr-var-attrs-in' type='checkbox' ><label for='attrs-a0a30042-c68c-41df-b48e-7a351299c0f4' title='Show/Hide attributes'><svg class='icon xr-icon-file-text2'><use xlink:href='#icon-file-text2'></use></svg></label><input id='data-91e188d6-a19e-4899-aadf-6c4a840abc4f' class='xr-var-data-in' type='checkbox'><label for='data-91e188d6-a19e-4899-aadf-6c4a840abc4f' title='Show/Hide data repr'><svg class='icon xr-icon-database'><use xlink:href='#icon-database'></use></svg></label><div class='xr-var-attrs'><dl class='xr-attrs'><dt><span>long_name :</span></dt><dd>Minimum Tb in cold core + cold anvil area</dd><dt><span>units :</span></dt><dd>K</dd></dl></div><div class='xr-var-data'><pre>[13137200 values with dtype=float32]</pre></div></li><li class='xr-var-item'><div class='xr-var-name'><span>corecold_meantb</span></div><div class='xr-var-dims'>(tracks, times)</div><div class='xr-var-dtype'>float32</div><div class='xr-var-preview xr-preview'>...</div><input id='attrs-f43cb317-d653-4900-b736-57e058abcd06' class='xr-var-attrs-in' type='checkbox' ><label for='attrs-f43cb317-d653-4900-b736-57e058abcd06' title='Show/Hide attributes'><svg class='icon xr-icon-file-text2'><use xlink:href='#icon-file-text2'></use></svg></label><input id='data-7369ecf2-a517-45ae-8a6c-1d59d6343b30' class='xr-var-data-in' type='checkbox'><label for='data-7369ecf2-a517-45ae-8a6c-1d59d6343b30' title='Show/Hide data repr'><svg class='icon xr-icon-database'><use xlink:href='#icon-database'></use></svg></label><div class='xr-var-attrs'><dl class='xr-attrs'><dt><span>long_name :</span></dt><dd>Mean Tb in cold core + cold anvil area</dd><dt><span>units :</span></dt><dd>K</dd></dl></div><div class='xr-var-data'><pre>[13137200 values with dtype=float32]</pre></div></li><li class='xr-var-item'><div class='xr-var-name'><span>core_meantb</span></div><div class='xr-var-dims'>(tracks, times)</div><div class='xr-var-dtype'>float32</div><div class='xr-var-preview xr-preview'>...</div><input id='attrs-7a03d69e-5181-4b99-8690-c5e48a2858ce' class='xr-var-attrs-in' type='checkbox' ><label for='attrs-7a03d69e-5181-4b99-8690-c5e48a2858ce' title='Show/Hide attributes'><svg class='icon xr-icon-file-text2'><use xlink:href='#icon-file-text2'></use></svg></label><input id='data-72d13fa1-fb28-4a7f-aac9-4aad66c13007' class='xr-var-data-in' type='checkbox'><label for='data-72d13fa1-fb28-4a7f-aac9-4aad66c13007' title='Show/Hide data repr'><svg class='icon xr-icon-database'><use xlink:href='#icon-database'></use></svg></label><div class='xr-var-attrs'><dl class='xr-attrs'><dt><span>long_name :</span></dt><dd>Mean Tb in cold core area</dd><dt><span>units :</span></dt><dd>K</dd></dl></div><div class='xr-var-data'><pre>[13137200 values with dtype=float32]</pre></div></li><li class='xr-var-item'><div class='xr-var-name'><span>mcs_duration</span></div><div class='xr-var-dims'>(tracks)</div><div class='xr-var-dtype'>int64</div><div class='xr-var-preview xr-preview'>...</div><input id='attrs-ced54020-67c5-4353-884a-ed161ac0a2e8' class='xr-var-attrs-in' type='checkbox' ><label for='attrs-ced54020-67c5-4353-884a-ed161ac0a2e8' title='Show/Hide attributes'><svg class='icon xr-icon-file-text2'><use xlink:href='#icon-file-text2'></use></svg></label><input id='data-c591b633-880d-46c2-a7a6-c299cabe0668' class='xr-var-data-in' type='checkbox'><label for='data-c591b633-880d-46c2-a7a6-c299cabe0668' title='Show/Hide data repr'><svg class='icon xr-icon-database'><use xlink:href='#icon-database'></use></svg></label><div class='xr-var-attrs'><dl class='xr-attrs'><dt><span>long_name :</span></dt><dd>Duration of MCS stage</dd><dt><span>units :</span></dt><dd>unitless</dd><dt><span>comments :</span></dt><dd>Multiply by time_resolution_hour to convert to physical units</dd></dl></div><div class='xr-var-data'><pre>array([37, 25, 16, ...,  4,  4,  5])</pre></div></li><li class='xr-var-item'><div class='xr-var-name'><span>mcs_status</span></div><div class='xr-var-dims'>(tracks, times)</div><div class='xr-var-dtype'>float32</div><div class='xr-var-preview xr-preview'>...</div><input id='attrs-83ea98bd-1e7e-4550-b616-94454ef325a7' class='xr-var-attrs-in' type='checkbox' ><label for='attrs-83ea98bd-1e7e-4550-b616-94454ef325a7' title='Show/Hide attributes'><svg class='icon xr-icon-file-text2'><use xlink:href='#icon-file-text2'></use></svg></label><input id='data-f7945825-b7d8-4f2f-9faa-5c0339e401db' class='xr-var-data-in' type='checkbox'><label for='data-f7945825-b7d8-4f2f-9faa-5c0339e401db' title='Show/Hide data repr'><svg class='icon xr-icon-database'><use xlink:href='#icon-database'></use></svg></label><div class='xr-var-attrs'><dl class='xr-attrs'><dt><span>long_name :</span></dt><dd>Flag indicating the status of MCS based on Tb. 1 = Yes, 0 = No</dd><dt><span>units :</span></dt><dd>unitless</dd></dl></div><div class='xr-var-data'><pre>[13137200 values with dtype=float32]</pre></div></li><li class='xr-var-item'><div class='xr-var-name'><span>ccs_area</span></div><div class='xr-var-dims'>(tracks, times)</div><div class='xr-var-dtype'>float32</div><div class='xr-var-preview xr-preview'>...</div><input id='attrs-f37620c9-05e5-4b6e-99e3-425a6397b4bf' class='xr-var-attrs-in' type='checkbox' ><label for='attrs-f37620c9-05e5-4b6e-99e3-425a6397b4bf' title='Show/Hide attributes'><svg class='icon xr-icon-file-text2'><use xlink:href='#icon-file-text2'></use></svg></label><input id='data-f25550cc-7983-48db-86cc-8a5d18f1716c' class='xr-var-data-in' type='checkbox'><label for='data-f25550cc-7983-48db-86cc-8a5d18f1716c' title='Show/Hide data repr'><svg class='icon xr-icon-database'><use xlink:href='#icon-database'></use></svg></label><div class='xr-var-attrs'><dl class='xr-attrs'><dt><span>long_name :</span></dt><dd>Area of cold cloud shield</dd><dt><span>units :</span></dt><dd>km^2</dd></dl></div><div class='xr-var-data'><pre>[13137200 values with dtype=float32]</pre></div></li><li class='xr-var-item'><div class='xr-var-name'><span>merge_cloudnumber</span></div><div class='xr-var-dims'>(tracks, times, mergers)</div><div class='xr-var-dtype'>float64</div><div class='xr-var-preview xr-preview'>...</div><input id='attrs-91f9ec43-5210-43fd-9cac-43295bb2c20e' class='xr-var-attrs-in' type='checkbox' ><label for='attrs-91f9ec43-5210-43fd-9cac-43295bb2c20e' title='Show/Hide attributes'><svg class='icon xr-icon-file-text2'><use xlink:href='#icon-file-text2'></use></svg></label><input id='data-2aa75b3a-60f9-4150-b1c2-80c275d6ef06' class='xr-var-data-in' type='checkbox'><label for='data-2aa75b3a-60f9-4150-b1c2-80c275d6ef06' title='Show/Hide data repr'><svg class='icon xr-icon-database'><use xlink:href='#icon-database'></use></svg></label><div class='xr-var-attrs'><dl class='xr-attrs'><dt><span>long_name :</span></dt><dd>Cloud numbers that merge into MCS</dd><dt><span>units :</span></dt><dd>unitless</dd></dl></div><div class='xr-var-data'><pre>[656860000 values with dtype=float64]</pre></div></li><li class='xr-var-item'><div class='xr-var-name'><span>split_cloudnumber</span></div><div class='xr-var-dims'>(tracks, times, mergers)</div><div class='xr-var-dtype'>float64</div><div class='xr-var-preview xr-preview'>...</div><input id='attrs-1fe13d1e-0a63-4b1f-8cbf-0a313f265b75' class='xr-var-attrs-in' type='checkbox' ><label for='attrs-1fe13d1e-0a63-4b1f-8cbf-0a313f265b75' title='Show/Hide attributes'><svg class='icon xr-icon-file-text2'><use xlink:href='#icon-file-text2'></use></svg></label><input id='data-1250d1c6-117a-4374-8300-63c523a91f45' class='xr-var-data-in' type='checkbox'><label for='data-1250d1c6-117a-4374-8300-63c523a91f45' title='Show/Hide data repr'><svg class='icon xr-icon-database'><use xlink:href='#icon-database'></use></svg></label><div class='xr-var-attrs'><dl class='xr-attrs'><dt><span>long_name :</span></dt><dd>Cloud numbers that split from MCS</dd><dt><span>units :</span></dt><dd>unitless</dd></dl></div><div class='xr-var-data'><pre>[656860000 values with dtype=float64]</pre></div></li><li class='xr-var-item'><div class='xr-var-name'><span>merge_ccs_area</span></div><div class='xr-var-dims'>(tracks, times, mergers)</div><div class='xr-var-dtype'>float32</div><div class='xr-var-preview xr-preview'>...</div><input id='attrs-62dbc4bd-2808-45fe-8dbc-3ea98b1fcf93' class='xr-var-attrs-in' type='checkbox' ><label for='attrs-62dbc4bd-2808-45fe-8dbc-3ea98b1fcf93' title='Show/Hide attributes'><svg class='icon xr-icon-file-text2'><use xlink:href='#icon-file-text2'></use></svg></label><input id='data-cfd446a4-b303-455a-8577-b4fbb0d09f0c' class='xr-var-data-in' type='checkbox'><label for='data-cfd446a4-b303-455a-8577-b4fbb0d09f0c' title='Show/Hide data repr'><svg class='icon xr-icon-database'><use xlink:href='#icon-database'></use></svg></label><div class='xr-var-attrs'><dl class='xr-attrs'><dt><span>long_name :</span></dt><dd>Cold cloud shield area that merge into MCS</dd><dt><span>units :</span></dt><dd>km^2</dd></dl></div><div class='xr-var-data'><pre>[656860000 values with dtype=float32]</pre></div></li><li class='xr-var-item'><div class='xr-var-name'><span>split_ccs_area</span></div><div class='xr-var-dims'>(tracks, times, mergers)</div><div class='xr-var-dtype'>float32</div><div class='xr-var-preview xr-preview'>...</div><input id='attrs-16dff461-b336-495c-b43b-a07f9fe5eec7' class='xr-var-attrs-in' type='checkbox' ><label for='attrs-16dff461-b336-495c-b43b-a07f9fe5eec7' title='Show/Hide attributes'><svg class='icon xr-icon-file-text2'><use xlink:href='#icon-file-text2'></use></svg></label><input id='data-a82bf7fd-cee4-4e13-be61-87fdbfbeaff9' class='xr-var-data-in' type='checkbox'><label for='data-a82bf7fd-cee4-4e13-be61-87fdbfbeaff9' title='Show/Hide data repr'><svg class='icon xr-icon-database'><use xlink:href='#icon-database'></use></svg></label><div class='xr-var-attrs'><dl class='xr-attrs'><dt><span>long_name :</span></dt><dd>Cold cloud shield area that split from MCS</dd><dt><span>units :</span></dt><dd>km^2</dd></dl></div><div class='xr-var-data'><pre>[656860000 values with dtype=float32]</pre></div></li><li class='xr-var-item'><div class='xr-var-name'><span>pf_npf</span></div><div class='xr-var-dims'>(tracks, times)</div><div class='xr-var-dtype'>float32</div><div class='xr-var-preview xr-preview'>...</div><input id='attrs-c0f6fab6-5bd9-42e0-a9ed-7986c054da4c' class='xr-var-attrs-in' type='checkbox' ><label for='attrs-c0f6fab6-5bd9-42e0-a9ed-7986c054da4c' title='Show/Hide attributes'><svg class='icon xr-icon-file-text2'><use xlink:href='#icon-file-text2'></use></svg></label><input id='data-e713a28f-99a8-437e-afe7-c0a4247e9bd3' class='xr-var-data-in' type='checkbox'><label for='data-e713a28f-99a8-437e-afe7-c0a4247e9bd3' title='Show/Hide data repr'><svg class='icon xr-icon-database'><use xlink:href='#icon-database'></use></svg></label><div class='xr-var-attrs'><dl class='xr-attrs'><dt><span>long_name :</span></dt><dd>Number of PF in the cloud</dd><dt><span>units :</span></dt><dd>unitless</dd></dl></div><div class='xr-var-data'><pre>[13137200 values with dtype=float32]</pre></div></li><li class='xr-var-item'><div class='xr-var-name'><span>pf_lon</span></div><div class='xr-var-dims'>(tracks, times, nmaxpf)</div><div class='xr-var-dtype'>float32</div><div class='xr-var-preview xr-preview'>...</div><input id='attrs-d3b0614b-8656-455e-af58-e84d0169eb9b' class='xr-var-attrs-in' type='checkbox' ><label for='attrs-d3b0614b-8656-455e-af58-e84d0169eb9b' title='Show/Hide attributes'><svg class='icon xr-icon-file-text2'><use xlink:href='#icon-file-text2'></use></svg></label><input id='data-41ae684e-4a3f-48c6-93ac-f389be894116' class='xr-var-data-in' type='checkbox'><label for='data-41ae684e-4a3f-48c6-93ac-f389be894116' title='Show/Hide data repr'><svg class='icon xr-icon-database'><use xlink:href='#icon-database'></use></svg></label><div class='xr-var-attrs'><dl class='xr-attrs'><dt><span>long_name :</span></dt><dd>Mean longitude of PF</dd><dt><span>units :</span></dt><dd>degrees</dd></dl></div><div class='xr-var-data'><pre>[39411600 values with dtype=float32]</pre></div></li><li class='xr-var-item'><div class='xr-var-name'><span>pf_lat</span></div><div class='xr-var-dims'>(tracks, times, nmaxpf)</div><div class='xr-var-dtype'>float32</div><div class='xr-var-preview xr-preview'>...</div><input id='attrs-a0073a69-6014-4a22-97d4-c4a07911c834' class='xr-var-attrs-in' type='checkbox' ><label for='attrs-a0073a69-6014-4a22-97d4-c4a07911c834' title='Show/Hide attributes'><svg class='icon xr-icon-file-text2'><use xlink:href='#icon-file-text2'></use></svg></label><input id='data-6521f5a3-1bd1-47fc-abdd-3665db5fc45f' class='xr-var-data-in' type='checkbox'><label for='data-6521f5a3-1bd1-47fc-abdd-3665db5fc45f' title='Show/Hide data repr'><svg class='icon xr-icon-database'><use xlink:href='#icon-database'></use></svg></label><div class='xr-var-attrs'><dl class='xr-attrs'><dt><span>long_name :</span></dt><dd>Mean latitude of PF</dd><dt><span>units :</span></dt><dd>degrees</dd></dl></div><div class='xr-var-data'><pre>[39411600 values with dtype=float32]</pre></div></li><li class='xr-var-item'><div class='xr-var-name'><span>pf_area</span></div><div class='xr-var-dims'>(tracks, times, nmaxpf)</div><div class='xr-var-dtype'>float32</div><div class='xr-var-preview xr-preview'>...</div><input id='attrs-cdcfd4e3-c377-4573-9e15-6f6e7ae73df2' class='xr-var-attrs-in' type='checkbox' ><label for='attrs-cdcfd4e3-c377-4573-9e15-6f6e7ae73df2' title='Show/Hide attributes'><svg class='icon xr-icon-file-text2'><use xlink:href='#icon-file-text2'></use></svg></label><input id='data-893aaf70-0ebb-4f12-944c-04e1f65f6ad9' class='xr-var-data-in' type='checkbox'><label for='data-893aaf70-0ebb-4f12-944c-04e1f65f6ad9' title='Show/Hide data repr'><svg class='icon xr-icon-database'><use xlink:href='#icon-database'></use></svg></label><div class='xr-var-attrs'><dl class='xr-attrs'><dt><span>long_name :</span></dt><dd>Area of PF</dd><dt><span>units :</span></dt><dd>km^2</dd></dl></div><div class='xr-var-data'><pre>[39411600 values with dtype=float32]</pre></div></li><li class='xr-var-item'><div class='xr-var-name'><span>pf_rainrate</span></div><div class='xr-var-dims'>(tracks, times, nmaxpf)</div><div class='xr-var-dtype'>float32</div><div class='xr-var-preview xr-preview'>...</div><input id='attrs-150302bd-278f-4491-812c-d7cd20e14884' class='xr-var-attrs-in' type='checkbox' ><label for='attrs-150302bd-278f-4491-812c-d7cd20e14884' title='Show/Hide attributes'><svg class='icon xr-icon-file-text2'><use xlink:href='#icon-file-text2'></use></svg></label><input id='data-4cd85426-72d8-4859-8631-c361305fae68' class='xr-var-data-in' type='checkbox'><label for='data-4cd85426-72d8-4859-8631-c361305fae68' title='Show/Hide data repr'><svg class='icon xr-icon-database'><use xlink:href='#icon-database'></use></svg></label><div class='xr-var-attrs'><dl class='xr-attrs'><dt><span>long_name :</span></dt><dd>Mean rain rate of PF</dd><dt><span>units :</span></dt><dd>mm/h</dd></dl></div><div class='xr-var-data'><pre>[39411600 values with dtype=float32]</pre></div></li><li class='xr-var-item'><div class='xr-var-name'><span>pf_skewness</span></div><div class='xr-var-dims'>(tracks, times, nmaxpf)</div><div class='xr-var-dtype'>float32</div><div class='xr-var-preview xr-preview'>...</div><input id='attrs-701cbb28-5ef5-404e-9eee-de8b55f64c1c' class='xr-var-attrs-in' type='checkbox' ><label for='attrs-701cbb28-5ef5-404e-9eee-de8b55f64c1c' title='Show/Hide attributes'><svg class='icon xr-icon-file-text2'><use xlink:href='#icon-file-text2'></use></svg></label><input id='data-8dbf8dcc-912a-4242-933d-062b92e8f16c' class='xr-var-data-in' type='checkbox'><label for='data-8dbf8dcc-912a-4242-933d-062b92e8f16c' title='Show/Hide data repr'><svg class='icon xr-icon-database'><use xlink:href='#icon-database'></use></svg></label><div class='xr-var-attrs'><dl class='xr-attrs'><dt><span>long_name :</span></dt><dd>Rain rate skewness of PF</dd><dt><span>units :</span></dt><dd>unitless</dd></dl></div><div class='xr-var-data'><pre>[39411600 values with dtype=float32]</pre></div></li><li class='xr-var-item'><div class='xr-var-name'><span>pf_majoraxis</span></div><div class='xr-var-dims'>(tracks, times, nmaxpf)</div><div class='xr-var-dtype'>float32</div><div class='xr-var-preview xr-preview'>...</div><input id='attrs-e2adc61c-0f4f-45ed-8ad9-1619ab0d9bc6' class='xr-var-attrs-in' type='checkbox' ><label for='attrs-e2adc61c-0f4f-45ed-8ad9-1619ab0d9bc6' title='Show/Hide attributes'><svg class='icon xr-icon-file-text2'><use xlink:href='#icon-file-text2'></use></svg></label><input id='data-4910dcf6-c023-4d78-8b54-5cb715d6e121' class='xr-var-data-in' type='checkbox'><label for='data-4910dcf6-c023-4d78-8b54-5cb715d6e121' title='Show/Hide data repr'><svg class='icon xr-icon-database'><use xlink:href='#icon-database'></use></svg></label><div class='xr-var-attrs'><dl class='xr-attrs'><dt><span>long_name :</span></dt><dd>Major axis length of PF</dd><dt><span>units :</span></dt><dd>km</dd></dl></div><div class='xr-var-data'><pre>[39411600 values with dtype=float32]</pre></div></li><li class='xr-var-item'><div class='xr-var-name'><span>pf_minoraxis</span></div><div class='xr-var-dims'>(tracks, times, nmaxpf)</div><div class='xr-var-dtype'>float32</div><div class='xr-var-preview xr-preview'>...</div><input id='attrs-31b94def-e9b0-4c4b-b9c1-704a77805f3f' class='xr-var-attrs-in' type='checkbox' ><label for='attrs-31b94def-e9b0-4c4b-b9c1-704a77805f3f' title='Show/Hide attributes'><svg class='icon xr-icon-file-text2'><use xlink:href='#icon-file-text2'></use></svg></label><input id='data-98070457-20c2-402b-9145-505463c28b1e' class='xr-var-data-in' type='checkbox'><label for='data-98070457-20c2-402b-9145-505463c28b1e' title='Show/Hide data repr'><svg class='icon xr-icon-database'><use xlink:href='#icon-database'></use></svg></label><div class='xr-var-attrs'><dl class='xr-attrs'><dt><span>long_name :</span></dt><dd>Minor axis length of PF</dd><dt><span>units :</span></dt><dd>km</dd></dl></div><div class='xr-var-data'><pre>[39411600 values with dtype=float32]</pre></div></li><li class='xr-var-item'><div class='xr-var-name'><span>pf_aspectratio</span></div><div class='xr-var-dims'>(tracks, times, nmaxpf)</div><div class='xr-var-dtype'>float32</div><div class='xr-var-preview xr-preview'>...</div><input id='attrs-d66de33a-592c-400a-bcad-e02611e0bc7d' class='xr-var-attrs-in' type='checkbox' ><label for='attrs-d66de33a-592c-400a-bcad-e02611e0bc7d' title='Show/Hide attributes'><svg class='icon xr-icon-file-text2'><use xlink:href='#icon-file-text2'></use></svg></label><input id='data-724857a2-abc5-406b-a74d-f3a3c949b4fe' class='xr-var-data-in' type='checkbox'><label for='data-724857a2-abc5-406b-a74d-f3a3c949b4fe' title='Show/Hide data repr'><svg class='icon xr-icon-database'><use xlink:href='#icon-database'></use></svg></label><div class='xr-var-attrs'><dl class='xr-attrs'><dt><span>long_name :</span></dt><dd>Aspect ratio (major axis / minor axis) of PF</dd><dt><span>units :</span></dt><dd>unitless</dd></dl></div><div class='xr-var-data'><pre>[39411600 values with dtype=float32]</pre></div></li><li class='xr-var-item'><div class='xr-var-name'><span>pf_orientation</span></div><div class='xr-var-dims'>(tracks, times, nmaxpf)</div><div class='xr-var-dtype'>float32</div><div class='xr-var-preview xr-preview'>...</div><input id='attrs-736dc62a-04c2-4a1e-93a5-de715291f4fa' class='xr-var-attrs-in' type='checkbox' ><label for='attrs-736dc62a-04c2-4a1e-93a5-de715291f4fa' title='Show/Hide attributes'><svg class='icon xr-icon-file-text2'><use xlink:href='#icon-file-text2'></use></svg></label><input id='data-d2edc95a-7e76-4f6c-983b-a849fff6b9be' class='xr-var-data-in' type='checkbox'><label for='data-d2edc95a-7e76-4f6c-983b-a849fff6b9be' title='Show/Hide data repr'><svg class='icon xr-icon-database'><use xlink:href='#icon-database'></use></svg></label><div class='xr-var-attrs'><dl class='xr-attrs'><dt><span>long_name :</span></dt><dd>Orientation of major axis of PF</dd><dt><span>units :</span></dt><dd>degrees</dd></dl></div><div class='xr-var-data'><pre>[39411600 values with dtype=float32]</pre></div></li><li class='xr-var-item'><div class='xr-var-name'><span>pf_eccentricity</span></div><div class='xr-var-dims'>(tracks, times, nmaxpf)</div><div class='xr-var-dtype'>float32</div><div class='xr-var-preview xr-preview'>...</div><input id='attrs-e82aa789-1bae-41ed-b24c-fc400813e733' class='xr-var-attrs-in' type='checkbox' ><label for='attrs-e82aa789-1bae-41ed-b24c-fc400813e733' title='Show/Hide attributes'><svg class='icon xr-icon-file-text2'><use xlink:href='#icon-file-text2'></use></svg></label><input id='data-261dff82-31cb-4d00-9e53-e1559a7c5040' class='xr-var-data-in' type='checkbox'><label for='data-261dff82-31cb-4d00-9e53-e1559a7c5040' title='Show/Hide data repr'><svg class='icon xr-icon-database'><use xlink:href='#icon-database'></use></svg></label><div class='xr-var-attrs'><dl class='xr-attrs'><dt><span>long_name :</span></dt><dd>Eccentricity of PF</dd><dt><span>units :</span></dt><dd>unitless</dd></dl></div><div class='xr-var-data'><pre>[39411600 values with dtype=float32]</pre></div></li><li class='xr-var-item'><div class='xr-var-name'><span>pf_lon_centroid</span></div><div class='xr-var-dims'>(tracks, times, nmaxpf)</div><div class='xr-var-dtype'>float32</div><div class='xr-var-preview xr-preview'>...</div><input id='attrs-e36fcce9-ff53-4dd2-8b53-e4e0d38359c7' class='xr-var-attrs-in' type='checkbox' ><label for='attrs-e36fcce9-ff53-4dd2-8b53-e4e0d38359c7' title='Show/Hide attributes'><svg class='icon xr-icon-file-text2'><use xlink:href='#icon-file-text2'></use></svg></label><input id='data-fc62f8fb-f57c-49be-aaeb-0fedbe3853e8' class='xr-var-data-in' type='checkbox'><label for='data-fc62f8fb-f57c-49be-aaeb-0fedbe3853e8' title='Show/Hide data repr'><svg class='icon xr-icon-database'><use xlink:href='#icon-database'></use></svg></label><div class='xr-var-attrs'><dl class='xr-attrs'><dt><span>long_name :</span></dt><dd>Centroid longitude of PF</dd><dt><span>units :</span></dt><dd>degrees</dd></dl></div><div class='xr-var-data'><pre>[39411600 values with dtype=float32]</pre></div></li><li class='xr-var-item'><div class='xr-var-name'><span>pf_lat_centroid</span></div><div class='xr-var-dims'>(tracks, times, nmaxpf)</div><div class='xr-var-dtype'>float32</div><div class='xr-var-preview xr-preview'>...</div><input id='attrs-f95d005e-9d04-4aff-992d-a5e76876ce3c' class='xr-var-attrs-in' type='checkbox' ><label for='attrs-f95d005e-9d04-4aff-992d-a5e76876ce3c' title='Show/Hide attributes'><svg class='icon xr-icon-file-text2'><use xlink:href='#icon-file-text2'></use></svg></label><input id='data-2d01fe34-1190-47dd-8801-491602543bce' class='xr-var-data-in' type='checkbox'><label for='data-2d01fe34-1190-47dd-8801-491602543bce' title='Show/Hide data repr'><svg class='icon xr-icon-database'><use xlink:href='#icon-database'></use></svg></label><div class='xr-var-attrs'><dl class='xr-attrs'><dt><span>long_name :</span></dt><dd>Centroid latitude of PF</dd><dt><span>units :</span></dt><dd>degrees</dd></dl></div><div class='xr-var-data'><pre>[39411600 values with dtype=float32]</pre></div></li><li class='xr-var-item'><div class='xr-var-name'><span>pf_lon_weightedcentroid</span></div><div class='xr-var-dims'>(tracks, times, nmaxpf)</div><div class='xr-var-dtype'>float32</div><div class='xr-var-preview xr-preview'>...</div><input id='attrs-14eea7b7-86d3-4c5d-b907-8abb32822619' class='xr-var-attrs-in' type='checkbox' ><label for='attrs-14eea7b7-86d3-4c5d-b907-8abb32822619' title='Show/Hide attributes'><svg class='icon xr-icon-file-text2'><use xlink:href='#icon-file-text2'></use></svg></label><input id='data-517a1b58-0780-4872-84be-9b5512781b0a' class='xr-var-data-in' type='checkbox'><label for='data-517a1b58-0780-4872-84be-9b5512781b0a' title='Show/Hide data repr'><svg class='icon xr-icon-database'><use xlink:href='#icon-database'></use></svg></label><div class='xr-var-attrs'><dl class='xr-attrs'><dt><span>long_name :</span></dt><dd>Weighted centroid longitude of PF</dd><dt><span>units :</span></dt><dd>degrees</dd></dl></div><div class='xr-var-data'><pre>[39411600 values with dtype=float32]</pre></div></li><li class='xr-var-item'><div class='xr-var-name'><span>pf_lat_weightedcentroid</span></div><div class='xr-var-dims'>(tracks, times, nmaxpf)</div><div class='xr-var-dtype'>float32</div><div class='xr-var-preview xr-preview'>...</div><input id='attrs-f803c69c-92cf-4a65-ae66-86c171d53598' class='xr-var-attrs-in' type='checkbox' ><label for='attrs-f803c69c-92cf-4a65-ae66-86c171d53598' title='Show/Hide attributes'><svg class='icon xr-icon-file-text2'><use xlink:href='#icon-file-text2'></use></svg></label><input id='data-fc7a0292-664f-4be3-acd8-7d17c92bc464' class='xr-var-data-in' type='checkbox'><label for='data-fc7a0292-664f-4be3-acd8-7d17c92bc464' title='Show/Hide data repr'><svg class='icon xr-icon-database'><use xlink:href='#icon-database'></use></svg></label><div class='xr-var-attrs'><dl class='xr-attrs'><dt><span>long_name :</span></dt><dd>Weighted centroid latitude of PF</dd><dt><span>units :</span></dt><dd>degrees</dd></dl></div><div class='xr-var-data'><pre>[39411600 values with dtype=float32]</pre></div></li><li class='xr-var-item'><div class='xr-var-name'><span>pf_maxrainrate</span></div><div class='xr-var-dims'>(tracks, times, nmaxpf)</div><div class='xr-var-dtype'>float32</div><div class='xr-var-preview xr-preview'>...</div><input id='attrs-d2b09a9c-6940-45ff-80f1-4f0c85830f04' class='xr-var-attrs-in' type='checkbox' ><label for='attrs-d2b09a9c-6940-45ff-80f1-4f0c85830f04' title='Show/Hide attributes'><svg class='icon xr-icon-file-text2'><use xlink:href='#icon-file-text2'></use></svg></label><input id='data-d597df95-dcc0-4b17-bb94-bdfb3d227e40' class='xr-var-data-in' type='checkbox'><label for='data-d597df95-dcc0-4b17-bb94-bdfb3d227e40' title='Show/Hide data repr'><svg class='icon xr-icon-database'><use xlink:href='#icon-database'></use></svg></label><div class='xr-var-attrs'><dl class='xr-attrs'><dt><span>long_name :</span></dt><dd>Max rain rate of PF</dd><dt><span>units :</span></dt><dd>mm/h</dd></dl></div><div class='xr-var-data'><pre>[39411600 values with dtype=float32]</pre></div></li><li class='xr-var-item'><div class='xr-var-name'><span>pf_accumrain</span></div><div class='xr-var-dims'>(tracks, times, nmaxpf)</div><div class='xr-var-dtype'>float32</div><div class='xr-var-preview xr-preview'>...</div><input id='attrs-69ca2a1d-5164-4bca-9198-a3bc9a239e4d' class='xr-var-attrs-in' type='checkbox' ><label for='attrs-69ca2a1d-5164-4bca-9198-a3bc9a239e4d' title='Show/Hide attributes'><svg class='icon xr-icon-file-text2'><use xlink:href='#icon-file-text2'></use></svg></label><input id='data-3726d0b3-2e8c-448f-bbfe-9cf0537e7342' class='xr-var-data-in' type='checkbox'><label for='data-3726d0b3-2e8c-448f-bbfe-9cf0537e7342' title='Show/Hide data repr'><svg class='icon xr-icon-database'><use xlink:href='#icon-database'></use></svg></label><div class='xr-var-attrs'><dl class='xr-attrs'><dt><span>long_name :</span></dt><dd>Accumulate precipitation of PF</dd><dt><span>units :</span></dt><dd>mm/h</dd></dl></div><div class='xr-var-data'><pre>[39411600 values with dtype=float32]</pre></div></li><li class='xr-var-item'><div class='xr-var-name'><span>pf_accumrainheavy</span></div><div class='xr-var-dims'>(tracks, times, nmaxpf)</div><div class='xr-var-dtype'>float32</div><div class='xr-var-preview xr-preview'>...</div><input id='attrs-049d8d38-a0ef-4ccf-a247-064e87e52c86' class='xr-var-attrs-in' type='checkbox' ><label for='attrs-049d8d38-a0ef-4ccf-a247-064e87e52c86' title='Show/Hide attributes'><svg class='icon xr-icon-file-text2'><use xlink:href='#icon-file-text2'></use></svg></label><input id='data-a4223c24-5d7b-43d3-a7de-8ea08d9cc3e1' class='xr-var-data-in' type='checkbox'><label for='data-a4223c24-5d7b-43d3-a7de-8ea08d9cc3e1' title='Show/Hide data repr'><svg class='icon xr-icon-database'><use xlink:href='#icon-database'></use></svg></label><div class='xr-var-attrs'><dl class='xr-attrs'><dt><span>long_name :</span></dt><dd>Accumulated heavy precipitation of PF</dd><dt><span>units :</span></dt><dd>mm/h</dd><dt><span>heavy_rainrate_threshold :</span></dt><dd>10.0</dd></dl></div><div class='xr-var-data'><pre>[39411600 values with dtype=float32]</pre></div></li><li class='xr-var-item'><div class='xr-var-name'><span>pf_landfrac</span></div><div class='xr-var-dims'>(tracks, times)</div><div class='xr-var-dtype'>float32</div><div class='xr-var-preview xr-preview'>...</div><input id='attrs-2040f020-d5ab-4980-abbd-ff2cb4380ad4' class='xr-var-attrs-in' type='checkbox' ><label for='attrs-2040f020-d5ab-4980-abbd-ff2cb4380ad4' title='Show/Hide attributes'><svg class='icon xr-icon-file-text2'><use xlink:href='#icon-file-text2'></use></svg></label><input id='data-f73d2b11-c313-43f1-a136-6e58d7717066' class='xr-var-data-in' type='checkbox'><label for='data-f73d2b11-c313-43f1-a136-6e58d7717066' title='Show/Hide data repr'><svg class='icon xr-icon-database'><use xlink:href='#icon-database'></use></svg></label><div class='xr-var-attrs'><dl class='xr-attrs'><dt><span>long_name :</span></dt><dd>Fraction of PF over land</dd><dt><span>units :</span></dt><dd>fraction</dd></dl></div><div class='xr-var-data'><pre>[13137200 values with dtype=float32]</pre></div></li><li class='xr-var-item'><div class='xr-var-name'><span>total_rain</span></div><div class='xr-var-dims'>(tracks, times)</div><div class='xr-var-dtype'>float32</div><div class='xr-var-preview xr-preview'>...</div><input id='attrs-cfa6b945-3791-4bbf-b0a3-938b67d74f07' class='xr-var-attrs-in' type='checkbox' ><label for='attrs-cfa6b945-3791-4bbf-b0a3-938b67d74f07' title='Show/Hide attributes'><svg class='icon xr-icon-file-text2'><use xlink:href='#icon-file-text2'></use></svg></label><input id='data-cfd08799-8e39-4442-be5b-be77e646ece7' class='xr-var-data-in' type='checkbox'><label for='data-cfd08799-8e39-4442-be5b-be77e646ece7' title='Show/Hide data repr'><svg class='icon xr-icon-database'><use xlink:href='#icon-database'></use></svg></label><div class='xr-var-attrs'><dl class='xr-attrs'><dt><span>long_name :</span></dt><dd>Total precipitation under cold cloud shield (all rainfall included)</dd><dt><span>units :</span></dt><dd>mm/h</dd></dl></div><div class='xr-var-data'><pre>[13137200 values with dtype=float32]</pre></div></li><li class='xr-var-item'><div class='xr-var-name'><span>total_heavyrain</span></div><div class='xr-var-dims'>(tracks, times)</div><div class='xr-var-dtype'>float32</div><div class='xr-var-preview xr-preview'>...</div><input id='attrs-88d80cf0-1515-4667-b723-3df761c49d79' class='xr-var-attrs-in' type='checkbox' ><label for='attrs-88d80cf0-1515-4667-b723-3df761c49d79' title='Show/Hide attributes'><svg class='icon xr-icon-file-text2'><use xlink:href='#icon-file-text2'></use></svg></label><input id='data-d9cb2206-b003-4d55-ab4c-75caa87f05f6' class='xr-var-data-in' type='checkbox'><label for='data-d9cb2206-b003-4d55-ab4c-75caa87f05f6' title='Show/Hide data repr'><svg class='icon xr-icon-database'><use xlink:href='#icon-database'></use></svg></label><div class='xr-var-attrs'><dl class='xr-attrs'><dt><span>long_name :</span></dt><dd>Total heavy precipitation under cold cloud shield</dd><dt><span>units :</span></dt><dd>mm/h</dd><dt><span>heavy_rainrate_threshold :</span></dt><dd>10.0</dd></dl></div><div class='xr-var-data'><pre>[13137200 values with dtype=float32]</pre></div></li><li class='xr-var-item'><div class='xr-var-name'><span>rainrate_heavyrain</span></div><div class='xr-var-dims'>(tracks, times)</div><div class='xr-var-dtype'>float32</div><div class='xr-var-preview xr-preview'>...</div><input id='attrs-f5abc751-d509-4e7b-9393-946d59a1ed43' class='xr-var-attrs-in' type='checkbox' ><label for='attrs-f5abc751-d509-4e7b-9393-946d59a1ed43' title='Show/Hide attributes'><svg class='icon xr-icon-file-text2'><use xlink:href='#icon-file-text2'></use></svg></label><input id='data-51f950cd-94a6-43a9-818c-6476492779ef' class='xr-var-data-in' type='checkbox'><label for='data-51f950cd-94a6-43a9-818c-6476492779ef' title='Show/Hide data repr'><svg class='icon xr-icon-database'><use xlink:href='#icon-database'></use></svg></label><div class='xr-var-attrs'><dl class='xr-attrs'><dt><span>long_name :</span></dt><dd>Mean heavy rain rate under cold cloud shield</dd><dt><span>units :</span></dt><dd>mm/h</dd><dt><span>heavy_rainrate_threshold :</span></dt><dd>10.0</dd></dl></div><div class='xr-var-data'><pre>[13137200 values with dtype=float32]</pre></div></li><li class='xr-var-item'><div class='xr-var-name'><span>pf_lifetime</span></div><div class='xr-var-dims'>(tracks)</div><div class='xr-var-dtype'>float32</div><div class='xr-var-preview xr-preview'>...</div><input id='attrs-54b1bd78-922c-4baa-9eb5-0c747f4b62a1' class='xr-var-attrs-in' type='checkbox' ><label for='attrs-54b1bd78-922c-4baa-9eb5-0c747f4b62a1' title='Show/Hide attributes'><svg class='icon xr-icon-file-text2'><use xlink:href='#icon-file-text2'></use></svg></label><input id='data-4df6d85c-fb1e-48d8-9dca-872772e506ef' class='xr-var-data-in' type='checkbox'><label for='data-4df6d85c-fb1e-48d8-9dca-872772e506ef' title='Show/Hide data repr'><svg class='icon xr-icon-database'><use xlink:href='#icon-database'></use></svg></label><div class='xr-var-attrs'><dl class='xr-attrs'><dt><span>long_name :</span></dt><dd>MCS lifetime when a significant PF is present</dd><dt><span>units :</span></dt><dd>hour</dd></dl></div><div class='xr-var-data'><pre>array([37., 16., 17., ...,  7.,  6.,  5.], dtype=float32)</pre></div></li><li class='xr-var-item'><div class='xr-var-name'><span>pf_mcsstatus</span></div><div class='xr-var-dims'>(tracks, times)</div><div class='xr-var-dtype'>float64</div><div class='xr-var-preview xr-preview'>...</div><input id='attrs-a0887f6f-c282-44f5-9e49-b9d2ff356298' class='xr-var-attrs-in' type='checkbox' ><label for='attrs-a0887f6f-c282-44f5-9e49-b9d2ff356298' title='Show/Hide attributes'><svg class='icon xr-icon-file-text2'><use xlink:href='#icon-file-text2'></use></svg></label><input id='data-1ed3e7db-f834-4f97-8360-ec7d6e7fe938' class='xr-var-data-in' type='checkbox'><label for='data-1ed3e7db-f834-4f97-8360-ec7d6e7fe938' title='Show/Hide data repr'><svg class='icon xr-icon-database'><use xlink:href='#icon-database'></use></svg></label><div class='xr-var-attrs'><dl class='xr-attrs'><dt><span>long_name :</span></dt><dd>Flag indicating the status of MCS based on PF. 1 = Yes, 0 = No</dd><dt><span>units :</span></dt><dd>unitless</dd></dl></div><div class='xr-var-data'><pre>[13137200 values with dtype=float64]</pre></div></li><li class='xr-var-item'><div class='xr-var-name'><span>movement_distance</span></div><div class='xr-var-dims'>(tracks, times)</div><div class='xr-var-dtype'>float32</div><div class='xr-var-preview xr-preview'>...</div><input id='attrs-bcd7a641-725f-4ffd-953a-c03fef350a83' class='xr-var-attrs-in' type='checkbox' ><label for='attrs-bcd7a641-725f-4ffd-953a-c03fef350a83' title='Show/Hide attributes'><svg class='icon xr-icon-file-text2'><use xlink:href='#icon-file-text2'></use></svg></label><input id='data-1f18de0a-514d-4a01-bbf7-b686de3d8954' class='xr-var-data-in' type='checkbox'><label for='data-1f18de0a-514d-4a01-bbf7-b686de3d8954' title='Show/Hide data repr'><svg class='icon xr-icon-database'><use xlink:href='#icon-database'></use></svg></label><div class='xr-var-attrs'><dl class='xr-attrs'><dt><span>long_name :</span></dt><dd>Movement distance along angle movement_theta</dd><dt><span>units :</span></dt><dd>km</dd><dt><span>lag :</span></dt><dd>1</dd><dt><span>comments :</span></dt><dd>This is the total movement along the angle theta between lag estimates.</dd></dl></div><div class='xr-var-data'><pre>[13137200 values with dtype=float32]</pre></div></li><li class='xr-var-item'><div class='xr-var-name'><span>movement_speed</span></div><div class='xr-var-dims'>(tracks, times)</div><div class='xr-var-dtype'>float32</div><div class='xr-var-preview xr-preview'>...</div><input id='attrs-fb4d3b30-4bb5-45ad-8beb-1c30a84f1fd1' class='xr-var-attrs-in' type='checkbox' ><label for='attrs-fb4d3b30-4bb5-45ad-8beb-1c30a84f1fd1' title='Show/Hide attributes'><svg class='icon xr-icon-file-text2'><use xlink:href='#icon-file-text2'></use></svg></label><input id='data-58500fb3-595f-4591-87fd-2efb60cbad8f' class='xr-var-data-in' type='checkbox'><label for='data-58500fb3-595f-4591-87fd-2efb60cbad8f' title='Show/Hide data repr'><svg class='icon xr-icon-database'><use xlink:href='#icon-database'></use></svg></label><div class='xr-var-attrs'><dl class='xr-attrs'><dt><span>long_name :</span></dt><dd>Movement speed along angle movement_theta</dd><dt><span>units :</span></dt><dd>m/s</dd></dl></div><div class='xr-var-data'><pre>[13137200 values with dtype=float32]</pre></div></li><li class='xr-var-item'><div class='xr-var-name'><span>movement_theta</span></div><div class='xr-var-dims'>(tracks, times)</div><div class='xr-var-dtype'>float32</div><div class='xr-var-preview xr-preview'>...</div><input id='attrs-572920fc-57f2-4151-ab21-f97de35f81c4' class='xr-var-attrs-in' type='checkbox' ><label for='attrs-572920fc-57f2-4151-ab21-f97de35f81c4' title='Show/Hide attributes'><svg class='icon xr-icon-file-text2'><use xlink:href='#icon-file-text2'></use></svg></label><input id='data-5e418c21-f6f1-4fdb-869b-e9f43a720f30' class='xr-var-data-in' type='checkbox'><label for='data-5e418c21-f6f1-4fdb-869b-e9f43a720f30' title='Show/Hide data repr'><svg class='icon xr-icon-database'><use xlink:href='#icon-database'></use></svg></label><div class='xr-var-attrs'><dl class='xr-attrs'><dt><span>long_name :</span></dt><dd>Movement direction</dd><dt><span>units :</span></dt><dd>degrees</dd></dl></div><div class='xr-var-data'><pre>[13137200 values with dtype=float32]</pre></div></li><li class='xr-var-item'><div class='xr-var-name'><span>movement_distance_x</span></div><div class='xr-var-dims'>(tracks, times)</div><div class='xr-var-dtype'>float32</div><div class='xr-var-preview xr-preview'>...</div><input id='attrs-63b1a947-bc8b-49dd-83f8-635e8c01247b' class='xr-var-attrs-in' type='checkbox' ><label for='attrs-63b1a947-bc8b-49dd-83f8-635e8c01247b' title='Show/Hide attributes'><svg class='icon xr-icon-file-text2'><use xlink:href='#icon-file-text2'></use></svg></label><input id='data-189826c8-de3e-4602-892e-92365725812c' class='xr-var-data-in' type='checkbox'><label for='data-189826c8-de3e-4602-892e-92365725812c' title='Show/Hide data repr'><svg class='icon xr-icon-database'><use xlink:href='#icon-database'></use></svg></label><div class='xr-var-attrs'><dl class='xr-attrs'><dt><span>long_name :</span></dt><dd>East-West component of movement distance</dd><dt><span>units :</span></dt><dd>km</dd></dl></div><div class='xr-var-data'><pre>[13137200 values with dtype=float32]</pre></div></li><li class='xr-var-item'><div class='xr-var-name'><span>movement_distance_y</span></div><div class='xr-var-dims'>(tracks, times)</div><div class='xr-var-dtype'>float32</div><div class='xr-var-preview xr-preview'>...</div><input id='attrs-135711b4-2a70-48c9-a058-f1e7e5dfc2c1' class='xr-var-attrs-in' type='checkbox' ><label for='attrs-135711b4-2a70-48c9-a058-f1e7e5dfc2c1' title='Show/Hide attributes'><svg class='icon xr-icon-file-text2'><use xlink:href='#icon-file-text2'></use></svg></label><input id='data-c6cd32d2-3b57-4ba0-864b-e2452805c061' class='xr-var-data-in' type='checkbox'><label for='data-c6cd32d2-3b57-4ba0-864b-e2452805c061' title='Show/Hide data repr'><svg class='icon xr-icon-database'><use xlink:href='#icon-database'></use></svg></label><div class='xr-var-attrs'><dl class='xr-attrs'><dt><span>long_name :</span></dt><dd>North-South component of movement distance</dd><dt><span>units :</span></dt><dd>km</dd></dl></div><div class='xr-var-data'><pre>[13137200 values with dtype=float32]</pre></div></li></ul></div></li><li class='xr-section-item'><input id='section-d0e0de7e-dc2d-4729-bf15-4c792ed6e35f' class='xr-section-summary-in' type='checkbox'  ><label for='section-d0e0de7e-dc2d-4729-bf15-4c792ed6e35f' class='xr-section-summary' >Attributes: <span>(23)</span></label><div class='xr-section-inline-details'></div><div class='xr-section-details'><dl class='xr-attrs'><dt><span>Title :</span></dt><dd>Statistics of each MCS track</dd><dt><span>Institution :</span></dt><dd>Pacific Northwest National Laboratory</dd><dt><span>Contact :</span></dt><dd>Zhe Feng, zhe.feng@pnnl.gov</dd><dt><span>Created_on :</span></dt><dd>Mon Feb 28 05:50:54 2022</dd><dt><span>startdate :</span></dt><dd>20190101.0000</dd><dt><span>enddate :</span></dt><dd>20200101.0000</dd><dt><span>timegap_hour :</span></dt><dd>3.1</dd><dt><span>time_resolution_hour :</span></dt><dd>1.0</dd><dt><span>pixel_radius_km :</span></dt><dd>10.0</dd><dt><span>MCS_duration_hr :</span></dt><dd>4</dd><dt><span>MCS_area_km^2 :</span></dt><dd>40000</dd><dt><span>nmaxpf :</span></dt><dd>3</dd><dt><span>PF_rainrate_thresh :</span></dt><dd>2.0</dd><dt><span>heavy_rainrate_thresh :</span></dt><dd>10.0</dd><dt><span>landfrac_thresh :</span></dt><dd>90</dd><dt><span>MCS_PF_majoraxis_thresh :</span></dt><dd>100</dd><dt><span>MCS_PF_duration_thresh :</span></dt><dd>4</dd><dt><span>PF_PF_min_majoraxis_thresh :</span></dt><dd>20</dd><dt><span>coefs_pf_area :</span></dt><dd>[2874.05    89.825]</dd><dt><span>coefs_pf_rr :</span></dt><dd>[3.01657   0.0144461]</dd><dt><span>coefs_pf_skew :</span></dt><dd>[0.194462  0.0100072]</dd><dt><span>coefs_pf_heavyratio :</span></dt><dd>[3.419024 0.438709]</dd><dt><span>max_speed_thresh :</span></dt><dd>50</dd></dl></div></li></ul></div></div>"
      ],
      "text/plain": [
       "<xarray.Dataset>\n",
       "Dimensions:                  (tracks: 32843, times: 400, mergers: 50, nmaxpf: 3)\n",
       "Coordinates:\n",
       "  * tracks                   (tracks) int64 0 1 2 3 ... 32839 32840 32841 32842\n",
       "  * times                    (times) int64 0 1 2 3 4 5 ... 395 396 397 398 399\n",
       "  * mergers                  (mergers) int64 0 1 2 3 4 5 6 ... 44 45 46 47 48 49\n",
       "  * nmaxpf                   (nmaxpf) int64 0 1 2\n",
       "Data variables: (12/55)\n",
       "    track_duration           (tracks) int32 ...\n",
       "    start_status             (tracks) float64 ...\n",
       "    end_status               (tracks) float64 ...\n",
       "    start_basetime           (tracks) datetime64[ns] 2019-01-01T00:30:00 ... ...\n",
       "    end_basetime             (tracks) datetime64[ns] 2019-01-02T12:30:00 ... ...\n",
       "    start_split_cloudnumber  (tracks) float64 ...\n",
       "    ...                       ...\n",
       "    pf_mcsstatus             (tracks, times) float64 ...\n",
       "    movement_distance        (tracks, times) float32 ...\n",
       "    movement_speed           (tracks, times) float32 ...\n",
       "    movement_theta           (tracks, times) float32 ...\n",
       "    movement_distance_x      (tracks, times) float32 ...\n",
       "    movement_distance_y      (tracks, times) float32 ...\n",
       "Attributes: (12/23)\n",
       "    Title:                       Statistics of each MCS track\n",
       "    Institution:                 Pacific Northwest National Laboratory\n",
       "    Contact:                     Zhe Feng, zhe.feng@pnnl.gov\n",
       "    Created_on:                  Mon Feb 28 05:50:54 2022\n",
       "    startdate:                   20190101.0000\n",
       "    enddate:                     20200101.0000\n",
       "    ...                          ...\n",
       "    PF_PF_min_majoraxis_thresh:  20\n",
       "    coefs_pf_area:               [2874.05    89.825]\n",
       "    coefs_pf_rr:                 [3.01657   0.0144461]\n",
       "    coefs_pf_skew:               [0.194462  0.0100072]\n",
       "    coefs_pf_heavyratio:         [3.419024 0.438709]\n",
       "    max_speed_thresh:            50"
      ]
     },
     "execution_count": 4,
     "metadata": {},
     "output_type": "execute_result"
    }
   ],
   "source": [
    "tracks.dstracks"
   ]
  },
  {
   "cell_type": "code",
   "execution_count": 8,
   "id": "11873fd1-a8eb-4259-994f-80e4f443a4a3",
   "metadata": {},
   "outputs": [],
   "source": [
    "track_start_times = pd.DatetimeIndex(tracks.dstracks.start_basetime.values)"
   ]
  },
  {
   "cell_type": "code",
   "execution_count": 9,
   "id": "78beccc2-10c2-4789-808a-f788ad69c269",
   "metadata": {},
   "outputs": [
    {
     "data": {
      "text/plain": [
       "DatetimeIndex(['2019-01-01 00:30:00', '2019-01-01 00:30:00',\n",
       "               '2019-01-01 00:30:00', '2019-01-01 00:30:00',\n",
       "               '2019-01-01 00:30:00', '2019-01-01 00:30:00',\n",
       "               '2019-01-01 00:30:00', '2019-01-01 00:30:00',\n",
       "               '2019-01-01 00:30:00', '2019-01-01 00:30:00',\n",
       "               ...\n",
       "               '2019-12-31 15:30:00', '2019-12-31 15:30:00',\n",
       "               '2019-12-31 15:30:00', '2019-12-31 15:30:00',\n",
       "               '2019-12-31 16:30:00', '2019-12-31 16:30:00',\n",
       "               '2019-12-31 16:30:00', '2019-12-31 16:30:00',\n",
       "               '2019-12-31 17:30:00', '2019-12-31 18:30:00'],\n",
       "              dtype='datetime64[ns]', length=32843, freq=None)"
      ]
     },
     "execution_count": 9,
     "metadata": {},
     "output_type": "execute_result"
    }
   ],
   "source": [
    "track_start_times"
   ]
  },
  {
   "cell_type": "code",
   "execution_count": 20,
   "id": "beb7b5a4-66a9-4856-ae8a-4e007b7d0a83",
   "metadata": {},
   "outputs": [],
   "source": [
    "lst_offset = tracks.dstracks.meanlon.values[:, 0] / 360 * 24 * 3600 * 1e3"
   ]
  },
  {
   "cell_type": "code",
   "execution_count": 25,
   "id": "1ccfb1c2-c85c-4755-8019-d63ab6316a4f",
   "metadata": {},
   "outputs": [],
   "source": [
    "lst_track_start_times = track_start_times + lst_offset.astype('timedelta64[ms]')"
   ]
  },
  {
   "cell_type": "code",
   "execution_count": 26,
   "id": "2672a4ea-7780-4abb-a7b8-7826971d8b06",
   "metadata": {},
   "outputs": [
    {
     "data": {
      "text/plain": [
       "DatetimeIndex(['2018-12-31 12:55:14.612000', '2018-12-31 19:17:34.090000',\n",
       "               '2018-12-31 15:46:21.194000', '2019-01-01 11:54:09.028000',\n",
       "               '2018-12-31 14:05:40.492000', '2018-12-31 15:38:48.072000',\n",
       "               '2019-01-01 07:52:54.624000', '2018-12-31 14:23:40.068000',\n",
       "               '2019-01-01 02:19:02.346000', '2019-01-01 07:59:18.066000'],\n",
       "              dtype='datetime64[ns]', freq=None)"
      ]
     },
     "execution_count": 26,
     "metadata": {},
     "output_type": "execute_result"
    }
   ],
   "source": [
    "lst_track_start_times[:10]"
   ]
  },
  {
   "cell_type": "code",
   "execution_count": 27,
   "id": "825fc370-e5a3-47d1-bb46-3ef89ce3d204",
   "metadata": {},
   "outputs": [
    {
     "data": {
      "text/plain": [
       "DatetimeIndex(['2019-01-01 00:30:00', '2019-01-01 00:30:00',\n",
       "               '2019-01-01 00:30:00', '2019-01-01 00:30:00',\n",
       "               '2019-01-01 00:30:00', '2019-01-01 00:30:00',\n",
       "               '2019-01-01 00:30:00', '2019-01-01 00:30:00',\n",
       "               '2019-01-01 00:30:00', '2019-01-01 00:30:00'],\n",
       "              dtype='datetime64[ns]', freq=None)"
      ]
     },
     "execution_count": 27,
     "metadata": {},
     "output_type": "execute_result"
    }
   ],
   "source": [
    "track_start_times[:10]"
   ]
  },
  {
   "cell_type": "code",
   "execution_count": 32,
   "id": "4372ca53-f9e2-4f29-99d9-b29cd9817e55",
   "metadata": {},
   "outputs": [
    {
     "data": {
      "text/plain": [
       "array([-173.68912 ,  -78.107956, -130.9117  ,  171.03761 , -156.08128 ,\n",
       "       -132.79971 ,  110.72759 , -151.58307 ,   27.259775,  112.32528 ],\n",
       "      dtype=float32)"
      ]
     },
     "execution_count": 32,
     "metadata": {},
     "output_type": "execute_result"
    }
   ],
   "source": [
    "tracks.dstracks.meanlon.values[:10, 0]"
   ]
  },
  {
   "cell_type": "code",
   "execution_count": 29,
   "id": "472ffef1-e9a3-4f81-97f9-730c8522adde",
   "metadata": {},
   "outputs": [
    {
     "data": {
      "text/plain": [
       "array([-11.579274 ,  -5.207197 ,  -8.727447 ,  11.402508 , -10.405418 ,\n",
       "        -8.853313 ,   7.3818398, -10.105537 ,   1.8173184,   7.488352 ],\n",
       "      dtype=float32)"
      ]
     },
     "execution_count": 29,
     "metadata": {},
     "output_type": "execute_result"
    }
   ],
   "source": [
    "tracks.dstracks.meanlon.values[:10, 0] / 360 * 24"
   ]
  },
  {
   "cell_type": "code",
   "execution_count": 33,
   "id": "fffc6a0e-e731-4720-b34a-54d4c7bed01e",
   "metadata": {},
   "outputs": [
    {
     "data": {
      "text/plain": [
       "Int64Index([12, 19, 15, 11, 14, 15,  7, 14,  2,  7,\n",
       "            ...\n",
       "            10,  4, 12, 11, 13, 13, 12, 12, 10, 21],\n",
       "           dtype='int64', length=32843)"
      ]
     },
     "execution_count": 33,
     "metadata": {},
     "output_type": "execute_result"
    }
   ],
   "source": [
    "lst_track_start_times.hour"
   ]
  },
  {
   "cell_type": "code",
   "execution_count": 38,
   "id": "18359aba-b51a-4043-ad0d-00ab3fe51e71",
   "metadata": {},
   "outputs": [
    {
     "data": {
      "text/plain": [
       "[(0, 1335),\n",
       " (1, 1257),\n",
       " (2, 1174),\n",
       " (3, 1110),\n",
       " (4, 1086),\n",
       " (5, 1061),\n",
       " (6, 1073),\n",
       " (7, 1072),\n",
       " (8, 982),\n",
       " (9, 1106),\n",
       " (10, 1192),\n",
       " (11, 1500),\n",
       " (12, 1898),\n",
       " (13, 2114),\n",
       " (14, 1830),\n",
       " (15, 1494),\n",
       " (16, 1451),\n",
       " (17, 1468),\n",
       " (18, 1514),\n",
       " (19, 1584),\n",
       " (20, 1440),\n",
       " (21, 1416),\n",
       " (22, 1419),\n",
       " (23, 1267)]"
      ]
     },
     "execution_count": 38,
     "metadata": {},
     "output_type": "execute_result"
    }
   ],
   "source": [
    "[(i, (lst_track_start_times.hour == i).sum()) for i in range(24)]"
   ]
  },
  {
   "cell_type": "code",
   "execution_count": 39,
   "id": "a9eef94e-d6cf-4c96-9592-bbe866694cfe",
   "metadata": {},
   "outputs": [],
   "source": [
    "import matplotlib.pyplot as plt\n",
    "import matplotlib as mpl"
   ]
  },
  {
   "cell_type": "code",
   "execution_count": 40,
   "id": "e1dd095a-7eca-4b69-a2c9-d989b990f208",
   "metadata": {},
   "outputs": [],
   "source": [
    "twilight = mpl.colormaps['twilight']"
   ]
  },
  {
   "cell_type": "code",
   "execution_count": 41,
   "id": "57ee4b19-2cb5-4bcd-bc26-cc8dfcd7b178",
   "metadata": {},
   "outputs": [
    {
     "data": {
      "image/png": "[encoded data removed]",
      "text/html": [
       "<div style=\"vertical-align: middle;\"><strong>twilight</strong> </div><div class=\"cmap\"><img alt=\"twilight colormap\" title=\"twilight\" style=\"border: 1px solid #555;\" src=\"data:image/png;base64,iVBORw0KGgoAAAANSUhEUgAAAgAAAABACAYAAABsv8+/AAAAF3RFWHRUaXRsZQB0d2lsaWdodCBjb2xvcm1hcEflX9wAAAAddEVYdERlc2NyaXB0aW9uAHR3aWxpZ2h0IGNvbG9ybWFwbpu49QAAADB0RVh0QXV0aG9yAE1hdHBsb3RsaWIgdjMuNS4xLCBodHRwczovL21hdHBsb3RsaWIub3Jn97fOzwAAADJ0RVh0U29mdHdhcmUATWF0cGxvdGxpYiB2My41LjEsIGh0dHBzOi8vbWF0cGxvdGxpYi5vcmfZEVHoAAACuUlEQVR4nO3WQXLbMAwFUJD3P2C37UHELERRoKzW3eO9mUxAEKQdx5r57fevPyOm0SIiRlyNketx1qs37nrbm/3j2h9n73jujbHVx7znXs9zj/Of63Ru3ZfmHv37NfK5/cx9b6z3f77mZ2+8zH3tz3viZS/SmXj255vdZ+97IvVz77pz1esP2ee32eMv/Ws+f3D5jiPPja2/rb/0xueHfs/e/5w09/ggj7SXZ4/5AeSz41j1OI5H7zi/5XM91tlj7T3rMY6ImPNxrs8n5KrTXsz7Yp7f9uaZSPsj98Z86o5Uz34bW2890S3vR0Q7P9M2y4iW6tmPluo0M6v336lu7WO/R4vW9nP9H+s839edL3Pf6hbzfMz+9R4jzcX9Wu3ea+0x97Y3f/rWG/v+y3y0z97/zpz9Fq2/z639q+7XXluz20zf91bd25pb53pL67e5tubOOs/kXkt3zf5zpj/mW4voPa37duZe93u97unRUv987TzX0/2f/dZ6RE/1dfeq3/feZ9vLzKyjpXvmN36r9y/Hevqu/Yh7//EUx/mvBgCqEQAAoCABAAAKEgAAoCABAAAKEgAAoCABAAAKEgAAoCABAAAKEgAAoCABAAAKEgAAoCABAAAKEgAAoCABAAAKEgAAoCABAAAKEgAAoCABAAAKEgAAoCABAAAKEgAAoCABAAAKEgAAoCABAAAKEgAAoCABAAAKEgAAoCABAAAKEgAAoCABAAAKEgAAoCABAAAKEgAAoCABAAAKEgAAoCABAAAKEgAAoCABAAAKEgAAoCABAAAKEgAAoCABAAAKEgAAoCABAAAKEgAAoCABAAAKEgAAoCABAAAKEgAAoCABAAAKEgAAoCABAAAKEgAAoCABAAAKEgAAoCABAAAKEgAAoCABAAAKEgAAoCABAAAKEgAAoCABAAAK+gFQq+8ozaIrHgAAAABJRU5ErkJggg==\"></div><div style=\"vertical-align: middle; max-width: 514px; display: flex; justify-content: space-between;\"><div style=\"float: left;\"><div title=\"#e2d9e2ff\" style=\"display: inline-block; width: 1em; height: 1em; margin: 0; vertical-align: middle; border: 1px solid #555; background-color: #e2d9e2ff;\"></div> under</div><div style=\"margin: 0 auto; display: inline-block;\">bad <div title=\"#00000000\" style=\"display: inline-block; width: 1em; height: 1em; margin: 0; vertical-align: middle; border: 1px solid #555; background-color: #00000000;\"></div></div><div style=\"float: right;\">over <div title=\"#e2d9e2ff\" style=\"display: inline-block; width: 1em; height: 1em; margin: 0; vertical-align: middle; border: 1px solid #555; background-color: #e2d9e2ff;\"></div></div>"
      ],
      "text/plain": [
       "<matplotlib.colors.ListedColormap at 0x7f47e8cbb730>"
      ]
     },
     "execution_count": 41,
     "metadata": {},
     "output_type": "execute_result"
    }
   ],
   "source": [
    "twilight"
   ]
  },
  {
   "cell_type": "code",
   "execution_count": 43,
   "id": "5a0156dd-6a71-40b4-919d-586feda1ca47",
   "metadata": {},
   "outputs": [
    {
     "data": {
      "text/plain": [
       "(0.8837852019553906, 0.8507294054031063, 0.8872322209694989, 1.0)"
      ]
     },
     "execution_count": 43,
     "metadata": {},
     "output_type": "execute_result"
    }
   ],
   "source": [
    "twilight(1)"
   ]
  },
  {
   "cell_type": "code",
   "execution_count": null,
   "id": "957abab5-8321-47d9-a04e-9b17bb220253",
   "metadata": {},
   "outputs": [],
   "source": []
  }
 ],
 "metadata": {
  "kernelspec": {
   "display_name": "mcs_prime_env",
   "language": "python",
   "name": "mcs_prime_env"
  },
  "language_info": {
   "codemirror_mode": {
    "name": "ipython",
    "version": 3
   },
   "file_extension": ".py",
   "mimetype": "text/x-python",
   "name": "python",
   "nbconvert_exporter": "python",
   "pygments_lexer": "ipython3",
   "version": "3.10.4"
  }
 },
 "nbformat": 4,
 "nbformat_minor": 5
}
