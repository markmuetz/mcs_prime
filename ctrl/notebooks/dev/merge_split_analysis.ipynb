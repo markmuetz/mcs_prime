{
 "cells": [
  {
   "cell_type": "markdown",
   "id": "87cf5e9f-8a58-4191-9600-7cd3f62388f5",
   "metadata": {},
   "source": [
    "# Merge/split analysis\n",
    "\n",
    "See [merge_split_epxeriments](merge_split_experiments.ipynb) for inital dev work. From that, I worked out a few things to do with how merges/splits work, summarized here.\n",
    "\n",
    "1. Clouds smaller than MCSs can be merged/split into an MCS. This is what e.g. the `dstracks.merge_cloudnumber` fields tracks. Likewise, this info is in the `dspixel` data.\n",
    "2. MCSs can merge split, if the clouds (as above) are large enough to fulfil the MCS criteria.\n",
    "3. The information about which MCS a daughter MCS split from (or merges into) can be obtained from the `dstracks` data.\n",
    "\n",
    "Here, I'm going to do some nicer analysis that demonstrates the above for sharing with other people.\n",
    "\n",
    "* 13/6/22: Initial work"
   ]
  },
  {
   "cell_type": "markdown",
   "id": "c6b1048b-209c-4c02-ae0d-82ffa4ba2a39",
   "metadata": {},
   "source": [
    "## Analysis 1 (merge/split clouds)"
   ]
  },
  {
   "cell_type": "code",
   "execution_count": 1,
   "id": "b4443374-eb50-4c87-92cc-860189bdecdb",
   "metadata": {},
   "outputs": [
    {
     "name": "stderr",
     "output_type": "stream",
     "text": [
      "/home/users/mmuetz/miniconda3/envs/mcs_prime_env/lib/python3.10/site-packages/pyproj/__init__.py:89: UserWarning: pyproj unable to set database path.\n",
      "  _pyproj_global_context_initialize()\n"
     ]
    },
    {
     "ename": "KeyboardInterrupt",
     "evalue": "",
     "output_type": "error",
     "traceback": [
      "\u001b[0;31m---------------------------------------------------------------------------\u001b[0m",
      "\u001b[0;31mKeyboardInterrupt\u001b[0m                         Traceback (most recent call last)",
      "Input \u001b[0;32mIn [1]\u001b[0m, in \u001b[0;36m<cell line: 16>\u001b[0;34m()\u001b[0m\n\u001b[1;32m     13\u001b[0m \u001b[38;5;28;01mfrom\u001b[39;00m \u001b[38;5;21;01mscipy\u001b[39;00m \u001b[38;5;28;01mimport\u001b[39;00m interpolate\n\u001b[1;32m     14\u001b[0m \u001b[38;5;28;01mimport\u001b[39;00m \u001b[38;5;21;01mxarray\u001b[39;00m \u001b[38;5;28;01mas\u001b[39;00m \u001b[38;5;21;01mxr\u001b[39;00m\n\u001b[0;32m---> 16\u001b[0m \u001b[38;5;28;01mfrom\u001b[39;00m \u001b[38;5;21;01mmcs_prime\u001b[39;00m \u001b[38;5;28;01mimport\u001b[39;00m McsTracks, McsTrack, PATHS\n\u001b[1;32m     17\u001b[0m \u001b[38;5;28;01mfrom\u001b[39;00m \u001b[38;5;21;01mmcs_prime\u001b[39;00m\u001b[38;5;21;01m.\u001b[39;00m\u001b[38;5;21;01mutil\u001b[39;00m \u001b[38;5;28;01mimport\u001b[39;00m update_progress\n\u001b[1;32m     18\u001b[0m get_ipython()\u001b[38;5;241m.\u001b[39mrun_line_magic(\u001b[38;5;124m'\u001b[39m\u001b[38;5;124mmatplotlib\u001b[39m\u001b[38;5;124m'\u001b[39m, \u001b[38;5;124m'\u001b[39m\u001b[38;5;124minline\u001b[39m\u001b[38;5;124m'\u001b[39m)\n",
      "File \u001b[0;32m~/projects/mcs_prime/mcs_prime/__init__.py:1\u001b[0m, in \u001b[0;36m<module>\u001b[0;34m\u001b[0m\n\u001b[0;32m----> 1\u001b[0m \u001b[38;5;28;01mfrom\u001b[39;00m \u001b[38;5;21;01m.\u001b[39;00m\u001b[38;5;21;01mmcs_tracks\u001b[39;00m \u001b[38;5;28;01mimport\u001b[39;00m McsTracks, McsTrack, PixelData, PixelFrames, PixelFrame\n\u001b[1;32m      2\u001b[0m \u001b[38;5;28;01mfrom\u001b[39;00m \u001b[38;5;21;01m.\u001b[39;00m\u001b[38;5;21;01mmcs_prime_config\u001b[39;00m \u001b[38;5;28;01mimport\u001b[39;00m PATHS\n\u001b[1;32m      3\u001b[0m \u001b[38;5;28;01mfrom\u001b[39;00m \u001b[38;5;21;01m.\u001b[39;00m\u001b[38;5;21;01mversion\u001b[39;00m \u001b[38;5;28;01mimport\u001b[39;00m VERSION\n",
      "File \u001b[0;32m~/projects/mcs_prime/mcs_prime/mcs_tracks.py:20\u001b[0m, in \u001b[0;36m<module>\u001b[0;34m\u001b[0m\n\u001b[1;32m     17\u001b[0m \u001b[38;5;28;01mimport\u001b[39;00m \u001b[38;5;21;01mxarray\u001b[39;00m \u001b[38;5;28;01mas\u001b[39;00m \u001b[38;5;21;01mxr\u001b[39;00m\n\u001b[1;32m     19\u001b[0m \u001b[38;5;28;01mfrom\u001b[39;00m \u001b[38;5;21;01m.\u001b[39;00m\u001b[38;5;21;01mutil\u001b[39;00m \u001b[38;5;28;01mimport\u001b[39;00m round_times_to_nearest_second\n\u001b[0;32m---> 20\u001b[0m \u001b[38;5;28;01mfrom\u001b[39;00m \u001b[38;5;21;01m.\u001b[39;00m\u001b[38;5;21;01mmcs_prime_config\u001b[39;00m \u001b[38;5;28;01mimport\u001b[39;00m status_dict\n\u001b[1;32m     23\u001b[0m \u001b[38;5;28;01mdef\u001b[39;00m \u001b[38;5;21mround_away_from_zero_to_sigfig\u001b[39m(val, nsf):\n\u001b[1;32m     24\u001b[0m     sign \u001b[38;5;241m=\u001b[39m \u001b[38;5;241m1\u001b[39m \u001b[38;5;28;01mif\u001b[39;00m val \u001b[38;5;241m>\u001b[39m\u001b[38;5;241m=\u001b[39m \u001b[38;5;241m0\u001b[39m \u001b[38;5;28;01melse\u001b[39;00m \u001b[38;5;241m-\u001b[39m\u001b[38;5;241m1\u001b[39m\n",
      "File \u001b[0;32m~/projects/mcs_prime/mcs_prime/mcs_prime_config.py:40\u001b[0m, in \u001b[0;36m<module>\u001b[0;34m\u001b[0m\n\u001b[1;32m     38\u001b[0m PATHS \u001b[38;5;241m=\u001b[39m ALL_PATHS[hostname]\n\u001b[1;32m     39\u001b[0m \u001b[38;5;28;01mfor\u001b[39;00m k, path \u001b[38;5;129;01min\u001b[39;00m PATHS\u001b[38;5;241m.\u001b[39mitems():\n\u001b[0;32m---> 40\u001b[0m     \u001b[38;5;28;01mif\u001b[39;00m \u001b[38;5;129;01mnot\u001b[39;00m \u001b[43mpath\u001b[49m\u001b[38;5;241;43m.\u001b[39;49m\u001b[43mexists\u001b[49m\u001b[43m(\u001b[49m\u001b[43m)\u001b[49m:\n\u001b[1;32m     41\u001b[0m         warnings\u001b[38;5;241m.\u001b[39mwarn(\u001b[38;5;124mf\u001b[39m\u001b[38;5;124m'\u001b[39m\u001b[38;5;124mWarning: path missing \u001b[39m\u001b[38;5;132;01m{\u001b[39;00mk\u001b[38;5;132;01m}\u001b[39;00m\u001b[38;5;124m: \u001b[39m\u001b[38;5;132;01m{\u001b[39;00mpath\u001b[38;5;132;01m}\u001b[39;00m\u001b[38;5;124m'\u001b[39m)\n\u001b[1;32m     43\u001b[0m \u001b[38;5;66;03m# Generated using:\u001b[39;00m\n\u001b[1;32m     44\u001b[0m \u001b[38;5;66;03m# dict((int(v[0]), v[1].strip()) for v in [l.strip().split(':') for l in tracks.dstracks.track_status.attrs['comments'].split(';')]))\u001b[39;00m\n",
      "File \u001b[0;32m~/miniconda3/envs/mcs_prime_env/lib/python3.10/pathlib.py:1288\u001b[0m, in \u001b[0;36mPath.exists\u001b[0;34m(self)\u001b[0m\n\u001b[1;32m   1284\u001b[0m \u001b[38;5;124;03m\"\"\"\u001b[39;00m\n\u001b[1;32m   1285\u001b[0m \u001b[38;5;124;03mWhether this path exists.\u001b[39;00m\n\u001b[1;32m   1286\u001b[0m \u001b[38;5;124;03m\"\"\"\u001b[39;00m\n\u001b[1;32m   1287\u001b[0m \u001b[38;5;28;01mtry\u001b[39;00m:\n\u001b[0;32m-> 1288\u001b[0m     \u001b[38;5;28;43mself\u001b[39;49m\u001b[38;5;241;43m.\u001b[39;49m\u001b[43mstat\u001b[49m\u001b[43m(\u001b[49m\u001b[43m)\u001b[49m\n\u001b[1;32m   1289\u001b[0m \u001b[38;5;28;01mexcept\u001b[39;00m \u001b[38;5;167;01mOSError\u001b[39;00m \u001b[38;5;28;01mas\u001b[39;00m e:\n\u001b[1;32m   1290\u001b[0m     \u001b[38;5;28;01mif\u001b[39;00m \u001b[38;5;129;01mnot\u001b[39;00m _ignore_error(e):\n",
      "File \u001b[0;32m~/miniconda3/envs/mcs_prime_env/lib/python3.10/pathlib.py:1095\u001b[0m, in \u001b[0;36mPath.stat\u001b[0;34m(self, follow_symlinks)\u001b[0m\n\u001b[1;32m   1090\u001b[0m \u001b[38;5;28;01mdef\u001b[39;00m \u001b[38;5;21mstat\u001b[39m(\u001b[38;5;28mself\u001b[39m, \u001b[38;5;241m*\u001b[39m, follow_symlinks\u001b[38;5;241m=\u001b[39m\u001b[38;5;28;01mTrue\u001b[39;00m):\n\u001b[1;32m   1091\u001b[0m     \u001b[38;5;124;03m\"\"\"\u001b[39;00m\n\u001b[1;32m   1092\u001b[0m \u001b[38;5;124;03m    Return the result of the stat() system call on this path, like\u001b[39;00m\n\u001b[1;32m   1093\u001b[0m \u001b[38;5;124;03m    os.stat() does.\u001b[39;00m\n\u001b[1;32m   1094\u001b[0m \u001b[38;5;124;03m    \"\"\"\u001b[39;00m\n\u001b[0;32m-> 1095\u001b[0m     \u001b[38;5;28;01mreturn\u001b[39;00m \u001b[38;5;28;43mself\u001b[39;49m\u001b[38;5;241;43m.\u001b[39;49m\u001b[43m_accessor\u001b[49m\u001b[38;5;241;43m.\u001b[39;49m\u001b[43mstat\u001b[49m\u001b[43m(\u001b[49m\u001b[38;5;28;43mself\u001b[39;49m\u001b[43m,\u001b[49m\u001b[43m \u001b[49m\u001b[43mfollow_symlinks\u001b[49m\u001b[38;5;241;43m=\u001b[39;49m\u001b[43mfollow_symlinks\u001b[49m\u001b[43m)\u001b[49m\n",
      "\u001b[0;31mKeyboardInterrupt\u001b[0m: "
     ]
    }
   ],
   "source": [
    "import datetime as dt\n",
    "import itertools\n",
    "from pathlib import Path\n",
    "\n",
    "import dask\n",
    "import matplotlib as mpl\n",
    "import matplotlib.pyplot as plt\n",
    "plt.rcParams[\"animation.html\"] = \"jshtml\"\n",
    "import matplotlib.animation\n",
    "import numpy as np\n",
    "import pandas as pd\n",
    "from scipy import stats\n",
    "from scipy import interpolate\n",
    "import xarray as xr\n",
    "\n",
    "from mcs_prime import McsTracks, McsTrack, PATHS\n",
    "from mcs_prime.util import update_progress\n",
    "%matplotlib inline"
   ]
  },
  {
   "cell_type": "markdown",
   "id": "d3ac148f-8ed3-4d6c-95ba-5b274e1526ea",
   "metadata": {},
   "source": [
    "Load all tracks from 2000/6-2020/12"
   ]
  },
  {
   "cell_type": "code",
   "execution_count": null,
   "id": "251372ab-1243-4e3d-908c-aab1d51f57ee",
   "metadata": {},
   "outputs": [],
   "source": [
    "tracks = tracks = McsTracks.load(PATHS['statsdir'] / 'mcs_tracks_final_extc_20190101.0000_20200101.0000.nc', \n",
    "                                 PATHS['pixeldir'])\n",
    "tracks"
   ]
  },
  {
   "cell_type": "code",
   "execution_count": null,
   "id": "86af00c6-d824-4425-83af-41e30657e489",
   "metadata": {},
   "outputs": [],
   "source": [
    "dstrack = tracks.dstracks.isel(tracks=(tracks.dstracks.track_duration > 30) & (tracks.dstracks.track_duration < 40)).isel(tracks=0)\n",
    "track = McsTrack(dstrack.tracks.values.item(), dstrack, tracks.pixel_data)\n",
    "\n",
    "\n",
    "# track = tracks.get_track(15477)\n",
    "# track = tracks.get_track(298)\n",
    "# track = tracks.get_track(1234)\n",
    "track"
   ]
  },
  {
   "cell_type": "code",
   "execution_count": null,
   "id": "b62c51d9-5142-4595-a104-9830df81ee40",
   "metadata": {},
   "outputs": [],
   "source": [
    "start = pd.Timestamp(track.dstrack.start_basetime.values).to_pydatetime()\n",
    "end = pd.Timestamp(track.dstrack.end_basetime.values).to_pydatetime()"
   ]
  },
  {
   "cell_type": "code",
   "execution_count": null,
   "id": "5e01d25f-3be6-45ed-bf79-55ce328f2796",
   "metadata": {},
   "outputs": [],
   "source": [
    "frames = tracks.pixel_data.get_frames(start, end)"
   ]
  },
  {
   "cell_type": "code",
   "execution_count": null,
   "id": "30d1fa22-1299-44cd-939a-25957dab166b",
   "metadata": {},
   "outputs": [],
   "source": [
    "# frames.dspixel.cloudnumber.load()\n",
    "swath_extent = frames.get_min_max_lon_lat(track.cloudnumber)"
   ]
  },
  {
   "cell_type": "code",
   "execution_count": null,
   "id": "429ce3eb-ff44-42ac-b932-9d94c428e08e",
   "metadata": {},
   "outputs": [],
   "source": [
    "def plot_cloud_merge_split(i):\n",
    "    cn = track.cloudnumber[i]\n",
    "    ax.clear()\n",
    "    ax.contour(frames.dspixel.lon, frames.dspixel.lat, frames.dspixel.cloudnumber[i] == cn, levels=[0.5], colors=['k'])\n",
    "    ax.set_xlim(swath_extent[:2])\n",
    "    ax.set_ylim(swath_extent[2:])\n",
    "    for mcn in track.dstrack.merge_cloudnumber.values[i]:\n",
    "        if np.isnan(mcn):\n",
    "            break\n",
    "        ax.contour(frames.dspixel.lon, frames.dspixel.lat, frames.dspixel.cloudnumber[i] == mcn, levels=[0.5], colors=['g'])\n",
    "    for scn in track.dstrack.split_cloudnumber.values[i]:\n",
    "        if np.isnan(scn):\n",
    "            break\n",
    "        ax.contour(frames.dspixel.lon, frames.dspixel.lat, frames.dspixel.cloudnumber[i] == scn, levels=[0.5], colors=['r'])"
   ]
  },
  {
   "cell_type": "code",
   "execution_count": null,
   "id": "62ad7eb9-9508-493c-95e8-56e7decfc261",
   "metadata": {},
   "outputs": [],
   "source": [
    "fig, ax = plt.subplots()"
   ]
  },
  {
   "cell_type": "code",
   "execution_count": null,
   "id": "754f6ad4-c834-43e1-b14e-3c1df377b832",
   "metadata": {},
   "outputs": [],
   "source": [
    "anim = matplotlib.animation.FuncAnimation(fig, plot_cloud_merge_split, frames=track.duration, interval=500)\n",
    "anim"
   ]
  },
  {
   "cell_type": "code",
   "execution_count": null,
   "id": "77c9aee7-7c36-422b-b071-7e877bc6d0f4",
   "metadata": {},
   "outputs": [],
   "source": []
  },
  {
   "cell_type": "code",
   "execution_count": null,
   "id": "6dd913b1-3034-4b42-8db5-4d27742ac081",
   "metadata": {},
   "outputs": [],
   "source": []
  }
 ],
 "metadata": {
  "kernelspec": {
   "display_name": "mcs_prime_env",
   "language": "python",
   "name": "mcs_prime_env"
  },
  "language_info": {
   "codemirror_mode": {
    "name": "ipython",
    "version": 3
   },
   "file_extension": ".py",
   "mimetype": "text/x-python",
   "name": "python",
   "nbconvert_exporter": "python",
   "pygments_lexer": "ipython3",
   "version": "3.10.4"
  }
 },
 "nbformat": 4,
 "nbformat_minor": 5
}
