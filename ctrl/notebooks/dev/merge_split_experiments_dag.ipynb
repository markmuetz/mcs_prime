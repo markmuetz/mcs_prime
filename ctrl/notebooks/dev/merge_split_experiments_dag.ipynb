{
 "cells": [
  {
   "cell_type": "markdown",
   "id": "c6b1048b-209c-4c02-ae0d-82ffa4ba2a39",
   "metadata": {},
   "source": [
    "## Analysis 1 (merge/split clouds)"
   ]
  },
  {
   "cell_type": "code",
   "execution_count": 83,
   "id": "b4443374-eb50-4c87-92cc-860189bdecdb",
   "metadata": {},
   "outputs": [],
   "source": [
    "import datetime as dt\n",
    "import itertools\n",
    "from pathlib import Path\n",
    "from pprint import pprint\n",
    "\n",
    "import cartopy.crs as ccrs\n",
    "import dask\n",
    "import matplotlib as mpl\n",
    "import matplotlib.pyplot as plt\n",
    "import networkx as nx\n",
    "import numpy as np\n",
    "import pandas as pd\n",
    "from scipy import stats\n",
    "from scipy import interpolate\n",
    "import xarray as xr\n",
    "\n",
    "from mcs_prime import McsTracks, PATHS\n",
    "from mcs_prime.util import update_progress\n",
    "%matplotlib inline"
   ]
  },
  {
   "cell_type": "markdown",
   "id": "d3ac148f-8ed3-4d6c-95ba-5b274e1526ea",
   "metadata": {},
   "source": [
    "Load all tracks from 2000/6-2020/12"
   ]
  },
  {
   "cell_type": "code",
   "execution_count": 4,
   "id": "251372ab-1243-4e3d-908c-aab1d51f57ee",
   "metadata": {},
   "outputs": [
    {
     "data": {
      "text/html": [
       "McsTracks[2019-01-01 00:30:00, 2019-12-31 22:30:00, ntracks=32843]"
      ],
      "text/plain": [
       "McsTracks[2019-01-01 00:30:00, 2019-12-31 22:30:00, ntracks=32843]"
      ]
     },
     "execution_count": 4,
     "metadata": {},
     "output_type": "execute_result"
    }
   ],
   "source": [
    "tracks = tracks = McsTracks.load(PATHS['statsdir'] / 'mcs_tracks_final_extc_20190101.0000_20200101.0000.nc', \n",
    "                                 PATHS['pixeldir'])\n",
    "tracks"
   ]
  },
  {
   "cell_type": "code",
   "execution_count": 118,
   "id": "ecea84a0-a687-45e0-90f2-bc3c1a364bac",
   "metadata": {},
   "outputs": [
    {
     "name": "stdout",
     "output_type": "stream",
     "text": [
      "0.0%\n",
      "0.3%\n",
      "0.6%\n",
      "0.9%\n",
      "1.2%\n",
      "1.5%\n",
      "1.8%\n",
      "2.1%\n",
      "2.4%\n",
      "2.7%\n",
      "3.0%\n",
      "3.3%\n",
      "3.7%\n",
      "4.0%\n",
      "4.3%\n",
      "4.6%\n",
      "4.9%\n",
      "5.2%\n",
      "5.5%\n",
      "5.8%\n",
      "6.1%\n",
      "6.4%\n",
      "6.7%\n",
      "7.0%\n",
      "7.3%\n",
      "7.6%\n",
      "7.9%\n",
      "8.2%\n",
      "8.5%\n",
      "8.8%\n",
      "9.1%\n",
      "9.4%\n",
      "9.7%\n",
      "10.0%\n",
      "10.4%\n",
      "10.7%\n",
      "11.0%\n",
      "11.3%\n",
      "11.6%\n",
      "11.9%\n",
      "12.2%\n",
      "12.5%\n",
      "12.8%\n",
      "13.1%\n",
      "13.4%\n",
      "13.7%\n",
      "14.0%\n",
      "14.3%\n",
      "14.6%\n",
      "14.9%\n",
      "15.2%\n",
      "15.5%\n",
      "15.8%\n",
      "16.1%\n",
      "16.4%\n",
      "16.7%\n",
      "17.1%\n",
      "17.4%\n",
      "17.7%\n",
      "18.0%\n",
      "18.3%\n",
      "18.6%\n",
      "18.9%\n",
      "19.2%\n",
      "19.5%\n",
      "19.8%\n",
      "20.1%\n",
      "20.4%\n",
      "20.7%\n",
      "21.0%\n",
      "21.3%\n",
      "21.6%\n",
      "21.9%\n",
      "22.2%\n",
      "22.5%\n",
      "22.8%\n",
      "23.1%\n",
      "23.4%\n",
      "23.7%\n",
      "24.1%\n",
      "24.4%\n",
      "24.7%\n",
      "25.0%\n",
      "25.3%\n",
      "25.6%\n",
      "25.9%\n",
      "26.2%\n",
      "26.5%\n",
      "26.8%\n",
      "27.1%\n",
      "27.4%\n",
      "27.7%\n",
      "28.0%\n",
      "28.3%\n",
      "28.6%\n",
      "28.9%\n",
      "29.2%\n",
      "29.5%\n",
      "29.8%\n",
      "30.1%\n",
      "30.4%\n",
      "30.8%\n",
      "31.1%\n",
      "31.4%\n",
      "31.7%\n",
      "32.0%\n",
      "32.3%\n",
      "32.6%\n",
      "32.9%\n",
      "33.2%\n",
      "33.5%\n",
      "33.8%\n",
      "34.1%\n",
      "34.4%\n",
      "34.7%\n",
      "35.0%\n",
      "35.3%\n",
      "35.6%\n",
      "35.9%\n",
      "36.2%\n",
      "36.5%\n",
      "36.8%\n",
      "37.1%\n",
      "37.5%\n",
      "37.8%\n",
      "38.1%\n",
      "38.4%\n",
      "38.7%\n",
      "39.0%\n",
      "39.3%\n",
      "39.6%\n",
      "39.9%\n",
      "40.2%\n",
      "40.5%\n",
      "40.8%\n",
      "41.1%\n",
      "41.4%\n",
      "41.7%\n",
      "42.0%\n",
      "42.3%\n",
      "42.6%\n",
      "42.9%\n",
      "43.2%\n",
      "43.5%\n",
      "43.8%\n",
      "44.1%\n",
      "44.5%\n",
      "44.8%\n",
      "45.1%\n",
      "45.4%\n",
      "45.7%\n",
      "46.0%\n",
      "46.3%\n",
      "46.6%\n",
      "46.9%\n",
      "47.2%\n",
      "47.5%\n",
      "47.8%\n",
      "48.1%\n",
      "48.4%\n",
      "48.7%\n",
      "49.0%\n",
      "49.3%\n",
      "49.6%\n",
      "49.9%\n",
      "50.2%\n",
      "50.5%\n",
      "50.8%\n",
      "51.2%\n",
      "51.5%\n",
      "51.8%\n",
      "52.1%\n",
      "52.4%\n",
      "52.7%\n",
      "53.0%\n",
      "53.3%\n",
      "53.6%\n",
      "53.9%\n",
      "54.2%\n",
      "54.5%\n",
      "54.8%\n",
      "55.1%\n",
      "55.4%\n",
      "55.7%\n",
      "56.0%\n",
      "56.3%\n",
      "56.6%\n",
      "56.9%\n",
      "57.2%\n",
      "57.5%\n",
      "57.9%\n",
      "58.2%\n",
      "58.5%\n",
      "58.8%\n",
      "59.1%\n",
      "59.4%\n",
      "59.7%\n",
      "60.0%\n",
      "60.3%\n",
      "60.6%\n",
      "60.9%\n",
      "61.2%\n",
      "61.5%\n",
      "61.8%\n",
      "62.1%\n",
      "62.4%\n",
      "62.7%\n",
      "63.0%\n",
      "63.3%\n",
      "63.6%\n",
      "63.9%\n",
      "64.2%\n",
      "64.5%\n",
      "64.9%\n",
      "65.2%\n",
      "65.5%\n",
      "65.8%\n",
      "66.1%\n",
      "66.4%\n",
      "66.7%\n",
      "67.0%\n",
      "67.3%\n",
      "67.6%\n",
      "67.9%\n",
      "68.2%\n",
      "68.5%\n",
      "68.8%\n",
      "69.1%\n",
      "69.4%\n",
      "69.7%\n",
      "70.0%\n",
      "70.3%\n",
      "70.6%\n",
      "70.9%\n",
      "71.2%\n",
      "71.6%\n",
      "71.9%\n",
      "72.2%\n",
      "72.5%\n",
      "72.8%\n",
      "73.1%\n",
      "73.4%\n",
      "73.7%\n",
      "74.0%\n",
      "74.3%\n",
      "74.6%\n",
      "74.9%\n",
      "75.2%\n",
      "75.5%\n",
      "75.8%\n",
      "76.1%\n",
      "76.4%\n",
      "76.7%\n",
      "77.0%\n",
      "77.3%\n",
      "77.6%\n",
      "77.9%\n",
      "78.3%\n",
      "78.6%\n",
      "78.9%\n",
      "79.2%\n",
      "79.5%\n",
      "79.8%\n",
      "80.1%\n",
      "80.4%\n",
      "80.7%\n",
      "81.0%\n",
      "81.3%\n",
      "81.6%\n",
      "81.9%\n",
      "82.2%\n",
      "82.5%\n",
      "82.8%\n",
      "83.1%\n",
      "83.4%\n",
      "83.7%\n",
      "84.0%\n",
      "84.3%\n",
      "84.6%\n",
      "84.9%\n",
      "85.3%\n",
      "85.6%\n",
      "85.9%\n",
      "86.2%\n",
      "86.5%\n",
      "86.8%\n",
      "87.1%\n",
      "87.4%\n",
      "87.7%\n",
      "88.0%\n",
      "88.3%\n",
      "88.6%\n",
      "88.9%\n",
      "89.2%\n",
      "89.5%\n",
      "89.8%\n",
      "90.1%\n",
      "90.4%\n",
      "90.7%\n",
      "91.0%\n",
      "91.3%\n",
      "91.6%\n",
      "92.0%\n",
      "92.3%\n",
      "92.6%\n",
      "92.9%\n",
      "93.2%\n",
      "93.5%\n",
      "93.8%\n",
      "94.1%\n",
      "94.4%\n",
      "94.7%\n",
      "95.0%\n",
      "95.3%\n",
      "95.6%\n",
      "95.9%\n",
      "96.2%\n",
      "96.5%\n",
      "96.8%\n",
      "97.1%\n",
      "97.4%\n",
      "97.7%\n",
      "98.0%\n",
      "98.3%\n",
      "98.7%\n",
      "99.0%\n",
      "99.3%\n",
      "99.6%\n",
      "99.9%\n"
     ]
    }
   ],
   "source": [
    "tracks.dstracks.cloudnumber.load()\n",
    "tracks.dstracks.start_split_cloudnumber.load()\n",
    "tracks.dstracks.end_merge_cloudnumber.load()\n",
    "tracks.dstracks.base_time.load()\n",
    "\n",
    "G = nx.DiGraph()\n",
    "\n",
    "for trackid in tracks.dstracks.tracks.values:\n",
    "    if trackid % 100 == 0:\n",
    "        print(f'{trackid / len(tracks.dstracks.tracks) * 100:.1f}%')\n",
    "    # print(trackid)\n",
    "    track = tracks.get_track(trackid)\n",
    "    \n",
    "    found_prev_tracks = 0\n",
    "    found_next_tracks = 0\n",
    "    if track.dstrack.start_split_cloudnumber > 0:\n",
    "        sscn = track.dstrack.start_split_cloudnumber.values.item()\n",
    "        mask = ((tracks.dstracks.cloudnumber == sscn) & \n",
    "                (tracks.dstracks.base_time == track.base_time[0] - int(3600e9))).any(axis=1)\n",
    "        if mask.sum() == 1:\n",
    "            ds_prev_track = tracks.dstracks.isel(tracks=mask).isel(tracks=0)\n",
    "            index1 = np.where(ds_prev_track.base_time.values == track.base_time[0] - int(3600e9))[0][0]\n",
    "            n1 = (ds_prev_track.tracks.values.item(), index1)\n",
    "            n2 = (track.dstrack.tracks.values.item(), 0)\n",
    "            G.add_edge(n1, n2, type='s')\n",
    "    if track.dstrack.end_merge_cloudnumber > 0:\n",
    "        emcn = track.dstrack.end_merge_cloudnumber.values.item()\n",
    "        mask = ((tracks.dstracks.cloudnumber == emcn) & \n",
    "                (tracks.dstracks.base_time == track.base_time[-1] + int(3600e9))).any(axis=1)\n",
    "        if mask.sum() == 1:\n",
    "            ds_next_track = tracks.dstracks.isel(tracks=mask).isel(tracks=0)\n",
    "            index1 = track.duration - 1\n",
    "            index2 = np.where(ds_next_track.base_time.values == track.base_time[-1] + int(3600e9))[0][0]\n",
    "            n1 = (track.dstrack.tracks.values.item(), index1)\n",
    "            n2 = (ds_next_track.tracks.values.item(), index2)\n",
    "            G.add_edge(n1, n2, type='m')\n",
    "            # prev_track = McsTrack(ds_prev_track.tracks.values.item(), ds_prev_track, tracks.pixel_data)"
   ]
  },
  {
   "cell_type": "code",
   "execution_count": 86,
   "id": "f6b949c8-b3d4-4922-97a5-7858caff6ea5",
   "metadata": {},
   "outputs": [
    {
     "data": {
      "text/plain": [
       "True"
      ]
     },
     "execution_count": 86,
     "metadata": {},
     "output_type": "execute_result"
    }
   ],
   "source": [
    "nx.is_directed_acyclic_graph(G)"
   ]
  },
  {
   "cell_type": "code",
   "execution_count": 87,
   "id": "b88b7628-a671-44fd-8717-a5a52817656b",
   "metadata": {},
   "outputs": [
    {
     "data": {
      "text/plain": [
       "[(2839, 4), (2832, 7), (2861, 0), (2865, 0)]"
      ]
     },
     "execution_count": 87,
     "metadata": {},
     "output_type": "execute_result"
    }
   ],
   "source": [
    "nx.dag_longest_path(G)"
   ]
  },
  {
   "cell_type": "code",
   "execution_count": 88,
   "id": "601b266a-7858-4bbd-9bf9-75496f76a947",
   "metadata": {},
   "outputs": [
    {
     "data": {
      "text/plain": [
       "[((2839, 4), [(2832, 7)]), ((2832, 7), [(2861, 0), (2862, 0)]), ((2861, 0), [(2865, 0)])]"
      ]
     },
     "execution_count": 88,
     "metadata": {},
     "output_type": "execute_result"
    }
   ],
   "source": [
    "list(nx.bfs_successors(G, (2839, 4)))"
   ]
  },
  {
   "cell_type": "code",
   "execution_count": 89,
   "id": "a83cfa7b-cd0f-48af-a0da-8d1ea7aad4bd",
   "metadata": {},
   "outputs": [],
   "source": [
    "subgraphs = [G.subgraph(c) for c in nx.connected_components(G.to_undirected())]"
   ]
  },
  {
   "cell_type": "code",
   "execution_count": 90,
   "id": "529401fb-de0f-4e55-9a75-a7234192f87e",
   "metadata": {},
   "outputs": [
    {
     "data": {
      "text/plain": [
       "5"
      ]
     },
     "execution_count": 90,
     "metadata": {},
     "output_type": "execute_result"
    }
   ],
   "source": [
    "max(len(s) for s in subgraphs)"
   ]
  },
  {
   "cell_type": "code",
   "execution_count": 91,
   "id": "b7d3b8fb-19ed-448d-8c72-c34709e70691",
   "metadata": {},
   "outputs": [
    {
     "data": {
      "text/plain": [
       "[OutEdgeView([((2832, 7), (2861, 0)), ((2832, 7), (2862, 0)), ((2839, 4), (2832, 7)), ((2861, 0), (2865, 0))])]"
      ]
     },
     "execution_count": 91,
     "metadata": {},
     "output_type": "execute_result"
    }
   ],
   "source": [
    "[s.edges for s in subgraphs if len(s) == 5]"
   ]
  },
  {
   "cell_type": "code",
   "execution_count": 105,
   "id": "7610884e-2ced-4efb-b5f6-4ce33d67f766",
   "metadata": {},
   "outputs": [],
   "source": [
    "longest_subgraph = [s for s in subgraphs if len(s) == 5][0]"
   ]
  },
  {
   "cell_type": "code",
   "execution_count": 106,
   "id": "15bda97f-30e2-450e-aab0-c75e728f33a4",
   "metadata": {},
   "outputs": [],
   "source": [
    "trackids = [n[0] for n in longest_subgraph.nodes]"
   ]
  },
  {
   "cell_type": "code",
   "execution_count": 93,
   "id": "7ffb02d2-3904-460f-afde-c33248419a5a",
   "metadata": {},
   "outputs": [
    {
     "data": {
      "text/plain": [
       "[2862, 2832, 2865, 2839, 2861]"
      ]
     },
     "execution_count": 93,
     "metadata": {},
     "output_type": "execute_result"
    }
   ],
   "source": [
    "trackids"
   ]
  },
  {
   "cell_type": "code",
   "execution_count": 94,
   "id": "20d74440-b0da-4230-a809-6bb454b8aee4",
   "metadata": {},
   "outputs": [],
   "source": [
    "ctracks = [tracks.get_track(t) for t in trackids]"
   ]
  },
  {
   "cell_type": "code",
   "execution_count": 117,
   "id": "bbcbab41-636e-4366-b6d6-7accd2537650",
   "metadata": {},
   "outputs": [
    {
     "data": {
      "text/plain": [
       "(-8.512759685516357, 3.800791382789612)"
      ]
     },
     "execution_count": 117,
     "metadata": {},
     "output_type": "execute_result"
    },
    {
     "data": {
      "image/png": "[encoded data removed]",
      "text/plain": [
       "<Figure size 1440x1440 with 1 Axes>"
      ]
     },
     "metadata": {
      "needs_background": "light"
     },
     "output_type": "display_data"
    }
   ],
   "source": [
    "fig, ax = plt.subplots(subplot_kw={'projection': ccrs.PlateCarree()})\n",
    "fig.set_size_inches((20, 20))\n",
    "\n",
    "colours = ['r', 'g', 'b', 'purple', 'orange']\n",
    "minlon, maxlon = 180, -180\n",
    "minlat, maxlat = 60, -60\n",
    "for c, t in zip(colours, ctracks):\n",
    "    t.plot(ax=ax, display_area=False, display_pf_area=False, colour=c)\n",
    "    minlon = min(minlon, t.meanlon.min())\n",
    "    maxlon = max(maxlon, t.meanlon.max())\n",
    "    minlat = min(minlat, t.meanlat.min())\n",
    "    maxlat = max(maxlat, t.meanlat.max())\n",
    "    \n",
    "for e in longest_subgraph.edges:\n",
    "    t1id, t1index = e[0]\n",
    "    t2id, t2index = e[1]\n",
    "    t1 = tracks.get_track(t1id)\n",
    "    t2 = tracks.get_track(t2id)\n",
    "    plt.plot([t1.meanlon[t1index], t2.meanlon[t2index]], [t1.meanlat[t1index], t2.meanlat[t2index]], 'k--')\n",
    "    \n",
    "    \n",
    "ax.set_xlim((minlon - 2, maxlon + 2))\n",
    "ax.set_ylim((minlat - 2, maxlat + 2))"
   ]
  },
  {
   "cell_type": "code",
   "execution_count": 114,
   "id": "c36d375e-f08d-41ae-9c91-9591100e423c",
   "metadata": {},
   "outputs": [
    {
     "name": "stdout",
     "output_type": "stream",
     "text": [
      "[((2832, 7), (2861, 0)),\n",
      " ((2832, 7), (2862, 0)),\n",
      " ((2839, 4), (2832, 7)),\n",
      " ((2861, 0), (2865, 0))]\n"
     ]
    }
   ],
   "source": [
    "pprint(list(longest_subgraph.edges))"
   ]
  },
  {
   "cell_type": "markdown",
   "id": "78893d4a-39d3-49bb-b752-ee0155c4d27b",
   "metadata": {},
   "source": [
    "What is going on here? The track starts at 2.13:30 (green). at 2.15:30, purple starts and ends with a merge into green at 2.19:30. Green then splits at 2.20:30 into 3 - green, orange, red (orange and red both start at 2.21:30). Oange immediately splits into 2: orange and blue. This tallies with edges above as well."
   ]
  },
  {
   "cell_type": "code",
   "execution_count": 119,
   "id": "7b8b5f51-2839-4bb2-b541-e6c7cf4560cb",
   "metadata": {},
   "outputs": [
    {
     "data": {
      "text/plain": [
       "[McsTrack[2019-02-02 21:30:00, 2019-02-03 03:30:00, id=2862, duration=7], McsTrack[2019-02-02 13:30:00, 2019-02-03 14:30:00, id=2832, duration=26], McsTrack[2019-02-02 22:30:00, 2019-02-03 10:30:00, id=2865, duration=13], McsTrack[2019-02-02 15:30:00, 2019-02-02 19:30:00, id=2839, duration=5], McsTrack[2019-02-02 21:30:00, 2019-02-03 01:30:00, id=2861, duration=5]]"
      ]
     },
     "execution_count": 119,
     "metadata": {},
     "output_type": "execute_result"
    }
   ],
   "source": [
    "ctracks"
   ]
  },
  {
   "cell_type": "code",
   "execution_count": null,
   "id": "e08c23e2-9965-4d19-ba47-5bbe94f3fefd",
   "metadata": {},
   "outputs": [],
   "source": []
  }
 ],
 "metadata": {
  "kernelspec": {
   "display_name": "mcs_prime_env",
   "language": "python",
   "name": "mcs_prime_env"
  },
  "language_info": {
   "codemirror_mode": {
    "name": "ipython",
    "version": 3
   },
   "file_extension": ".py",
   "mimetype": "text/x-python",
   "name": "python",
   "nbconvert_exporter": "python",
   "pygments_lexer": "ipython3",
   "version": "3.10.4"
  }
 },
 "nbformat": 4,
 "nbformat_minor": 5
}
