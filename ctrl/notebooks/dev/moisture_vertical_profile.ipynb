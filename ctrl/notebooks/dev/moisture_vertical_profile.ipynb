{
 "cells": [
  {
   "cell_type": "markdown",
   "id": "90c7be36-3813-4daa-8972-d43afeb3f4ec",
   "metadata": {},
   "source": [
    "Can archive."
   ]
  },
  {
   "cell_type": "code",
   "execution_count": 1,
   "id": "20790e82-c14f-4813-aaf6-3601a182799b",
   "metadata": {},
   "outputs": [],
   "source": [
    "import datetime as dt\n",
    "\n",
    "import cartopy.crs as ccrs\n",
    "import matplotlib.pyplot as plt\n",
    "import numpy as np\n",
    "import pandas as pd\n",
    "from scipy import ndimage\n",
    "import xarray as xr\n",
    "\n",
    "from remake import load_remake\n",
    "\n",
    "from mcs_prime import PATHS\n",
    "%matplotlib inline"
   ]
  },
  {
   "cell_type": "code",
   "execution_count": 2,
   "id": "09aa4a08-1835-43cb-9acc-47cc68418d66",
   "metadata": {},
   "outputs": [],
   "source": [
    "# Load some ERA5 u, v, q data.\n",
    "year = 2020\n",
    "month = 1\n",
    "day = 11\n",
    "e5datadir = PATHS['era5dir'] / f'data/oper/an_ml/{year}/{month:02d}/{day:02d}'"
   ]
  },
  {
   "cell_type": "code",
   "execution_count": 3,
   "id": "25734545-6318-4717-9f36-9b589f32d4eb",
   "metadata": {},
   "outputs": [],
   "source": [
    "h = 6\n",
    "\n",
    "e5time = dt.datetime(year, month, day, h, 0)\n",
    "e5paths = [e5datadir / (f'ecmwf-era5_oper_an_ml_{t.year}{t.month:02d}{t.day:02d}'\n",
    "                         f'{t.hour:02d}00.{var}.nc')\n",
    "            for var in ['q']\n",
    "            for t in [e5time]]"
   ]
  },
  {
   "cell_type": "code",
   "execution_count": 4,
   "id": "50399863-c2c3-4f64-9d44-7c48aac933ce",
   "metadata": {},
   "outputs": [],
   "source": [
    "e5 = (xr.open_mfdataset(e5paths).sel(latitude=slice(60, -60))\n",
    "      .mean(dim='time').load())"
   ]
  },
  {
   "cell_type": "code",
   "execution_count": 5,
   "id": "59629867-6927-4245-b7f6-5141c00b6e3d",
   "metadata": {},
   "outputs": [],
   "source": [
    "q = e5.q.values"
   ]
  },
  {
   "cell_type": "code",
   "execution_count": 8,
   "id": "6bba6b58-6b18-4d06-9dec-f91513310775",
   "metadata": {},
   "outputs": [
    {
     "data": {
      "text/plain": [
       "(137.0, 0.0)"
      ]
     },
     "execution_count": 8,
     "metadata": {},
     "output_type": "execute_result"
    },
    {
     "data": {
      "image/png": "[encoded data removed]",
      "text/plain": [
       "<Figure size 432x288 with 1 Axes>"
      ]
     },
     "metadata": {
      "needs_background": "light"
     },
     "output_type": "display_data"
    }
   ],
   "source": [
    "plt.plot(q.mean(axis=(1, 2)), range(q.shape[0]))\n",
    "plt.ylim((137, 0))"
   ]
  },
  {
   "cell_type": "code",
   "execution_count": null,
   "id": "aca5505a-10f2-4517-a08e-c6fde17f1250",
   "metadata": {},
   "outputs": [],
   "source": []
  }
 ],
 "metadata": {
  "kernelspec": {
   "display_name": "mcs_prime_env",
   "language": "python",
   "name": "mcs_prime_env"
  },
  "language_info": {
   "codemirror_mode": {
    "name": "ipython",
    "version": 3
   },
   "file_extension": ".py",
   "mimetype": "text/x-python",
   "name": "python",
   "nbconvert_exporter": "python",
   "pygments_lexer": "ipython3",
   "version": "3.10.4"
  }
 },
 "nbformat": 4,
 "nbformat_minor": 5
}
