{
 "cells": [
  {
   "cell_type": "code",
   "execution_count": 1,
   "id": "b7b6f17b-1f09-4f20-892c-b1e2ab7c462f",
   "metadata": {},
   "outputs": [],
   "source": [
    "import pathlib as Path\n",
    "\n",
    "import numpy as np\n",
    "from tabulate import tabulate\n",
    "\n",
    "from remake import load_remake"
   ]
  },
  {
   "cell_type": "code",
   "execution_count": 2,
   "id": "640e00b7-f09d-4a1e-8dca-b3eb98c339c6",
   "metadata": {},
   "outputs": [
    {
     "name": "stdout",
     "output_type": "stream",
     "text": [
      "\n",
      "TODOS\n",
      "* Make sure filenames are consistent\n",
      "* Make sure variables names are sensible/consistent\n",
      "* Docstrings for all fns, classes\n",
      "* Validate all data\n",
      "* Consistent attrs for all created .nc files\n",
      "* Units on data vars etc.\n",
      "\n",
      "loading pixel inputs cache\n",
      "\n",
      "TODOS\n",
      "* Make sure filenames are consistent\n",
      "* Make sure variables names are sensible/consistent\n",
      "* Docstrings for all fns, classes\n",
      "* Validate all data\n",
      "* Consistent attrs for all created .nc files\n",
      "* Units on data vars etc.\n",
      "\n",
      "loading pixel inputs cache\n",
      "\n",
      "TODOS\n",
      "* Make sure filenames are consistent\n",
      "* Make sure variables names are sensible/consistent\n",
      "* Docstrings for all fns, classes\n",
      "* Validate all data\n",
      "* Consistent attrs for all created .nc files\n",
      "* Units on data vars etc.\n",
      "\n"
     ]
    }
   ],
   "source": [
    "e5p = load_remake('../../remakefiles/era5_process.py')\n",
    "e5h = load_remake('../../remakefiles/era5_histograms.py')\n",
    "mle = load_remake('../../remakefiles/mcs_local_envs.py')\n",
    "plt = load_remake('../../remakefiles/plotting.py')\n",
    "remakes = [e5p, e5h, mle, plt]"
   ]
  },
  {
   "cell_type": "code",
   "execution_count": 3,
   "id": "92f2e235-3a29-470f-adc3-e85284848ca8",
   "metadata": {},
   "outputs": [],
   "source": [
    "def input_output_file_size(rule):\n",
    "    input_paths = set()\n",
    "    output_paths = []\n",
    "    for task in rule.tasks:\n",
    "        input_paths.update(task.inputs.values())\n",
    "        output_paths.extend(task.outputs.values())\n",
    "    input_paths = sorted(input_paths)\n",
    "    input_file_sizes = {\n",
    "        p: p.lstat().st_size if p.exists() else 0\n",
    "        for p in input_paths\n",
    "    }\n",
    "    output_file_sizes = {\n",
    "        p: p.lstat().st_size if p.exists() else 0\n",
    "        for p in output_paths\n",
    "    }\n",
    "\n",
    "    return input_file_sizes, output_file_sizes"
   ]
  },
  {
   "cell_type": "code",
   "execution_count": 4,
   "id": "4c466f4d-9c9b-465e-a99d-bd5a91d4acd3",
   "metadata": {},
   "outputs": [],
   "source": [
    "insizes, outsizes = input_output_file_size(plt.PlotCombineConditionalERA5Hist)"
   ]
  },
  {
   "cell_type": "code",
   "execution_count": 5,
   "id": "30b44913-90ff-40d1-a33d-651501b3a56c",
   "metadata": {},
   "outputs": [
    {
     "data": {
      "text/plain": [
       "{PosixPath('/gws/nopw/j04/mcs_prime/mmuetz/data/mcs_prime_output/conditional_era5_histograms/2018/coreprecip_hourly_hist_2018_01.nc'): 107489937,\n",
       " PosixPath('/gws/nopw/j04/mcs_prime/mmuetz/data/mcs_prime_output/conditional_era5_histograms/2018/coreprecip_hourly_hist_2018_02.nc'): 97121361,\n",
       " PosixPath('/gws/nopw/j04/mcs_prime/mmuetz/data/mcs_prime_output/conditional_era5_histograms/2018/coreprecip_hourly_hist_2018_03.nc'): 107489937,\n",
       " PosixPath('/gws/nopw/j04/mcs_prime/mmuetz/data/mcs_prime_output/conditional_era5_histograms/2018/coreprecip_hourly_hist_2018_04.nc'): 104033745,\n",
       " PosixPath('/gws/nopw/j04/mcs_prime/mmuetz/data/mcs_prime_output/conditional_era5_histograms/2018/coreprecip_hourly_hist_2018_05.nc'): 107489937,\n",
       " PosixPath('/gws/nopw/j04/mcs_prime/mmuetz/data/mcs_prime_output/conditional_era5_histograms/2018/coreprecip_hourly_hist_2018_06.nc'): 104033745,\n",
       " PosixPath('/gws/nopw/j04/mcs_prime/mmuetz/data/mcs_prime_output/conditional_era5_histograms/2018/coreprecip_hourly_hist_2018_07.nc'): 107489937,\n",
       " PosixPath('/gws/nopw/j04/mcs_prime/mmuetz/data/mcs_prime_output/conditional_era5_histograms/2018/coreprecip_hourly_hist_2018_08.nc'): 107489937,\n",
       " PosixPath('/gws/nopw/j04/mcs_prime/mmuetz/data/mcs_prime_output/conditional_era5_histograms/2018/coreprecip_hourly_hist_2018_09.nc'): 104033745,\n",
       " PosixPath('/gws/nopw/j04/mcs_prime/mmuetz/data/mcs_prime_output/conditional_era5_histograms/2018/coreprecip_hourly_hist_2018_10.nc'): 107489937,\n",
       " PosixPath('/gws/nopw/j04/mcs_prime/mmuetz/data/mcs_prime_output/conditional_era5_histograms/2018/coreprecip_hourly_hist_2018_11.nc'): 104033745,\n",
       " PosixPath('/gws/nopw/j04/mcs_prime/mmuetz/data/mcs_prime_output/conditional_era5_histograms/2018/coreprecip_hourly_hist_2018_12.nc'): 107489937,\n",
       " PosixPath('/gws/nopw/j04/mcs_prime/mmuetz/data/mcs_prime_output/conditional_era5_histograms/2018/coretb_hourly_hist_2018_01.nc'): 107489937,\n",
       " PosixPath('/gws/nopw/j04/mcs_prime/mmuetz/data/mcs_prime_output/conditional_era5_histograms/2018/coretb_hourly_hist_2018_02.nc'): 97121361,\n",
       " PosixPath('/gws/nopw/j04/mcs_prime/mmuetz/data/mcs_prime_output/conditional_era5_histograms/2018/coretb_hourly_hist_2018_03.nc'): 107489937,\n",
       " PosixPath('/gws/nopw/j04/mcs_prime/mmuetz/data/mcs_prime_output/conditional_era5_histograms/2018/coretb_hourly_hist_2018_04.nc'): 104033745,\n",
       " PosixPath('/gws/nopw/j04/mcs_prime/mmuetz/data/mcs_prime_output/conditional_era5_histograms/2018/coretb_hourly_hist_2018_05.nc'): 107489937,\n",
       " PosixPath('/gws/nopw/j04/mcs_prime/mmuetz/data/mcs_prime_output/conditional_era5_histograms/2018/coretb_hourly_hist_2018_06.nc'): 104033745,\n",
       " PosixPath('/gws/nopw/j04/mcs_prime/mmuetz/data/mcs_prime_output/conditional_era5_histograms/2018/coretb_hourly_hist_2018_07.nc'): 107489937,\n",
       " PosixPath('/gws/nopw/j04/mcs_prime/mmuetz/data/mcs_prime_output/conditional_era5_histograms/2018/coretb_hourly_hist_2018_08.nc'): 107489937,\n",
       " PosixPath('/gws/nopw/j04/mcs_prime/mmuetz/data/mcs_prime_output/conditional_era5_histograms/2018/coretb_hourly_hist_2018_09.nc'): 104033745,\n",
       " PosixPath('/gws/nopw/j04/mcs_prime/mmuetz/data/mcs_prime_output/conditional_era5_histograms/2018/coretb_hourly_hist_2018_10.nc'): 107489937,\n",
       " PosixPath('/gws/nopw/j04/mcs_prime/mmuetz/data/mcs_prime_output/conditional_era5_histograms/2018/coretb_hourly_hist_2018_11.nc'): 104033745,\n",
       " PosixPath('/gws/nopw/j04/mcs_prime/mmuetz/data/mcs_prime_output/conditional_era5_histograms/2018/coretb_hourly_hist_2018_12.nc'): 107489937}"
      ]
     },
     "execution_count": 5,
     "metadata": {},
     "output_type": "execute_result"
    }
   ],
   "source": [
    "insizes"
   ]
  },
  {
   "cell_type": "code",
   "execution_count": 6,
   "id": "3124420b-6b46-4625-b779-74b637fb90ed",
   "metadata": {},
   "outputs": [
    {
     "data": {
      "text/plain": [
       "{PosixPath('/gws/nopw/j04/mcs_prime/mmuetz/data/mcs_prime_figs/conditional_era5_histograms/yearly_hist_cape_2018_tb.png'): 126054,\n",
       " PosixPath('/gws/nopw/j04/mcs_prime/mmuetz/data/mcs_prime_figs/conditional_era5_histograms/yearly_hist_tcwv_2018_tb.png'): 160030,\n",
       " PosixPath('/gws/nopw/j04/mcs_prime/mmuetz/data/mcs_prime_figs/conditional_era5_histograms/yearly_hist_shear_0_2018_tb.png'): 141135,\n",
       " PosixPath('/gws/nopw/j04/mcs_prime/mmuetz/data/mcs_prime_figs/conditional_era5_histograms/yearly_hist_shear_1_2018_tb.png'): 126471,\n",
       " PosixPath('/gws/nopw/j04/mcs_prime/mmuetz/data/mcs_prime_figs/conditional_era5_histograms/yearly_hist_shear_2_2018_tb.png'): 111908,\n",
       " PosixPath('/gws/nopw/j04/mcs_prime/mmuetz/data/mcs_prime_figs/conditional_era5_histograms/yearly_hist_shear_3_2018_tb.png'): 138784,\n",
       " PosixPath('/gws/nopw/j04/mcs_prime/mmuetz/data/mcs_prime_figs/conditional_era5_histograms/yearly_hist_vertically_integrated_moisture_flux_div_2018_tb.png'): 138177,\n",
       " PosixPath('/gws/nopw/j04/mcs_prime/mmuetz/data/mcs_prime_figs/conditional_era5_histograms/yearly_hist_RHlow_2018_tb.png'): 127729,\n",
       " PosixPath('/gws/nopw/j04/mcs_prime/mmuetz/data/mcs_prime_figs/conditional_era5_histograms/yearly_hist_RHmid_2018_tb.png'): 173356,\n",
       " PosixPath('/gws/nopw/j04/mcs_prime/mmuetz/data/mcs_prime_figs/conditional_era5_histograms/yearly_hist_theta_e_mid_2018_tb.png'): 129112,\n",
       " PosixPath('/gws/nopw/j04/mcs_prime/mmuetz/data/mcs_prime_figs/conditional_era5_histograms/yearly_hist_delta_3h_cape_2018_tb.png'): 111697,\n",
       " PosixPath('/gws/nopw/j04/mcs_prime/mmuetz/data/mcs_prime_figs/conditional_era5_histograms/yearly_hist_delta_3h_tcwv_2018_tb.png'): 101036,\n",
       " PosixPath('/gws/nopw/j04/mcs_prime/mmuetz/data/mcs_prime_figs/conditional_era5_histograms/yearly_hist_cape_2018_precip.png'): 124438,\n",
       " PosixPath('/gws/nopw/j04/mcs_prime/mmuetz/data/mcs_prime_figs/conditional_era5_histograms/yearly_hist_tcwv_2018_precip.png'): 159242,\n",
       " PosixPath('/gws/nopw/j04/mcs_prime/mmuetz/data/mcs_prime_figs/conditional_era5_histograms/yearly_hist_shear_0_2018_precip.png'): 140635,\n",
       " PosixPath('/gws/nopw/j04/mcs_prime/mmuetz/data/mcs_prime_figs/conditional_era5_histograms/yearly_hist_shear_1_2018_precip.png'): 118277,\n",
       " PosixPath('/gws/nopw/j04/mcs_prime/mmuetz/data/mcs_prime_figs/conditional_era5_histograms/yearly_hist_shear_2_2018_precip.png'): 108114,\n",
       " PosixPath('/gws/nopw/j04/mcs_prime/mmuetz/data/mcs_prime_figs/conditional_era5_histograms/yearly_hist_shear_3_2018_precip.png'): 138784,\n",
       " PosixPath('/gws/nopw/j04/mcs_prime/mmuetz/data/mcs_prime_figs/conditional_era5_histograms/yearly_hist_vertically_integrated_moisture_flux_div_2018_precip.png'): 144839,\n",
       " PosixPath('/gws/nopw/j04/mcs_prime/mmuetz/data/mcs_prime_figs/conditional_era5_histograms/yearly_hist_RHlow_2018_precip.png'): 125470,\n",
       " PosixPath('/gws/nopw/j04/mcs_prime/mmuetz/data/mcs_prime_figs/conditional_era5_histograms/yearly_hist_RHmid_2018_precip.png'): 166972,\n",
       " PosixPath('/gws/nopw/j04/mcs_prime/mmuetz/data/mcs_prime_figs/conditional_era5_histograms/yearly_hist_theta_e_mid_2018_precip.png'): 136799,\n",
       " PosixPath('/gws/nopw/j04/mcs_prime/mmuetz/data/mcs_prime_figs/conditional_era5_histograms/yearly_hist_delta_3h_cape_2018_precip.png'): 111681,\n",
       " PosixPath('/gws/nopw/j04/mcs_prime/mmuetz/data/mcs_prime_figs/conditional_era5_histograms/yearly_hist_delta_3h_tcwv_2018_precip.png'): 102983}"
      ]
     },
     "execution_count": 6,
     "metadata": {},
     "output_type": "execute_result"
    }
   ],
   "source": [
    "outsizes"
   ]
  },
  {
   "cell_type": "code",
   "execution_count": 12,
   "id": "ef0a2b1c-c52c-4d5c-b301-d16342208419",
   "metadata": {},
   "outputs": [],
   "source": [
    "class RemakeInfo:\n",
    "    def __init__(self, rmk):\n",
    "        self.rmk = rmk\n",
    "        self.rule_data = {}\n",
    "\n",
    "    def gen_rule_data(self):\n",
    "        for rule in self.rmk.rules:\n",
    "            input_file_sizes, output_file_sizes = input_output_file_size(rule)\n",
    "            self.rule_data[rule] = (input_file_sizes, output_file_sizes)\n",
    "\n",
    "    def display(self, size_fmt='GB'):\n",
    "        fmts = {\n",
    "            'B': 1,\n",
    "            'kB': 1e3,\n",
    "            'MB': 1e6,\n",
    "            'GB': 1e9,\n",
    "            'TB': 1e12,\n",
    "        }\n",
    "        def f(n):\n",
    "            s = fmts[size_fmt]\n",
    "            return f'{n / s:.0f}'\n",
    "    \n",
    "        rows = []\n",
    "        for rule, (input_file_sizes, output_file_sizes) in self.rule_data.items():\n",
    "            insizes = np.array(list(input_file_sizes.values()))\n",
    "            outsizes = np.array(list(output_file_sizes.values()))\n",
    "            inmean, instd, intotal = insizes.mean(), insizes.std(), insizes.sum()\n",
    "            outmean, outstd, outtotal = outsizes.mean(), outsizes.std(), outsizes.sum()\n",
    "            rows.append(\n",
    "                [rule.__name__, 'inputs:'] + [f(v) for v in [inmean, instd, intotal]]\n",
    "            )\n",
    "            rows.append(\n",
    "                [rule.__name__, 'outputs:'] + [f(v) for v in [outmean, outstd, outtotal]]\n",
    "            )        \n",
    "        print(f'{self.rmk.name}')\n",
    "        print(tabulate(\n",
    "            rows,\n",
    "            headers=['rule', 'type', f'mean ({size_fmt})', f'std ({size_fmt})', f'total ({size_fmt})']\n",
    "        ))\n",
    "\n",
    "def individual_rule_input_output_info(rule, size_fmt='GB'):\n",
    "    fmts = {\n",
    "        'B': 1,\n",
    "        'kB': 1e3,\n",
    "        'MB': 1e6,\n",
    "        'GB': 1e9,\n",
    "        'TB': 1e12,\n",
    "    }\n",
    "    def f(n):\n",
    "        s = fmts[size_fmt]\n",
    "        return f'{n / s:.0f}'\n",
    "        \n",
    "    input_file_sizes, output_file_sizes = input_output_file_size(rule)\n",
    "    insizes = np.array(list(input_file_sizes.values()))\n",
    "    outsizes = np.array(list(output_file_sizes.values()))\n",
    "    inmean, instd, intotal = insizes.mean(), insizes.std(), insizes.sum()\n",
    "    outmean, outstd, outtotal = outsizes.mean(), outsizes.std(), outsizes.sum()\n",
    "    print(f'{rule}')\n",
    "    print(tabulate(\n",
    "        [\n",
    "            ['inputs:'] + [f(v) for v in [inmean, instd, intotal]],\n",
    "            ['outputs:'] + [f(v) for v in [outmean, outstd, outtotal]],\n",
    "        ],\n",
    "        headers=['', f'mean ({size_fmt})', f'std ({size_fmt})', f'total ({size_fmt})']\n",
    "    ))\n",
    "\n",
    "def rule_input_output_info(rmk, size_fmt='GB'):\n",
    "    fmts = {\n",
    "        'B': 1,\n",
    "        'kB': 1e3,\n",
    "        'MB': 1e6,\n",
    "        'GB': 1e9,\n",
    "        'TB': 1e12,\n",
    "    }\n",
    "    def f(n):\n",
    "        s = fmts[size_fmt]\n",
    "        return f'{n / s:.0f}'\n",
    "\n",
    "    rows = []\n",
    "    for rule in rmk.rules:\n",
    "        input_file_sizes, output_file_sizes = input_output_file_size(rule)\n",
    "        insizes = np.array(list(input_file_sizes.values()))\n",
    "        outsizes = np.array(list(output_file_sizes.values()))\n",
    "        inmean, instd, intotal = insizes.mean(), insizes.std(), insizes.sum()\n",
    "        outmean, outstd, outtotal = outsizes.mean(), outsizes.std(), outsizes.sum()\n",
    "        rows.append(\n",
    "            [rule.__name__, 'inputs:'] + [f(v) for v in [inmean, instd, intotal]]\n",
    "        )\n",
    "        rows.append(\n",
    "            [rule.__name__, 'outputs:'] + [f(v) for v in [outmean, outstd, outtotal]]\n",
    "        )\n",
    "\n",
    "    print(f'{rmk.name}')\n",
    "    print(tabulate(\n",
    "        rows,\n",
    "        headers=['rule', 'type', f'mean ({size_fmt})', f'std ({size_fmt})', f'total ({size_fmt})']\n",
    "    ))"
   ]
  },
  {
   "cell_type": "code",
   "execution_count": 17,
   "id": "f739e8f5-d183-4443-8acf-2bb11c936d1c",
   "metadata": {},
   "outputs": [
    {
     "name": "stdout",
     "output_type": "stream",
     "text": [
      "era5_process\n",
      "rule                       type        mean (GB)    std (GB)    total (GB)\n",
      "-------------------------  --------  -----------  ----------  ------------\n",
      "GenRegridder               inputs:             0           0             0\n",
      "GenRegridder               outputs:            0           0             0\n",
      "CalcERA5Shear              inputs:             0           0          3975\n",
      "CalcERA5Shear              outputs:            0           0           114\n",
      "CalcERA5VIMoistureFluxDiv  inputs:             0           0          6756\n",
      "CalcERA5VIMoistureFluxDiv  outputs:            0           0            57\n",
      "CalcERA5LayerMeans         inputs:             0           0          2781\n",
      "CalcERA5LayerMeans         outputs:            0           0           171\n",
      "CalcERA5Delta              inputs:             0           0            24\n",
      "CalcERA5Delta              outputs:            0           0            57\n",
      "GenPixelDataOnERA5Grid     inputs:             0           0           125\n",
      "GenPixelDataOnERA5Grid     outputs:            0           0            22\n",
      "CalcERA5MeanField          inputs:             0           0           166\n",
      "CalcERA5MeanField          outputs:            0           0             0\n"
     ]
    }
   ],
   "source": [
    "rmk_info = RemakeInfo(e5p)\n",
    "rmk_info.gen_rule_data()\n",
    "rmk_info.display('GB')"
   ]
  },
  {
   "cell_type": "code",
   "execution_count": 18,
   "id": "d544b1b0-87e5-4def-837c-f89641024620",
   "metadata": {},
   "outputs": [
    {
     "name": "stdout",
     "output_type": "stream",
     "text": [
      "era5_histograms\n",
      "rule                                   type        mean (GB)    std (GB)    total (GB)\n",
      "-------------------------------------  --------  -----------  ----------  ------------\n",
      "ConditionalERA5HistHourly              inputs:             0           0           383\n",
      "ConditionalERA5HistHourly              outputs:            0           0             3\n",
      "ConditionalERA5HistHourlyMCSLifecycle  inputs:             0           0           383\n",
      "ConditionalERA5HistHourlyMCSLifecycle  outputs:            0           0             2\n",
      "ConditionalERA5HistGridpoint           inputs:             0           0           383\n",
      "ConditionalERA5HistGridpoint           outputs:            1           0             6\n",
      "ConditionalERA5HistMeanfield           inputs:             0           0            22\n",
      "ConditionalERA5HistMeanfield           outputs:            0           0             1\n",
      "CombineConditionalERA5HistGridpoint    inputs:             1           0             6\n",
      "CombineConditionalERA5HistGridpoint    outputs:            1           0             1\n"
     ]
    }
   ],
   "source": [
    "rmk_info = RemakeInfo(e5h)\n",
    "rmk_info.gen_rule_data()\n",
    "rmk_info.display('GB')"
   ]
  },
  {
   "cell_type": "code",
   "execution_count": 19,
   "id": "dcf05b68-a629-4395-90e0-cc09f385b4a6",
   "metadata": {},
   "outputs": [
    {
     "name": "stdout",
     "output_type": "stream",
     "text": [
      "mcs_local_envs\n",
      "rule                       type        mean (GB)    std (GB)    total (GB)\n",
      "-------------------------  --------  -----------  ----------  ------------\n",
      "GenLatLonDistance          inputs:             0           0             0\n",
      "GenLatLonDistance          outputs:            3           0             3\n",
      "CheckLatLonDistance        inputs:             3           0             3\n",
      "CheckLatLonDistance        outputs:            0           0             0\n",
      "McsLocalEnv                inputs:             0           0           364\n",
      "McsLocalEnv                outputs:            0           0           311\n",
      "LifecycleMcsLocalEnvHist   inputs:             0           0           379\n",
      "LifecycleMcsLocalEnvHist   outputs:           62           4           739\n",
      "CombineMonthlyMcsLocalEnv  inputs:             0           0           311\n",
      "CombineMonthlyMcsLocalEnv  outputs:            0           0            10\n"
     ]
    }
   ],
   "source": [
    "rmk_info = RemakeInfo(mle)\n",
    "rmk_info.gen_rule_data()\n",
    "rmk_info.display('GB')"
   ]
  },
  {
   "cell_type": "code",
   "execution_count": 20,
   "id": "a80ce007-1da1-47b2-82dc-33d2a23f1275",
   "metadata": {},
   "outputs": [
    {
     "name": "stdout",
     "output_type": "stream",
     "text": [
      "plotting\n",
      "rule                                       type        mean (MB)    std (MB)    total (MB)\n",
      "-----------------------------------------  --------  -----------  ----------  ------------\n",
      "PlotCombineConditionalERA5Hist             inputs:           105           3          2531\n",
      "PlotCombineConditionalERA5Hist             outputs:            0           0             3\n",
      "PlotCombineVarConditionalERA5Hist          inputs:           105           3          1266\n",
      "PlotCombineVarConditionalERA5Hist          outputs:            0           0             1\n",
      "PlotCombineConvectionConditionalERA5Hist   inputs:           105           3          2531\n",
      "PlotCombineConvectionConditionalERA5Hist   outputs:            0           0             1\n",
      "PlotGridpointConditionalERA5Hist           inputs:           573         573          1146\n",
      "PlotGridpointConditionalERA5Hist           outputs:            0           0             2\n",
      "PlotGridpointGlobal                        inputs:           573         573          1146\n",
      "PlotGridpointGlobal                        outputs:            0           0             3\n",
      "PlotMcsLocalEnv                            inputs:           427           0         10241\n",
      "PlotMcsLocalEnv                            outputs:            1           0           149\n",
      "PlotCombinedMcsLocalEnv                    inputs:           427           0          5121\n",
      "PlotCombinedMcsLocalEnv                    outputs:            0           0             0\n",
      "PlotMcsLocalEnvPrecursorMeanValue          inputs:         61573        4080        738881\n",
      "PlotMcsLocalEnvPrecursorMeanValue          outputs:            0           0             5\n",
      "PlotCombinedMcsLocalEnvPrecursorMeanValue  inputs:         61573        4080        738881\n",
      "PlotCombinedMcsLocalEnvPrecursorMeanValue  outputs:            0           0             0\n"
     ]
    }
   ],
   "source": [
    "rmk_info = RemakeInfo(plt)\n",
    "rmk_info.gen_rule_data()\n",
    "rmk_info.display('MB')"
   ]
  },
  {
   "cell_type": "code",
   "execution_count": null,
   "id": "0d428be0-838a-48a8-b608-490d1c9baf0c",
   "metadata": {},
   "outputs": [],
   "source": []
  }
 ],
 "metadata": {
  "kernelspec": {
   "display_name": "mcs_prime_env",
   "language": "python",
   "name": "mcs_prime_env"
  },
  "language_info": {
   "codemirror_mode": {
    "name": "ipython",
    "version": 3
   },
   "file_extension": ".py",
   "mimetype": "text/x-python",
   "name": "python",
   "nbconvert_exporter": "python",
   "pygments_lexer": "ipython3",
   "version": "3.10.4"
  }
 },
 "nbformat": 4,
 "nbformat_minor": 5
}
