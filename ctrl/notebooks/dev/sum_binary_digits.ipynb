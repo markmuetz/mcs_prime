{
 "cells": [
  {
   "cell_type": "code",
   "execution_count": 2,
   "id": "0ac9044d-de09-4fc9-aca1-67dcca2eae0b",
   "metadata": {},
   "outputs": [],
   "source": [
    "import numpy as np"
   ]
  },
  {
   "cell_type": "code",
   "execution_count": 18,
   "id": "eae131b9-c19e-416e-8e45-c1189f00820e",
   "metadata": {},
   "outputs": [],
   "source": [
    "a = np.arange(1024) % 16\n",
    "\n",
    "b = [sum([int(d) for d in bin(v)[2:]]) for v in a]"
   ]
  },
  {
   "cell_type": "code",
   "execution_count": 8,
   "id": "735c5555-d39a-4fdc-af35-070b7c1fa26f",
   "metadata": {},
   "outputs": [
    {
     "data": {
      "text/plain": [
       "[(0, 0),\n",
       " (1, 1),\n",
       " (2, 1),\n",
       " (3, 2),\n",
       " (4, 1),\n",
       " (5, 2),\n",
       " (6, 2),\n",
       " (7, 3),\n",
       " (8, 1),\n",
       " (9, 2),\n",
       " (10, 2),\n",
       " (11, 3),\n",
       " (12, 2),\n",
       " (13, 3),\n",
       " (14, 3),\n",
       " (15, 4),\n",
       " (16, 1)]"
      ]
     },
     "execution_count": 8,
     "metadata": {},
     "output_type": "execute_result"
    }
   ],
   "source": [
    "list(zip(a, b))[:17]"
   ]
  },
  {
   "cell_type": "code",
   "execution_count": 10,
   "id": "531969a2-2312-4628-9b71-368d7436262a",
   "metadata": {},
   "outputs": [
    {
     "name": "stdout",
     "output_type": "stream",
     "text": [
      "1.6 ms ± 15.9 µs per loop (mean ± std. dev. of 7 runs, 1,000 loops each)\n"
     ]
    }
   ],
   "source": [
    "%%timeit\n",
    "b = [sum([int(d) for d in bin(v)[2:]]) for v in a]"
   ]
  },
  {
   "cell_type": "code",
   "execution_count": 11,
   "id": "52809514-98ae-437c-a9b2-17042ba61dad",
   "metadata": {},
   "outputs": [
    {
     "data": {
      "text/plain": [
       "7"
      ]
     },
     "execution_count": 11,
     "metadata": {},
     "output_type": "execute_result"
    }
   ],
   "source": [
    "15 >> 1"
   ]
  },
  {
   "cell_type": "code",
   "execution_count": 12,
   "id": "5d3afa4a-d57f-4e45-9d7e-ce398c1c8b3f",
   "metadata": {},
   "outputs": [
    {
     "name": "stdout",
     "output_type": "stream",
     "text": [
      "1.08 ms ± 10.5 µs per loop (mean ± std. dev. of 7 runs, 1,000 loops each)\n"
     ]
    }
   ],
   "source": [
    "%%timeit\n",
    "b2 = [(v & 1) + (v >> 1 & 1) + (v >> 2 & 1) + (v >> 3 & 1) for v in a]"
   ]
  },
  {
   "cell_type": "code",
   "execution_count": 22,
   "id": "c47ed9e9-06ee-4130-9798-d56445d20a2e",
   "metadata": {},
   "outputs": [
    {
     "data": {
      "text/plain": [
       "2048"
      ]
     },
     "execution_count": 22,
     "metadata": {},
     "output_type": "execute_result"
    }
   ],
   "source": [
    "b2 = [(v & 1) + (v >> 1 & 1) + (v >> 2 & 1) + (v >> 3 & 1) for v in a]\n",
    "sum(b2)"
   ]
  },
  {
   "cell_type": "code",
   "execution_count": 21,
   "id": "3a876175-a7e7-4e22-8a2d-55a69722d9d9",
   "metadata": {},
   "outputs": [
    {
     "data": {
      "text/plain": [
       "2048"
      ]
     },
     "execution_count": 21,
     "metadata": {},
     "output_type": "execute_result"
    }
   ],
   "source": [
    "sum(b)"
   ]
  },
  {
   "cell_type": "code",
   "execution_count": 25,
   "id": "90d56c33-0a70-4990-b818-df05282143e4",
   "metadata": {},
   "outputs": [
    {
     "name": "stdout",
     "output_type": "stream",
     "text": [
      "20.8 µs ± 3.92 µs per loop (mean ± std. dev. of 7 runs, 10,000 loops each)\n"
     ]
    }
   ],
   "source": [
    "%%timeit\n",
    "b3 = ((a & 1) + (a >> 1 & 1) + (a >> 2 & 1) + (a >> 3 & 1)).sum()"
   ]
  },
  {
   "cell_type": "code",
   "execution_count": null,
   "id": "13ed76d5-6dec-4380-bd9b-e016fd6e051b",
   "metadata": {},
   "outputs": [],
   "source": []
  },
  {
   "cell_type": "code",
   "execution_count": 27,
   "id": "52e700e4-35c6-4e43-86d4-9c011d2f829b",
   "metadata": {},
   "outputs": [
    {
     "name": "stdout",
     "output_type": "stream",
     "text": [
      "22.3 µs ± 116 ns per loop (mean ± std. dev. of 7 runs, 10,000 loops each)\n"
     ]
    }
   ],
   "source": [
    "%%timeit\n",
    "b4 = ((a & 1).sum() + (a >> 1 & 1).sum() + (a >> 2 & 1).sum() + (a >> 3 & 1).sum())"
   ]
  },
  {
   "cell_type": "code",
   "execution_count": null,
   "id": "cc8f6fde-0fe2-443b-b85a-391fa5f3894e",
   "metadata": {},
   "outputs": [],
   "source": []
  }
 ],
 "metadata": {
  "kernelspec": {
   "display_name": "mcs_prime_env",
   "language": "python",
   "name": "mcs_prime_env"
  },
  "language_info": {
   "codemirror_mode": {
    "name": "ipython",
    "version": 3
   },
   "file_extension": ".py",
   "mimetype": "text/x-python",
   "name": "python",
   "nbconvert_exporter": "python",
   "pygments_lexer": "ipython3",
   "version": "3.10.4"
  }
 },
 "nbformat": 4,
 "nbformat_minor": 5
}
