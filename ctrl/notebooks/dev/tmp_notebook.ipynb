{
 "cells": [
  {
   "cell_type": "code",
   "execution_count": 25,
   "id": "289693b3-5561-4626-b081-84dbaaa2d465",
   "metadata": {},
   "outputs": [],
   "source": [
    "import traceback\n",
    "\n",
    "import pandas as pd"
   ]
  },
  {
   "cell_type": "code",
   "execution_count": 43,
   "id": "be94b2ad-7f7d-4741-ab5e-feb19def164f",
   "metadata": {},
   "outputs": [],
   "source": [
    "def get_calling_classname():\n",
    "    stack = next(traceback.walk_stack(None))\n",
    "    frame = stack[0]\n",
    "    # print(frame.f_globals['__file__'])\n",
    "    obj = frame.f_locals['self']\n",
    "    print(obj.__class__.__name__)\n",
    "    print(obj.__doc__)\n",
    "    # print(obj.__func__.__code__.co_code)\n",
    "\n",
    "\n",
    "class C1:\n",
    "    \"\"\"C1 docstring\"\"\"\n",
    "    def fn(self):\n",
    "        get_calling_classname()\n",
    "        "
   ]
  },
  {
   "cell_type": "code",
   "execution_count": 44,
   "id": "efb7281f-40d4-44eb-97ec-d66789f3b43b",
   "metadata": {},
   "outputs": [
    {
     "name": "stdout",
     "output_type": "stream",
     "text": [
      "C1\n",
      "C1 docstring\n"
     ]
    }
   ],
   "source": [
    "c1 = C1()\n",
    "c1.fn()"
   ]
  },
  {
   "cell_type": "code",
   "execution_count": 28,
   "id": "5b5dc34b-b16e-456f-8294-aa254c787ed2",
   "metadata": {},
   "outputs": [
    {
     "data": {
      "text/plain": [
       "Timestamp('2023-09-20 11:17:04.613715')"
      ]
     },
     "execution_count": 28,
     "metadata": {},
     "output_type": "execute_result"
    }
   ],
   "source": [
    "pd.Timestamp.now()"
   ]
  },
  {
   "cell_type": "code",
   "execution_count": 48,
   "id": "5df85607-8879-42ba-9b8d-9038ed000581",
   "metadata": {},
   "outputs": [
    {
     "data": {
      "text/plain": [
       "<method-wrapper '__call__' of type object at 0x55d25e3a9040>"
      ]
     },
     "execution_count": 48,
     "metadata": {},
     "output_type": "execute_result"
    }
   ],
   "source": [
    "c1.__class__.__call__"
   ]
  },
  {
   "cell_type": "code",
   "execution_count": 61,
   "id": "e07c53d9-30c1-453e-869b-c96eaf857443",
   "metadata": {},
   "outputs": [],
   "source": [
    "from pint.unit import Unit"
   ]
  },
  {
   "cell_type": "code",
   "execution_count": 57,
   "id": "3546abff-7742-4d7b-ac28-a948a0de7ace",
   "metadata": {},
   "outputs": [
    {
     "data": {
      "text/html": [
       "meter/second"
      ],
      "text/latex": [
       "$\\frac{\\mathrm{meter}}{\\mathrm{second}}$"
      ],
      "text/plain": [
       "<Unit('meter / second')>"
      ]
     },
     "execution_count": 57,
     "metadata": {},
     "output_type": "execute_result"
    }
   ],
   "source": [
    "Unit('m/s')"
   ]
  },
  {
   "cell_type": "code",
   "execution_count": 87,
   "id": "1826f4cc-4b59-4089-b11e-595b090c921f",
   "metadata": {},
   "outputs": [
    {
     "name": "stdout",
     "output_type": "stream",
     "text": [
      "meter ** 2 * second ** 2 / kilogram\n",
      "kilogram / meter ** 3 / second\n",
      "kilogram / meter / second ** 2\n",
      "kilogram / meter ** 2 / second\n",
      "meter\n"
     ]
    }
   ],
   "source": [
    "rho = Unit('kg * m**-3')\n",
    "g = Unit('m * s**-2')\n",
    "u = Unit('m/s')\n",
    "mf = rho * u\n",
    "div_mf = mf / Unit('m')\n",
    "dp = Unit('kg/(m * s**2)')\n",
    "\n",
    "\n",
    "vimfd = (rho * g)**-1 * div_mf * dp\n",
    "print((rho * g)**-1)\n",
    "print(div_mf)\n",
    "print(dp)\n",
    "print(vimfd)\n",
    "print((rho * g)**-1 * dp)\n"
   ]
  },
  {
   "cell_type": "code",
   "execution_count": 74,
   "id": "5f7089fd-1581-4db5-8c0c-bacb14dde722",
   "metadata": {},
   "outputs": [
    {
     "data": {
      "text/html": [
       "second/meter"
      ],
      "text/latex": [
       "$\\frac{\\mathrm{second}}{\\mathrm{meter}}$"
      ],
      "text/plain": [
       "<Unit('second / meter')>"
      ]
     },
     "execution_count": 74,
     "metadata": {},
     "output_type": "execute_result"
    }
   ],
   "source": [
    "dp**-1 * vimfd"
   ]
  },
  {
   "cell_type": "code",
   "execution_count": 77,
   "id": "92ca08b3-5554-4093-8e38-d6ea2b7c2ee0",
   "metadata": {},
   "outputs": [
    {
     "data": {
      "text/plain": [
       "True"
      ]
     },
     "execution_count": 77,
     "metadata": {},
     "output_type": "execute_result"
    }
   ],
   "source": [
    "div_mf == Unit('kg * m**-3 * s**-1')"
   ]
  },
  {
   "cell_type": "code",
   "execution_count": 82,
   "id": "03b814f2-58ae-4deb-8e13-ed7eaf24fee1",
   "metadata": {},
   "outputs": [
    {
     "data": {
      "text/html": [
       "meter second<sup>4</sup>"
      ],
      "text/latex": [
       "$\\mathrm{meter} \\cdot \\mathrm{second}^{4}$"
      ],
      "text/plain": [
       "<Unit('meter * second ** 4')>"
      ]
     },
     "execution_count": 82,
     "metadata": {},
     "output_type": "execute_result"
    }
   ],
   "source": [
    "(rho * g)**-1 * dp"
   ]
  },
  {
   "cell_type": "code",
   "execution_count": 81,
   "id": "0551c1e0-46a5-401d-af9b-1fc9f0528488",
   "metadata": {},
   "outputs": [
    {
     "data": {
      "text/html": [
       "dimensionless"
      ],
      "text/latex": [
       "$dimensionless$"
      ],
      "text/plain": [
       "<Unit('dimensionless')>"
      ]
     },
     "execution_count": 81,
     "metadata": {},
     "output_type": "execute_result"
    }
   ],
   "source": [
    "Unit('')"
   ]
  },
  {
   "cell_type": "code",
   "execution_count": 83,
   "id": "0532c78e-56c5-496b-a502-4101a513eee0",
   "metadata": {},
   "outputs": [
    {
     "data": {
      "text/html": [
       "kilogram/meter<sup>3</sup>"
      ],
      "text/latex": [
       "$\\frac{\\mathrm{kilogram}}{\\mathrm{meter}^{3}}$"
      ],
      "text/plain": [
       "<Unit('kilogram / meter ** 3')>"
      ]
     },
     "execution_count": 83,
     "metadata": {},
     "output_type": "execute_result"
    }
   ],
   "source": [
    "rho"
   ]
  },
  {
   "cell_type": "code",
   "execution_count": null,
   "id": "b6e28470-4eb4-4983-bf68-e316bf3172d5",
   "metadata": {},
   "outputs": [],
   "source": []
  }
 ],
 "metadata": {
  "kernelspec": {
   "display_name": "mcs_prime_env",
   "language": "python",
   "name": "mcs_prime_env"
  },
  "language_info": {
   "codemirror_mode": {
    "name": "ipython",
    "version": 3
   },
   "file_extension": ".py",
   "mimetype": "text/x-python",
   "name": "python",
   "nbconvert_exporter": "python",
   "pygments_lexer": "ipython3",
   "version": "3.10.4"
  }
 },
 "nbformat": 4,
 "nbformat_minor": 5
}
