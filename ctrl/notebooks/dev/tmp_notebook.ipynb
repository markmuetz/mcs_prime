{
 "cells": [
  {
   "cell_type": "code",
   "execution_count": 1,
   "id": "641b5073-cae2-4544-87c4-ab0d9e918510",
   "metadata": {
    "execution": {
     "iopub.execute_input": "2023-05-16T10:58:23.397299Z",
     "iopub.status.busy": "2023-05-16T10:58:23.396907Z",
     "iopub.status.idle": "2023-05-16T10:58:23.407869Z",
     "shell.execute_reply": "2023-05-16T10:58:23.407140Z"
    }
   },
   "outputs": [
    {
     "name": "stdout",
     "output_type": "stream",
     "text": [
      "42\n"
     ]
    }
   ],
   "source": [
    "print(42)"
   ]
  },
  {
   "cell_type": "code",
   "execution_count": 2,
   "id": "f0c533bb-a4e5-42b6-96ec-ce496057a2e0",
   "metadata": {},
   "outputs": [],
   "source": [
    "var = 'cape'\n",
    "match var:\n",
    "    case \n",
    "    case 'cpe':\n",
    "        print('cape')\n",
    "        "
   ]
  },
  {
   "cell_type": "code",
   "execution_count": 3,
   "id": "0173060d-cc4a-40d3-8b98-cff62dc5aef5",
   "metadata": {},
   "outputs": [],
   "source": [
    "from pathlib import Path"
   ]
  },
  {
   "cell_type": "code",
   "execution_count": 4,
   "id": "db4a78d0-6076-4de2-99fe-73c8d4396d5a",
   "metadata": {},
   "outputs": [],
   "source": [
    "p = Path('/an/abs/path.nc')"
   ]
  },
  {
   "cell_type": "code",
   "execution_count": 5,
   "id": "1b993c7b-519e-4181-a021-1ddd94e85402",
   "metadata": {},
   "outputs": [
    {
     "data": {
      "text/plain": [
       "PosixPath('/an/abs/path.nc')"
      ]
     },
     "execution_count": 5,
     "metadata": {},
     "output_type": "execute_result"
    }
   ],
   "source": [
    "p"
   ]
  },
  {
   "cell_type": "code",
   "execution_count": 7,
   "id": "389a6a9c-7ee1-4ba1-88e3-86582a360c09",
   "metadata": {},
   "outputs": [
    {
     "data": {
      "text/plain": [
       "('/', 'an', 'abs', 'path.nc')"
      ]
     },
     "execution_count": 7,
     "metadata": {},
     "output_type": "execute_result"
    }
   ],
   "source": [
    "p.parts"
   ]
  },
  {
   "cell_type": "code",
   "execution_count": 8,
   "id": "f2078fc8-5a56-488d-994c-4e097868c71d",
   "metadata": {},
   "outputs": [],
   "source": [
    "p2 = Path(*p.parts[1:])"
   ]
  },
  {
   "cell_type": "code",
   "execution_count": 9,
   "id": "10b83df6-f126-46d7-a668-125c4cd96854",
   "metadata": {},
   "outputs": [
    {
     "data": {
      "text/plain": [
       "PosixPath('an/abs/path.nc')"
      ]
     },
     "execution_count": 9,
     "metadata": {},
     "output_type": "execute_result"
    }
   ],
   "source": [
    "p2"
   ]
  },
  {
   "cell_type": "code",
   "execution_count": 10,
   "id": "e07d6a5e-7e96-4e7c-bd10-a72afa9bd89b",
   "metadata": {},
   "outputs": [
    {
     "data": {
      "text/plain": [
       "True"
      ]
     },
     "execution_count": 10,
     "metadata": {},
     "output_type": "execute_result"
    }
   ],
   "source": [
    "p.is_absolute()"
   ]
  },
  {
   "cell_type": "code",
   "execution_count": null,
   "id": "59909939-ea7f-45b8-9b3d-5d502ecd3cde",
   "metadata": {},
   "outputs": [],
   "source": []
  }
 ],
 "metadata": {
  "kernelspec": {
   "display_name": "mcs_prime_env",
   "language": "python",
   "name": "mcs_prime_env"
  },
  "language_info": {
   "codemirror_mode": {
    "name": "ipython",
    "version": 3
   },
   "file_extension": ".py",
   "mimetype": "text/x-python",
   "name": "python",
   "nbconvert_exporter": "python",
   "pygments_lexer": "ipython3",
   "version": "3.10.4"
  }
 },
 "nbformat": 4,
 "nbformat_minor": 5
}
