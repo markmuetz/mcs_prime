{
 "cells": [
  {
   "cell_type": "markdown",
   "id": "0ad0d997-b3f5-4587-813b-11dc69c1d61c",
   "metadata": {},
   "source": [
    "Playing around with precip in u-cp288 (GA8/CoMorph) and u-cp308 (GA8 standard)\n",
    "=====\n",
    "\n",
    "Try making animations of stream h - tropical precip.\n",
    "\n",
    "WARNING: Delete all videos before checking in to git.\n",
    "--------"
   ]
  },
  {
   "cell_type": "code",
   "execution_count": null,
   "id": "faaf80f5-a5ac-43ca-ad60-c19d2092268b",
   "metadata": {},
   "outputs": [],
   "source": [
    "import cartopy.crs as ccrs\n",
    "from cartopy.util import add_cyclic_point\n",
    "import iris\n",
    "import matplotlib\n",
    "import matplotlib.pyplot as plt\n",
    "# plt.rcParams[\"animation.html\"] = \"jshtml\"\n",
    "plt.rcParams[\"animation.html\"] = \"html5\"\n",
    "import matplotlib.animation\n",
    "%matplotlib inline"
   ]
  },
  {
   "cell_type": "code",
   "execution_count": null,
   "id": "43d24676-4c1e-4893-83d1-64d5ab3a3fa2",
   "metadata": {},
   "outputs": [],
   "source": [
    "cubes = iris.load('/home/markmuetz/mirrors/jasmin/gws/nopw/j04/mcsprime/mmuetz/data/UM_sims/u-cp308/init_test/cp308a.ph1990aug.pp')"
   ]
  },
  {
   "cell_type": "code",
   "execution_count": null,
   "id": "b00beda9-d630-457f-be8c-38b6b1d45ab2",
   "metadata": {},
   "outputs": [],
   "source": [
    "cubes"
   ]
  },
  {
   "cell_type": "code",
   "execution_count": null,
   "id": "54c5580c-5589-4e8f-ab4d-1c48b59cb5b9",
   "metadata": {},
   "outputs": [],
   "source": [
    "precip = cubes.extract_cube('precipitation_flux') * 3600\n",
    "precip.units = 'mm hr-1'"
   ]
  },
  {
   "cell_type": "code",
   "execution_count": null,
   "id": "09b9079e-c3c6-409e-9484-8fbd7cc72382",
   "metadata": {},
   "outputs": [],
   "source": [
    "precip"
   ]
  },
  {
   "cell_type": "code",
   "execution_count": null,
   "id": "0d907576-1b28-4dd8-9e6b-b95142f6b850",
   "metadata": {},
   "outputs": [],
   "source": [
    "precip[0]"
   ]
  },
  {
   "cell_type": "code",
   "execution_count": null,
   "id": "6d440921-f863-4b93-9b54-4f04d7b4e4a2",
   "metadata": {},
   "outputs": [],
   "source": [
    "fig, ax = plt.subplots(subplot_kw={'projection': ccrs.PlateCarree()})\n",
    "fig.set_size_inches((20, 10))\n",
    "ax.coastlines()\n",
    "lon = precip.coord('longitude').points\n",
    "cprecip, clon = add_cyclic_point(precip.data, coord=lon)\n",
    "lat = precip.coord('latitude').points\n",
    "ax.contourf(clon, lat, cprecip[-1])"
   ]
  },
  {
   "cell_type": "code",
   "execution_count": null,
   "id": "7e1b901b-5f77-4052-b5ff-d44ff006999d",
   "metadata": {},
   "outputs": [],
   "source": [
    "precip.data.max()"
   ]
  },
  {
   "cell_type": "code",
   "execution_count": null,
   "id": "8e748402-20ee-4fab-afee-223259dbf73f",
   "metadata": {},
   "outputs": [],
   "source": [
    "lat[[0, -1]]"
   ]
  },
  {
   "cell_type": "code",
   "execution_count": null,
   "id": "2592751d-1e64-4967-970f-a3a28a79e5cd",
   "metadata": {},
   "outputs": [],
   "source": [
    "fig, ax = plt.subplots(subplot_kw={'projection': ccrs.PlateCarree()})\n",
    "fig.set_size_inches((20, 10))\n",
    "ax.coastlines()"
   ]
  },
  {
   "cell_type": "code",
   "execution_count": null,
   "id": "f988023e-5621-4b5c-9b5c-764ec65be678",
   "metadata": {},
   "outputs": [],
   "source": [
    "def plot_precip(i):\n",
    "    print(i)\n",
    "    ax.clear()\n",
    "    ax.coastlines()\n",
    "    ax.contourf(clon, lat, cprecip[i], vmax=cprecip.max())"
   ]
  },
  {
   "cell_type": "code",
   "execution_count": null,
   "id": "eda9cbae-9eb1-457b-9d6c-1da0bcd15b8d",
   "metadata": {},
   "outputs": [],
   "source": [
    "anim = matplotlib.animation.FuncAnimation(fig, plot_precip, frames=24 * 3, interval=50)\n",
    "anim"
   ]
  },
  {
   "cell_type": "code",
   "execution_count": null,
   "id": "6f87f230-c7d6-48fc-9fa5-2fbf688c23d4",
   "metadata": {},
   "outputs": [],
   "source": [
    "precip2 = iris.load_cube('/home/markmuetz/mirrors/jasmin/gws/nopw/j04/mcsprime/mmuetz/data/UM_sims/u-cp288/init_test/cp288a.ph1990aug.pp', 'precipitation_flux') * 3600\n",
    "precip2.units = 'mm hr-1'"
   ]
  },
  {
   "cell_type": "code",
   "execution_count": null,
   "id": "ae13e57a-9351-4c39-8ac4-750231209869",
   "metadata": {},
   "outputs": [],
   "source": [
    "fig, ax = plt.subplots(subplot_kw={'projection': ccrs.PlateCarree()})\n",
    "fig.set_size_inches((20, 10))\n",
    "ax.coastlines()\n",
    "lon = precip2.coord('longitude').points\n",
    "cprecip2, clon = add_cyclic_point(precip2.data, coord=lon)\n",
    "lat = precip2.coord('latitude').points\n",
    "ax.contourf(clon, lat, cprecip2[-1])"
   ]
  },
  {
   "cell_type": "code",
   "execution_count": null,
   "id": "7962f935-a034-4463-9b68-486980effcee",
   "metadata": {},
   "outputs": [],
   "source": [
    "precip2.data.max()"
   ]
  },
  {
   "cell_type": "code",
   "execution_count": null,
   "id": "e560160b-7abc-4d5f-9234-07087c8e8881",
   "metadata": {},
   "outputs": [],
   "source": [
    "lat[[0, -1]]"
   ]
  },
  {
   "cell_type": "code",
   "execution_count": null,
   "id": "f77b6323-d0f2-4010-990f-e878b70c7bfd",
   "metadata": {},
   "outputs": [],
   "source": [
    "fig, ax = plt.subplots(subplot_kw={'projection': ccrs.PlateCarree()})\n",
    "fig.set_size_inches((20, 10))\n",
    "ax.coastlines()"
   ]
  },
  {
   "cell_type": "code",
   "execution_count": null,
   "id": "c3dd274f-4e61-4e9e-a2c3-a39c57d7d8a2",
   "metadata": {},
   "outputs": [],
   "source": [
    "def plot_precip2(i):\n",
    "    print(i)\n",
    "    ax.contourf(clon, lat, cprecip2[i])"
   ]
  },
  {
   "cell_type": "code",
   "execution_count": null,
   "id": "11a01b8f-aabe-43fd-be6c-86623422b3c7",
   "metadata": {},
   "outputs": [],
   "source": [
    "anim = matplotlib.animation.FuncAnimation(fig, plot_precip2, frames=24 * 3, interval=50)\n",
    "anim"
   ]
  },
  {
   "cell_type": "code",
   "execution_count": null,
   "id": "7e0c31ef-9ca6-423c-b2da-8440e5fa8d91",
   "metadata": {},
   "outputs": [],
   "source": [
    "fig, (ax1, ax2) = plt.subplots(2, 1, subplot_kw={'projection': ccrs.PlateCarree()})\n",
    "fig.set_size_inches((20, 10))\n"
   ]
  },
  {
   "cell_type": "code",
   "execution_count": null,
   "id": "df796daa-832e-44df-83a8-4a29e14cfe64",
   "metadata": {},
   "outputs": [],
   "source": [
    "precip_max = max(cprecip.max(), cprecip2.max())\n",
    "\n",
    "def plot_precip_both(i):\n",
    "    print(i)\n",
    "    ax1.clear()\n",
    "    ax2.clear()\n",
    "    ax1.coastlines()\n",
    "    ax2.coastlines()\n",
    "    ax1.contourf(clon, lat, cprecip[i], vmax=precip_max)\n",
    "    ax2.contourf(clon, lat, cprecip2[i], vmax=precip_max)"
   ]
  },
  {
   "cell_type": "code",
   "execution_count": null,
   "id": "9a11d5ef-1aff-4855-9202-cf145e4417f4",
   "metadata": {},
   "outputs": [],
   "source": [
    "anim = matplotlib.animation.FuncAnimation(fig, plot_precip_both, frames=24 * 3, interval=50)\n",
    "anim"
   ]
  },
  {
   "cell_type": "code",
   "execution_count": null,
   "id": "cceee34a-65fa-4ed1-a4f1-be666afed8ff",
   "metadata": {},
   "outputs": [],
   "source": [
    "levels = [0.125, 0.25, 0.5, 1, 2, 4, 8, 16, 32, 64]\n",
    "colors = ((0, 0, 0.6), 'b', 'c', 'g', 'y', (1, 0.5, 0), 'r', 'm', (0.6, 0.6, 0.6))\n"
   ]
  },
  {
   "cell_type": "code",
   "execution_count": null,
   "id": "43d78650-d93f-476d-945c-792e2cbc40bc",
   "metadata": {},
   "outputs": [],
   "source": [
    "lon = precip.coord('longitude').points\n",
    "lat = precip.coord('latitude').points\n",
    "\n",
    "cprecip, clon = add_cyclic_point(precip.data, coord=lon)\n",
    "cprecip2, clon = add_cyclic_point(precip2.data, coord=lon)\n"
   ]
  },
  {
   "cell_type": "code",
   "execution_count": null,
   "id": "587cca7e-3320-4d78-a8ee-caf28f90feab",
   "metadata": {},
   "outputs": [],
   "source": [
    "fig, (ax1, ax2) = plt.subplots(2, 1, subplot_kw={'projection': ccrs.PlateCarree()})\n",
    "fig.set_size_inches((20, 10))\n"
   ]
  },
  {
   "cell_type": "code",
   "execution_count": null,
   "id": "13797ef9-4cff-4391-890f-75cdfbfa1ae8",
   "metadata": {},
   "outputs": [],
   "source": [
    "precip_max = max(cprecip.max(), cprecip2.max())\n",
    "\n",
    "im = ax2.contourf(clon, lat, cprecip2[0], levels=levels, colors=colors)\n",
    "fig.colorbar(im, ax=(ax1, ax2), label='precip (mm hr$^{-1}$)')\n",
    "\n",
    "def plot_precip_both(i):\n",
    "    # print(i)\n",
    "    ax1.clear()\n",
    "    ax2.clear()\n",
    "    ax1.coastlines()\n",
    "    ax2.coastlines()\n",
    "    ax1.contourf(clon, lat, cprecip[i], levels=levels, colors=colors)\n",
    "    im = ax2.contourf(clon, lat, cprecip2[i], levels=levels, colors=colors)"
   ]
  },
  {
   "cell_type": "code",
   "execution_count": null,
   "id": "87c39f75-4dca-4794-b647-11257312a6a9",
   "metadata": {},
   "outputs": [],
   "source": [
    "anim = matplotlib.animation.FuncAnimation(fig, plot_precip_both, frames=24 * 3, interval=50)\n",
    "anim"
   ]
  },
  {
   "cell_type": "markdown",
   "id": "f3124fa4-8b88-4aec-8262-06b36e5b5f31",
   "metadata": {},
   "source": [
    "Tried this but CoMorph has no conv precip (see its UMDP for why - it all gets added to L-S precip).\n",
    "-----"
   ]
  },
  {
   "cell_type": "code",
   "execution_count": null,
   "id": "d33353f6-9a9b-400c-a811-858b71c1cec1",
   "metadata": {},
   "outputs": [],
   "source": [
    "conv_precip = iris.load_cube('/home/markmuetz/mirrors/jasmin/gws/nopw/j04/mcsprime/mmuetz/data/UM_sims/u-cp308/init_test/cp308a.ph1990aug.pp', 'convective_rainfall_flux') * 3600\n",
    "conv_precip.units = 'mm hr-1'\n",
    "conv_precip2 = iris.load_cube('/home/markmuetz/mirrors/jasmin/gws/nopw/j04/mcsprime/mmuetz/data/UM_sims/u-cp288/init_test/cp288a.ph1990aug.pp', 'convective_rainfall_flux') * 3600\n",
    "conv_precip2.units = 'mm hr-1'"
   ]
  },
  {
   "cell_type": "code",
   "execution_count": null,
   "id": "19380947-ffd2-4111-9c7f-290a7dcb1bd6",
   "metadata": {},
   "outputs": [],
   "source": [
    "lon = conv_precip.coord('longitude').points\n",
    "lat = conv_precip.coord('latitude').points\n",
    "\n",
    "cconv_precip, clon = add_cyclic_point(conv_precip.data, coord=lon)\n",
    "cconv_precip2, clon = add_cyclic_point(conv_precip2.data, coord=lon)"
   ]
  },
  {
   "cell_type": "code",
   "execution_count": null,
   "id": "1585c172-e991-48e9-a763-23d48ea05203",
   "metadata": {},
   "outputs": [],
   "source": [
    "fig, (ax1, ax2) = plt.subplots(2, 1, subplot_kw={'projection': ccrs.PlateCarree()})\n",
    "fig.set_size_inches((20, 10))\n"
   ]
  },
  {
   "cell_type": "code",
   "execution_count": null,
   "id": "5f417d0f-1906-43fc-900c-f3acabd036f3",
   "metadata": {},
   "outputs": [],
   "source": [
    "precip_max = max(cconv_precip.max(), cconv_precip2.max())\n",
    "\n",
    "im = ax2.contourf(clon, lat, cconv_precip2[0], levels=levels, colors=colors)\n",
    "fig.colorbar(im, ax=(ax1, ax2), label='precip (mm hr$^{-1}$)')\n",
    "\n",
    "def plot_precip_both(i):\n",
    "    print(i)\n",
    "    ax1.clear()\n",
    "    ax2.clear()\n",
    "    ax1.coastlines()\n",
    "    ax2.coastlines()\n",
    "    ax1.contourf(clon, lat, cconv_precip[i], levels=levels, colors=colors)\n",
    "    im = ax2.contourf(clon, lat, cconv_precip2[i], levels=levels, colors=colors)"
   ]
  },
  {
   "cell_type": "code",
   "execution_count": null,
   "id": "6d7b30f2-b49f-4f0b-ad29-f24901f4aa3d",
   "metadata": {},
   "outputs": [],
   "source": [
    "anim = matplotlib.animation.FuncAnimation(fig, plot_precip_both, frames=24 * 3, interval=50)\n",
    "anim"
   ]
  },
  {
   "cell_type": "code",
   "execution_count": null,
   "id": "59ffc090-6fa0-4cd9-8dd3-4c4e16d975ed",
   "metadata": {},
   "outputs": [],
   "source": [
    "cubes2 = iris.load('/home/markmuetz/mirrors/jasmin/gws/nopw/j04/mcsprime/mmuetz/data/UM_sims/u-cp288/init_test/cp288a.ph1990aug.pp')"
   ]
  },
  {
   "cell_type": "code",
   "execution_count": null,
   "id": "38b97753-5bda-4bd0-89ac-8a42fc462baa",
   "metadata": {},
   "outputs": [],
   "source": [
    "cubes2"
   ]
  },
  {
   "cell_type": "code",
   "execution_count": null,
   "id": "db395cb2-c1d8-49e2-a91e-c9b3449a9b13",
   "metadata": {},
   "outputs": [],
   "source": [
    "conv_precip2diff = (cubes2[1].data - cubes2[1].data) * 3600"
   ]
  },
  {
   "cell_type": "code",
   "execution_count": null,
   "id": "d64aa9f9-72e4-401b-a051-4ffcca1e07b2",
   "metadata": {},
   "outputs": [],
   "source": [
    "lon = conv_precip.coord('longitude').points\n",
    "lat = conv_precip.coord('latitude').points\n",
    "\n",
    "cconv_precip, clon = add_cyclic_point(conv_precip.data, coord=lon)\n",
    "cconv_precip2, clon = add_cyclic_point(conv_precip2diff, coord=lon)"
   ]
  },
  {
   "cell_type": "code",
   "execution_count": null,
   "id": "dbbd80cf-446c-4fbc-8b6e-3161fa89caa1",
   "metadata": {},
   "outputs": [],
   "source": [
    "fig, (ax1, ax2) = plt.subplots(2, 1, subplot_kw={'projection': ccrs.PlateCarree()})\n",
    "fig.set_size_inches((20, 10))\n"
   ]
  },
  {
   "cell_type": "code",
   "execution_count": null,
   "id": "48f77c69-b409-4d83-9745-0fadf448af06",
   "metadata": {},
   "outputs": [],
   "source": [
    "precip_max = max(cconv_precip.max(), cconv_precip2.max())\n",
    "\n",
    "im = ax2.contourf(clon, lat, cconv_precip2[0], levels=levels, colors=colors)\n",
    "fig.colorbar(im, ax=(ax1, ax2), label='precip (mm hr$^{-1}$)')\n",
    "\n",
    "def plot_precip_both(i):\n",
    "    print(i)\n",
    "    ax1.clear()\n",
    "    ax2.clear()\n",
    "    ax1.coastlines()\n",
    "    ax2.coastlines()\n",
    "    ax1.contourf(clon, lat, cconv_precip[i], levels=levels, colors=colors)\n",
    "    im = ax2.contourf(clon, lat, cconv_precip2[i], levels=levels, colors=colors)"
   ]
  },
  {
   "cell_type": "code",
   "execution_count": null,
   "id": "4098a66b-c2c7-4012-b58d-ca366e4b8d91",
   "metadata": {},
   "outputs": [],
   "source": [
    "anim = matplotlib.animation.FuncAnimation(fig, plot_precip_both, frames=3, interval=50)\n",
    "anim"
   ]
  },
  {
   "cell_type": "code",
   "execution_count": null,
   "id": "a4601c14-c823-4bc6-888a-f9b602008617",
   "metadata": {},
   "outputs": [],
   "source": [
    "cconv_precip2.max()"
   ]
  },
  {
   "cell_type": "code",
   "execution_count": null,
   "id": "28608db7-56d3-4a93-84cb-6a2a69343d36",
   "metadata": {},
   "outputs": [],
   "source": [
    "conv_precip2diff.max()"
   ]
  },
  {
   "cell_type": "code",
   "execution_count": null,
   "id": "03262a69-029b-44c5-ae95-67896cb14a1b",
   "metadata": {},
   "outputs": [],
   "source": [
    "fig, (ax1, ax2) = plt.subplots(2, 1, subplot_kw={'projection': ccrs.PlateCarree()})\n",
    "fig.set_size_inches((20, 10))\n"
   ]
  },
  {
   "cell_type": "code",
   "execution_count": null,
   "id": "b9a9551d-9eb4-4d5f-baeb-13c374711d9b",
   "metadata": {},
   "outputs": [],
   "source": [
    "\n",
    "plt.rcParams[\"animation.embed_limit\"] = 21091636 * 4\n"
   ]
  },
  {
   "cell_type": "code",
   "execution_count": null,
   "id": "33eecaad-f6af-45f2-936f-6e83f93ea3f7",
   "metadata": {},
   "outputs": [],
   "source": [
    "precip_max = max(cprecip.max(), cprecip2.max())\n",
    "\n",
    "im = ax2.contourf(clon, lat, cprecip2[0], levels=levels, colors=colors)\n",
    "fig.colorbar(im, ax=(ax1, ax2), label='precip (mm hr$^{-1}$)')\n",
    "\n",
    "def plot_precip_both(i):\n",
    "    print(i)\n",
    "    ax1.clear()\n",
    "    ax2.clear()\n",
    "    ax1.coastlines()\n",
    "    ax2.coastlines()\n",
    "    ax1.contourf(clon, lat, cprecip[i], levels=levels, colors=colors)\n",
    "    im = ax2.contourf(clon, lat, cprecip2[i], levels=levels, colors=colors)"
   ]
  },
  {
   "cell_type": "code",
   "execution_count": null,
   "id": "be25358c-9bcf-4f92-8ccc-b06a2dbdef86",
   "metadata": {},
   "outputs": [],
   "source": [
    "anim = matplotlib.animation.FuncAnimation(fig, plot_precip_both, frames=range(0, 24 * 3 * 30, 6), interval=50)\n",
    "anim"
   ]
  },
  {
   "cell_type": "code",
   "execution_count": null,
   "id": "41304d6e-096c-40f4-b757-b9cd3ef21d8c",
   "metadata": {},
   "outputs": [],
   "source": []
  }
 ],
 "metadata": {
  "kernelspec": {
   "display_name": "mcs_prime_env",
   "language": "python",
   "name": "mcs_prime_env"
  },
  "language_info": {
   "codemirror_mode": {
    "name": "ipython",
    "version": 3
   },
   "file_extension": ".py",
   "mimetype": "text/x-python",
   "name": "python",
   "nbconvert_exporter": "python",
   "pygments_lexer": "ipython3",
   "version": "3.10.4"
  }
 },
 "nbformat": 4,
 "nbformat_minor": 5
}
