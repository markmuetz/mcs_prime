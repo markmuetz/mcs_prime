{
 "cells": [
  {
   "cell_type": "code",
   "execution_count": 1,
   "id": "3ee5c907-80fd-4e7a-8c7f-26de75a1e018",
   "metadata": {},
   "outputs": [],
   "source": [
    "class LoopPercentageDisp:\n",
    "    def __init__(self, L, step_percentage=10, fmt='{percentage:.1f}% ({i}/{L})'):\n",
    "        self.L = L\n",
    "        self.step_percentage = step_percentage\n",
    "        self.disp_percentage = step_percentage\n",
    "        self.fmt = fmt\n",
    "        self.curr_percentage = 0\n",
    "\n",
    "    def __call__(self, i):\n",
    "        L = self.L\n",
    "        percentage = i / L * 100\n",
    "        if percentage >= self.disp_percentage:\n",
    "            print(self.fmt.format(percentage=percentage, i=i, L=L))\n",
    "            self.disp_percentage += self.step_percentage\n",
    "        self.curr_percentage = percentage\n",
    "        "
   ]
  },
  {
   "cell_type": "code",
   "execution_count": 2,
   "id": "ff65c4c1-28b1-497e-a320-570c57399b8e",
   "metadata": {},
   "outputs": [
    {
     "name": "stdout",
     "output_type": "stream",
     "text": [
      "20.1% (67/333)\n",
      "40.2% (134/333)\n",
      "60.1% (200/333)\n",
      "80.2% (267/333)\n"
     ]
    }
   ],
   "source": [
    "L = 333\n",
    "ld = LoopPercentageDisp(L, 20)\n",
    "for i in range(L):\n",
    "    ld(i)\n",
    "    "
   ]
  },
  {
   "cell_type": "code",
   "execution_count": 3,
   "id": "7ee17ee1-52be-4cb1-a216-96ee1c006f5f",
   "metadata": {},
   "outputs": [
    {
     "data": {
      "text/plain": [
       "'1'"
      ]
     },
     "execution_count": 3,
     "metadata": {},
     "output_type": "execute_result"
    }
   ],
   "source": [
    "'{a}'.format(a=1, b=2)"
   ]
  },
  {
   "cell_type": "code",
   "execution_count": 4,
   "id": "1447eb9d-dad4-4df1-b78e-f52f7e1f7c3a",
   "metadata": {},
   "outputs": [],
   "source": [
    "import numpy as np"
   ]
  },
  {
   "cell_type": "code",
   "execution_count": 5,
   "id": "46f40baf-900a-474e-84e2-c7a7d35b70d7",
   "metadata": {},
   "outputs": [],
   "source": [
    "\n",
    "# a1 = np.random.random(int(200e6))\n",
    "a1 = np.random.random(int(1e3))"
   ]
  },
  {
   "cell_type": "code",
   "execution_count": null,
   "id": "5b5ce62a-7e64-43d3-9618-d65b866cd023",
   "metadata": {},
   "outputs": [],
   "source": []
  },
  {
   "cell_type": "code",
   "execution_count": 6,
   "id": "4ae48570-e6c1-422f-88fb-20395f90e89b",
   "metadata": {},
   "outputs": [],
   "source": [
    "\n",
    "#idx = np.sort(np.random.choice(np.arange(len(a1)), int(1e6), replace=False))\n",
    "\n",
    "#len(np.unique(idx)) == len(idx)"
   ]
  },
  {
   "cell_type": "code",
   "execution_count": 7,
   "id": "a7ab5c37-d49f-44b2-952f-82663f4d3f05",
   "metadata": {},
   "outputs": [],
   "source": [
    "#a1[idx]"
   ]
  },
  {
   "cell_type": "code",
   "execution_count": 14,
   "id": "1448b7bb-62b3-4e75-8802-5dc5c79b20a5",
   "metadata": {},
   "outputs": [
    {
     "data": {
      "text/plain": [
       "1990656"
      ]
     },
     "execution_count": 14,
     "metadata": {},
     "output_type": "execute_result"
    }
   ],
   "source": [
    "24 * 12 * 144 * 48"
   ]
  },
  {
   "cell_type": "code",
   "execution_count": 9,
   "id": "28a8ed4c-9bb1-4e8d-8e2d-3067cc0aac91",
   "metadata": {},
   "outputs": [],
   "source": [
    "x = np.random.normal(size=int(1e6))\n",
    "y = np.random.normal(size=int(1e6))"
   ]
  },
  {
   "cell_type": "code",
   "execution_count": 10,
   "id": "35505a19-d822-4e75-b49b-9173da96720f",
   "metadata": {},
   "outputs": [],
   "source": [
    "import seaborn as sns"
   ]
  },
  {
   "cell_type": "code",
   "execution_count": 11,
   "id": "ae101823-b826-4cec-a2ee-4cb0686f01aa",
   "metadata": {},
   "outputs": [],
   "source": [
    "# sns.scatterplot(x=x, y=y)\n",
    "idx = np.sort(np.random.choice(np.arange(len(x)), int(1e4), replace=False))"
   ]
  },
  {
   "cell_type": "code",
   "execution_count": 12,
   "id": "1079e246-ea44-41bd-b0eb-a799bf910dda",
   "metadata": {},
   "outputs": [
    {
     "name": "stdout",
     "output_type": "stream",
     "text": [
      "6.08 s ± 122 ms per loop (mean ± std. dev. of 7 runs, 1 loop each)\n"
     ]
    },
    {
     "data": {
      "image/png": "[encoded data removed]",
      "text/plain": [
       "<Figure size 432x288 with 1 Axes>"
      ]
     },
     "metadata": {
      "needs_background": "light"
     },
     "output_type": "display_data"
    }
   ],
   "source": [
    "%%timeit\n",
    "sns.kdeplot(x=x[idx], y=y[idx], color='black', levels=[0.01])"
   ]
  },
  {
   "cell_type": "code",
   "execution_count": 13,
   "id": "d691ac98-032f-4fb2-8eee-f69546ae41c5",
   "metadata": {},
   "outputs": [
    {
     "ename": "SyntaxError",
     "evalue": "closing parenthesis ')' does not match opening parenthesis '[' (<unknown>, line 1)",
     "output_type": "error",
     "traceback": [
      "Traceback \u001b[0;36m(most recent call last)\u001b[0m:\n",
      "  File \u001b[1;32m~/miniconda3/envs/mcs_prime_env/lib/python3.10/site-packages/IPython/core/interactiveshell.py:3369\u001b[0m in \u001b[1;35mrun_code\u001b[0m\n    exec(code_obj, self.user_global_ns, self.user_ns)\n",
      "  Input \u001b[1;32mIn [13]\u001b[0m in \u001b[1;35m<cell line: 1>\u001b[0m\n    get_ipython().run_cell_magic('timeit', '', \"sns.displot(x=x[idx[, y=y[idx], kind='kde', color='black', levels=[0.01])\\n\")\n",
      "  File \u001b[1;32m~/miniconda3/envs/mcs_prime_env/lib/python3.10/site-packages/IPython/core/interactiveshell.py:2347\u001b[0m in \u001b[1;35mrun_cell_magic\u001b[0m\n    result = fn(*args, **kwargs)\n",
      "  File \u001b[1;32m~/miniconda3/envs/mcs_prime_env/lib/python3.10/site-packages/IPython/core/magics/execution.py:1108\u001b[0m in \u001b[1;35mtimeit\u001b[0m\n    ast_stmt = self.shell.compile.ast_parse(transform(cell))\n",
      "\u001b[0;36m  File \u001b[0;32m~/miniconda3/envs/mcs_prime_env/lib/python3.10/site-packages/IPython/core/compilerop.py:105\u001b[0;36m in \u001b[0;35mast_parse\u001b[0;36m\u001b[0m\n\u001b[0;31m    return compile(source, filename, symbol, self.flags | PyCF_ONLY_AST, 1)\u001b[0m\n",
      "\u001b[0;36m  File \u001b[0;32m<unknown>:1\u001b[0;36m\u001b[0m\n\u001b[0;31m    sns.displot(x=x[idx[, y=y[idx], kind='kde', color='black', levels=[0.01])\u001b[0m\n\u001b[0m                                                                            ^\u001b[0m\n\u001b[0;31mSyntaxError\u001b[0m\u001b[0;31m:\u001b[0m closing parenthesis ')' does not match opening parenthesis '['\n"
     ]
    }
   ],
   "source": [
    "%%timeit\n",
    "sns.displot(x=x[idx[, y=y[idx], kind='kde', color='black', levels=[0.01])"
   ]
  },
  {
   "cell_type": "code",
   "execution_count": null,
   "id": "101d2ff6-0f5e-4494-848e-7f7309dbcded",
   "metadata": {},
   "outputs": [],
   "source": []
  }
 ],
 "metadata": {
  "kernelspec": {
   "display_name": "mcs_prime_env",
   "language": "python",
   "name": "mcs_prime_env"
  },
  "language_info": {
   "codemirror_mode": {
    "name": "ipython",
    "version": 3
   },
   "file_extension": ".py",
   "mimetype": "text/x-python",
   "name": "python",
   "nbconvert_exporter": "python",
   "pygments_lexer": "ipython3",
   "version": "3.10.4"
  }
 },
 "nbformat": 4,
 "nbformat_minor": 5
}
