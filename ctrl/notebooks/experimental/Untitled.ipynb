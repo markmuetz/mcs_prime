{
 "cells": [
  {
   "cell_type": "code",
   "execution_count": 13,
   "id": "3ee5c907-80fd-4e7a-8c7f-26de75a1e018",
   "metadata": {},
   "outputs": [],
   "source": [
    "class LoopPercentageDisp:\n",
    "    def __init__(self, L, step_percentage=10, fmt='{percentage:.1f}% ({i}/{L})'):\n",
    "        self.L = L\n",
    "        self.step_percentage = step_percentage\n",
    "        self.disp_percentage = step_percentage\n",
    "        self.fmt = fmt\n",
    "        self.curr_percentage = 0\n",
    "\n",
    "    def __call__(self, i):\n",
    "        L = self.L\n",
    "        percentage = i / L * 100\n",
    "        if percentage >= self.disp_percentage:\n",
    "            print(self.fmt.format(percentage=percentage, i=i, L=L))\n",
    "            self.disp_percentage += self.step_percentage\n",
    "        self.curr_percentage = percentage\n",
    "        "
   ]
  },
  {
   "cell_type": "code",
   "execution_count": 15,
   "id": "ff65c4c1-28b1-497e-a320-570c57399b8e",
   "metadata": {},
   "outputs": [
    {
     "name": "stdout",
     "output_type": "stream",
     "text": [
      "20.1% (67/333)\n",
      "40.2% (134/333)\n",
      "60.1% (200/333)\n",
      "80.2% (267/333)\n"
     ]
    }
   ],
   "source": [
    "L = 333\n",
    "ld = LoopPercentageDisp(L, 20)\n",
    "for i in range(L):\n",
    "    ld(i)\n",
    "    "
   ]
  },
  {
   "cell_type": "code",
   "execution_count": 11,
   "id": "7ee17ee1-52be-4cb1-a216-96ee1c006f5f",
   "metadata": {},
   "outputs": [
    {
     "data": {
      "text/plain": [
       "'1'"
      ]
     },
     "execution_count": 11,
     "metadata": {},
     "output_type": "execute_result"
    }
   ],
   "source": [
    "'{a}'.format(a=1, b=2)"
   ]
  },
  {
   "cell_type": "code",
   "execution_count": null,
   "id": "1447eb9d-dad4-4df1-b78e-f52f7e1f7c3a",
   "metadata": {},
   "outputs": [],
   "source": []
  }
 ],
 "metadata": {
  "kernelspec": {
   "display_name": "mcs_prime_env",
   "language": "python",
   "name": "mcs_prime_env"
  },
  "language_info": {
   "codemirror_mode": {
    "name": "ipython",
    "version": 3
   },
   "file_extension": ".py",
   "mimetype": "text/x-python",
   "name": "python",
   "nbconvert_exporter": "python",
   "pygments_lexer": "ipython3",
   "version": "3.10.4"
  }
 },
 "nbformat": 4,
 "nbformat_minor": 5
}
