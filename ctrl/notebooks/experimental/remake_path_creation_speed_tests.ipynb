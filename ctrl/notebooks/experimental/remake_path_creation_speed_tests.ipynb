{
 "cells": [
  {
   "cell_type": "code",
   "execution_count": 6,
   "id": "46feab80-f20c-4288-acc5-22554d67ca8b",
   "metadata": {},
   "outputs": [],
   "source": [
    "from itertools import product\n",
    "from pathlib import Path\n",
    "\n",
    "from remake.util import format_path"
   ]
  },
  {
   "cell_type": "code",
   "execution_count": 7,
   "id": "7bf2adae-ef77-4057-bae7-80c4d6272429",
   "metadata": {},
   "outputs": [],
   "source": [
    "str_tpl = '/some/fairly/long/path/to/eg/a/g/w/s/with_a_filename.{a:06d}.{b}.{c}.nc'\n",
    "path_tpl = Path(str_tpl)"
   ]
  },
  {
   "cell_type": "code",
   "execution_count": 8,
   "id": "a35f8045-d5e4-4505-9b9f-0f44fec90bf9",
   "metadata": {},
   "outputs": [
    {
     "name": "stdout",
     "output_type": "stream",
     "text": [
      "270000\n",
      "270000\n",
      "270000\n",
      "270000\n",
      "270000\n",
      "270000\n",
      "270000\n",
      "270000\n",
      "359 ms ± 10.9 ms per loop (mean ± std. dev. of 7 runs, 1 loop each)\n"
     ]
    }
   ],
   "source": [
    "%%timeit\n",
    "\n",
    "strs = {}\n",
    "for a, b, c in product(range(int(1e4)), 'abcdefghi', ['e1', 'e2', 'e3']):\n",
    "    strs[(a, b, c)] = str_tpl.format(a=a, b=b, c=c)\n",
    "print(len(strs))\n",
    "strs[(a, b, c)]"
   ]
  },
  {
   "cell_type": "code",
   "execution_count": 12,
   "id": "1ff3fe12-2efe-495c-aa22-4e4072f045bc",
   "metadata": {},
   "outputs": [
    {
     "name": "stdout",
     "output_type": "stream",
     "text": [
      "239 ms ± 7.27 ms per loop (mean ± std. dev. of 7 runs, 1 loop each)\n"
     ]
    }
   ],
   "source": [
    "%%timeit\n",
    "class F:\n",
    "    @staticmethod\n",
    "    def f(a, b, c):\n",
    "        return f'/some/fairly/long/path/to/eg/a/g/w/s/with_a_filename.{a:06d}.{b}.{c}.nc'\n",
    "strs2 = {}\n",
    "for a, b, c in product(range(int(1e4)), 'abcdefghi', ['e1', 'e2', 'e3']):\n",
    "    strs2[(a, b, c)] = F.f(a, b, c)"
   ]
  },
  {
   "cell_type": "code",
   "execution_count": 10,
   "id": "42c674a0-f278-4054-83e4-d47d254ac488",
   "metadata": {},
   "outputs": [
    {
     "name": "stdout",
     "output_type": "stream",
     "text": [
      "270000\n",
      "270000\n",
      "270000\n",
      "270000\n",
      "270000\n",
      "270000\n",
      "270000\n",
      "270000\n",
      "2.1 s ± 49 ms per loop (mean ± std. dev. of 7 runs, 1 loop each)\n"
     ]
    }
   ],
   "source": [
    "%%timeit\n",
    "\n",
    "paths = {}\n",
    "for a, b, c in product(range(int(1e4)), 'abcdefghi', ['e1', 'e2', 'e3']):\n",
    "    paths[(a, b, c)] = format_path(path_tpl, a=a, b=b, c=c)\n",
    "print(len(paths))"
   ]
  },
  {
   "cell_type": "code",
   "execution_count": 25,
   "id": "61847fb5-6b0b-4a7f-964d-b7513e0c080c",
   "metadata": {},
   "outputs": [],
   "source": [
    "from timeit import default_timer as timer\n",
    "from remake import load_remake\n"
   ]
  },
  {
   "cell_type": "code",
   "execution_count": 26,
   "id": "094c69f2-b47c-47b5-ab20-d3053d76793a",
   "metadata": {},
   "outputs": [
    {
     "name": "stdout",
     "output_type": "stream",
     "text": [
      "loading pixel inputs cache\n",
      "Loaded in 104.0s\n"
     ]
    }
   ],
   "source": [
    "start = timer()\n",
    "rmk = load_remake('../../remakefiles/era5_process.py')\n",
    "print(f'Loaded in {timer() - start:0.1f}s')"
   ]
  },
  {
   "cell_type": "code",
   "execution_count": 19,
   "id": "acd1848c-72d3-4f11-a35c-715dffbd2ec2",
   "metadata": {},
   "outputs": [],
   "source": [
    "input_paths = set(rmk.task_ctrl.input_task_map.keys())\n",
    "output_paths = set(rmk.task_ctrl.output_task_map.keys())\n",
    "input_only_paths = input_paths - output_paths\n",
    "output_only_paths = output_paths - input_paths\n",
    "inout_paths = input_paths & output_paths\n",
    "files = input_paths | output_only_paths\n"
   ]
  },
  {
   "cell_type": "code",
   "execution_count": 22,
   "id": "9cfd3670-f8df-4be4-b616-027fc6db5444",
   "metadata": {},
   "outputs": [
    {
     "data": {
      "text/plain": [
       "2.021206"
      ]
     },
     "execution_count": 22,
     "metadata": {},
     "output_type": "execute_result"
    }
   ],
   "source": [
    "len(files) / 1e6"
   ]
  },
  {
   "cell_type": "code",
   "execution_count": 23,
   "id": "3ab698f9-8fbc-45a0-a8b0-fcd48d1bf0f0",
   "metadata": {},
   "outputs": [
    {
     "data": {
      "text/plain": [
       "1.238495"
      ]
     },
     "execution_count": 23,
     "metadata": {},
     "output_type": "execute_result"
    }
   ],
   "source": [
    "len(input_only_paths) / 1e6"
   ]
  },
  {
   "cell_type": "code",
   "execution_count": null,
   "id": "b283088c-0123-4928-a735-4a5976d7b354",
   "metadata": {},
   "outputs": [],
   "source": []
  }
 ],
 "metadata": {
  "kernelspec": {
   "display_name": "mcs_prime_env",
   "language": "python",
   "name": "mcs_prime_env"
  },
  "language_info": {
   "codemirror_mode": {
    "name": "ipython",
    "version": 3
   },
   "file_extension": ".py",
   "mimetype": "text/x-python",
   "name": "python",
   "nbconvert_exporter": "python",
   "pygments_lexer": "ipython3",
   "version": "3.10.4"
  }
 },
 "nbformat": 4,
 "nbformat_minor": 5
}
