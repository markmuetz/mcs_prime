{
 "cells": [
  {
   "cell_type": "code",
   "execution_count": 12,
   "id": "7ec646c7-d665-4e0e-b875-1dc16f097189",
   "metadata": {},
   "outputs": [],
   "source": [
    "import numpy as np"
   ]
  },
  {
   "cell_type": "code",
   "execution_count": 13,
   "id": "6b116e4b-dae5-44fa-804f-42f7ed660d63",
   "metadata": {},
   "outputs": [
    {
     "data": {
      "text/plain": [
       "(0.8333333333333334, 0.5555555555555556)"
      ]
     },
     "execution_count": 13,
     "metadata": {},
     "output_type": "execute_result"
    }
   ],
   "source": [
    "Re = 6371  # km\n",
    "N = 216\n",
    "nlon = 2 * N\n",
    "nlat = int(1.5 * N)\n",
    "\n",
    "dlon = 360 / nlon\n",
    "dlat = 180 / nlat\n",
    "dlon, dlat"
   ]
  },
  {
   "cell_type": "code",
   "execution_count": 18,
   "id": "b1ea32d8-85f0-463b-babe-a56a9769c8fc",
   "metadata": {},
   "outputs": [],
   "source": [
    "lon = np.arange(dlon / 2, 360, dlon)\n",
    "lat = np.arange(-90 + dlat / 2, 90, dlat)"
   ]
  },
  {
   "cell_type": "code",
   "execution_count": 24,
   "id": "39ab4f5a-e7a3-4051-b0ec-1cbc11f3cf03",
   "metadata": {},
   "outputs": [],
   "source": [
    "circ = np.cos(lat[107:217] * np.pi / 180) * 2 * np.pi * Re"
   ]
  },
  {
   "cell_type": "code",
   "execution_count": 27,
   "id": "3a59f1ad-fefa-44e1-8f04-609f66c02ae9",
   "metadata": {},
   "outputs": [],
   "source": [
    "dx = circ * dlon / 360"
   ]
  },
  {
   "cell_type": "code",
   "execution_count": 30,
   "id": "c15dc3ec-bef7-45a1-9de2-1751ee0894fb",
   "metadata": {},
   "outputs": [],
   "source": [
    "dy = np.pi * Re * dlat / 180"
   ]
  },
  {
   "cell_type": "code",
   "execution_count": 37,
   "id": "1c0ccb7b-14ed-4ea0-9f09-64a774e9fc8f",
   "metadata": {},
   "outputs": [
    {
     "data": {
      "text/plain": [
       "(88.33256694781629, 61.77495924697708)"
      ]
     },
     "execution_count": 37,
     "metadata": {},
     "output_type": "execute_result"
    }
   ],
   "source": [
    "dx.mean(), dy"
   ]
  },
  {
   "cell_type": "code",
   "execution_count": 32,
   "id": "6f96f8eb-c953-4872-b34b-5ea65248f381",
   "metadata": {},
   "outputs": [],
   "source": [
    "aspect = dx / dy"
   ]
  },
  {
   "cell_type": "code",
   "execution_count": 34,
   "id": "927ad7a9-b79a-4eda-9370-aa48d50b00de",
   "metadata": {},
   "outputs": [
    {
     "data": {
      "text/plain": [
       "1.42990894732381"
      ]
     },
     "execution_count": 34,
     "metadata": {},
     "output_type": "execute_result"
    }
   ],
   "source": [
    "aspect.mean()"
   ]
  },
  {
   "cell_type": "code",
   "execution_count": null,
   "id": "ad2cc3e5-a372-4bc0-b439-a6c1bb67db44",
   "metadata": {},
   "outputs": [],
   "source": []
  }
 ],
 "metadata": {
  "kernelspec": {
   "display_name": "mcs_prime_env",
   "language": "python",
   "name": "mcs_prime_env"
  },
  "language_info": {
   "codemirror_mode": {
    "name": "ipython",
    "version": 3
   },
   "file_extension": ".py",
   "mimetype": "text/x-python",
   "name": "python",
   "nbconvert_exporter": "python",
   "pygments_lexer": "ipython3",
   "version": "3.10.4"
  }
 },
 "nbformat": 4,
 "nbformat_minor": 5
}
