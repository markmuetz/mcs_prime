{
 "cells": [
  {
   "cell_type": "code",
   "execution_count": 1,
   "id": "503d148f-bf9b-40bc-a898-3a5a13f0beac",
   "metadata": {},
   "outputs": [],
   "source": [
    "import cf\n",
    "import cfplot as cfp\n",
    "import matplotlib.pyplot as plt\n",
    "import glob\n",
    "import h5py\n",
    "import xarray as xr\n",
    "import xesmf as xe\n",
    "import pandas as pd\n",
    "import numpy as np\n",
    "\n",
    "basedir = '/gws/nopw/j04/mcs_prime/mmuetz/data/UM_sims/u-db150/init_test/'\n",
    "#org_on_path = basedir + 'um_on/'\n",
    "#org_off_path = basedir + 'um_off/'\n",
    "#obs_path = basedir + 'gpm/'\n",
    "#cmip_path = basedir + 'pr_cmip6/'"
   ]
  },
  {
   "cell_type": "code",
   "execution_count": 2,
   "id": "58c17b7e-9704-4630-8163-3a0da4039873",
   "metadata": {},
   "outputs": [
    {
     "name": "stdout",
     "output_type": "stream",
     "text": [
      "Using matplotlib backend: <object object at 0x7fb2fc55f1e0>\n"
     ]
    }
   ],
   "source": [
    "%matplotlib"
   ]
  },
  {
   "cell_type": "code",
   "execution_count": 3,
   "id": "1af07f7c-b964-4427-9ffc-b419a3d63a07",
   "metadata": {},
   "outputs": [],
   "source": [
    "import calendar\n",
    "m2idx = {calendar.month_name[i].lower()[:3]: i for i in range(1, 13)}\n",
    "\n",
    "def sort_um_files(paths):\n",
    "    paths_with_year_month = []\n",
    "    for path in paths:\n",
    "        # print(path)\n",
    "        name = path.split('/')[-1]\n",
    "        y = int(name.split('.')[1][2:6])\n",
    "        midx = m2idx[name.split('.')[1][-3:]]\n",
    "        paths_with_year_month.append((path, y, midx))\n",
    "    \n",
    "    sorted_paths = [x[0] for x in sorted(paths_with_year_month, key=lambda x: (x[1], x[2]))]\n",
    "    return sorted_paths\n",
    "\n"
   ]
  },
  {
   "cell_type": "code",
   "execution_count": 4,
   "id": "0de5629c-ed1a-48d8-bea4-eea596037963",
   "metadata": {},
   "outputs": [
    {
     "data": {
      "text/plain": [
       "['/gws/nopw/j04/mcs_prime/mmuetz/data/UM_sims/u-db150/init_test/db150a.pd1988oct.pp']"
      ]
     },
     "execution_count": 4,
     "metadata": {},
     "output_type": "execute_result"
    }
   ],
   "source": [
    "#tmp_path = org_off_path\n",
    "file_lists = glob.glob(basedir+'*.pd*.pp')\n",
    "file_lists"
   ]
  },
  {
   "cell_type": "code",
   "execution_count": 10,
   "id": "0aa07ac2-765e-4f8d-b1fa-f1f50ae8f112",
   "metadata": {},
   "outputs": [
    {
     "name": "stdout",
     "output_type": "stream",
     "text": [
      "/gws/nopw/j04/mcs_prime/mmuetz/data/UM_sims/u-db150/init_test/db150a.pd1988oct.pp\n"
     ]
    }
   ],
   "source": [
    "flag=1\n",
    "nday=0\n",
    "for file_path in sort_um_files(file_lists)[:1]:\n",
    "    f=cf.read(file_path)\n",
    "    dat=f[44]\n",
    "    nday=dat.shape[0]+nday\n",
    "    if flag == 1:\n",
    "        dat_all=dat;\n",
    "        flag = 0\n",
    "    else:\n",
    "        dat_all.data=dat_all.data+dat.data\n",
    "    cf.close_files(file_path)\n",
    "    print(file_path)\n",
    "    # del f\n",
    "    # del dat\n",
    "prec_annual_on = dat_all.collapse('sum',axes='time')\n",
    "prec_annual_on.data = prec_annual_on.data/nday*3600*24  # This looks suspicious! /(nday * 3600 * 24)?"
   ]
  },
  {
   "cell_type": "code",
   "execution_count": 11,
   "id": "7749ca2b-4ff8-4ca0-aed3-4bd144b1073c",
   "metadata": {},
   "outputs": [
    {
     "data": {
      "text/plain": [
       "<CF Field: precipitation_flux(time(1), latitude(144), longitude(192)) m-2.kg.s-1>"
      ]
     },
     "execution_count": 11,
     "metadata": {},
     "output_type": "execute_result"
    }
   ],
   "source": [
    "prec_annual_on"
   ]
  },
  {
   "cell_type": "code",
   "execution_count": 25,
   "id": "f24c3b84-3570-4c2d-bc9f-b474f2bfaf48",
   "metadata": {},
   "outputs": [
    {
     "name": "stdout",
     "output_type": "stream",
     "text": [
      "Field: precipitation_flux (ncvar%UM_m01s05i216_vn1300)\n",
      "------------------------------------------------------\n",
      "Data            : precipitation_flux(time(720), latitude(144), longitude(192)) kg m-2 s-1\n",
      "Cell methods    : time(720): mean\n",
      "Dimension coords: time(720) = [1988-10-01 00:30:00, ..., 1988-10-30 23:30:00] 360_day\n",
      "                : latitude(144) = [-89.375, ..., 89.375] degrees_north\n",
      "                : longitude(192) = [0.9375, ..., 359.0625] degrees_east\n",
      "Field: precipitation_flux (ncvar%UM_m01s05i216_vn1300)\n",
      "------------------------------------------------------\n",
      "Data            : precipitation_flux(time(30), latitude(144), longitude(192)) kg m-2 s-1\n",
      "Cell methods    : time(30): mean\n",
      "Dimension coords: time(30) = [1988-10-01 12:00:00, ..., 1988-10-30 12:00:00] 360_day\n",
      "                : latitude(144) = [-89.375, ..., 89.375] degrees_north\n",
      "                : longitude(192) = [0.9375, ..., 359.0625] degrees_east\n"
     ]
    }
   ],
   "source": [
    "#for i, field in enumerate(f):\n",
    "#    print(i, field.identity())\n",
    "print(f[43])\n",
    "print(f[44])"
   ]
  },
  {
   "cell_type": "code",
   "execution_count": 26,
   "id": "bd743360-3363-439f-8abe-d313345ffe68",
   "metadata": {},
   "outputs": [],
   "source": [
    "\n",
    "#prec_obs_masked = prec_obs.where(prec_obs<0, np.nan)\n",
    "#prec_on_masked = prec_annual_on.where(prec_obs<0, np.nan)\n",
    "#prec_off_masked = prec_annual_off.where(prec_obs<0, np.nan)\n",
    "#mip_mean_masked = mip_mean_prec.where(prec_obs.squeeze()<0, np.nan)\n",
    "\n",
    "cfp.gopen()\n",
    "cfp.cscale('plasma')\n",
    "cfp.levs(min=0, max=15, step=1)\n",
    "cfp.con(prec_annual_on, lines=False)\n",
    "\n",
    "#flag_map = prec_annual_on.copy()\n",
    "#flag_map.data = np.where((flag_map.data > mip_high) | (flag_map.data < mip_low), 1000, 0)\n",
    "#cfp.stipple(f = flag_map, min=999, max=1001, size=60, color = 'grey', edgecolors='k', alpha=1)  # Swap indices\n",
    "\n",
    "# Customize the plot style for AMS guidelines\n",
    "#plt.gcf().set_size_inches(8, 6)  # Set the size of the figure\n",
    "plt.xlabel('MCSP On: Rain Bias (mm day$^{-1}$)',fontsize=14)  # Set the x-axis label font size\n",
    "\n",
    "# Save the plot using AMS-like settings\n",
    "imagename='u-db150_init_test.png'\n",
    "plt.savefig(imagename, dpi=300, bbox_inches='tight')\n",
    "\n",
    "# Show the plot\n",
    "#plt.show()\n",
    "cfp.gclose()"
   ]
  },
  {
   "cell_type": "code",
   "execution_count": null,
   "id": "e19b921b-0027-40c7-b387-80cfbce446a9",
   "metadata": {},
   "outputs": [],
   "source": [
    "tmp_path = org_off_path\n",
    "file_lists = glob.glob(tmp_path+'*.pp')\n",
    "\n",
    "flag=1\n",
    "nday=0\n",
    "for file_path in sort_um_files(file_lists)[:12]:\n",
    "    f=cf.read(file_path)\n",
    "    dat=f[44]\n",
    "    nday=dat.shape[0]+nday\n",
    "    if flag == 1:\n",
    "        dat_all=dat;\n",
    "        flag = 0\n",
    "    else:\n",
    "        dat_all.data=dat_all.data+dat.data\n",
    "    cf.close_files(file_path)\n",
    "    print(file_path)\n",
    "    del f\n",
    "    del dat\n",
    "prec_annual_off = dat_all.collapse('sum',axes='time')\n",
    "prec_annual_off.data = prec_annual_off.data/nday*3600*24"
   ]
  },
  {
   "cell_type": "code",
   "execution_count": null,
   "id": "2cf74981-c2cf-4342-b0cd-37169f10fc31",
   "metadata": {},
   "outputs": [],
   "source": [
    "tmp_path = obs_path\n",
    "file_lists = sorted(glob.glob(tmp_path+'*.HDF5'))\n",
    "\n",
    "flag = 1;\n",
    "for file_path in file_lists[:12]:\n",
    "    # Open the IMERG HDF5 file in read mode\n",
    "    file = h5py.File(file_path, 'r')\n",
    "\n",
    "    # Read variables\n",
    "    time_bnd = file['/Grid/time_bnds'][:]\n",
    "    tlen = (time_bnd[0,1]-time_bnd[0,0])/3600\n",
    "\n",
    "    if flag == 1:\n",
    "        # Read the latitude and longitude datasets\n",
    "        latitude = file['/Grid/lat'][:]\n",
    "        longitude = file['/Grid/lon'][:]\n",
    "        precipitation_rate = file['/Grid/precipitation'][:] * tlen\n",
    "        ttotal = tlen\n",
    "        flag = 0\n",
    "    else:\n",
    "        precipitation_rate = precipitation_rate + file['/Grid/precipitation'][:] * tlen\n",
    "        ttotal = ttotal + tlen\n",
    "\n",
    "    # Close the HDF5 file\n",
    "    file.close()\n",
    "    print(file_path)\n",
    "\n",
    "precipitation_rate = precipitation_rate / ttotal"
   ]
  },
  {
   "cell_type": "code",
   "execution_count": null,
   "id": "741dfa32-9264-4914-bc81-74fa75f49edc",
   "metadata": {},
   "outputs": [],
   "source": [
    "source_grid"
   ]
  },
  {
   "cell_type": "code",
   "execution_count": null,
   "id": "c3e0a7b4-98e6-4233-a0ae-efb2c2478c49",
   "metadata": {},
   "outputs": [],
   "source": [
    "# Regrid OBS\n",
    "da = xr.DataArray(precipitation_rate, dims=('time', 'lon', 'lat'),\n",
    "                  coords={'lat': latitude, 'lon': longitude})\n",
    "\n",
    "# Define the model coordinate grid\n",
    "model_latitude = prec_annual_off.coordinate('latitude').array # Model latitude values\n",
    "model_longitude = prec_annual_off.coordinate('longitude').array  # Model longitude values\n",
    "\n",
    "# Create source and destination grid coordinates using xarray DataArrays\n",
    "source_grid = xr.Dataset({'latitude': da['lat'], 'longitude': da['lon']})\n",
    "dest_grid = xr.Dataset({'latitude': model_latitude, 'longitude': model_longitude})\n",
    "\n",
    "# Perform conservative regridding\n",
    "regridder = xe.Regridder(source_grid, dest_grid, method='conservative')\n",
    "regridded_da = regridder(da)\n",
    "\n",
    "# Print the regridded precipitation rate data\n",
    "print(\"Regridded precipitation rate data:\")\n",
    "print(regridded_da)\n",
    "\n",
    "# Access the regridded precipitation rate values\n",
    "regridded_precipitation = regridded_da.values\n",
    "\n",
    "prec_obs = prec_annual_off.copy()\n",
    "prec_obs.data = regridded_precipitation*24"
   ]
  },
  {
   "cell_type": "code",
   "execution_count": null,
   "id": "151f5761-38c7-42ea-b889-559a5c1428c2",
   "metadata": {},
   "outputs": [],
   "source": [
    "tmp_path = cmip_path\n",
    "file_lists = sorted(glob.glob(tmp_path+'*.nc'))\n",
    "\n",
    "flag = 1\n",
    "for file_path in file_lists:\n",
    "    f=cf.read(file_path)\n",
    "    dat=f[0]\n",
    "    dat.data[0:8]=0\n",
    "    dat.data[68:72]=0\n",
    "    #dat = dat.collapse('sum',axes='time')\n",
    "    if flag == 1:\n",
    "        mip_all=dat\n",
    "        flag = 0\n",
    "    else:\n",
    "        mip_all=cf.aggregate([mip_all,dat])\n",
    "    cf.close_files(file_path)\n",
    "    print(file_path)\n",
    "    del f\n",
    "    del dat\n",
    "\n",
    "i=0\n",
    "for tmpdat in mip_all:\n",
    "    tmpdat = tmpdat.collapse('sum',axes='time')\n",
    "    mip_all[i] = tmpdat*3600*24/(12*5)\n",
    "    i = i+1"
   ]
  },
  {
   "cell_type": "code",
   "execution_count": null,
   "id": "6c7657f9-f33c-4b2c-b540-f06810262fbf",
   "metadata": {},
   "outputs": [],
   "source": [
    "cmip_path"
   ]
  },
  {
   "cell_type": "code",
   "execution_count": null,
   "id": "b3aaff8f-1c6d-4067-abb8-de55d87ff0af",
   "metadata": {},
   "outputs": [],
   "source": [
    "# Define the model coordinate grid\n",
    "model_latitude = prec_annual_off.coordinate('latitude').array # Model latitude values\n",
    "model_longitude = prec_annual_off.coordinate('longitude').array  # Model longitude values\n",
    "\n",
    "mip_latitude = mip_all[0].coordinate('latitude').array\n",
    "mip_longitude = mip_all[0].coordinate('longitude').array\n",
    "\n",
    "# Create source and destination grid coordinates using xarray DataArrays\n",
    "source_grid = xr.Dataset({'latitude': mip_latitude, 'longitude': mip_longitude})\n",
    "dest_grid = xr.Dataset({'latitude': model_latitude, 'longitude': model_longitude})\n",
    "\n",
    "regridder = xe.Regridder(source_grid, dest_grid, method='conservative')"
   ]
  },
  {
   "cell_type": "code",
   "execution_count": null,
   "id": "daf38c79-14a0-4c03-ab65-609da9e504f7",
   "metadata": {},
   "outputs": [],
   "source": [
    "# Regrid mip\n",
    "prec_mip=np.empty((len(mip_all),model_latitude.shape[0],model_longitude.shape[0]),dtype=np.float32)\n",
    "i=0\n",
    "for tmpmip in mip_all:\n",
    "    da = xr.DataArray(tmpmip, dims=('time', 'lat', 'lon'),\n",
    "                      coords={'lat': mip_latitude, 'lon': mip_longitude})\n",
    "    \n",
    "    # Perform conservative regridding\n",
    "    regridded_da = regridder(da)\n",
    "    \n",
    "    # Access the regridded precipitation rate values\n",
    "    prec_mip[i] = regridded_da.values\n",
    "    i = i + 1"
   ]
  },
  {
   "cell_type": "code",
   "execution_count": null,
   "id": "4379ad64-43ba-4522-b3e2-646125fa0106",
   "metadata": {},
   "outputs": [],
   "source": [
    "# Compute mip variation\n",
    "mip_var=np.empty((model_latitude.shape[0],model_longitude.shape[0]),dtype=np.float32)\n",
    "for i in np.arange (0,len(model_latitude)):\n",
    "    for j in np.arange (0,len(model_longitude)):\n",
    "        mip_var[i,j] = np.percentile(prec_mip[:,i,j],75) - np.percentile(prec_mip[:,i,j],25)"
   ]
  },
  {
   "cell_type": "code",
   "execution_count": null,
   "id": "19f80826-a2ae-476b-b030-c4c7cff8b152",
   "metadata": {},
   "outputs": [],
   "source": [
    "# plot CMIP IQR\n",
    "mip_var_prec=prec_annual_on.copy().squeeze()\n",
    "mip_var_prec.data = mip_var\n",
    "\n",
    "cfp.cscale('percent_11lev')\n",
    "cfp.levs(min=0, max=5, step=0.5)\n",
    "cfp.con(mip_var_prec, lines=False)\n",
    "\n",
    "# Customize the plot style for AMS guidelines\n",
    "plt.gcf().set_size_inches(8, 6)  # Set the size of the figure\n",
    "plt.xlabel('CMIP6 Precipitation IQR (mm day$^{-1}$)',fontsize=14)  # Set the x-axis label font size\n",
    "\n",
    "# Save the plot using AMS-like settings\n",
    "imagename='cmip6_iqr.png'\n",
    "plt.savefig(imagename, dpi=300, bbox_inches='tight')\n",
    "\n",
    "# Show the plot\n",
    "plt.close()"
   ]
  },
  {
   "cell_type": "code",
   "execution_count": null,
   "id": "544ceb3a-a191-4acd-9f27-66e8c7e5ac43",
   "metadata": {},
   "outputs": [],
   "source": [
    "# plot mip mean\n",
    "mip_var=np.empty((model_latitude.shape[0],model_longitude.shape[0]),dtype=np.float32)\n",
    "for i in np.arange (0,len(model_latitude)):\n",
    "    for j in np.arange (0,len(model_longitude)):\n",
    "        mip_var[i,j] = np.mean(prec_mip[:,i,j])\n",
    "\n",
    "mip_mean_prec=prec_annual_on.copy().squeeze()\n",
    "mip_mean_prec.data = mip_var\n",
    "\n",
    "cfp.cscale('percent_11lev')\n",
    "cfp.levs(min=0, max=15, step=1)\n",
    "cfp.con(mip_mean_prec, lines=False)\n",
    "\n",
    "# Customize the plot style for AMS guidelines\n",
    "plt.gcf().set_size_inches(8, 6)  # Set the size of the figure\n",
    "plt.xlabel('CMIP6 Mean Precipitation (mm day$^{-1}$)',fontsize=14)  # Set the x-axis label font size\n",
    "\n",
    "# Save the plot using AMS-like settings\n",
    "imagename='cmip6_prec_mean.png'\n",
    "plt.savefig(imagename, dpi=300, bbox_inches='tight')\n",
    "\n",
    "# Show the plot\n",
    "plt.close()"
   ]
  },
  {
   "cell_type": "code",
   "execution_count": null,
   "id": "1a531a0e-0249-402c-a141-cd2fac001724",
   "metadata": {},
   "outputs": [],
   "source": [
    "# Plot significance org on\n",
    "mip_low=np.empty((model_latitude.shape[0],model_longitude.shape[0]),dtype=np.float32)\n",
    "mip_high=np.empty((model_latitude.shape[0],model_longitude.shape[0]),dtype=np.float32)\n",
    "for i in np.arange (0,len(model_latitude)):\n",
    "    for j in np.arange (0,len(model_longitude)):\n",
    "        mip_high[i,j] = np.percentile(prec_mip[:,i,j],95)\n",
    "        mip_low[i,j] = np.percentile(prec_mip[:,i,j],5)\n",
    "\n",
    "# masked\n",
    "prec_obs_masked = prec_obs.where(prec_obs<0, np.nan)\n",
    "prec_on_masked = prec_annual_on.where(prec_obs<0, np.nan)\n",
    "prec_off_masked = prec_annual_off.where(prec_obs<0, np.nan)\n",
    "mip_mean_masked = mip_mean_prec.where(prec_obs.squeeze()<0, np.nan)\n",
    "\n",
    "cfp.gopen()\n",
    "cfp.cscale('percent_11lev')\n",
    "cfp.levs(min=0, max=15, step=1)\n",
    "cfp.con(prec_annual_on, lines=False)\n",
    "\n",
    "flag_map = prec_annual_on.copy()\n",
    "flag_map.data = np.where((flag_map.data > mip_high) | (flag_map.data < mip_low), 1000, 0)\n",
    "cfp.stipple(f = flag_map, min=999, max=1001, size=60, color = 'grey', edgecolors='k', alpha=1)  # Swap indices\n",
    "\n",
    "# Customize the plot style for AMS guidelines\n",
    "plt.gcf().set_size_inches(8, 6)  # Set the size of the figure\n",
    "plt.xlabel('MCSP On: Rain Bias (mm day$^{-1}$)',fontsize=14)  # Set the x-axis label font size\n",
    "\n",
    "# Save the plot using AMS-like settings\n",
    "imagename='rain_on.png'\n",
    "plt.savefig(imagename, dpi=300, bbox_inches='tight')\n",
    "\n",
    "# Show the plot\n",
    "cfp.gclose()"
   ]
  },
  {
   "cell_type": "code",
   "execution_count": null,
   "id": "7f1c8b9e-4308-4311-9206-30c9868619bc",
   "metadata": {},
   "outputs": [],
   "source": [
    "# Plot significance org off\n",
    "cfp.gopen()\n",
    "cfp.cscale('percent_11lev')\n",
    "cfp.levs(min=0, max=15, step=1)\n",
    "cfp.con(prec_annual_off, lines=False)\n",
    "\n",
    "flag_map = prec_annual_off.copy()\n",
    "flag_map.data = np.where((flag_map.data > mip_high) | (flag_map.data < mip_low), 1000, 0)\n",
    "cfp.stipple(f = flag_map, min=999, max=1001, size=60, color = 'grey', edgecolors='k', alpha=1)  # Swap indices\n",
    "\n",
    "# Customize the plot style for AMS guidelines\n",
    "plt.gcf().set_size_inches(8, 6)  # Set the size of the figure\n",
    "plt.xlabel('MCSP Off: Rain Bias (mm day$^{-1}$)',fontsize=14)  # Set the x-axis label font size\n",
    "\n",
    "# Save the plot using AMS-like settings\n",
    "imagename='rain_off.png'\n",
    "plt.savefig(imagename, dpi=300, bbox_inches='tight')\n",
    "\n",
    "# Show the plot\n",
    "cfp.gclose()"
   ]
  },
  {
   "cell_type": "code",
   "execution_count": null,
   "id": "9e406a84-be63-42df-9752-35d685643a86",
   "metadata": {},
   "outputs": [],
   "source": [
    "# Plot cmip 6 bias\n",
    "prec_mip_bias = mip_mean_prec - prec_obs_masked\n",
    "\n",
    "cfp.gopen()\n",
    "cfp.cscale('scale1')\n",
    "cfp.levs(min=-5, max=5, step=1)\n",
    "cfp.con(prec_mip_bias, lines=False)\n",
    "\n",
    "# Customize the plot style for AMS guidelines\n",
    "plt.gcf().set_size_inches(8, 6)  # Set the size of the figure\n",
    "plt.xlabel('CMIP6: Rain Bias (mm day$^{-1}$)',fontsize=14)  # Set the x-axis label font size\n",
    "\n",
    "# Save the plot using AMS-like settings\n",
    "imagename='mip_bias.png'\n",
    "plt.savefig(imagename, dpi=300, bbox_inches='tight')\n",
    "\n",
    "# Show the plot\n",
    "cfp.gclose()"
   ]
  },
  {
   "cell_type": "code",
   "execution_count": null,
   "id": "64e3359c-69f1-4a3c-a208-64aa20d13a49",
   "metadata": {},
   "outputs": [],
   "source": [
    "# Plot significance org on bias\n",
    "prec_on_bias = prec_on_masked - prec_obs_masked\n",
    "\n",
    "cfp.gopen()\n",
    "cfp.cscale('scale1')\n",
    "cfp.levs(min=-5, max=5, step=1)\n",
    "cfp.con(prec_on_bias, lines=False)\n",
    "\n",
    "flag_map = prec_annual_on.copy()\n",
    "flag_map.data = np.where((flag_map.data > mip_high) | (flag_map.data < mip_low), 1000, 0)\n",
    "cfp.stipple(f = flag_map, min=999, max=1001, size=60, color = 'grey', edgecolors='k', alpha=1)  # Swap indices\n",
    "\n",
    "# Customize the plot style for AMS guidelines\n",
    "plt.gcf().set_size_inches(8, 6)  # Set the size of the figure\n",
    "plt.xlabel('MCSP On: Rain Bias (mm day$^{-1}$)',fontsize=14)  # Set the x-axis label font size\n",
    "\n",
    "# Save the plot using AMS-like settings\n",
    "imagename='rain_on_bias.png'\n",
    "plt.savefig(imagename, dpi=300, bbox_inches='tight')\n",
    "\n",
    "# Show the plot\n",
    "cfp.gclose()"
   ]
  },
  {
   "cell_type": "code",
   "execution_count": null,
   "id": "3c343fc9-011f-41fc-893e-3cf5ea24b805",
   "metadata": {},
   "outputs": [],
   "source": [
    "# Plot significance org off bias\n",
    "prec_off_bias = prec_off_masked - prec_obs_masked\n",
    "\n",
    "cfp.gopen()\n",
    "cfp.cscale('scale1')\n",
    "cfp.levs(min=-5, max=5, step=1)\n",
    "cfp.con(prec_off_bias, lines=False)\n",
    "\n",
    "flag_map = prec_annual_off.copy()\n",
    "flag_map.data = np.where((flag_map.data > mip_high) | (flag_map.data < mip_low), 1000, 0)\n",
    "cfp.stipple(f = flag_map, min=999, max=1001, size=60, color = 'grey', edgecolors='k', alpha=1)  # Swap indices\n",
    "\n",
    "# Customize the plot style for AMS guidelines\n",
    "plt.gcf().set_size_inches(8, 6)  # Set the size of the figure\n",
    "plt.xlabel('MCSP Off: Rain Bias (mm day$^{-1}$)',fontsize=14)  # Set the x-axis label font size\n",
    "\n",
    "# Save the plot using AMS-like settings\n",
    "imagename='rain_off_bias.png'\n",
    "plt.savefig(imagename, dpi=300, bbox_inches='tight')\n",
    "\n",
    "# Show the plot\n",
    "cfp.gclose()"
   ]
  },
  {
   "cell_type": "code",
   "execution_count": null,
   "id": "55b77519-ddc6-4a18-8f55-b7c4a6502d66",
   "metadata": {},
   "outputs": [],
   "source": [
    "prec_diff = prec_annual_on - prec_annual_off\n",
    "\n",
    "cfp.gopen()\n",
    "cfp.cscale('scale1')\n",
    "cfp.levs(min=-5, max=5, step=1)\n",
    "cfp.con(prec_diff, lines=False)\n",
    "\n",
    "flag_map = prec_annual_on.copy()\n",
    "flag_map.data = np.where((flag_map.data > mip_high) | (flag_map.data < mip_low), 1000, 0)\n",
    "cfp.stipple(f = flag_map, min=999, max=1001, size=60, color = 'grey', edgecolors='k', alpha=1)  # Swap indices\n",
    "\n",
    "# Customize the plot style for AMS guidelines\n",
    "plt.gcf().set_size_inches(8, 6)  # Set the size of the figure\n",
    "plt.xlabel('(c) = (b) - (a): Rain Difference (mm day$^{-1}$)',fontsize=14)  # Set the x-axis label font size\n",
    "\n",
    "# Save the plot using AMS-like settings\n",
    "imagename='rain_diff.png'\n",
    "plt.savefig(imagename, dpi=300, bbox_inches='tight')\n",
    "\n",
    "# Show the plot\n",
    "cfp.gclose()"
   ]
  },
  {
   "cell_type": "code",
   "execution_count": null,
   "id": "c3101ef0-8802-4888-9f50-6680edd7c913",
   "metadata": {},
   "outputs": [],
   "source": [
    "bias_diff = prec_on_bias.copy()\n",
    "bias_diff.data = np.abs(prec_on_bias.array) - np.abs(prec_off_bias.array)\n",
    "\n",
    "cfp.gopen()\n",
    "cfp.cscale('scale1')\n",
    "cfp.levs(min=-5, max=5, step=1)\n",
    "cfp.con(bias_diff, lines=False)\n",
    "\n",
    "flag_map = prec_annual_on.copy()\n",
    "flag_map.data = np.where((flag_map.data > mip_high) | (flag_map.data < mip_low), 1000, 0)\n",
    "cfp.stipple(f = flag_map, min=999, max=1001, size=60, color = 'grey', edgecolors='k', alpha=1)  # Swap indices\n",
    "\n",
    "# Customize the plot style for AMS guidelines\n",
    "plt.gcf().set_size_inches(8, 6)  # Set the size of the figure\n",
    "plt.xlabel('MCSP On - Off: Bias Change (mm day$^{-1}$)',fontsize=14)  # Set the x-axis label font size\n",
    "\n",
    "# Save the plot using AMS-like settings\n",
    "imagename='rain_bias_change.png'\n",
    "plt.savefig(imagename, dpi=300, bbox_inches='tight')\n",
    "\n",
    "# Show the plot\n",
    "cfp.gclose()"
   ]
  },
  {
   "cell_type": "code",
   "execution_count": null,
   "id": "710a2688-cac3-42bf-8ace-6918901d7f3e",
   "metadata": {},
   "outputs": [],
   "source": [
    "df = pd.DataFrame({'arr1': prec_obs_masked.array.flatten(), 'arr2': prec_off_masked.array.flatten()})\n",
    "corr_coef = df['arr1'].corr(df['arr2'])\n",
    "print('obs vs off:', corr_coef)\n",
    "\n",
    "df = pd.DataFrame({'arr1': prec_obs_masked.array.flatten(), 'arr2': prec_on_masked.array.flatten()})\n",
    "corr_coef = df['arr1'].corr(df['arr2'])\n",
    "print('obs vs on:', corr_coef)\n",
    "\n",
    "df = pd.DataFrame({'arr1': prec_obs_masked.array.flatten(), 'arr2': mip_mean_masked.array.flatten()})\n",
    "corr_coef = df['arr1'].corr(df['arr2'])\n",
    "print('obs vs cmip:', corr_coef)"
   ]
  },
  {
   "cell_type": "code",
   "execution_count": null,
   "id": "1363dbaa-b0d6-43d3-9d57-9cc00f92bb6f",
   "metadata": {},
   "outputs": [],
   "source": [
    "# Plot obs\n",
    "cfp.gopen()\n",
    "cfp.cscale('percent_11lev')\n",
    "cfp.levs(min=0, max=15, step=1)\n",
    "cfp.con(prec_obs, lines=False)\n",
    "\n",
    "# Customize the plot style for AMS guidelines\n",
    "plt.gcf().set_size_inches(8, 6)  # Set the size of the figure\n",
    "plt.xlabel('IMERG: Rain Rate (mm day$^{-1}$)',fontsize=14)  # Set the x-axis label font size\n",
    "\n",
    "# Save the plot using AMS-like settings\n",
    "imagename='rain_obs.png'\n",
    "plt.savefig(imagename, dpi=300, bbox_inches='tight')\n",
    "\n",
    "# Show the plot\n",
    "cfp.gclose()"
   ]
  },
  {
   "cell_type": "code",
   "execution_count": null,
   "id": "560f7671-b6bb-4564-af9e-3dda3b342ae5",
   "metadata": {},
   "outputs": [],
   "source": []
  }
 ],
 "metadata": {
  "kernelspec": {
   "display_name": "mcs_prime_env",
   "language": "python",
   "name": "mcs_prime_env"
  },
  "language_info": {
   "codemirror_mode": {
    "name": "ipython",
    "version": 3
   },
   "file_extension": ".py",
   "mimetype": "text/x-python",
   "name": "python",
   "nbconvert_exporter": "python",
   "pygments_lexer": "ipython3",
   "version": "3.10.4"
  }
 },
 "nbformat": 4,
 "nbformat_minor": 5
}
