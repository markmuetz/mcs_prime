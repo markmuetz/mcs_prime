{
 "cells": [
  {
   "cell_type": "markdown",
   "id": "9d26914c-ddf8-429a-a8da-5265322ce5d1",
   "metadata": {},
   "source": [
    "# Idea: take the code in src/atmosphere/stochastic_physics used to generate forcing pattern and convert to Python.\n",
    "\n",
    "Files:\n",
    "* for_pattern.F90\n",
    "* SH_spect2grid.F90\n",
    "* fourier.F90\n",
    "\n",
    "Notes\n",
    "* This creates a set of coeffs for sin and cos, and then updates these using an AR(1) process (I believe - see UMDP 081/source code for details).\n",
    "* Doing this is quite straightforward, but converting these from the coeff values to be on the grid is much harder.\n",
    "* I cannot do a straight copy of the fortran because it includes an FFT routine that would be super slow in Python.\n",
    "* Instead, I would have to fully understand it and re-implement in python using standard FFT.\n",
    "* It involves multiplying by the appropriate (Legendre polynomials) to get a solution on the sphere before carrying out FFT.\n",
    "* (Legendre polynomials), these are actually the spherical harmonics I think.\n"
   ]
  },
  {
   "cell_type": "code",
   "execution_count": 2,
   "id": "4c494ef6-5d18-4b3a-934a-f78ab3de8b66",
   "metadata": {},
   "outputs": [],
   "source": [
    "import matplotlib.pyplot as plt\n",
    "import numpy as np"
   ]
  },
  {
   "cell_type": "code",
   "execution_count": 3,
   "id": "870ecae1-8160-4d81-be54-7e7617000323",
   "metadata": {},
   "outputs": [
    {
     "data": {
      "text/plain": [
       "<module 'numpy' from '/home/users/mmuetz/miniconda3/envs/mcs_prime_env/lib/python3.10/site-packages/numpy/__init__.py'>"
      ]
     },
     "execution_count": 3,
     "metadata": {},
     "output_type": "execute_result"
    }
   ],
   "source": [
    "np"
   ]
  },
  {
   "cell_type": "code",
   "execution_count": 4,
   "id": "b252d538-5962-4eea-a05b-0f56aa1b4ef8",
   "metadata": {},
   "outputs": [],
   "source": [
    "# Taken from code/namelists\n",
    "planet_radius = 6371229.0\n",
    "stph_n2 = 60\n",
    "Lbeta = 500e3\n",
    "beta  = 0.5*(Lbeta/planet_radius)**2"
   ]
  },
  {
   "cell_type": "code",
   "execution_count": 5,
   "id": "d05e8acf-321c-4af8-b81e-d5c8aa028500",
   "metadata": {},
   "outputs": [
    {
     "data": {
      "text/plain": [
       "array([ 1,  2,  3,  4,  5,  6,  7,  8,  9, 10, 11, 12, 13, 14, 15, 16, 17,\n",
       "       18, 19, 20, 21, 22, 23, 24, 25, 26, 27, 28, 29, 30, 31, 32, 33, 34,\n",
       "       35, 36, 37, 38, 39, 40, 41, 42, 43, 44, 45, 46, 47, 48, 49, 50, 51,\n",
       "       52, 53, 54, 55, 56, 57, 58, 59, 60])"
      ]
     },
     "execution_count": 5,
     "metadata": {},
     "output_type": "execute_result"
    }
   ],
   "source": [
    "n = np.arange(1, 61)\n",
    "n"
   ]
  },
  {
   "cell_type": "code",
   "execution_count": 6,
   "id": "66b4bed3-6bec-49f7-81dd-4e1f46e54267",
   "metadata": {},
   "outputs": [],
   "source": [
    "pspect = np.exp(-beta * n * (n + 1))"
   ]
  },
  {
   "cell_type": "code",
   "execution_count": 7,
   "id": "3c4aa282-4362-41c1-8ce6-b51aa7235e8a",
   "metadata": {},
   "outputs": [
    {
     "data": {
      "text/plain": [
       "array([9.93860162e-01, 9.81693348e-01, 9.63721829e-01, 9.40270535e-01,\n",
       "       9.11757281e-01, 8.78680394e-01, 8.41604241e-01, 8.01143247e-01,\n",
       "       7.57945049e-01, 7.12673397e-01, 6.65991455e-01, 6.18546066e-01,\n",
       "       5.70953480e-01, 5.23786959e-01, 4.77566574e-01, 4.32751363e-01,\n",
       "       3.89733960e-01, 3.48837639e-01, 3.10315672e-01, 2.74352779e-01,\n",
       "       2.41068408e-01, 2.10521530e-01, 1.82716606e-01, 1.57610376e-01,\n",
       "       1.35119140e-01, 1.15126214e-01, 9.74892779e-02, 8.20473897e-02,\n",
       "       6.86274665e-02, 5.70501049e-02, 4.71346417e-02, 3.87034123e-02,\n",
       "       3.15851966e-02, 2.56178805e-02, 2.06503820e-02, 1.65439141e-02,\n",
       "       1.31726674e-02, 1.04240015e-02, 8.19823743e-03, 6.40813716e-03,\n",
       "       4.97815470e-03, 3.84352988e-03, 2.94928958e-03, 2.24920922e-03,\n",
       "       1.70477699e-03, 1.28419383e-03, 9.61432646e-04, 7.15372817e-04,\n",
       "       5.29019018e-04, 3.88808203e-04, 2.84004248e-04, 2.06176677e-04,\n",
       "       1.48757721e-04, 1.06670611e-04, 7.60213066e-05, 5.38457164e-05,\n",
       "       3.79046310e-05, 2.65190931e-05, 1.84395512e-05, 1.27428716e-05])"
      ]
     },
     "execution_count": 7,
     "metadata": {},
     "output_type": "execute_result"
    }
   ],
   "source": [
    "pspect"
   ]
  },
  {
   "cell_type": "code",
   "execution_count": 8,
   "id": "87f400ea-06be-4f09-a9e0-6cb4930ee429",
   "metadata": {},
   "outputs": [],
   "source": [
    "std_rand_nos= 1.0 / np.sqrt(12.0)"
   ]
  },
  {
   "cell_type": "code",
   "execution_count": 9,
   "id": "eabd3485-2aba-40d0-821b-cf57ac95be9a",
   "metadata": {},
   "outputs": [],
   "source": [
    "timestep = 20 * 60 # GUESS! timestep of 20 mins in seconds.\n",
    "tau_spt = 2.0000e4 # from namelist.\n",
    "alpha_stoch_tend = 1.0 - np.exp(-timestep/tau_spt)"
   ]
  },
  {
   "cell_type": "code",
   "execution_count": 11,
   "id": "fa551891-d4d5-4730-87c5-1d01e84b7530",
   "metadata": {},
   "outputs": [],
   "source": [
    "tmp = 1.0/(2.0 - alpha_stoch_tend)\n",
    "for i in n:\n",
    "    tmp = tmp + (2*i+1.0)*pspect[i - 1]**2/(1.0 - 0.5*alpha_stoch_tend)"
   ]
  },
  {
   "cell_type": "code",
   "execution_count": 12,
   "id": "4118cd58-70aa-4433-b1b4-a42daa9581fe",
   "metadata": {},
   "outputs": [
    {
     "data": {
      "text/plain": [
       "167.0686403615014"
      ]
     },
     "execution_count": 12,
     "metadata": {},
     "output_type": "execute_result"
    }
   ],
   "source": [
    "tmp"
   ]
  },
  {
   "cell_type": "code",
   "execution_count": 13,
   "id": "3d9f2053-ba7b-4f7d-abc4-518e7408317c",
   "metadata": {},
   "outputs": [],
   "source": [
    "pspect = pspect / (std_rand_nos * np.sqrt(tmp))"
   ]
  },
  {
   "cell_type": "code",
   "execution_count": 14,
   "id": "df6a1104-9e11-4951-8b13-a3b0d1baf5fb",
   "metadata": {},
   "outputs": [
    {
     "data": {
      "text/plain": [
       "array([2.66359651e-01, 2.63098882e-01, 2.58282422e-01, 2.51997354e-01,\n",
       "       2.44355655e-01, 2.35490879e-01, 2.25554278e-01, 2.14710523e-01,\n",
       "       2.03133183e-01, 1.91000147e-01, 1.78489146e-01, 1.65773537e-01,\n",
       "       1.53018478e-01, 1.40377607e-01, 1.27990306e-01, 1.15979598e-01,\n",
       "       1.04450712e-01, 9.34902869e-02, 8.31662010e-02, 7.35279600e-02,\n",
       "       6.46075769e-02, 5.64208562e-02, 4.89689931e-02, 4.22403938e-02,\n",
       "       3.62126265e-02, 3.08544192e-02, 2.61276294e-02, 2.19891237e-02,\n",
       "       1.83925151e-02, 1.52897224e-02, 1.26323271e-02, 1.03727141e-02,\n",
       "       8.46499563e-03, 6.86572413e-03, 5.53440890e-03, 4.43385432e-03,\n",
       "       3.53034281e-03, 2.79368619e-03, 2.19716992e-03, 1.71741382e-03,\n",
       "       1.33417114e-03, 1.03008584e-03, 7.90424823e-04, 6.02799674e-04,\n",
       "       4.56889029e-04, 3.44170571e-04, 2.57668909e-04, 1.91723605e-04,\n",
       "       1.41779826e-04, 1.04202604e-04, 7.61146036e-05, 5.52564130e-05,\n",
       "       3.98678368e-05, 2.85882740e-05, 2.03741024e-05, 1.44309298e-05,\n",
       "       1.01586366e-05, 7.10725376e-06, 4.94189485e-06, 3.41515533e-06])"
      ]
     },
     "execution_count": 14,
     "metadata": {},
     "output_type": "execute_result"
    }
   ],
   "source": [
    "pspect"
   ]
  },
  {
   "cell_type": "code",
   "execution_count": 20,
   "id": "540692dd-ace1-4522-87d5-ed5754a788f5",
   "metadata": {},
   "outputs": [],
   "source": [
    "alpha = alpha_stoch_tend"
   ]
  },
  {
   "cell_type": "code",
   "execution_count": 1,
   "id": "fa348006-d55e-4358-98d4-abc36d094f82",
   "metadata": {},
   "outputs": [
    {
     "ename": "NameError",
     "evalue": "name 'np' is not defined",
     "output_type": "error",
     "traceback": [
      "\u001b[0;31m---------------------------------------------------------------------------\u001b[0m",
      "\u001b[0;31mNameError\u001b[0m                                 Traceback (most recent call last)",
      "Input \u001b[0;32mIn [1]\u001b[0m, in \u001b[0;36m<cell line: 3>\u001b[0;34m()\u001b[0m\n\u001b[1;32m      1\u001b[0m \u001b[38;5;66;03m# First dim is EW wavespace.\u001b[39;00m\n\u001b[1;32m      2\u001b[0m \u001b[38;5;66;03m# Second dim is NS wavespace.\u001b[39;00m\n\u001b[0;32m----> 3\u001b[0m coeffc \u001b[38;5;241m=\u001b[39m \u001b[43mnp\u001b[49m\u001b[38;5;241m.\u001b[39mzeros((stph_n2 \u001b[38;5;241m+\u001b[39m \u001b[38;5;241m1\u001b[39m, stph_n2))\n\u001b[1;32m      4\u001b[0m coeffs \u001b[38;5;241m=\u001b[39m np\u001b[38;5;241m.\u001b[39mzeros((stph_n2 \u001b[38;5;241m+\u001b[39m \u001b[38;5;241m1\u001b[39m, stph_n2))\n",
      "\u001b[0;31mNameError\u001b[0m: name 'np' is not defined"
     ]
    }
   ],
   "source": [
    "# First dim is EW wavespace.\n",
    "# Second dim is NS wavespace.\n",
    "coeffc = np.zeros((stph_n2 + 1, stph_n2))\n",
    "coeffs = np.zeros((stph_n2 + 1, stph_n2))"
   ]
  },
  {
   "cell_type": "code",
   "execution_count": null,
   "id": "35aabcab-bb47-4bc7-be38-b12150c8f839",
   "metadata": {},
   "outputs": [],
   "source": []
  },
  {
   "cell_type": "code",
   "execution_count": 26,
   "id": "ebe86077-6e97-4945-8220-9fb8fe65cb12",
   "metadata": {},
   "outputs": [],
   "source": [
    "def update_pattern(alpha, coeffc, coeffs, pspect):\n",
    "    oneminusalpha = 1-alpha\n",
    "    squarerootalpha = np.sqrt(alpha)\n",
    "    \n",
    "    rand_nums = np.random.random((stph_n2 + 1, stph_n2))\n",
    "    rand_nums2 = np.random.random((stph_n2 + 1, stph_n2))\n",
    "\n",
    "    #DO n = 1, stph_n2\n",
    "    #  DO m = 0, n\n",
    "    #    !  (rand_nums() - 0.5) provides white noise with mean of 0 and var of (1/12)\n",
    "    #    coeffc(m,n) = oneminusalpha*coeffc(m,n) + squarerootalpha                  &\n",
    "    #                   *(rand_nums(m,n)-0.5)*pspect(n)#\n",
    "    #\n",
    "    #    coeffs(m,n) = oneminusalpha*coeffs(m,n) + squarerootalpha                  &\n",
    "    #                   *(rand_nums2(m,n)-0.5)*pspect(n)\n",
    "    #  END DO\n",
    "    #END DO\n",
    "    coeffc = oneminusalpha * coeffc + squarerootalpha * (rand_nums - 0.5) * pspect[None, :]\n",
    "    coeffs = oneminusalpha * coeffc + squarerootalpha * (rand_nums2 - 0.5) * pspect[None, :]\n",
    "    return coeffc, coeffs"
   ]
  },
  {
   "cell_type": "code",
   "execution_count": 27,
   "id": "6e5b5794-cdf9-4d74-b4a1-9a2aa572ca13",
   "metadata": {},
   "outputs": [],
   "source": [
    "for i in range(10):\n",
    "    coeffc, coeffs = update_pattern(alpha_stoch_tend, coeffc, coeffs, pspect)"
   ]
  },
  {
   "cell_type": "code",
   "execution_count": 28,
   "id": "61f6409d-8e2c-4d66-b576-f26850032ce4",
   "metadata": {},
   "outputs": [
    {
     "data": {
      "text/plain": [
       "<matplotlib.image.AxesImage at 0x7f52c8755690>"
      ]
     },
     "execution_count": 28,
     "metadata": {},
     "output_type": "execute_result"
    },
    {
     "data": {
      "image/png": "[encoded data removed]",
      "text/plain": [
       "<Figure size 432x288 with 1 Axes>"
      ]
     },
     "metadata": {
      "needs_background": "light"
     },
     "output_type": "display_data"
    }
   ],
   "source": [
    "plt.imshow(coeffc)"
   ]
  },
  {
   "cell_type": "code",
   "execution_count": 30,
   "id": "f6160cad-e5a1-40d6-a94e-614d1a2f399d",
   "metadata": {},
   "outputs": [],
   "source": []
  },
  {
   "cell_type": "code",
   "execution_count": null,
   "id": "ac068d48-95af-46c8-85c3-f008d00f1b37",
   "metadata": {},
   "outputs": [],
   "source": []
  }
 ],
 "metadata": {
  "kernelspec": {
   "display_name": "mcs_prime_env",
   "language": "python",
   "name": "mcs_prime_env"
  },
  "language_info": {
   "codemirror_mode": {
    "name": "ipython",
    "version": 3
   },
   "file_extension": ".py",
   "mimetype": "text/x-python",
   "name": "python",
   "nbconvert_exporter": "python",
   "pygments_lexer": "ipython3",
   "version": "3.10.4"
  }
 },
 "nbformat": 4,
 "nbformat_minor": 5
}
