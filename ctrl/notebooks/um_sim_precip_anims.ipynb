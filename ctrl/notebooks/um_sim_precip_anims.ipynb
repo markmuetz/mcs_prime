{
 "cells": [
  {
   "cell_type": "markdown",
   "id": "0ad0d997-b3f5-4587-813b-11dc69c1d61c",
   "metadata": {},
   "source": [
    "Initial analysis of tropical precipitation in N96 u-cp288 (GA8/CoMorph) and u-cp308 (GA8 standard)\n",
    "=====\n",
    "\n",
    "Animations of stream h - tropical precip.\n",
    "\n",
    "Note, videos are not displayed in the notebook. Instead, they are saved to a shared dropbox folder and linked to here.\n",
    "\n",
    "Note, CoMorph does not output a convective precipitation diagnostic (convective_rainfall_flux), because it adds all of its precitation into the large-scale cloud scheme (see UMDP 043 for details)."
   ]
  },
  {
   "cell_type": "code",
   "execution_count": 1,
   "id": "faaf80f5-a5ac-43ca-ad60-c19d2092268b",
   "metadata": {},
   "outputs": [],
   "source": [
    "from pathlib import Path\n",
    "import cartopy.crs as ccrs\n",
    "from cartopy.util import add_cyclic_point\n",
    "import iris\n",
    "import matplotlib\n",
    "import matplotlib.pyplot as plt\n",
    "# plt.rcParams[\"animation.html\"] = \"jshtml\"\n",
    "plt.rcParams[\"animation.html\"] = \"html5\"\n",
    "import matplotlib.animation\n",
    "from IPython.display import display, HTML\n",
    "\n",
    "from mcs_prime.mcs_prime_config import PATHS\n",
    "%matplotlib inline"
   ]
  },
  {
   "cell_type": "code",
   "execution_count": 2,
   "id": "cbce6f7d-4a44-442b-8ad0-d8f505e8b131",
   "metadata": {},
   "outputs": [
    {
     "name": "stderr",
     "output_type": "stream",
     "text": [
      "/home/markmuetz/anaconda3/envs/mcs_prime_env/lib/python3.10/site-packages/iris/fileformats/pp.py:1563: UserWarning: has_year_zero kwarg ignored for idealized calendars (always True)\n",
      "  self._t1 = cftime.datetime(\n",
      "/home/markmuetz/anaconda3/envs/mcs_prime_env/lib/python3.10/site-packages/iris/fileformats/pp.py:1598: UserWarning: has_year_zero kwarg ignored for idealized calendars (always True)\n",
      "  self._t2 = cftime.datetime(\n",
      "/home/markmuetz/anaconda3/envs/mcs_prime_env/lib/python3.10/site-packages/cf_units/__init__.py:411: UserWarning: has_year_zero kwarg ignored for idealized calendars (always True)\n",
      "  dates = np.array([dt and dt.replace(microsecond=0) for dt in dates])\n",
      "/home/markmuetz/anaconda3/envs/mcs_prime_env/lib/python3.10/site-packages/iris/fileformats/pp.py:1563: UserWarning: has_year_zero kwarg ignored for idealized calendars (always True)\n",
      "  self._t1 = cftime.datetime(\n",
      "/home/markmuetz/anaconda3/envs/mcs_prime_env/lib/python3.10/site-packages/iris/fileformats/pp.py:1598: UserWarning: has_year_zero kwarg ignored for idealized calendars (always True)\n",
      "  self._t2 = cftime.datetime(\n",
      "/home/markmuetz/anaconda3/envs/mcs_prime_env/lib/python3.10/site-packages/cf_units/__init__.py:411: UserWarning: has_year_zero kwarg ignored for idealized calendars (always True)\n",
      "  dates = np.array([dt and dt.replace(microsecond=0) for dt in dates])\n"
     ]
    }
   ],
   "source": [
    "# 3600: kg m-2 s-1 -> mm hr-1\n",
    "precip_ctrl = iris.load_cube(PATHS['simdir'] / 'u-cp308/init_test/cp308a.ph1990aug.pp', 'precipitation_flux') * 3600\n",
    "precip_ctrl.units = 'mm hr-1'\n",
    "\n",
    "precip_comorph = iris.load_cube(PATHS['simdir'] / 'u-cp288/init_test/cp288a.ph1990aug.pp', 'precipitation_flux') * 3600\n",
    "precip_comorph.units = 'mm hr-1'"
   ]
  },
  {
   "cell_type": "code",
   "execution_count": 3,
   "id": "43d78650-d93f-476d-945c-792e2cbc40bc",
   "metadata": {},
   "outputs": [],
   "source": [
    "lon = precip_ctrl.coord('longitude').points\n",
    "lat = precip_ctrl.coord('latitude').points\n",
    "\n",
    "cprecip_ctrl, clon = add_cyclic_point(precip_ctrl.data, coord=lon)\n",
    "cprecip_comorph, clon = add_cyclic_point(precip_comorph.data, coord=lon)"
   ]
  },
  {
   "cell_type": "code",
   "execution_count": 4,
   "id": "cceee34a-65fa-4ed1-a4f1-be666afed8ff",
   "metadata": {},
   "outputs": [],
   "source": [
    "levels = [0.125, 0.25, 0.5, 1, 2, 4, 8, 16, 32, 64]\n",
    "colors = ((0, 0, 0.6), 'b', 'c', 'g', 'y', (1, 0.5, 0), 'r', 'm', (0.6, 0.6, 0.6))"
   ]
  },
  {
   "cell_type": "code",
   "execution_count": 5,
   "id": "13797ef9-4cff-4391-890f-75cdfbfa1ae8",
   "metadata": {},
   "outputs": [
    {
     "data": {
      "image/png": "[encoded data removed]",
      "text/plain": [
       "<Figure size 72x72 with 3 Axes>"
      ]
     },
     "metadata": {
      "needs_background": "light"
     },
     "output_type": "display_data"
    }
   ],
   "source": [
    "precip_max = max(cprecip_ctrl.max(), cprecip_comorph.max())\n",
    "times = [c.point for c in precip_ctrl.coord('time').cells()]\n",
    "\n",
    "fig, (ax1, ax2) = plt.subplots(2, 1, subplot_kw={'projection': ccrs.PlateCarree()})\n",
    "fig.set_size_inches((1, 1))\n",
    "\n",
    "cax = fig.add_axes([0.9, 0.05, 0.02, 0.9])\n",
    "# Plot single frame to set colorbar properly.\n",
    "im = ax2.contourf(clon, lat, cprecip_ctrl[0], levels=levels, colors=colors)\n",
    "fig.colorbar(im, cax=cax, label='precip (mm hr$^{-1}$)')\n",
    "\n",
    "def plot_precip_both(i):\n",
    "    # print(i)\n",
    "    ax1.clear()\n",
    "    ax2.clear()\n",
    "    t = times[i]\n",
    "    ax1.text(0.5, 1.01, f'{t.year}/{t.month}/{t.day} {t.hour:02d}:{t.minute:02d}Z', va='bottom', ha='center',\n",
    "             transform=ax1.transAxes)\n",
    "    ax1.text(-0.03, 0.55, 'GA8.0 control (u-cp308)', va='bottom', ha='center',\n",
    "             rotation='vertical', rotation_mode='anchor',\n",
    "             transform=ax1.transAxes)\n",
    "    ax1.text(-0.03, 0.55, 'GA8.0 CoMorph (u-cp288)', va='bottom', ha='center',\n",
    "             rotation='vertical', rotation_mode='anchor',\n",
    "             transform=ax2.transAxes)\n",
    "    ax1.coastlines()\n",
    "    ax2.coastlines()\n",
    "    ax1.contourf(clon, lat, cprecip_ctrl[i], levels=levels, colors=colors)\n",
    "    ax2.contourf(clon, lat, cprecip_comorph[i], levels=levels, colors=colors)"
   ]
  },
  {
   "cell_type": "code",
   "execution_count": 6,
   "id": "37048e44-65b0-47ae-8ba5-83928b37bca4",
   "metadata": {},
   "outputs": [],
   "source": [
    "Writer = matplotlib.animation.writers['ffmpeg']\n",
    "writer = Writer(fps=5, metadata=dict(artist='Mark Muetzelfeldt <mark.muetzelfeldt@reading.ac.uk>'), bitrate=-1)"
   ]
  },
  {
   "cell_type": "code",
   "execution_count": 7,
   "id": "eda9cbae-9eb1-457b-9d6c-1da0bcd15b8d",
   "metadata": {},
   "outputs": [
    {
     "data": {
      "text/html": [
       "<a href=\"file:///home/markmuetz/Dropbox/Academic/Projects/MCS_PRIME/Shared/MCS_PRIME_figures/u-cp308_u-cp288_19900801_timestep_animation.mp4\">/home/markmuetz/Dropbox/Academic/Projects/MCS_PRIME/Shared/MCS_PRIME_figures/u-cp308_u-cp288_19900801_timestep_animation.mp4</a>"
      ],
      "text/plain": [
       "<IPython.core.display.HTML object>"
      ]
     },
     "metadata": {},
     "output_type": "display_data"
    }
   ],
   "source": [
    "fig.set_size_inches((24, 10))\n",
    "fig.subplots_adjust(left=0.05, bottom=0.05, right=0.85, top=0.95, hspace=0.05)\n",
    "anim = matplotlib.animation.FuncAnimation(fig, plot_precip_both, frames=24 * 3, interval=200)\n",
    "animpath = PATHS['dropboxdir'] / 'u-cp308_u-cp288_19900801_timestep_animation.mp4'\n",
    "anim.save(animpath, writer=writer)\n",
    "display(HTML(f\"\"\"<a href=\"file://{animpath}\">{animpath}</a>\"\"\"))"
   ]
  },
  {
   "cell_type": "code",
   "execution_count": 8,
   "id": "53e507a8-f771-48dd-9692-ba4e47708aa9",
   "metadata": {},
   "outputs": [
    {
     "data": {
      "text/html": [
       "<a href=\"file:///home/markmuetz/Dropbox/Academic/Projects/MCS_PRIME/Shared/MCS_PRIME_figures/u-cp308_u-cp288_199008_animation.mp4\">/home/markmuetz/Dropbox/Academic/Projects/MCS_PRIME/Shared/MCS_PRIME_figures/u-cp308_u-cp288_199008_animation.mp4</a>"
      ],
      "text/plain": [
       "<IPython.core.display.HTML object>"
      ]
     },
     "metadata": {},
     "output_type": "display_data"
    }
   ],
   "source": [
    "plt.rcParams[\"animation.embed_limit\"] = 21091636 * 4\n",
    "fig.set_size_inches((24, 10))\n",
    "fig.subplots_adjust(left=0.05, bottom=0.05, right=0.85, top=0.95, hspace=0.05)\n",
    "anim = matplotlib.animation.FuncAnimation(fig, plot_precip_both, frames=range(5, 24 * 3 * 30, 6), interval=200)\n",
    "animpath = PATHS['dropboxdir'] / 'u-cp308_u-cp288_199008_animation.mp4'\n",
    "anim.save(animpath, writer=writer)\n",
    "display(HTML(f\"\"\"<a href=\"file://{animpath}\">{animpath}</a>\"\"\"))"
   ]
  }
 ],
 "metadata": {
  "kernelspec": {
   "display_name": "mcs_prime_env",
   "language": "python",
   "name": "mcs_prime_env"
  },
  "language_info": {
   "codemirror_mode": {
    "name": "ipython",
    "version": 3
   },
   "file_extension": ".py",
   "mimetype": "text/x-python",
   "name": "python",
   "nbconvert_exporter": "python",
   "pygments_lexer": "ipython3",
   "version": "3.10.4"
  }
 },
 "nbformat": 4,
 "nbformat_minor": 5
}
